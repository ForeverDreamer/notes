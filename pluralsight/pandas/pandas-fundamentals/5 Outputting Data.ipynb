{
 "cells": [
  {
   "cell_type": "code",
   "execution_count": 1,
   "id": "bb7ac8f5",
   "metadata": {},
   "outputs": [],
   "source": [
    "import pandas as pd\n",
    "import os"
   ]
  },
  {
   "cell_type": "code",
   "execution_count": 2,
   "id": "b136ac2e",
   "metadata": {},
   "outputs": [],
   "source": [
    "df = pd.read_pickle(os.path.join('data', 'artwork_data.pickle'))"
   ]
  },
  {
   "cell_type": "code",
   "execution_count": 3,
   "id": "7dc20f36",
   "metadata": {},
   "outputs": [],
   "source": [
    "# Smaller object for easier vis\n",
    "small_df = df.iloc[49980:50019, :].copy()"
   ]
  },
  {
   "cell_type": "code",
   "execution_count": 5,
   "id": "cc46ad02",
   "metadata": {},
   "outputs": [],
   "source": [
    "# Basic Excel\n",
    "small_df.to_excel(os.path.join('data', 'basic.xlsx'))\n",
    "small_df.to_excel(os.path.join('data', 'no_index.xlsx'), index=False)\n",
    "small_df.to_excel(os.path.join('data', 'columns.xlsx'), columns=[\"artist\", \"title\", \"year\"])"
   ]
  },
  {
   "cell_type": "code",
   "execution_count": 15,
   "id": "12bae133",
   "metadata": {},
   "outputs": [],
   "source": [
    "# Multiple worksheets\n",
    "writer = pd.ExcelWriter(os.path.join('data', 'multiple_sheets.xlsx'), engine='xlsxwriter')\n",
    "small_df.to_excel(writer, sheet_name=\"Preview\", index=False)\n",
    "df.to_excel(writer, sheet_name=\"Complete\", index=False)\n",
    "writer.save()"
   ]
  },
  {
   "cell_type": "code",
   "execution_count": 18,
   "id": "af352639",
   "metadata": {},
   "outputs": [
    {
     "data": {
      "text/plain": [
       "Turner, Joseph Mallord William    39389\n",
       "Jones, George                      1046\n",
       "Moore, Henry, OM, CH                623\n",
       "Daniell, William                    612\n",
       "Beuys, Joseph                       578\n",
       "Name: artist, dtype: int64"
      ]
     },
     "execution_count": 18,
     "metadata": {},
     "output_type": "execute_result"
    }
   ],
   "source": [
    "# Conditional formatting\n",
    "artist_counts = df['artist'].value_counts()\n",
    "artist_counts.head()"
   ]
  },
  {
   "cell_type": "code",
   "execution_count": 16,
   "id": "be18b31a",
   "metadata": {},
   "outputs": [],
   "source": [
    "writer = pd.ExcelWriter(os.path.join('data', 'colors.xlsx'), engine='xlsxwriter')\n",
    "artist_counts.to_excel(writer, sheet_name=\"Artist Counts\")\n",
    "sheet = writer.sheets['Artist Counts']\n",
    "cells_range = 'B2:B{}'.format(len(artist_counts.index))\n",
    "sheet.conditional_format(\n",
    "    cells_range, \n",
    "    {\n",
    "        'type': '2_color_scale',\n",
    "        'min_value': '10',\n",
    "        'min_type': 'percentile',\n",
    "        'max_value': '99',\n",
    "        'max_type': 'percentile'\n",
    "    }\n",
    ")\n",
    "writer.save()"
   ]
  },
  {
   "cell_type": "code",
   "execution_count": 19,
   "id": "0352c1c0",
   "metadata": {},
   "outputs": [],
   "source": [
    "# SQL\n",
    "# import sqlite3\n",
    "# \n",
    "# with sqlite3.connect('my_database.db') as conn:\n",
    "#     small_df.to_sql('Tate', conn)\n",
    "\n",
    "# import sqlalchemy as sa\n",
    "# with sa.create_engine('postgresql://localhost/my_data') as conn:\n",
    "#     small_df.to_sql('Tate', conn)"
   ]
  }
 ],
 "metadata": {
  "kernelspec": {
   "display_name": "Python 3 (ipykernel)",
   "language": "python",
   "name": "python3"
  },
  "language_info": {
   "codemirror_mode": {
    "name": "ipython",
    "version": 3
   },
   "file_extension": ".py",
   "mimetype": "text/x-python",
   "name": "python",
   "nbconvert_exporter": "python",
   "pygments_lexer": "ipython3",
   "version": "3.8.12"
  }
 },
 "nbformat": 4,
 "nbformat_minor": 5
}

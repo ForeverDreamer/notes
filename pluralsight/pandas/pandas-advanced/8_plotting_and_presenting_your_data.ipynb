{
 "cells": [
  {
   "cell_type": "code",
   "execution_count": 1,
   "metadata": {
    "slideshow": {
     "slide_type": "slide"
    }
   },
   "outputs": [],
   "source": [
    "import pandas as pd\n",
    "import os"
   ]
  },
  {
   "cell_type": "code",
   "execution_count": 2,
   "metadata": {
    "slideshow": {
     "slide_type": "fragment"
    }
   },
   "outputs": [],
   "source": [
    "team_splits = pd.read_pickle(os.path.join('data', 'team_splits_periods.pickle'))\n",
    "scoring = pd.read_pickle(os.path.join('data', 'scoring.pickle'))"
   ]
  },
  {
   "cell_type": "code",
   "execution_count": 3,
   "metadata": {
    "slideshow": {
     "slide_type": "slide"
    }
   },
   "outputs": [
    {
     "data": {
      "text/html": [
       "<div>\n",
       "<style scoped>\n",
       "    .dataframe tbody tr th:only-of-type {\n",
       "        vertical-align: middle;\n",
       "    }\n",
       "\n",
       "    .dataframe tbody tr th {\n",
       "        vertical-align: top;\n",
       "    }\n",
       "\n",
       "    .dataframe thead th {\n",
       "        text-align: right;\n",
       "    }\n",
       "</style>\n",
       "<table border=\"1\" class=\"dataframe\">\n",
       "  <thead>\n",
       "    <tr style=\"text-align: right;\">\n",
       "      <th></th>\n",
       "      <th>name</th>\n",
       "      <th>L</th>\n",
       "      <th>OL</th>\n",
       "      <th>T</th>\n",
       "      <th>W</th>\n",
       "    </tr>\n",
       "    <tr>\n",
       "      <th>month</th>\n",
       "      <th></th>\n",
       "      <th></th>\n",
       "      <th></th>\n",
       "      <th></th>\n",
       "      <th></th>\n",
       "    </tr>\n",
       "  </thead>\n",
       "  <tbody>\n",
       "    <tr>\n",
       "      <th>2006-01</th>\n",
       "      <td>Anaheim Ducks</td>\n",
       "      <td>5.0</td>\n",
       "      <td>2.0</td>\n",
       "      <td>NaN</td>\n",
       "      <td>4.0</td>\n",
       "    </tr>\n",
       "    <tr>\n",
       "      <th>2006-02</th>\n",
       "      <td>Anaheim Ducks</td>\n",
       "      <td>5.0</td>\n",
       "      <td>2.0</td>\n",
       "      <td>NaN</td>\n",
       "      <td>5.0</td>\n",
       "    </tr>\n",
       "    <tr>\n",
       "      <th>2006-03</th>\n",
       "      <td>Anaheim Ducks</td>\n",
       "      <td>3.0</td>\n",
       "      <td>2.0</td>\n",
       "      <td>NaN</td>\n",
       "      <td>10.0</td>\n",
       "    </tr>\n",
       "    <tr>\n",
       "      <th>2006-04</th>\n",
       "      <td>Anaheim Ducks</td>\n",
       "      <td>0.0</td>\n",
       "      <td>2.0</td>\n",
       "      <td>NaN</td>\n",
       "      <td>1.0</td>\n",
       "    </tr>\n",
       "    <tr>\n",
       "      <th>2006-10</th>\n",
       "      <td>Anaheim Ducks</td>\n",
       "      <td>0.0</td>\n",
       "      <td>3.0</td>\n",
       "      <td>NaN</td>\n",
       "      <td>9.0</td>\n",
       "    </tr>\n",
       "    <tr>\n",
       "      <th>2006-11</th>\n",
       "      <td>Anaheim Ducks</td>\n",
       "      <td>2.0</td>\n",
       "      <td>3.0</td>\n",
       "      <td>NaN</td>\n",
       "      <td>10.0</td>\n",
       "    </tr>\n",
       "    <tr>\n",
       "      <th>2006-12</th>\n",
       "      <td>Anaheim Ducks</td>\n",
       "      <td>5.0</td>\n",
       "      <td>0.0</td>\n",
       "      <td>NaN</td>\n",
       "      <td>9.0</td>\n",
       "    </tr>\n",
       "    <tr>\n",
       "      <th>2007-01</th>\n",
       "      <td>Anaheim Ducks</td>\n",
       "      <td>4.0</td>\n",
       "      <td>1.0</td>\n",
       "      <td>NaN</td>\n",
       "      <td>8.0</td>\n",
       "    </tr>\n",
       "    <tr>\n",
       "      <th>2007-02</th>\n",
       "      <td>Anaheim Ducks</td>\n",
       "      <td>2.0</td>\n",
       "      <td>1.0</td>\n",
       "      <td>NaN</td>\n",
       "      <td>10.0</td>\n",
       "    </tr>\n",
       "    <tr>\n",
       "      <th>2007-03</th>\n",
       "      <td>Anaheim Ducks</td>\n",
       "      <td>4.0</td>\n",
       "      <td>1.0</td>\n",
       "      <td>NaN</td>\n",
       "      <td>8.0</td>\n",
       "    </tr>\n",
       "  </tbody>\n",
       "</table>\n",
       "</div>"
      ],
      "text/plain": [
       "                  name    L   OL   T     W\n",
       "month                                     \n",
       "2006-01  Anaheim Ducks  5.0  2.0 NaN   4.0\n",
       "2006-02  Anaheim Ducks  5.0  2.0 NaN   5.0\n",
       "2006-03  Anaheim Ducks  3.0  2.0 NaN  10.0\n",
       "2006-04  Anaheim Ducks  0.0  2.0 NaN   1.0\n",
       "2006-10  Anaheim Ducks  0.0  3.0 NaN   9.0\n",
       "2006-11  Anaheim Ducks  2.0  3.0 NaN  10.0\n",
       "2006-12  Anaheim Ducks  5.0  0.0 NaN   9.0\n",
       "2007-01  Anaheim Ducks  4.0  1.0 NaN   8.0\n",
       "2007-02  Anaheim Ducks  2.0  1.0 NaN  10.0\n",
       "2007-03  Anaheim Ducks  4.0  1.0 NaN   8.0"
      ]
     },
     "execution_count": 3,
     "metadata": {},
     "output_type": "execute_result"
    }
   ],
   "source": [
    "ducks = team_splits.loc[team_splits[\"name\"] == \"Anaheim Ducks\", :]\n",
    "ducks = ducks.sort_index()\n",
    "ducks.head(10)"
   ]
  },
  {
   "cell_type": "code",
   "execution_count": 4,
   "metadata": {
    "slideshow": {
     "slide_type": "slide"
    }
   },
   "outputs": [
    {
     "data": {
      "text/html": [
       "<div>\n",
       "<style scoped>\n",
       "    .dataframe tbody tr th:only-of-type {\n",
       "        vertical-align: middle;\n",
       "    }\n",
       "\n",
       "    .dataframe tbody tr th {\n",
       "        vertical-align: top;\n",
       "    }\n",
       "\n",
       "    .dataframe thead th {\n",
       "        text-align: right;\n",
       "    }\n",
       "</style>\n",
       "<table border=\"1\" class=\"dataframe\">\n",
       "  <thead>\n",
       "    <tr style=\"text-align: right;\">\n",
       "      <th></th>\n",
       "      <th>L</th>\n",
       "      <th>OL</th>\n",
       "      <th>T</th>\n",
       "      <th>W</th>\n",
       "    </tr>\n",
       "    <tr>\n",
       "      <th>month</th>\n",
       "      <th></th>\n",
       "      <th></th>\n",
       "      <th></th>\n",
       "      <th></th>\n",
       "    </tr>\n",
       "  </thead>\n",
       "  <tbody>\n",
       "    <tr>\n",
       "      <th>2006</th>\n",
       "      <td>20.0</td>\n",
       "      <td>14.0</td>\n",
       "      <td>0.0</td>\n",
       "      <td>48.0</td>\n",
       "    </tr>\n",
       "    <tr>\n",
       "      <th>2007</th>\n",
       "      <td>27.0</td>\n",
       "      <td>8.0</td>\n",
       "      <td>0.0</td>\n",
       "      <td>47.0</td>\n",
       "    </tr>\n",
       "    <tr>\n",
       "      <th>2008</th>\n",
       "      <td>33.0</td>\n",
       "      <td>7.0</td>\n",
       "      <td>0.0</td>\n",
       "      <td>42.0</td>\n",
       "    </tr>\n",
       "    <tr>\n",
       "      <th>2009</th>\n",
       "      <td>32.0</td>\n",
       "      <td>11.0</td>\n",
       "      <td>0.0</td>\n",
       "      <td>39.0</td>\n",
       "    </tr>\n",
       "    <tr>\n",
       "      <th>2010</th>\n",
       "      <td>30.0</td>\n",
       "      <td>5.0</td>\n",
       "      <td>0.0</td>\n",
       "      <td>47.0</td>\n",
       "    </tr>\n",
       "    <tr>\n",
       "      <th>2011</th>\n",
       "      <td>36.0</td>\n",
       "      <td>12.0</td>\n",
       "      <td>0.0</td>\n",
       "      <td>34.0</td>\n",
       "    </tr>\n",
       "  </tbody>\n",
       "</table>\n",
       "</div>"
      ],
      "text/plain": [
       "          L    OL    T     W\n",
       "month                       \n",
       "2006   20.0  14.0  0.0  48.0\n",
       "2007   27.0   8.0  0.0  47.0\n",
       "2008   33.0   7.0  0.0  42.0\n",
       "2009   32.0  11.0  0.0  39.0\n",
       "2010   30.0   5.0  0.0  47.0\n",
       "2011   36.0  12.0  0.0  34.0"
      ]
     },
     "execution_count": 4,
     "metadata": {},
     "output_type": "execute_result"
    }
   ],
   "source": [
    "ducks.resample(\"A\").sum()"
   ]
  },
  {
   "cell_type": "code",
   "execution_count": 5,
   "metadata": {
    "slideshow": {
     "slide_type": "slide"
    }
   },
   "outputs": [
    {
     "data": {
      "text/html": [
       "<div>\n",
       "<style scoped>\n",
       "    .dataframe tbody tr th:only-of-type {\n",
       "        vertical-align: middle;\n",
       "    }\n",
       "\n",
       "    .dataframe tbody tr th {\n",
       "        vertical-align: top;\n",
       "    }\n",
       "\n",
       "    .dataframe thead th {\n",
       "        text-align: right;\n",
       "    }\n",
       "</style>\n",
       "<table border=\"1\" class=\"dataframe\">\n",
       "  <thead>\n",
       "    <tr style=\"text-align: right;\">\n",
       "      <th></th>\n",
       "      <th>name</th>\n",
       "      <th>L</th>\n",
       "      <th>OL</th>\n",
       "      <th>T</th>\n",
       "      <th>W</th>\n",
       "    </tr>\n",
       "    <tr>\n",
       "      <th>month</th>\n",
       "      <th></th>\n",
       "      <th></th>\n",
       "      <th></th>\n",
       "      <th></th>\n",
       "      <th></th>\n",
       "    </tr>\n",
       "  </thead>\n",
       "  <tbody>\n",
       "    <tr>\n",
       "      <th>2006-10-01</th>\n",
       "      <td>Anaheim Ducks</td>\n",
       "      <td>0.0</td>\n",
       "      <td>3.0</td>\n",
       "      <td>NaN</td>\n",
       "      <td>9.0</td>\n",
       "    </tr>\n",
       "    <tr>\n",
       "      <th>2006-11-01</th>\n",
       "      <td>Anaheim Ducks</td>\n",
       "      <td>2.0</td>\n",
       "      <td>3.0</td>\n",
       "      <td>NaN</td>\n",
       "      <td>10.0</td>\n",
       "    </tr>\n",
       "    <tr>\n",
       "      <th>2006-12-01</th>\n",
       "      <td>Anaheim Ducks</td>\n",
       "      <td>5.0</td>\n",
       "      <td>0.0</td>\n",
       "      <td>NaN</td>\n",
       "      <td>9.0</td>\n",
       "    </tr>\n",
       "    <tr>\n",
       "      <th>2007-01-01</th>\n",
       "      <td>Anaheim Ducks</td>\n",
       "      <td>5.0</td>\n",
       "      <td>2.0</td>\n",
       "      <td>NaN</td>\n",
       "      <td>4.0</td>\n",
       "    </tr>\n",
       "    <tr>\n",
       "      <th>2007-02-01</th>\n",
       "      <td>Anaheim Ducks</td>\n",
       "      <td>5.0</td>\n",
       "      <td>2.0</td>\n",
       "      <td>NaN</td>\n",
       "      <td>5.0</td>\n",
       "    </tr>\n",
       "  </tbody>\n",
       "</table>\n",
       "</div>"
      ],
      "text/plain": [
       "                     name    L   OL   T     W\n",
       "month                                        \n",
       "2006-10-01  Anaheim Ducks  0.0  3.0 NaN   9.0\n",
       "2006-11-01  Anaheim Ducks  2.0  3.0 NaN  10.0\n",
       "2006-12-01  Anaheim Ducks  5.0  0.0 NaN   9.0\n",
       "2007-01-01  Anaheim Ducks  5.0  2.0 NaN   4.0\n",
       "2007-02-01  Anaheim Ducks  5.0  2.0 NaN   5.0"
      ]
     },
     "execution_count": 5,
     "metadata": {},
     "output_type": "execute_result"
    }
   ],
   "source": [
    "ducks.index = ducks.to_timestamp().index.map(\n",
    "    lambda x: \n",
    "    x + pd.DateOffset(years=1) if x.month < 5\n",
    "    else x\n",
    ")\n",
    "ducks = ducks.sort_index()\n",
    "ducks.head()"
   ]
  },
  {
   "cell_type": "code",
   "execution_count": 6,
   "metadata": {
    "slideshow": {
     "slide_type": "slide"
    }
   },
   "outputs": [
    {
     "data": {
      "text/plain": [
       "<pandas.core.resample.DatetimeIndexResampler object at 0x0000020B06481408>"
      ]
     },
     "execution_count": 6,
     "metadata": {},
     "output_type": "execute_result"
    }
   ],
   "source": [
    "resampler = ducks.resample(\"A-JUN\")\n",
    "resampler"
   ]
  },
  {
   "cell_type": "code",
   "execution_count": 7,
   "metadata": {
    "slideshow": {
     "slide_type": "fragment"
    }
   },
   "outputs": [
    {
     "data": {
      "text/html": [
       "<div>\n",
       "<style scoped>\n",
       "    .dataframe tbody tr th:only-of-type {\n",
       "        vertical-align: middle;\n",
       "    }\n",
       "\n",
       "    .dataframe tbody tr th {\n",
       "        vertical-align: top;\n",
       "    }\n",
       "\n",
       "    .dataframe thead th {\n",
       "        text-align: right;\n",
       "    }\n",
       "</style>\n",
       "<table border=\"1\" class=\"dataframe\">\n",
       "  <thead>\n",
       "    <tr style=\"text-align: right;\">\n",
       "      <th></th>\n",
       "      <th>L</th>\n",
       "      <th>OL</th>\n",
       "      <th>T</th>\n",
       "      <th>W</th>\n",
       "    </tr>\n",
       "    <tr>\n",
       "      <th>month</th>\n",
       "      <th></th>\n",
       "      <th></th>\n",
       "      <th></th>\n",
       "      <th></th>\n",
       "    </tr>\n",
       "  </thead>\n",
       "  <tbody>\n",
       "    <tr>\n",
       "      <th>2007-06-30</th>\n",
       "      <td>20.0</td>\n",
       "      <td>14.0</td>\n",
       "      <td>0.0</td>\n",
       "      <td>48.0</td>\n",
       "    </tr>\n",
       "    <tr>\n",
       "      <th>2008-06-30</th>\n",
       "      <td>27.0</td>\n",
       "      <td>8.0</td>\n",
       "      <td>0.0</td>\n",
       "      <td>47.0</td>\n",
       "    </tr>\n",
       "    <tr>\n",
       "      <th>2009-06-30</th>\n",
       "      <td>33.0</td>\n",
       "      <td>7.0</td>\n",
       "      <td>0.0</td>\n",
       "      <td>42.0</td>\n",
       "    </tr>\n",
       "    <tr>\n",
       "      <th>2010-06-30</th>\n",
       "      <td>32.0</td>\n",
       "      <td>11.0</td>\n",
       "      <td>0.0</td>\n",
       "      <td>39.0</td>\n",
       "    </tr>\n",
       "    <tr>\n",
       "      <th>2011-06-30</th>\n",
       "      <td>30.0</td>\n",
       "      <td>5.0</td>\n",
       "      <td>0.0</td>\n",
       "      <td>47.0</td>\n",
       "    </tr>\n",
       "    <tr>\n",
       "      <th>2012-06-30</th>\n",
       "      <td>36.0</td>\n",
       "      <td>12.0</td>\n",
       "      <td>0.0</td>\n",
       "      <td>34.0</td>\n",
       "    </tr>\n",
       "  </tbody>\n",
       "</table>\n",
       "</div>"
      ],
      "text/plain": [
       "               L    OL    T     W\n",
       "month                            \n",
       "2007-06-30  20.0  14.0  0.0  48.0\n",
       "2008-06-30  27.0   8.0  0.0  47.0\n",
       "2009-06-30  33.0   7.0  0.0  42.0\n",
       "2010-06-30  32.0  11.0  0.0  39.0\n",
       "2011-06-30  30.0   5.0  0.0  47.0\n",
       "2012-06-30  36.0  12.0  0.0  34.0"
      ]
     },
     "execution_count": 7,
     "metadata": {},
     "output_type": "execute_result"
    }
   ],
   "source": [
    "resampler.sum()"
   ]
  },
  {
   "cell_type": "code",
   "execution_count": 8,
   "metadata": {
    "slideshow": {
     "slide_type": "slide"
    }
   },
   "outputs": [
    {
     "data": {
      "text/html": [
       "<div>\n",
       "<style scoped>\n",
       "    .dataframe tbody tr th:only-of-type {\n",
       "        vertical-align: middle;\n",
       "    }\n",
       "\n",
       "    .dataframe tbody tr th {\n",
       "        vertical-align: top;\n",
       "    }\n",
       "\n",
       "    .dataframe thead th {\n",
       "        text-align: right;\n",
       "    }\n",
       "</style>\n",
       "<table border=\"1\" class=\"dataframe\">\n",
       "  <thead>\n",
       "    <tr style=\"text-align: right;\">\n",
       "      <th></th>\n",
       "      <th></th>\n",
       "      <th>W</th>\n",
       "      <th>L</th>\n",
       "    </tr>\n",
       "    <tr>\n",
       "      <th>month</th>\n",
       "      <th></th>\n",
       "      <th></th>\n",
       "      <th></th>\n",
       "    </tr>\n",
       "  </thead>\n",
       "  <tbody>\n",
       "    <tr>\n",
       "      <th rowspan=\"7\" valign=\"top\">2007-06-30</th>\n",
       "      <th>0</th>\n",
       "      <td>9.0</td>\n",
       "      <td>0.0</td>\n",
       "    </tr>\n",
       "    <tr>\n",
       "      <th>1</th>\n",
       "      <td>19.0</td>\n",
       "      <td>2.0</td>\n",
       "    </tr>\n",
       "    <tr>\n",
       "      <th>2</th>\n",
       "      <td>28.0</td>\n",
       "      <td>7.0</td>\n",
       "    </tr>\n",
       "    <tr>\n",
       "      <th>3</th>\n",
       "      <td>32.0</td>\n",
       "      <td>12.0</td>\n",
       "    </tr>\n",
       "    <tr>\n",
       "      <th>4</th>\n",
       "      <td>37.0</td>\n",
       "      <td>17.0</td>\n",
       "    </tr>\n",
       "    <tr>\n",
       "      <th>5</th>\n",
       "      <td>47.0</td>\n",
       "      <td>20.0</td>\n",
       "    </tr>\n",
       "    <tr>\n",
       "      <th>6</th>\n",
       "      <td>48.0</td>\n",
       "      <td>20.0</td>\n",
       "    </tr>\n",
       "    <tr>\n",
       "      <th>2008-06-30</th>\n",
       "      <th>0</th>\n",
       "      <td>1.0</td>\n",
       "      <td>1.0</td>\n",
       "    </tr>\n",
       "  </tbody>\n",
       "</table>\n",
       "</div>"
      ],
      "text/plain": [
       "                 W     L\n",
       "month                   \n",
       "2007-06-30 0   9.0   0.0\n",
       "           1  19.0   2.0\n",
       "           2  28.0   7.0\n",
       "           3  32.0  12.0\n",
       "           4  37.0  17.0\n",
       "           5  47.0  20.0\n",
       "           6  48.0  20.0\n",
       "2008-06-30 0   1.0   1.0"
      ]
     },
     "execution_count": 8,
     "metadata": {},
     "output_type": "execute_result"
    }
   ],
   "source": [
    "# We can't to do this: resampler.expanding().sum()\n",
    "res = resampler.apply(\n",
    "        lambda x: x.reset_index()[[\"W\", \"L\"]]\n",
    "                   .expanding().sum()\n",
    ")\n",
    "res.head(8)"
   ]
  },
  {
   "cell_type": "code",
   "execution_count": 9,
   "metadata": {
    "slideshow": {
     "slide_type": "slide"
    }
   },
   "outputs": [
    {
     "data": {
      "text/html": [
       "<div>\n",
       "<style scoped>\n",
       "    .dataframe tbody tr th:only-of-type {\n",
       "        vertical-align: middle;\n",
       "    }\n",
       "\n",
       "    .dataframe tbody tr th {\n",
       "        vertical-align: top;\n",
       "    }\n",
       "\n",
       "    .dataframe thead th {\n",
       "        text-align: right;\n",
       "    }\n",
       "</style>\n",
       "<table border=\"1\" class=\"dataframe\">\n",
       "  <thead>\n",
       "    <tr style=\"text-align: right;\">\n",
       "      <th></th>\n",
       "      <th>W</th>\n",
       "      <th>L</th>\n",
       "    </tr>\n",
       "    <tr>\n",
       "      <th>month</th>\n",
       "      <th></th>\n",
       "      <th></th>\n",
       "    </tr>\n",
       "  </thead>\n",
       "  <tbody>\n",
       "    <tr>\n",
       "      <th>2006-10-01</th>\n",
       "      <td>9.0</td>\n",
       "      <td>0.0</td>\n",
       "    </tr>\n",
       "    <tr>\n",
       "      <th>2006-11-01</th>\n",
       "      <td>19.0</td>\n",
       "      <td>2.0</td>\n",
       "    </tr>\n",
       "    <tr>\n",
       "      <th>2006-12-01</th>\n",
       "      <td>28.0</td>\n",
       "      <td>7.0</td>\n",
       "    </tr>\n",
       "    <tr>\n",
       "      <th>2007-01-01</th>\n",
       "      <td>32.0</td>\n",
       "      <td>12.0</td>\n",
       "    </tr>\n",
       "    <tr>\n",
       "      <th>2007-02-01</th>\n",
       "      <td>37.0</td>\n",
       "      <td>17.0</td>\n",
       "    </tr>\n",
       "  </tbody>\n",
       "</table>\n",
       "</div>"
      ],
      "text/plain": [
       "               W     L\n",
       "month                 \n",
       "2006-10-01   9.0   0.0\n",
       "2006-11-01  19.0   2.0\n",
       "2006-12-01  28.0   7.0\n",
       "2007-01-01  32.0  12.0\n",
       "2007-02-01  37.0  17.0"
      ]
     },
     "execution_count": 9,
     "metadata": {},
     "output_type": "execute_result"
    }
   ],
   "source": [
    "res.index = ducks.index\n",
    "res.head()"
   ]
  },
  {
   "cell_type": "code",
   "execution_count": 10,
   "metadata": {
    "slideshow": {
     "slide_type": "slide"
    }
   },
   "outputs": [
    {
     "data": {
      "text/html": [
       "<div>\n",
       "<style scoped>\n",
       "    .dataframe tbody tr th:only-of-type {\n",
       "        vertical-align: middle;\n",
       "    }\n",
       "\n",
       "    .dataframe tbody tr th {\n",
       "        vertical-align: top;\n",
       "    }\n",
       "\n",
       "    .dataframe thead th {\n",
       "        text-align: right;\n",
       "    }\n",
       "</style>\n",
       "<table border=\"1\" class=\"dataframe\">\n",
       "  <thead>\n",
       "    <tr style=\"text-align: right;\">\n",
       "      <th></th>\n",
       "      <th>W</th>\n",
       "      <th>L</th>\n",
       "    </tr>\n",
       "    <tr>\n",
       "      <th>month</th>\n",
       "      <th></th>\n",
       "      <th></th>\n",
       "    </tr>\n",
       "  </thead>\n",
       "  <tbody>\n",
       "    <tr>\n",
       "      <th>2006-10-01</th>\n",
       "      <td>9.0</td>\n",
       "      <td>0.0</td>\n",
       "    </tr>\n",
       "    <tr>\n",
       "      <th>2006-11-01</th>\n",
       "      <td>19.0</td>\n",
       "      <td>2.0</td>\n",
       "    </tr>\n",
       "    <tr>\n",
       "      <th>2006-12-01</th>\n",
       "      <td>28.0</td>\n",
       "      <td>7.0</td>\n",
       "    </tr>\n",
       "    <tr>\n",
       "      <th>2007-01-01</th>\n",
       "      <td>32.0</td>\n",
       "      <td>12.0</td>\n",
       "    </tr>\n",
       "    <tr>\n",
       "      <th>2007-02-01</th>\n",
       "      <td>37.0</td>\n",
       "      <td>17.0</td>\n",
       "    </tr>\n",
       "    <tr>\n",
       "      <th>2007-03-01</th>\n",
       "      <td>47.0</td>\n",
       "      <td>20.0</td>\n",
       "    </tr>\n",
       "    <tr>\n",
       "      <th>2007-04-01</th>\n",
       "      <td>48.0</td>\n",
       "      <td>20.0</td>\n",
       "    </tr>\n",
       "    <tr>\n",
       "      <th>2007-05-01</th>\n",
       "      <td>NaN</td>\n",
       "      <td>NaN</td>\n",
       "    </tr>\n",
       "    <tr>\n",
       "      <th>2007-06-01</th>\n",
       "      <td>NaN</td>\n",
       "      <td>NaN</td>\n",
       "    </tr>\n",
       "    <tr>\n",
       "      <th>2007-07-01</th>\n",
       "      <td>NaN</td>\n",
       "      <td>NaN</td>\n",
       "    </tr>\n",
       "  </tbody>\n",
       "</table>\n",
       "</div>"
      ],
      "text/plain": [
       "               W     L\n",
       "month                 \n",
       "2006-10-01   9.0   0.0\n",
       "2006-11-01  19.0   2.0\n",
       "2006-12-01  28.0   7.0\n",
       "2007-01-01  32.0  12.0\n",
       "2007-02-01  37.0  17.0\n",
       "2007-03-01  47.0  20.0\n",
       "2007-04-01  48.0  20.0\n",
       "2007-05-01   NaN   NaN\n",
       "2007-06-01   NaN   NaN\n",
       "2007-07-01   NaN   NaN"
      ]
     },
     "execution_count": 10,
     "metadata": {},
     "output_type": "execute_result"
    }
   ],
   "source": [
    "final = res.asfreq(pd.tseries.offsets.MonthBegin())\n",
    "final.head(10)"
   ]
  },
  {
   "cell_type": "code",
   "execution_count": 11,
   "metadata": {
    "slideshow": {
     "slide_type": "slide"
    }
   },
   "outputs": [
    {
     "data": {
      "text/html": [
       "<div>\n",
       "<style scoped>\n",
       "    .dataframe tbody tr th:only-of-type {\n",
       "        vertical-align: middle;\n",
       "    }\n",
       "\n",
       "    .dataframe tbody tr th {\n",
       "        vertical-align: top;\n",
       "    }\n",
       "\n",
       "    .dataframe thead th {\n",
       "        text-align: right;\n",
       "    }\n",
       "</style>\n",
       "<table border=\"1\" class=\"dataframe\">\n",
       "  <thead>\n",
       "    <tr style=\"text-align: right;\">\n",
       "      <th></th>\n",
       "      <th>month</th>\n",
       "      <th>W</th>\n",
       "      <th>L</th>\n",
       "    </tr>\n",
       "  </thead>\n",
       "  <tbody>\n",
       "    <tr>\n",
       "      <th>0</th>\n",
       "      <td>2006-10-01</td>\n",
       "      <td>9.0</td>\n",
       "      <td>0.0</td>\n",
       "    </tr>\n",
       "    <tr>\n",
       "      <th>1</th>\n",
       "      <td>2006-11-01</td>\n",
       "      <td>19.0</td>\n",
       "      <td>2.0</td>\n",
       "    </tr>\n",
       "    <tr>\n",
       "      <th>2</th>\n",
       "      <td>2006-12-01</td>\n",
       "      <td>28.0</td>\n",
       "      <td>7.0</td>\n",
       "    </tr>\n",
       "    <tr>\n",
       "      <th>3</th>\n",
       "      <td>2007-01-01</td>\n",
       "      <td>32.0</td>\n",
       "      <td>12.0</td>\n",
       "    </tr>\n",
       "    <tr>\n",
       "      <th>4</th>\n",
       "      <td>2007-02-01</td>\n",
       "      <td>37.0</td>\n",
       "      <td>17.0</td>\n",
       "    </tr>\n",
       "  </tbody>\n",
       "</table>\n",
       "</div>"
      ],
      "text/plain": [
       "       month     W     L\n",
       "0 2006-10-01   9.0   0.0\n",
       "1 2006-11-01  19.0   2.0\n",
       "2 2006-12-01  28.0   7.0\n",
       "3 2007-01-01  32.0  12.0\n",
       "4 2007-02-01  37.0  17.0"
      ]
     },
     "execution_count": 11,
     "metadata": {},
     "output_type": "execute_result"
    }
   ],
   "source": [
    "fdf = final.reset_index()\n",
    "fdf.head()"
   ]
  },
  {
   "cell_type": "code",
   "execution_count": 12,
   "metadata": {
    "slideshow": {
     "slide_type": "slide"
    }
   },
   "outputs": [
    {
     "data": {
      "text/html": [
       "<div class=\"bk-root\">\n",
       "        <a href=\"https://bokeh.org\" target=\"_blank\" class=\"bk-logo bk-logo-small bk-logo-notebook\"></a>\n",
       "        <span id=\"1002\">Loading BokehJS ...</span>\n",
       "    </div>\n"
      ]
     },
     "metadata": {},
     "output_type": "display_data"
    },
    {
     "data": {
      "application/javascript": [
       "(function(root) {\n",
       "  function now() {\n",
       "    return new Date();\n",
       "  }\n",
       "\n",
       "  const force = true;\n",
       "\n",
       "  if (typeof root._bokeh_onload_callbacks === \"undefined\" || force === true) {\n",
       "    root._bokeh_onload_callbacks = [];\n",
       "    root._bokeh_is_loading = undefined;\n",
       "  }\n",
       "\n",
       "const JS_MIME_TYPE = 'application/javascript';\n",
       "  const HTML_MIME_TYPE = 'text/html';\n",
       "  const EXEC_MIME_TYPE = 'application/vnd.bokehjs_exec.v0+json';\n",
       "  const CLASS_NAME = 'output_bokeh rendered_html';\n",
       "\n",
       "  /**\n",
       "   * Render data to the DOM node\n",
       "   */\n",
       "  function render(props, node) {\n",
       "    const script = document.createElement(\"script\");\n",
       "    node.appendChild(script);\n",
       "  }\n",
       "\n",
       "  /**\n",
       "   * Handle when an output is cleared or removed\n",
       "   */\n",
       "  function handleClearOutput(event, handle) {\n",
       "    const cell = handle.cell;\n",
       "\n",
       "    const id = cell.output_area._bokeh_element_id;\n",
       "    const server_id = cell.output_area._bokeh_server_id;\n",
       "    // Clean up Bokeh references\n",
       "    if (id != null && id in Bokeh.index) {\n",
       "      Bokeh.index[id].model.document.clear();\n",
       "      delete Bokeh.index[id];\n",
       "    }\n",
       "\n",
       "    if (server_id !== undefined) {\n",
       "      // Clean up Bokeh references\n",
       "      const cmd_clean = \"from bokeh.io.state import curstate; print(curstate().uuid_to_server['\" + server_id + \"'].get_sessions()[0].document.roots[0]._id)\";\n",
       "      cell.notebook.kernel.execute(cmd_clean, {\n",
       "        iopub: {\n",
       "          output: function(msg) {\n",
       "            const id = msg.content.text.trim();\n",
       "            if (id in Bokeh.index) {\n",
       "              Bokeh.index[id].model.document.clear();\n",
       "              delete Bokeh.index[id];\n",
       "            }\n",
       "          }\n",
       "        }\n",
       "      });\n",
       "      // Destroy server and session\n",
       "      const cmd_destroy = \"import bokeh.io.notebook as ion; ion.destroy_server('\" + server_id + \"')\";\n",
       "      cell.notebook.kernel.execute(cmd_destroy);\n",
       "    }\n",
       "  }\n",
       "\n",
       "  /**\n",
       "   * Handle when a new output is added\n",
       "   */\n",
       "  function handleAddOutput(event, handle) {\n",
       "    const output_area = handle.output_area;\n",
       "    const output = handle.output;\n",
       "\n",
       "    // limit handleAddOutput to display_data with EXEC_MIME_TYPE content only\n",
       "    if ((output.output_type != \"display_data\") || (!Object.prototype.hasOwnProperty.call(output.data, EXEC_MIME_TYPE))) {\n",
       "      return\n",
       "    }\n",
       "\n",
       "    const toinsert = output_area.element.find(\".\" + CLASS_NAME.split(' ')[0]);\n",
       "\n",
       "    if (output.metadata[EXEC_MIME_TYPE][\"id\"] !== undefined) {\n",
       "      toinsert[toinsert.length - 1].firstChild.textContent = output.data[JS_MIME_TYPE];\n",
       "      // store reference to embed id on output_area\n",
       "      output_area._bokeh_element_id = output.metadata[EXEC_MIME_TYPE][\"id\"];\n",
       "    }\n",
       "    if (output.metadata[EXEC_MIME_TYPE][\"server_id\"] !== undefined) {\n",
       "      const bk_div = document.createElement(\"div\");\n",
       "      bk_div.innerHTML = output.data[HTML_MIME_TYPE];\n",
       "      const script_attrs = bk_div.children[0].attributes;\n",
       "      for (let i = 0; i < script_attrs.length; i++) {\n",
       "        toinsert[toinsert.length - 1].firstChild.setAttribute(script_attrs[i].name, script_attrs[i].value);\n",
       "        toinsert[toinsert.length - 1].firstChild.textContent = bk_div.children[0].textContent\n",
       "      }\n",
       "      // store reference to server id on output_area\n",
       "      output_area._bokeh_server_id = output.metadata[EXEC_MIME_TYPE][\"server_id\"];\n",
       "    }\n",
       "  }\n",
       "\n",
       "  function register_renderer(events, OutputArea) {\n",
       "\n",
       "    function append_mime(data, metadata, element) {\n",
       "      // create a DOM node to render to\n",
       "      const toinsert = this.create_output_subarea(\n",
       "        metadata,\n",
       "        CLASS_NAME,\n",
       "        EXEC_MIME_TYPE\n",
       "      );\n",
       "      this.keyboard_manager.register_events(toinsert);\n",
       "      // Render to node\n",
       "      const props = {data: data, metadata: metadata[EXEC_MIME_TYPE]};\n",
       "      render(props, toinsert[toinsert.length - 1]);\n",
       "      element.append(toinsert);\n",
       "      return toinsert\n",
       "    }\n",
       "\n",
       "    /* Handle when an output is cleared or removed */\n",
       "    events.on('clear_output.CodeCell', handleClearOutput);\n",
       "    events.on('delete.Cell', handleClearOutput);\n",
       "\n",
       "    /* Handle when a new output is added */\n",
       "    events.on('output_added.OutputArea', handleAddOutput);\n",
       "\n",
       "    /**\n",
       "     * Register the mime type and append_mime function with output_area\n",
       "     */\n",
       "    OutputArea.prototype.register_mime_type(EXEC_MIME_TYPE, append_mime, {\n",
       "      /* Is output safe? */\n",
       "      safe: true,\n",
       "      /* Index of renderer in `output_area.display_order` */\n",
       "      index: 0\n",
       "    });\n",
       "  }\n",
       "\n",
       "  // register the mime type if in Jupyter Notebook environment and previously unregistered\n",
       "  if (root.Jupyter !== undefined) {\n",
       "    const events = require('base/js/events');\n",
       "    const OutputArea = require('notebook/js/outputarea').OutputArea;\n",
       "\n",
       "    if (OutputArea.prototype.mime_types().indexOf(EXEC_MIME_TYPE) == -1) {\n",
       "      register_renderer(events, OutputArea);\n",
       "    }\n",
       "  }\n",
       "  if (typeof (root._bokeh_timeout) === \"undefined\" || force === true) {\n",
       "    root._bokeh_timeout = Date.now() + 5000;\n",
       "    root._bokeh_failed_load = false;\n",
       "  }\n",
       "\n",
       "  const NB_LOAD_WARNING = {'data': {'text/html':\n",
       "     \"<div style='background-color: #fdd'>\\n\"+\n",
       "     \"<p>\\n\"+\n",
       "     \"BokehJS does not appear to have successfully loaded. If loading BokehJS from CDN, this \\n\"+\n",
       "     \"may be due to a slow or bad network connection. Possible fixes:\\n\"+\n",
       "     \"</p>\\n\"+\n",
       "     \"<ul>\\n\"+\n",
       "     \"<li>re-rerun `output_notebook()` to attempt to load from CDN again, or</li>\\n\"+\n",
       "     \"<li>use INLINE resources instead, as so:</li>\\n\"+\n",
       "     \"</ul>\\n\"+\n",
       "     \"<code>\\n\"+\n",
       "     \"from bokeh.resources import INLINE\\n\"+\n",
       "     \"output_notebook(resources=INLINE)\\n\"+\n",
       "     \"</code>\\n\"+\n",
       "     \"</div>\"}};\n",
       "\n",
       "  function display_loaded() {\n",
       "    const el = document.getElementById(\"1002\");\n",
       "    if (el != null) {\n",
       "      el.textContent = \"BokehJS is loading...\";\n",
       "    }\n",
       "    if (root.Bokeh !== undefined) {\n",
       "      if (el != null) {\n",
       "        el.textContent = \"BokehJS \" + root.Bokeh.version + \" successfully loaded.\";\n",
       "      }\n",
       "    } else if (Date.now() < root._bokeh_timeout) {\n",
       "      setTimeout(display_loaded, 100)\n",
       "    }\n",
       "  }\n",
       "\n",
       "  function run_callbacks() {\n",
       "    try {\n",
       "      root._bokeh_onload_callbacks.forEach(function(callback) {\n",
       "        if (callback != null)\n",
       "          callback();\n",
       "      });\n",
       "    } finally {\n",
       "      delete root._bokeh_onload_callbacks\n",
       "    }\n",
       "    console.debug(\"Bokeh: all callbacks have finished\");\n",
       "  }\n",
       "\n",
       "  function load_libs(css_urls, js_urls, callback) {\n",
       "    if (css_urls == null) css_urls = [];\n",
       "    if (js_urls == null) js_urls = [];\n",
       "\n",
       "    root._bokeh_onload_callbacks.push(callback);\n",
       "    if (root._bokeh_is_loading > 0) {\n",
       "      console.debug(\"Bokeh: BokehJS is being loaded, scheduling callback at\", now());\n",
       "      return null;\n",
       "    }\n",
       "    if (js_urls == null || js_urls.length === 0) {\n",
       "      run_callbacks();\n",
       "      return null;\n",
       "    }\n",
       "    console.debug(\"Bokeh: BokehJS not loaded, scheduling load and callback at\", now());\n",
       "    root._bokeh_is_loading = css_urls.length + js_urls.length;\n",
       "\n",
       "    function on_load() {\n",
       "      root._bokeh_is_loading--;\n",
       "      if (root._bokeh_is_loading === 0) {\n",
       "        console.debug(\"Bokeh: all BokehJS libraries/stylesheets loaded\");\n",
       "        run_callbacks()\n",
       "      }\n",
       "    }\n",
       "\n",
       "    function on_error(url) {\n",
       "      console.error(\"failed to load \" + url);\n",
       "    }\n",
       "\n",
       "    for (let i = 0; i < css_urls.length; i++) {\n",
       "      const url = css_urls[i];\n",
       "      const element = document.createElement(\"link\");\n",
       "      element.onload = on_load;\n",
       "      element.onerror = on_error.bind(null, url);\n",
       "      element.rel = \"stylesheet\";\n",
       "      element.type = \"text/css\";\n",
       "      element.href = url;\n",
       "      console.debug(\"Bokeh: injecting link tag for BokehJS stylesheet: \", url);\n",
       "      document.body.appendChild(element);\n",
       "    }\n",
       "\n",
       "    for (let i = 0; i < js_urls.length; i++) {\n",
       "      const url = js_urls[i];\n",
       "      const element = document.createElement('script');\n",
       "      element.onload = on_load;\n",
       "      element.onerror = on_error.bind(null, url);\n",
       "      element.async = false;\n",
       "      element.src = url;\n",
       "      console.debug(\"Bokeh: injecting script tag for BokehJS library: \", url);\n",
       "      document.head.appendChild(element);\n",
       "    }\n",
       "  };\n",
       "\n",
       "  function inject_raw_css(css) {\n",
       "    const element = document.createElement(\"style\");\n",
       "    element.appendChild(document.createTextNode(css));\n",
       "    document.body.appendChild(element);\n",
       "  }\n",
       "\n",
       "  const js_urls = [\"https://cdn.bokeh.org/bokeh/release/bokeh-2.4.3.min.js\", \"https://cdn.bokeh.org/bokeh/release/bokeh-gl-2.4.3.min.js\", \"https://cdn.bokeh.org/bokeh/release/bokeh-widgets-2.4.3.min.js\", \"https://cdn.bokeh.org/bokeh/release/bokeh-tables-2.4.3.min.js\", \"https://cdn.bokeh.org/bokeh/release/bokeh-mathjax-2.4.3.min.js\"];\n",
       "  const css_urls = [];\n",
       "\n",
       "  const inline_js = [    function(Bokeh) {\n",
       "      Bokeh.set_log_level(\"info\");\n",
       "    },\n",
       "function(Bokeh) {\n",
       "    }\n",
       "  ];\n",
       "\n",
       "  function run_inline_js() {\n",
       "    if (root.Bokeh !== undefined || force === true) {\n",
       "          for (let i = 0; i < inline_js.length; i++) {\n",
       "      inline_js[i].call(root, root.Bokeh);\n",
       "    }\n",
       "if (force === true) {\n",
       "        display_loaded();\n",
       "      }} else if (Date.now() < root._bokeh_timeout) {\n",
       "      setTimeout(run_inline_js, 100);\n",
       "    } else if (!root._bokeh_failed_load) {\n",
       "      console.log(\"Bokeh: BokehJS failed to load within specified timeout.\");\n",
       "      root._bokeh_failed_load = true;\n",
       "    } else if (force !== true) {\n",
       "      const cell = $(document.getElementById(\"1002\")).parents('.cell').data().cell;\n",
       "      cell.output_area.append_execute_result(NB_LOAD_WARNING)\n",
       "    }\n",
       "  }\n",
       "\n",
       "  if (root._bokeh_is_loading === 0) {\n",
       "    console.debug(\"Bokeh: BokehJS loaded, going straight to plotting\");\n",
       "    run_inline_js();\n",
       "  } else {\n",
       "    load_libs(css_urls, js_urls, function() {\n",
       "      console.debug(\"Bokeh: BokehJS plotting callback run at\", now());\n",
       "      run_inline_js();\n",
       "    });\n",
       "  }\n",
       "}(window));"
      ],
      "application/vnd.bokehjs_load.v0+json": "(function(root) {\n  function now() {\n    return new Date();\n  }\n\n  const force = true;\n\n  if (typeof root._bokeh_onload_callbacks === \"undefined\" || force === true) {\n    root._bokeh_onload_callbacks = [];\n    root._bokeh_is_loading = undefined;\n  }\n\n\n  if (typeof (root._bokeh_timeout) === \"undefined\" || force === true) {\n    root._bokeh_timeout = Date.now() + 5000;\n    root._bokeh_failed_load = false;\n  }\n\n  const NB_LOAD_WARNING = {'data': {'text/html':\n     \"<div style='background-color: #fdd'>\\n\"+\n     \"<p>\\n\"+\n     \"BokehJS does not appear to have successfully loaded. If loading BokehJS from CDN, this \\n\"+\n     \"may be due to a slow or bad network connection. Possible fixes:\\n\"+\n     \"</p>\\n\"+\n     \"<ul>\\n\"+\n     \"<li>re-rerun `output_notebook()` to attempt to load from CDN again, or</li>\\n\"+\n     \"<li>use INLINE resources instead, as so:</li>\\n\"+\n     \"</ul>\\n\"+\n     \"<code>\\n\"+\n     \"from bokeh.resources import INLINE\\n\"+\n     \"output_notebook(resources=INLINE)\\n\"+\n     \"</code>\\n\"+\n     \"</div>\"}};\n\n  function display_loaded() {\n    const el = document.getElementById(\"1002\");\n    if (el != null) {\n      el.textContent = \"BokehJS is loading...\";\n    }\n    if (root.Bokeh !== undefined) {\n      if (el != null) {\n        el.textContent = \"BokehJS \" + root.Bokeh.version + \" successfully loaded.\";\n      }\n    } else if (Date.now() < root._bokeh_timeout) {\n      setTimeout(display_loaded, 100)\n    }\n  }\n\n  function run_callbacks() {\n    try {\n      root._bokeh_onload_callbacks.forEach(function(callback) {\n        if (callback != null)\n          callback();\n      });\n    } finally {\n      delete root._bokeh_onload_callbacks\n    }\n    console.debug(\"Bokeh: all callbacks have finished\");\n  }\n\n  function load_libs(css_urls, js_urls, callback) {\n    if (css_urls == null) css_urls = [];\n    if (js_urls == null) js_urls = [];\n\n    root._bokeh_onload_callbacks.push(callback);\n    if (root._bokeh_is_loading > 0) {\n      console.debug(\"Bokeh: BokehJS is being loaded, scheduling callback at\", now());\n      return null;\n    }\n    if (js_urls == null || js_urls.length === 0) {\n      run_callbacks();\n      return null;\n    }\n    console.debug(\"Bokeh: BokehJS not loaded, scheduling load and callback at\", now());\n    root._bokeh_is_loading = css_urls.length + js_urls.length;\n\n    function on_load() {\n      root._bokeh_is_loading--;\n      if (root._bokeh_is_loading === 0) {\n        console.debug(\"Bokeh: all BokehJS libraries/stylesheets loaded\");\n        run_callbacks()\n      }\n    }\n\n    function on_error(url) {\n      console.error(\"failed to load \" + url);\n    }\n\n    for (let i = 0; i < css_urls.length; i++) {\n      const url = css_urls[i];\n      const element = document.createElement(\"link\");\n      element.onload = on_load;\n      element.onerror = on_error.bind(null, url);\n      element.rel = \"stylesheet\";\n      element.type = \"text/css\";\n      element.href = url;\n      console.debug(\"Bokeh: injecting link tag for BokehJS stylesheet: \", url);\n      document.body.appendChild(element);\n    }\n\n    for (let i = 0; i < js_urls.length; i++) {\n      const url = js_urls[i];\n      const element = document.createElement('script');\n      element.onload = on_load;\n      element.onerror = on_error.bind(null, url);\n      element.async = false;\n      element.src = url;\n      console.debug(\"Bokeh: injecting script tag for BokehJS library: \", url);\n      document.head.appendChild(element);\n    }\n  };\n\n  function inject_raw_css(css) {\n    const element = document.createElement(\"style\");\n    element.appendChild(document.createTextNode(css));\n    document.body.appendChild(element);\n  }\n\n  const js_urls = [\"https://cdn.bokeh.org/bokeh/release/bokeh-2.4.3.min.js\", \"https://cdn.bokeh.org/bokeh/release/bokeh-gl-2.4.3.min.js\", \"https://cdn.bokeh.org/bokeh/release/bokeh-widgets-2.4.3.min.js\", \"https://cdn.bokeh.org/bokeh/release/bokeh-tables-2.4.3.min.js\", \"https://cdn.bokeh.org/bokeh/release/bokeh-mathjax-2.4.3.min.js\"];\n  const css_urls = [];\n\n  const inline_js = [    function(Bokeh) {\n      Bokeh.set_log_level(\"info\");\n    },\nfunction(Bokeh) {\n    }\n  ];\n\n  function run_inline_js() {\n    if (root.Bokeh !== undefined || force === true) {\n          for (let i = 0; i < inline_js.length; i++) {\n      inline_js[i].call(root, root.Bokeh);\n    }\nif (force === true) {\n        display_loaded();\n      }} else if (Date.now() < root._bokeh_timeout) {\n      setTimeout(run_inline_js, 100);\n    } else if (!root._bokeh_failed_load) {\n      console.log(\"Bokeh: BokehJS failed to load within specified timeout.\");\n      root._bokeh_failed_load = true;\n    } else if (force !== true) {\n      const cell = $(document.getElementById(\"1002\")).parents('.cell').data().cell;\n      cell.output_area.append_execute_result(NB_LOAD_WARNING)\n    }\n  }\n\n  if (root._bokeh_is_loading === 0) {\n    console.debug(\"Bokeh: BokehJS loaded, going straight to plotting\");\n    run_inline_js();\n  } else {\n    load_libs(css_urls, js_urls, function() {\n      console.debug(\"Bokeh: BokehJS plotting callback run at\", now());\n      run_inline_js();\n    });\n  }\n}(window));"
     },
     "metadata": {},
     "output_type": "display_data"
    }
   ],
   "source": [
    "from bokeh.plotting import figure, output_notebook, show\n",
    "output_notebook()"
   ]
  },
  {
   "cell_type": "code",
   "execution_count": 13,
   "metadata": {
    "slideshow": {
     "slide_type": "fragment"
    }
   },
   "outputs": [],
   "source": [
    "from bokeh.models.sources import ColumnDataSource as cds"
   ]
  },
  {
   "cell_type": "code",
   "execution_count": 14,
   "metadata": {
    "slideshow": {
     "slide_type": "fragment"
    }
   },
   "outputs": [],
   "source": [
    "source = cds(fdf)\n",
    "p = figure(x_axis_type=\"datetime\", height=500, width=500)\n",
    "p.line(source=source, x='month', y=\"W\", color=\"green\")\n",
    "p.line(source=source, x='month', y=\"L\", color=\"red\");"
   ]
  },
  {
   "cell_type": "code",
   "execution_count": 15,
   "metadata": {
    "slideshow": {
     "slide_type": "slide"
    }
   },
   "outputs": [
    {
     "data": {
      "text/html": [
       "\n",
       "  <div class=\"bk-root\" id=\"7539608f-dcf9-43a3-8a2f-2f8b370d2cbf\" data-root-id=\"1004\"></div>\n"
      ]
     },
     "metadata": {},
     "output_type": "display_data"
    },
    {
     "data": {
      "application/javascript": [
       "(function(root) {\n",
       "  function embed_document(root) {\n",
       "  const docs_json = {\"7524f8f0-8bb3-4fe2-85c3-f715e093e9bf\":{\"defs\":[],\"roots\":{\"references\":[{\"attributes\":{\"below\":[{\"id\":\"1013\"}],\"center\":[{\"id\":\"1016\"},{\"id\":\"1020\"}],\"height\":500,\"left\":[{\"id\":\"1017\"}],\"renderers\":[{\"id\":\"1039\"},{\"id\":\"1045\"}],\"title\":{\"id\":\"1047\"},\"toolbar\":{\"id\":\"1028\"},\"width\":500,\"x_range\":{\"id\":\"1005\"},\"x_scale\":{\"id\":\"1009\"},\"y_range\":{\"id\":\"1007\"},\"y_scale\":{\"id\":\"1011\"}},\"id\":\"1004\",\"subtype\":\"Figure\",\"type\":\"Plot\"},{\"attributes\":{},\"id\":\"1051\",\"type\":\"AllLabels\"},{\"attributes\":{},\"id\":\"1053\",\"type\":\"DatetimeTickFormatter\"},{\"attributes\":{},\"id\":\"1069\",\"type\":\"YearsTicker\"},{\"attributes\":{\"days\":[1,2,3,4,5,6,7,8,9,10,11,12,13,14,15,16,17,18,19,20,21,22,23,24,25,26,27,28,29,30,31]},\"id\":\"1061\",\"type\":\"DaysTicker\"},{\"attributes\":{\"days\":[1,4,7,10,13,16,19,22,25,28]},\"id\":\"1062\",\"type\":\"DaysTicker\"},{\"attributes\":{\"coordinates\":null,\"data_source\":{\"id\":\"1003\"},\"glyph\":{\"id\":\"1042\"},\"group\":null,\"hover_glyph\":null,\"muted_glyph\":{\"id\":\"1044\"},\"nonselection_glyph\":{\"id\":\"1043\"},\"view\":{\"id\":\"1046\"}},\"id\":\"1045\",\"type\":\"GlyphRenderer\"},{\"attributes\":{\"line_color\":\"green\",\"x\":{\"field\":\"month\"},\"y\":{\"field\":\"W\"}},\"id\":\"1036\",\"type\":\"Line\"},{\"attributes\":{\"mantissas\":[1,2,5],\"max_interval\":500.0,\"num_minor_ticks\":0},\"id\":\"1058\",\"type\":\"AdaptiveTicker\"},{\"attributes\":{\"axis\":{\"id\":\"1017\"},\"coordinates\":null,\"dimension\":1,\"group\":null,\"ticker\":null},\"id\":\"1020\",\"type\":\"Grid\"},{\"attributes\":{\"line_color\":\"red\",\"x\":{\"field\":\"month\"},\"y\":{\"field\":\"L\"}},\"id\":\"1042\",\"type\":\"Line\"},{\"attributes\":{\"axis\":{\"id\":\"1013\"},\"coordinates\":null,\"group\":null,\"ticker\":null},\"id\":\"1016\",\"type\":\"Grid\"},{\"attributes\":{\"line_alpha\":0.2,\"line_color\":\"red\",\"x\":{\"field\":\"month\"},\"y\":{\"field\":\"L\"}},\"id\":\"1044\",\"type\":\"Line\"},{\"attributes\":{\"overlay\":{\"id\":\"1027\"}},\"id\":\"1023\",\"type\":\"BoxZoomTool\"},{\"attributes\":{\"source\":{\"id\":\"1003\"}},\"id\":\"1046\",\"type\":\"CDSView\"},{\"attributes\":{\"tools\":[{\"id\":\"1021\"},{\"id\":\"1022\"},{\"id\":\"1023\"},{\"id\":\"1024\"},{\"id\":\"1025\"},{\"id\":\"1026\"}]},\"id\":\"1028\",\"type\":\"Toolbar\"},{\"attributes\":{\"line_alpha\":0.1,\"line_color\":\"red\",\"x\":{\"field\":\"month\"},\"y\":{\"field\":\"L\"}},\"id\":\"1043\",\"type\":\"Line\"},{\"attributes\":{},\"id\":\"1007\",\"type\":\"DataRange1d\"},{\"attributes\":{},\"id\":\"1024\",\"type\":\"SaveTool\"},{\"attributes\":{},\"id\":\"1018\",\"type\":\"BasicTicker\"},{\"attributes\":{},\"id\":\"1054\",\"type\":\"AllLabels\"},{\"attributes\":{\"days\":[1,8,15,22]},\"id\":\"1063\",\"type\":\"DaysTicker\"},{\"attributes\":{},\"id\":\"1056\",\"type\":\"Selection\"},{\"attributes\":{\"coordinates\":null,\"data_source\":{\"id\":\"1003\"},\"glyph\":{\"id\":\"1036\"},\"group\":null,\"hover_glyph\":null,\"muted_glyph\":{\"id\":\"1038\"},\"nonselection_glyph\":{\"id\":\"1037\"},\"view\":{\"id\":\"1040\"}},\"id\":\"1039\",\"type\":\"GlyphRenderer\"},{\"attributes\":{},\"id\":\"1050\",\"type\":\"BasicTickFormatter\"},{\"attributes\":{},\"id\":\"1021\",\"type\":\"PanTool\"},{\"attributes\":{},\"id\":\"1009\",\"type\":\"LinearScale\"},{\"attributes\":{},\"id\":\"1055\",\"type\":\"UnionRenderers\"},{\"attributes\":{\"coordinates\":null,\"formatter\":{\"id\":\"1050\"},\"group\":null,\"major_label_policy\":{\"id\":\"1051\"},\"ticker\":{\"id\":\"1018\"}},\"id\":\"1017\",\"type\":\"LinearAxis\"},{\"attributes\":{\"bottom_units\":\"screen\",\"coordinates\":null,\"fill_alpha\":0.5,\"fill_color\":\"lightgrey\",\"group\":null,\"left_units\":\"screen\",\"level\":\"overlay\",\"line_alpha\":1.0,\"line_color\":\"black\",\"line_dash\":[4,4],\"line_width\":2,\"right_units\":\"screen\",\"syncable\":false,\"top_units\":\"screen\"},\"id\":\"1027\",\"type\":\"BoxAnnotation\"},{\"attributes\":{\"data\":{\"L\":{\"__ndarray__\":\"AAAAAAAAAAAAAAAAAAAAQAAAAAAAABxAAAAAAAAAKEAAAAAAAAAxQAAAAAAAADRAAAAAAAAANEAAAAAAAAD4fwAAAAAAAPh/AAAAAAAA+H8AAAAAAAD4fwAAAAAAAPA/AAAAAAAAHEAAAAAAAAAmQAAAAAAAADFAAAAAAAAANUAAAAAAAAA3QAAAAAAAADtAAAAAAAAAO0AAAAAAAAD4fwAAAAAAAPh/AAAAAAAA+H8AAAAAAAD4fwAAAAAAAPh/AAAAAAAAFEAAAAAAAAAgQAAAAAAAAC5AAAAAAAAANkAAAAAAAAA8QAAAAAAAAEBAAAAAAACAQEAAAAAAAAD4fwAAAAAAAPh/AAAAAAAA+H8AAAAAAAD4fwAAAAAAAPh/AAAAAAAAGEAAAAAAAAAmQAAAAAAAADFAAAAAAAAAN0AAAAAAAAA5QAAAAAAAAD9AAAAAAAAAQEAAAAAAAAD4fwAAAAAAAPh/AAAAAAAA+H8AAAAAAAD4fwAAAAAAAPh/AAAAAAAAHEAAAAAAAAAmQAAAAAAAADFAAAAAAAAANEAAAAAAAAA5QAAAAAAAADxAAAAAAAAAPkAAAAAAAAD4fwAAAAAAAPh/AAAAAAAA+H8AAAAAAAD4fwAAAAAAAPh/AAAAAAAAFEAAAAAAAAAqQAAAAAAAADVAAAAAAAAAN0AAAAAAAAA7QAAAAAAAAEFAAAAAAAAAQkA=\",\"dtype\":\"float64\",\"order\":\"little\",\"shape\":[67]},\"W\":{\"__ndarray__\":\"AAAAAAAAIkAAAAAAAAAzQAAAAAAAADxAAAAAAAAAQEAAAAAAAIBCQAAAAAAAgEdAAAAAAAAASEAAAAAAAAD4fwAAAAAAAPh/AAAAAAAA+H8AAAAAAAD4fwAAAAAAAPA/AAAAAAAAEEAAAAAAAAAoQAAAAAAAADNAAAAAAAAAO0AAAAAAAIBCQAAAAAAAgEZAAAAAAACAR0AAAAAAAAD4fwAAAAAAAPh/AAAAAAAA+H8AAAAAAAD4fwAAAAAAAPh/AAAAAAAAGEAAAAAAAAAsQAAAAAAAADNAAAAAAAAAOUAAAAAAAAA/QAAAAAAAgENAAAAAAAAARUAAAAAAAAD4fwAAAAAAAPh/AAAAAAAA+H8AAAAAAAD4fwAAAAAAAPh/AAAAAAAAEEAAAAAAAAAkQAAAAAAAADBAAAAAAAAAOUAAAAAAAAA+QAAAAAAAgEJAAAAAAACAQ0AAAAAAAAD4fwAAAAAAAPh/AAAAAAAA+H8AAAAAAAD4fwAAAAAAAPh/AAAAAAAAEEAAAAAAAAAoQAAAAAAAADRAAAAAAAAAPEAAAAAAAIBAQAAAAAAAAEZAAAAAAACAR0AAAAAAAAD4fwAAAAAAAPh/AAAAAAAA+H8AAAAAAAD4fwAAAAAAAPh/AAAAAAAAFEAAAAAAAAAcQAAAAAAAACRAAAAAAAAAM0AAAAAAAAA7QAAAAAAAgEBAAAAAAAAAQUA=\",\"dtype\":\"float64\",\"order\":\"little\",\"shape\":[67]},\"index\":[0,1,2,3,4,5,6,7,8,9,10,11,12,13,14,15,16,17,18,19,20,21,22,23,24,25,26,27,28,29,30,31,32,33,34,35,36,37,38,39,40,41,42,43,44,45,46,47,48,49,50,51,52,53,54,55,56,57,58,59,60,61,62,63,64,65,66],\"month\":{\"__ndarray__\":\"AACAuBLgcEIAAMAKDepwQgAAQPe083BCAACASa/9cEIAAMCbqQdxQgAAwLysEHFCAAAAD6cacUIAAID7TiRxQgAAwE1JLnFCAABAOvE3cUIAAICM60FxQgAAwN7lS3FCAABAy41VcUIAAIAdiF9xQgAAAAowaXFCAABAXCpzcUIAAICuJH1xQgAAQDV6hnFCAACAh3SQcUIAAAB0HJpxQgAAQMYWpHFCAADAsr6tcUIAAAAFubdxQgAAQFezwXFCAADAQ1vLcUIAAACWVdVxQgAAgIL93nFCAADA1PfocUIAAAAn8vJxQgAAAEj1+3FCAABAmu8FckIAAMCGlw9yQgAAANmRGXJCAACAxTkjckIAAMAXNC1yQgAAAGouN3JCAACAVtZAckIAAMCo0EpyQgAAQJV4VHJCAACA53JeckIAAMA5bWhyQgAAwFpwcXJCAAAArWp7ckIAAICZEoVyQgAAwOsMj3JCAABA2LSYckIAAIAqr6JyQgAAwHyprHJCAABAaVG2ckIAAIC7S8ByQgAAAKjzyXJCAABA+u3TckIAAIBM6N1yQgAAgG3r5nJCAADAv+XwckIAAECsjfpyQgAAgP6HBHNCAAAA6y8Oc0IAAEA9KhhzQgAAgI8kInNCAAAAfMwrc0IAAEDOxjVzQgAAwLpuP3NCAAAADWlJc0IAAEBfY1NzQgAAAOa4XHNCAABAOLNmc0I=\",\"dtype\":\"float64\",\"order\":\"little\",\"shape\":[67]}},\"selected\":{\"id\":\"1056\"},\"selection_policy\":{\"id\":\"1055\"}},\"id\":\"1003\",\"type\":\"ColumnDataSource\"},{\"attributes\":{\"line_alpha\":0.1,\"line_color\":\"green\",\"x\":{\"field\":\"month\"},\"y\":{\"field\":\"W\"}},\"id\":\"1037\",\"type\":\"Line\"},{\"attributes\":{\"base\":24,\"mantissas\":[1,2,4,6,8,12],\"max_interval\":43200000.0,\"min_interval\":3600000.0,\"num_minor_ticks\":0},\"id\":\"1060\",\"type\":\"AdaptiveTicker\"},{\"attributes\":{\"months\":[0,2,4,6,8,10]},\"id\":\"1066\",\"type\":\"MonthsTicker\"},{\"attributes\":{\"months\":[0,4,8]},\"id\":\"1067\",\"type\":\"MonthsTicker\"},{\"attributes\":{},\"id\":\"1005\",\"type\":\"DataRange1d\"},{\"attributes\":{\"source\":{\"id\":\"1003\"}},\"id\":\"1040\",\"type\":\"CDSView\"},{\"attributes\":{},\"id\":\"1022\",\"type\":\"WheelZoomTool\"},{\"attributes\":{\"num_minor_ticks\":5,\"tickers\":[{\"id\":\"1058\"},{\"id\":\"1059\"},{\"id\":\"1060\"},{\"id\":\"1061\"},{\"id\":\"1062\"},{\"id\":\"1063\"},{\"id\":\"1064\"},{\"id\":\"1065\"},{\"id\":\"1066\"},{\"id\":\"1067\"},{\"id\":\"1068\"},{\"id\":\"1069\"}]},\"id\":\"1014\",\"type\":\"DatetimeTicker\"},{\"attributes\":{\"base\":60,\"mantissas\":[1,2,5,10,15,20,30],\"max_interval\":1800000.0,\"min_interval\":1000.0,\"num_minor_ticks\":0},\"id\":\"1059\",\"type\":\"AdaptiveTicker\"},{\"attributes\":{\"months\":[0,1,2,3,4,5,6,7,8,9,10,11]},\"id\":\"1065\",\"type\":\"MonthsTicker\"},{\"attributes\":{\"coordinates\":null,\"group\":null},\"id\":\"1047\",\"type\":\"Title\"},{\"attributes\":{\"months\":[0,6]},\"id\":\"1068\",\"type\":\"MonthsTicker\"},{\"attributes\":{},\"id\":\"1026\",\"type\":\"HelpTool\"},{\"attributes\":{},\"id\":\"1011\",\"type\":\"LinearScale\"},{\"attributes\":{},\"id\":\"1025\",\"type\":\"ResetTool\"},{\"attributes\":{\"coordinates\":null,\"formatter\":{\"id\":\"1053\"},\"group\":null,\"major_label_policy\":{\"id\":\"1054\"},\"ticker\":{\"id\":\"1014\"}},\"id\":\"1013\",\"type\":\"DatetimeAxis\"},{\"attributes\":{\"days\":[1,15]},\"id\":\"1064\",\"type\":\"DaysTicker\"},{\"attributes\":{\"line_alpha\":0.2,\"line_color\":\"green\",\"x\":{\"field\":\"month\"},\"y\":{\"field\":\"W\"}},\"id\":\"1038\",\"type\":\"Line\"}],\"root_ids\":[\"1004\"]},\"title\":\"Bokeh Application\",\"version\":\"2.4.3\"}};\n",
       "  const render_items = [{\"docid\":\"7524f8f0-8bb3-4fe2-85c3-f715e093e9bf\",\"root_ids\":[\"1004\"],\"roots\":{\"1004\":\"7539608f-dcf9-43a3-8a2f-2f8b370d2cbf\"}}];\n",
       "  root.Bokeh.embed.embed_items_notebook(docs_json, render_items);\n",
       "  }\n",
       "  if (root.Bokeh !== undefined) {\n",
       "    embed_document(root);\n",
       "  } else {\n",
       "    let attempts = 0;\n",
       "    const timer = setInterval(function(root) {\n",
       "      if (root.Bokeh !== undefined) {\n",
       "        clearInterval(timer);\n",
       "        embed_document(root);\n",
       "      } else {\n",
       "        attempts++;\n",
       "        if (attempts > 100) {\n",
       "          clearInterval(timer);\n",
       "          console.log(\"Bokeh: ERROR: Unable to run BokehJS code because BokehJS library is missing\");\n",
       "        }\n",
       "      }\n",
       "    }, 10, root)\n",
       "  }\n",
       "})(window);"
      ],
      "application/vnd.bokehjs_exec.v0+json": ""
     },
     "metadata": {
      "application/vnd.bokehjs_exec.v0+json": {
       "id": "1004"
      }
     },
     "output_type": "display_data"
    }
   ],
   "source": [
    "show(p)"
   ]
  },
  {
   "cell_type": "code",
   "execution_count": 16,
   "metadata": {
    "slideshow": {
     "slide_type": "slide"
    }
   },
   "outputs": [
    {
     "name": "stderr",
     "output_type": "stream",
     "text": [
      "BokehDeprecationWarning: 'legend' keyword is deprecated, use explicit 'legend_label', 'legend_field', or 'legend_group' keywords instead\n",
      "BokehDeprecationWarning: 'legend' keyword is deprecated, use explicit 'legend_label', 'legend_field', or 'legend_group' keywords instead\n"
     ]
    }
   ],
   "source": [
    "source = cds(fdf)\n",
    "p = figure(x_axis_type=\"datetime\", height=500, width=500)\n",
    "p.line(source=source, x='month', y=\"W\", color=\"green\", legend=\"Wins\")\n",
    "p.line(source=source, x='month', y=\"L\", color=\"red\", legend=\"Loses\")\n",
    "p.legend.click_policy=\"hide\";"
   ]
  },
  {
   "cell_type": "code",
   "execution_count": 17,
   "metadata": {
    "slideshow": {
     "slide_type": "slide"
    }
   },
   "outputs": [
    {
     "data": {
      "text/html": [
       "\n",
       "  <div class=\"bk-root\" id=\"963e01ef-8cb0-4084-a05e-e8b2a35f5e87\" data-root-id=\"1186\"></div>\n"
      ]
     },
     "metadata": {},
     "output_type": "display_data"
    },
    {
     "data": {
      "application/javascript": [
       "(function(root) {\n",
       "  function embed_document(root) {\n",
       "  const docs_json = {\"9b43b594-49f2-4006-9386-46ee69ac0a92\":{\"defs\":[],\"roots\":{\"references\":[{\"attributes\":{\"below\":[{\"id\":\"1195\"}],\"center\":[{\"id\":\"1198\"},{\"id\":\"1202\"},{\"id\":\"1246\"}],\"height\":500,\"left\":[{\"id\":\"1199\"}],\"renderers\":[{\"id\":\"1221\"},{\"id\":\"1252\"}],\"title\":{\"id\":\"1223\"},\"toolbar\":{\"id\":\"1210\"},\"width\":500,\"x_range\":{\"id\":\"1187\"},\"x_scale\":{\"id\":\"1191\"},\"y_range\":{\"id\":\"1189\"},\"y_scale\":{\"id\":\"1193\"}},\"id\":\"1186\",\"subtype\":\"Figure\",\"type\":\"Plot\"},{\"attributes\":{},\"id\":\"1193\",\"type\":\"LinearScale\"},{\"attributes\":{\"overlay\":{\"id\":\"1209\"}},\"id\":\"1205\",\"type\":\"BoxZoomTool\"},{\"attributes\":{},\"id\":\"1229\",\"type\":\"DatetimeTickFormatter\"},{\"attributes\":{},\"id\":\"1206\",\"type\":\"SaveTool\"},{\"attributes\":{},\"id\":\"1226\",\"type\":\"BasicTickFormatter\"},{\"attributes\":{\"num_minor_ticks\":5,\"tickers\":[{\"id\":\"1234\"},{\"id\":\"1235\"},{\"id\":\"1236\"},{\"id\":\"1237\"},{\"id\":\"1238\"},{\"id\":\"1239\"},{\"id\":\"1240\"},{\"id\":\"1241\"},{\"id\":\"1242\"},{\"id\":\"1243\"},{\"id\":\"1244\"},{\"id\":\"1245\"}]},\"id\":\"1196\",\"type\":\"DatetimeTicker\"},{\"attributes\":{},\"id\":\"1207\",\"type\":\"ResetTool\"},{\"attributes\":{},\"id\":\"1230\",\"type\":\"AllLabels\"},{\"attributes\":{},\"id\":\"1189\",\"type\":\"DataRange1d\"},{\"attributes\":{},\"id\":\"1208\",\"type\":\"HelpTool\"},{\"attributes\":{},\"id\":\"1231\",\"type\":\"UnionRenderers\"},{\"attributes\":{\"days\":[1,8,15,22]},\"id\":\"1239\",\"type\":\"DaysTicker\"},{\"attributes\":{\"data\":{\"L\":{\"__ndarray__\":\"AAAAAAAAAAAAAAAAAAAAQAAAAAAAABxAAAAAAAAAKEAAAAAAAAAxQAAAAAAAADRAAAAAAAAANEAAAAAAAAD4fwAAAAAAAPh/AAAAAAAA+H8AAAAAAAD4fwAAAAAAAPA/AAAAAAAAHEAAAAAAAAAmQAAAAAAAADFAAAAAAAAANUAAAAAAAAA3QAAAAAAAADtAAAAAAAAAO0AAAAAAAAD4fwAAAAAAAPh/AAAAAAAA+H8AAAAAAAD4fwAAAAAAAPh/AAAAAAAAFEAAAAAAAAAgQAAAAAAAAC5AAAAAAAAANkAAAAAAAAA8QAAAAAAAAEBAAAAAAACAQEAAAAAAAAD4fwAAAAAAAPh/AAAAAAAA+H8AAAAAAAD4fwAAAAAAAPh/AAAAAAAAGEAAAAAAAAAmQAAAAAAAADFAAAAAAAAAN0AAAAAAAAA5QAAAAAAAAD9AAAAAAAAAQEAAAAAAAAD4fwAAAAAAAPh/AAAAAAAA+H8AAAAAAAD4fwAAAAAAAPh/AAAAAAAAHEAAAAAAAAAmQAAAAAAAADFAAAAAAAAANEAAAAAAAAA5QAAAAAAAADxAAAAAAAAAPkAAAAAAAAD4fwAAAAAAAPh/AAAAAAAA+H8AAAAAAAD4fwAAAAAAAPh/AAAAAAAAFEAAAAAAAAAqQAAAAAAAADVAAAAAAAAAN0AAAAAAAAA7QAAAAAAAAEFAAAAAAAAAQkA=\",\"dtype\":\"float64\",\"order\":\"little\",\"shape\":[67]},\"W\":{\"__ndarray__\":\"AAAAAAAAIkAAAAAAAAAzQAAAAAAAADxAAAAAAAAAQEAAAAAAAIBCQAAAAAAAgEdAAAAAAAAASEAAAAAAAAD4fwAAAAAAAPh/AAAAAAAA+H8AAAAAAAD4fwAAAAAAAPA/AAAAAAAAEEAAAAAAAAAoQAAAAAAAADNAAAAAAAAAO0AAAAAAAIBCQAAAAAAAgEZAAAAAAACAR0AAAAAAAAD4fwAAAAAAAPh/AAAAAAAA+H8AAAAAAAD4fwAAAAAAAPh/AAAAAAAAGEAAAAAAAAAsQAAAAAAAADNAAAAAAAAAOUAAAAAAAAA/QAAAAAAAgENAAAAAAAAARUAAAAAAAAD4fwAAAAAAAPh/AAAAAAAA+H8AAAAAAAD4fwAAAAAAAPh/AAAAAAAAEEAAAAAAAAAkQAAAAAAAADBAAAAAAAAAOUAAAAAAAAA+QAAAAAAAgEJAAAAAAACAQ0AAAAAAAAD4fwAAAAAAAPh/AAAAAAAA+H8AAAAAAAD4fwAAAAAAAPh/AAAAAAAAEEAAAAAAAAAoQAAAAAAAADRAAAAAAAAAPEAAAAAAAIBAQAAAAAAAAEZAAAAAAACAR0AAAAAAAAD4fwAAAAAAAPh/AAAAAAAA+H8AAAAAAAD4fwAAAAAAAPh/AAAAAAAAFEAAAAAAAAAcQAAAAAAAACRAAAAAAAAAM0AAAAAAAAA7QAAAAAAAgEBAAAAAAAAAQUA=\",\"dtype\":\"float64\",\"order\":\"little\",\"shape\":[67]},\"index\":[0,1,2,3,4,5,6,7,8,9,10,11,12,13,14,15,16,17,18,19,20,21,22,23,24,25,26,27,28,29,30,31,32,33,34,35,36,37,38,39,40,41,42,43,44,45,46,47,48,49,50,51,52,53,54,55,56,57,58,59,60,61,62,63,64,65,66],\"month\":{\"__ndarray__\":\"AACAuBLgcEIAAMAKDepwQgAAQPe083BCAACASa/9cEIAAMCbqQdxQgAAwLysEHFCAAAAD6cacUIAAID7TiRxQgAAwE1JLnFCAABAOvE3cUIAAICM60FxQgAAwN7lS3FCAABAy41VcUIAAIAdiF9xQgAAAAowaXFCAABAXCpzcUIAAICuJH1xQgAAQDV6hnFCAACAh3SQcUIAAAB0HJpxQgAAQMYWpHFCAADAsr6tcUIAAAAFubdxQgAAQFezwXFCAADAQ1vLcUIAAACWVdVxQgAAgIL93nFCAADA1PfocUIAAAAn8vJxQgAAAEj1+3FCAABAmu8FckIAAMCGlw9yQgAAANmRGXJCAACAxTkjckIAAMAXNC1yQgAAAGouN3JCAACAVtZAckIAAMCo0EpyQgAAQJV4VHJCAACA53JeckIAAMA5bWhyQgAAwFpwcXJCAAAArWp7ckIAAICZEoVyQgAAwOsMj3JCAABA2LSYckIAAIAqr6JyQgAAwHyprHJCAABAaVG2ckIAAIC7S8ByQgAAAKjzyXJCAABA+u3TckIAAIBM6N1yQgAAgG3r5nJCAADAv+XwckIAAECsjfpyQgAAgP6HBHNCAAAA6y8Oc0IAAEA9KhhzQgAAgI8kInNCAAAAfMwrc0IAAEDOxjVzQgAAwLpuP3NCAAAADWlJc0IAAEBfY1NzQgAAAOa4XHNCAABAOLNmc0I=\",\"dtype\":\"float64\",\"order\":\"little\",\"shape\":[67]}},\"selected\":{\"id\":\"1232\"},\"selection_policy\":{\"id\":\"1231\"}},\"id\":\"1185\",\"type\":\"ColumnDataSource\"},{\"attributes\":{},\"id\":\"1232\",\"type\":\"Selection\"},{\"attributes\":{\"source\":{\"id\":\"1185\"}},\"id\":\"1222\",\"type\":\"CDSView\"},{\"attributes\":{\"days\":[1,4,7,10,13,16,19,22,25,28]},\"id\":\"1238\",\"type\":\"DaysTicker\"},{\"attributes\":{\"coordinates\":null,\"data_source\":{\"id\":\"1185\"},\"glyph\":{\"id\":\"1218\"},\"group\":null,\"hover_glyph\":null,\"muted_glyph\":{\"id\":\"1220\"},\"nonselection_glyph\":{\"id\":\"1219\"},\"view\":{\"id\":\"1222\"}},\"id\":\"1221\",\"type\":\"GlyphRenderer\"},{\"attributes\":{\"coordinates\":null,\"formatter\":{\"id\":\"1229\"},\"group\":null,\"major_label_policy\":{\"id\":\"1230\"},\"ticker\":{\"id\":\"1196\"}},\"id\":\"1195\",\"type\":\"DatetimeAxis\"},{\"attributes\":{\"line_alpha\":0.1,\"line_color\":\"red\",\"x\":{\"field\":\"month\"},\"y\":{\"field\":\"L\"}},\"id\":\"1250\",\"type\":\"Line\"},{\"attributes\":{\"months\":[0,2,4,6,8,10]},\"id\":\"1242\",\"type\":\"MonthsTicker\"},{\"attributes\":{\"line_color\":\"red\",\"x\":{\"field\":\"month\"},\"y\":{\"field\":\"L\"}},\"id\":\"1249\",\"type\":\"Line\"},{\"attributes\":{\"months\":[0,4,8]},\"id\":\"1243\",\"type\":\"MonthsTicker\"},{\"attributes\":{},\"id\":\"1187\",\"type\":\"DataRange1d\"},{\"attributes\":{\"tools\":[{\"id\":\"1203\"},{\"id\":\"1204\"},{\"id\":\"1205\"},{\"id\":\"1206\"},{\"id\":\"1207\"},{\"id\":\"1208\"}]},\"id\":\"1210\",\"type\":\"Toolbar\"},{\"attributes\":{\"coordinates\":null,\"data_source\":{\"id\":\"1185\"},\"glyph\":{\"id\":\"1249\"},\"group\":null,\"hover_glyph\":null,\"muted_glyph\":{\"id\":\"1251\"},\"nonselection_glyph\":{\"id\":\"1250\"},\"view\":{\"id\":\"1253\"}},\"id\":\"1252\",\"type\":\"GlyphRenderer\"},{\"attributes\":{\"coordinates\":null,\"group\":null},\"id\":\"1223\",\"type\":\"Title\"},{\"attributes\":{\"days\":[1,15]},\"id\":\"1240\",\"type\":\"DaysTicker\"},{\"attributes\":{},\"id\":\"1204\",\"type\":\"WheelZoomTool\"},{\"attributes\":{\"bottom_units\":\"screen\",\"coordinates\":null,\"fill_alpha\":0.5,\"fill_color\":\"lightgrey\",\"group\":null,\"left_units\":\"screen\",\"level\":\"overlay\",\"line_alpha\":1.0,\"line_color\":\"black\",\"line_dash\":[4,4],\"line_width\":2,\"right_units\":\"screen\",\"syncable\":false,\"top_units\":\"screen\"},\"id\":\"1209\",\"type\":\"BoxAnnotation\"},{\"attributes\":{\"line_color\":\"green\",\"x\":{\"field\":\"month\"},\"y\":{\"field\":\"W\"}},\"id\":\"1218\",\"type\":\"Line\"},{\"attributes\":{\"line_alpha\":0.2,\"line_color\":\"red\",\"x\":{\"field\":\"month\"},\"y\":{\"field\":\"L\"}},\"id\":\"1251\",\"type\":\"Line\"},{\"attributes\":{\"label\":{\"value\":\"Loses\"},\"renderers\":[{\"id\":\"1252\"}]},\"id\":\"1277\",\"type\":\"LegendItem\"},{\"attributes\":{\"months\":[0,6]},\"id\":\"1244\",\"type\":\"MonthsTicker\"},{\"attributes\":{},\"id\":\"1245\",\"type\":\"YearsTicker\"},{\"attributes\":{\"click_policy\":\"hide\",\"coordinates\":null,\"group\":null,\"items\":[{\"id\":\"1247\"},{\"id\":\"1277\"}]},\"id\":\"1246\",\"type\":\"Legend\"},{\"attributes\":{\"source\":{\"id\":\"1185\"}},\"id\":\"1253\",\"type\":\"CDSView\"},{\"attributes\":{\"base\":24,\"mantissas\":[1,2,4,6,8,12],\"max_interval\":43200000.0,\"min_interval\":3600000.0,\"num_minor_ticks\":0},\"id\":\"1236\",\"type\":\"AdaptiveTicker\"},{\"attributes\":{\"days\":[1,2,3,4,5,6,7,8,9,10,11,12,13,14,15,16,17,18,19,20,21,22,23,24,25,26,27,28,29,30,31]},\"id\":\"1237\",\"type\":\"DaysTicker\"},{\"attributes\":{\"axis\":{\"id\":\"1199\"},\"coordinates\":null,\"dimension\":1,\"group\":null,\"ticker\":null},\"id\":\"1202\",\"type\":\"Grid\"},{\"attributes\":{\"line_alpha\":0.2,\"line_color\":\"green\",\"x\":{\"field\":\"month\"},\"y\":{\"field\":\"W\"}},\"id\":\"1220\",\"type\":\"Line\"},{\"attributes\":{\"line_alpha\":0.1,\"line_color\":\"green\",\"x\":{\"field\":\"month\"},\"y\":{\"field\":\"W\"}},\"id\":\"1219\",\"type\":\"Line\"},{\"attributes\":{\"mantissas\":[1,2,5],\"max_interval\":500.0,\"num_minor_ticks\":0},\"id\":\"1234\",\"type\":\"AdaptiveTicker\"},{\"attributes\":{\"base\":60,\"mantissas\":[1,2,5,10,15,20,30],\"max_interval\":1800000.0,\"min_interval\":1000.0,\"num_minor_ticks\":0},\"id\":\"1235\",\"type\":\"AdaptiveTicker\"},{\"attributes\":{\"coordinates\":null,\"formatter\":{\"id\":\"1226\"},\"group\":null,\"major_label_policy\":{\"id\":\"1227\"},\"ticker\":{\"id\":\"1200\"}},\"id\":\"1199\",\"type\":\"LinearAxis\"},{\"attributes\":{\"label\":{\"value\":\"Wins\"},\"renderers\":[{\"id\":\"1221\"}]},\"id\":\"1247\",\"type\":\"LegendItem\"},{\"attributes\":{\"axis\":{\"id\":\"1195\"},\"coordinates\":null,\"group\":null,\"ticker\":null},\"id\":\"1198\",\"type\":\"Grid\"},{\"attributes\":{},\"id\":\"1203\",\"type\":\"PanTool\"},{\"attributes\":{},\"id\":\"1200\",\"type\":\"BasicTicker\"},{\"attributes\":{\"months\":[0,1,2,3,4,5,6,7,8,9,10,11]},\"id\":\"1241\",\"type\":\"MonthsTicker\"},{\"attributes\":{},\"id\":\"1227\",\"type\":\"AllLabels\"},{\"attributes\":{},\"id\":\"1191\",\"type\":\"LinearScale\"}],\"root_ids\":[\"1186\"]},\"title\":\"Bokeh Application\",\"version\":\"2.4.3\"}};\n",
       "  const render_items = [{\"docid\":\"9b43b594-49f2-4006-9386-46ee69ac0a92\",\"root_ids\":[\"1186\"],\"roots\":{\"1186\":\"963e01ef-8cb0-4084-a05e-e8b2a35f5e87\"}}];\n",
       "  root.Bokeh.embed.embed_items_notebook(docs_json, render_items);\n",
       "  }\n",
       "  if (root.Bokeh !== undefined) {\n",
       "    embed_document(root);\n",
       "  } else {\n",
       "    let attempts = 0;\n",
       "    const timer = setInterval(function(root) {\n",
       "      if (root.Bokeh !== undefined) {\n",
       "        clearInterval(timer);\n",
       "        embed_document(root);\n",
       "      } else {\n",
       "        attempts++;\n",
       "        if (attempts > 100) {\n",
       "          clearInterval(timer);\n",
       "          console.log(\"Bokeh: ERROR: Unable to run BokehJS code because BokehJS library is missing\");\n",
       "        }\n",
       "      }\n",
       "    }, 10, root)\n",
       "  }\n",
       "})(window);"
      ],
      "application/vnd.bokehjs_exec.v0+json": ""
     },
     "metadata": {
      "application/vnd.bokehjs_exec.v0+json": {
       "id": "1186"
      }
     },
     "output_type": "display_data"
    }
   ],
   "source": [
    "show(p)"
   ]
  },
  {
   "cell_type": "code",
   "execution_count": 18,
   "metadata": {
    "slideshow": {
     "slide_type": "slide"
    }
   },
   "outputs": [
    {
     "name": "stderr",
     "output_type": "stream",
     "text": [
      "BokehDeprecationWarning: 'legend' keyword is deprecated, use explicit 'legend_label', 'legend_field', or 'legend_group' keywords instead\n",
      "BokehDeprecationWarning: 'legend' keyword is deprecated, use explicit 'legend_label', 'legend_field', or 'legend_group' keywords instead\n"
     ]
    }
   ],
   "source": [
    "source = cds(fdf)\n",
    "p = figure(x_axis_type=\"datetime\", height=500, width=500)\n",
    "p.line(source=source, x='month', y=\"W\", color=\"green\", legend=\"Wins\")\n",
    "p.line(source=source, x='month', y=\"L\", color=\"red\", legend=\"Loses\")\n",
    "p.legend.click_policy=\"hide\"\n",
    "p.title.text = \"Anaheim Ducks Performance by Season\"\n",
    "p.title.text_font_size = \"25px\"\n",
    "p.title.align = \"center\";"
   ]
  },
  {
   "cell_type": "code",
   "execution_count": 19,
   "metadata": {
    "slideshow": {
     "slide_type": "slide"
    }
   },
   "outputs": [
    {
     "data": {
      "text/html": [
       "\n",
       "  <div class=\"bk-root\" id=\"a465e34e-32d6-44bf-a04a-bf9965cbb30e\" data-root-id=\"1440\"></div>\n"
      ]
     },
     "metadata": {},
     "output_type": "display_data"
    },
    {
     "data": {
      "application/javascript": [
       "(function(root) {\n",
       "  function embed_document(root) {\n",
       "  const docs_json = {\"cf60ec7d-ac43-4119-a27b-9159911d9065\":{\"defs\":[],\"roots\":{\"references\":[{\"attributes\":{\"below\":[{\"id\":\"1449\"}],\"center\":[{\"id\":\"1452\"},{\"id\":\"1456\"},{\"id\":\"1500\"}],\"height\":500,\"left\":[{\"id\":\"1453\"}],\"renderers\":[{\"id\":\"1475\"},{\"id\":\"1506\"}],\"title\":{\"id\":\"1477\"},\"toolbar\":{\"id\":\"1464\"},\"width\":500,\"x_range\":{\"id\":\"1441\"},\"x_scale\":{\"id\":\"1445\"},\"y_range\":{\"id\":\"1443\"},\"y_scale\":{\"id\":\"1447\"}},\"id\":\"1440\",\"subtype\":\"Figure\",\"type\":\"Plot\"},{\"attributes\":{\"coordinates\":null,\"data_source\":{\"id\":\"1439\"},\"glyph\":{\"id\":\"1503\"},\"group\":null,\"hover_glyph\":null,\"muted_glyph\":{\"id\":\"1505\"},\"nonselection_glyph\":{\"id\":\"1504\"},\"view\":{\"id\":\"1507\"}},\"id\":\"1506\",\"type\":\"GlyphRenderer\"},{\"attributes\":{\"axis\":{\"id\":\"1449\"},\"coordinates\":null,\"group\":null,\"ticker\":null},\"id\":\"1452\",\"type\":\"Grid\"},{\"attributes\":{},\"id\":\"1460\",\"type\":\"SaveTool\"},{\"attributes\":{\"days\":[1,15]},\"id\":\"1494\",\"type\":\"DaysTicker\"},{\"attributes\":{\"coordinates\":null,\"formatter\":{\"id\":\"1480\"},\"group\":null,\"major_label_policy\":{\"id\":\"1481\"},\"ticker\":{\"id\":\"1454\"}},\"id\":\"1453\",\"type\":\"LinearAxis\"},{\"attributes\":{\"overlay\":{\"id\":\"1463\"}},\"id\":\"1459\",\"type\":\"BoxZoomTool\"},{\"attributes\":{\"coordinates\":null,\"data_source\":{\"id\":\"1439\"},\"glyph\":{\"id\":\"1472\"},\"group\":null,\"hover_glyph\":null,\"muted_glyph\":{\"id\":\"1474\"},\"nonselection_glyph\":{\"id\":\"1473\"},\"view\":{\"id\":\"1476\"}},\"id\":\"1475\",\"type\":\"GlyphRenderer\"},{\"attributes\":{\"line_color\":\"green\",\"x\":{\"field\":\"month\"},\"y\":{\"field\":\"W\"}},\"id\":\"1472\",\"type\":\"Line\"},{\"attributes\":{\"line_alpha\":0.2,\"line_color\":\"red\",\"x\":{\"field\":\"month\"},\"y\":{\"field\":\"L\"}},\"id\":\"1505\",\"type\":\"Line\"},{\"attributes\":{\"days\":[1,4,7,10,13,16,19,22,25,28]},\"id\":\"1492\",\"type\":\"DaysTicker\"},{\"attributes\":{},\"id\":\"1454\",\"type\":\"BasicTicker\"},{\"attributes\":{},\"id\":\"1483\",\"type\":\"DatetimeTickFormatter\"},{\"attributes\":{},\"id\":\"1486\",\"type\":\"Selection\"},{\"attributes\":{\"days\":[1,8,15,22]},\"id\":\"1493\",\"type\":\"DaysTicker\"},{\"attributes\":{\"source\":{\"id\":\"1439\"}},\"id\":\"1507\",\"type\":\"CDSView\"},{\"attributes\":{},\"id\":\"1462\",\"type\":\"HelpTool\"},{\"attributes\":{\"months\":[0,2,4,6,8,10]},\"id\":\"1496\",\"type\":\"MonthsTicker\"},{\"attributes\":{\"label\":{\"value\":\"Loses\"},\"renderers\":[{\"id\":\"1506\"}]},\"id\":\"1531\",\"type\":\"LegendItem\"},{\"attributes\":{\"months\":[0,4,8]},\"id\":\"1497\",\"type\":\"MonthsTicker\"},{\"attributes\":{\"base\":60,\"mantissas\":[1,2,5,10,15,20,30],\"max_interval\":1800000.0,\"min_interval\":1000.0,\"num_minor_ticks\":0},\"id\":\"1489\",\"type\":\"AdaptiveTicker\"},{\"attributes\":{\"data\":{\"L\":{\"__ndarray__\":\"AAAAAAAAAAAAAAAAAAAAQAAAAAAAABxAAAAAAAAAKEAAAAAAAAAxQAAAAAAAADRAAAAAAAAANEAAAAAAAAD4fwAAAAAAAPh/AAAAAAAA+H8AAAAAAAD4fwAAAAAAAPA/AAAAAAAAHEAAAAAAAAAmQAAAAAAAADFAAAAAAAAANUAAAAAAAAA3QAAAAAAAADtAAAAAAAAAO0AAAAAAAAD4fwAAAAAAAPh/AAAAAAAA+H8AAAAAAAD4fwAAAAAAAPh/AAAAAAAAFEAAAAAAAAAgQAAAAAAAAC5AAAAAAAAANkAAAAAAAAA8QAAAAAAAAEBAAAAAAACAQEAAAAAAAAD4fwAAAAAAAPh/AAAAAAAA+H8AAAAAAAD4fwAAAAAAAPh/AAAAAAAAGEAAAAAAAAAmQAAAAAAAADFAAAAAAAAAN0AAAAAAAAA5QAAAAAAAAD9AAAAAAAAAQEAAAAAAAAD4fwAAAAAAAPh/AAAAAAAA+H8AAAAAAAD4fwAAAAAAAPh/AAAAAAAAHEAAAAAAAAAmQAAAAAAAADFAAAAAAAAANEAAAAAAAAA5QAAAAAAAADxAAAAAAAAAPkAAAAAAAAD4fwAAAAAAAPh/AAAAAAAA+H8AAAAAAAD4fwAAAAAAAPh/AAAAAAAAFEAAAAAAAAAqQAAAAAAAADVAAAAAAAAAN0AAAAAAAAA7QAAAAAAAAEFAAAAAAAAAQkA=\",\"dtype\":\"float64\",\"order\":\"little\",\"shape\":[67]},\"W\":{\"__ndarray__\":\"AAAAAAAAIkAAAAAAAAAzQAAAAAAAADxAAAAAAAAAQEAAAAAAAIBCQAAAAAAAgEdAAAAAAAAASEAAAAAAAAD4fwAAAAAAAPh/AAAAAAAA+H8AAAAAAAD4fwAAAAAAAPA/AAAAAAAAEEAAAAAAAAAoQAAAAAAAADNAAAAAAAAAO0AAAAAAAIBCQAAAAAAAgEZAAAAAAACAR0AAAAAAAAD4fwAAAAAAAPh/AAAAAAAA+H8AAAAAAAD4fwAAAAAAAPh/AAAAAAAAGEAAAAAAAAAsQAAAAAAAADNAAAAAAAAAOUAAAAAAAAA/QAAAAAAAgENAAAAAAAAARUAAAAAAAAD4fwAAAAAAAPh/AAAAAAAA+H8AAAAAAAD4fwAAAAAAAPh/AAAAAAAAEEAAAAAAAAAkQAAAAAAAADBAAAAAAAAAOUAAAAAAAAA+QAAAAAAAgEJAAAAAAACAQ0AAAAAAAAD4fwAAAAAAAPh/AAAAAAAA+H8AAAAAAAD4fwAAAAAAAPh/AAAAAAAAEEAAAAAAAAAoQAAAAAAAADRAAAAAAAAAPEAAAAAAAIBAQAAAAAAAAEZAAAAAAACAR0AAAAAAAAD4fwAAAAAAAPh/AAAAAAAA+H8AAAAAAAD4fwAAAAAAAPh/AAAAAAAAFEAAAAAAAAAcQAAAAAAAACRAAAAAAAAAM0AAAAAAAAA7QAAAAAAAgEBAAAAAAAAAQUA=\",\"dtype\":\"float64\",\"order\":\"little\",\"shape\":[67]},\"index\":[0,1,2,3,4,5,6,7,8,9,10,11,12,13,14,15,16,17,18,19,20,21,22,23,24,25,26,27,28,29,30,31,32,33,34,35,36,37,38,39,40,41,42,43,44,45,46,47,48,49,50,51,52,53,54,55,56,57,58,59,60,61,62,63,64,65,66],\"month\":{\"__ndarray__\":\"AACAuBLgcEIAAMAKDepwQgAAQPe083BCAACASa/9cEIAAMCbqQdxQgAAwLysEHFCAAAAD6cacUIAAID7TiRxQgAAwE1JLnFCAABAOvE3cUIAAICM60FxQgAAwN7lS3FCAABAy41VcUIAAIAdiF9xQgAAAAowaXFCAABAXCpzcUIAAICuJH1xQgAAQDV6hnFCAACAh3SQcUIAAAB0HJpxQgAAQMYWpHFCAADAsr6tcUIAAAAFubdxQgAAQFezwXFCAADAQ1vLcUIAAACWVdVxQgAAgIL93nFCAADA1PfocUIAAAAn8vJxQgAAAEj1+3FCAABAmu8FckIAAMCGlw9yQgAAANmRGXJCAACAxTkjckIAAMAXNC1yQgAAAGouN3JCAACAVtZAckIAAMCo0EpyQgAAQJV4VHJCAACA53JeckIAAMA5bWhyQgAAwFpwcXJCAAAArWp7ckIAAICZEoVyQgAAwOsMj3JCAABA2LSYckIAAIAqr6JyQgAAwHyprHJCAABAaVG2ckIAAIC7S8ByQgAAAKjzyXJCAABA+u3TckIAAIBM6N1yQgAAgG3r5nJCAADAv+XwckIAAECsjfpyQgAAgP6HBHNCAAAA6y8Oc0IAAEA9KhhzQgAAgI8kInNCAAAAfMwrc0IAAEDOxjVzQgAAwLpuP3NCAAAADWlJc0IAAEBfY1NzQgAAAOa4XHNCAABAOLNmc0I=\",\"dtype\":\"float64\",\"order\":\"little\",\"shape\":[67]}},\"selected\":{\"id\":\"1486\"},\"selection_policy\":{\"id\":\"1485\"}},\"id\":\"1439\",\"type\":\"ColumnDataSource\"},{\"attributes\":{\"line_alpha\":0.2,\"line_color\":\"green\",\"x\":{\"field\":\"month\"},\"y\":{\"field\":\"W\"}},\"id\":\"1474\",\"type\":\"Line\"},{\"attributes\":{\"months\":[0,6]},\"id\":\"1498\",\"type\":\"MonthsTicker\"},{\"attributes\":{},\"id\":\"1447\",\"type\":\"LinearScale\"},{\"attributes\":{\"num_minor_ticks\":5,\"tickers\":[{\"id\":\"1488\"},{\"id\":\"1489\"},{\"id\":\"1490\"},{\"id\":\"1491\"},{\"id\":\"1492\"},{\"id\":\"1493\"},{\"id\":\"1494\"},{\"id\":\"1495\"},{\"id\":\"1496\"},{\"id\":\"1497\"},{\"id\":\"1498\"},{\"id\":\"1499\"}]},\"id\":\"1450\",\"type\":\"DatetimeTicker\"},{\"attributes\":{\"coordinates\":null,\"formatter\":{\"id\":\"1483\"},\"group\":null,\"major_label_policy\":{\"id\":\"1484\"},\"ticker\":{\"id\":\"1450\"}},\"id\":\"1449\",\"type\":\"DatetimeAxis\"},{\"attributes\":{},\"id\":\"1480\",\"type\":\"BasicTickFormatter\"},{\"attributes\":{},\"id\":\"1445\",\"type\":\"LinearScale\"},{\"attributes\":{},\"id\":\"1499\",\"type\":\"YearsTicker\"},{\"attributes\":{\"click_policy\":\"hide\",\"coordinates\":null,\"group\":null,\"items\":[{\"id\":\"1501\"},{\"id\":\"1531\"}]},\"id\":\"1500\",\"type\":\"Legend\"},{\"attributes\":{\"days\":[1,2,3,4,5,6,7,8,9,10,11,12,13,14,15,16,17,18,19,20,21,22,23,24,25,26,27,28,29,30,31]},\"id\":\"1491\",\"type\":\"DaysTicker\"},{\"attributes\":{},\"id\":\"1443\",\"type\":\"DataRange1d\"},{\"attributes\":{\"axis\":{\"id\":\"1453\"},\"coordinates\":null,\"dimension\":1,\"group\":null,\"ticker\":null},\"id\":\"1456\",\"type\":\"Grid\"},{\"attributes\":{\"source\":{\"id\":\"1439\"}},\"id\":\"1476\",\"type\":\"CDSView\"},{\"attributes\":{\"months\":[0,1,2,3,4,5,6,7,8,9,10,11]},\"id\":\"1495\",\"type\":\"MonthsTicker\"},{\"attributes\":{\"line_alpha\":0.1,\"line_color\":\"green\",\"x\":{\"field\":\"month\"},\"y\":{\"field\":\"W\"}},\"id\":\"1473\",\"type\":\"Line\"},{\"attributes\":{},\"id\":\"1485\",\"type\":\"UnionRenderers\"},{\"attributes\":{\"mantissas\":[1,2,5],\"max_interval\":500.0,\"num_minor_ticks\":0},\"id\":\"1488\",\"type\":\"AdaptiveTicker\"},{\"attributes\":{\"base\":24,\"mantissas\":[1,2,4,6,8,12],\"max_interval\":43200000.0,\"min_interval\":3600000.0,\"num_minor_ticks\":0},\"id\":\"1490\",\"type\":\"AdaptiveTicker\"},{\"attributes\":{\"label\":{\"value\":\"Wins\"},\"renderers\":[{\"id\":\"1475\"}]},\"id\":\"1501\",\"type\":\"LegendItem\"},{\"attributes\":{},\"id\":\"1441\",\"type\":\"DataRange1d\"},{\"attributes\":{\"tools\":[{\"id\":\"1457\"},{\"id\":\"1458\"},{\"id\":\"1459\"},{\"id\":\"1460\"},{\"id\":\"1461\"},{\"id\":\"1462\"}]},\"id\":\"1464\",\"type\":\"Toolbar\"},{\"attributes\":{},\"id\":\"1481\",\"type\":\"AllLabels\"},{\"attributes\":{\"bottom_units\":\"screen\",\"coordinates\":null,\"fill_alpha\":0.5,\"fill_color\":\"lightgrey\",\"group\":null,\"left_units\":\"screen\",\"level\":\"overlay\",\"line_alpha\":1.0,\"line_color\":\"black\",\"line_dash\":[4,4],\"line_width\":2,\"right_units\":\"screen\",\"syncable\":false,\"top_units\":\"screen\"},\"id\":\"1463\",\"type\":\"BoxAnnotation\"},{\"attributes\":{\"align\":\"center\",\"coordinates\":null,\"group\":null,\"text\":\"Anaheim Ducks Performance by Season\",\"text_font_size\":\"25px\"},\"id\":\"1477\",\"type\":\"Title\"},{\"attributes\":{},\"id\":\"1457\",\"type\":\"PanTool\"},{\"attributes\":{},\"id\":\"1484\",\"type\":\"AllLabels\"},{\"attributes\":{},\"id\":\"1458\",\"type\":\"WheelZoomTool\"},{\"attributes\":{},\"id\":\"1461\",\"type\":\"ResetTool\"},{\"attributes\":{\"line_alpha\":0.1,\"line_color\":\"red\",\"x\":{\"field\":\"month\"},\"y\":{\"field\":\"L\"}},\"id\":\"1504\",\"type\":\"Line\"},{\"attributes\":{\"line_color\":\"red\",\"x\":{\"field\":\"month\"},\"y\":{\"field\":\"L\"}},\"id\":\"1503\",\"type\":\"Line\"}],\"root_ids\":[\"1440\"]},\"title\":\"Bokeh Application\",\"version\":\"2.4.3\"}};\n",
       "  const render_items = [{\"docid\":\"cf60ec7d-ac43-4119-a27b-9159911d9065\",\"root_ids\":[\"1440\"],\"roots\":{\"1440\":\"a465e34e-32d6-44bf-a04a-bf9965cbb30e\"}}];\n",
       "  root.Bokeh.embed.embed_items_notebook(docs_json, render_items);\n",
       "  }\n",
       "  if (root.Bokeh !== undefined) {\n",
       "    embed_document(root);\n",
       "  } else {\n",
       "    let attempts = 0;\n",
       "    const timer = setInterval(function(root) {\n",
       "      if (root.Bokeh !== undefined) {\n",
       "        clearInterval(timer);\n",
       "        embed_document(root);\n",
       "      } else {\n",
       "        attempts++;\n",
       "        if (attempts > 100) {\n",
       "          clearInterval(timer);\n",
       "          console.log(\"Bokeh: ERROR: Unable to run BokehJS code because BokehJS library is missing\");\n",
       "        }\n",
       "      }\n",
       "    }, 10, root)\n",
       "  }\n",
       "})(window);"
      ],
      "application/vnd.bokehjs_exec.v0+json": ""
     },
     "metadata": {
      "application/vnd.bokehjs_exec.v0+json": {
       "id": "1440"
      }
     },
     "output_type": "display_data"
    }
   ],
   "source": [
    "show(p)"
   ]
  },
  {
   "cell_type": "code",
   "execution_count": 20,
   "metadata": {
    "slideshow": {
     "slide_type": "slide"
    }
   },
   "outputs": [
    {
     "data": {
      "text/html": [
       "<div>\n",
       "<style scoped>\n",
       "    .dataframe tbody tr th:only-of-type {\n",
       "        vertical-align: middle;\n",
       "    }\n",
       "\n",
       "    .dataframe tbody tr th {\n",
       "        vertical-align: top;\n",
       "    }\n",
       "\n",
       "    .dataframe thead th {\n",
       "        text-align: right;\n",
       "    }\n",
       "</style>\n",
       "<table border=\"1\" class=\"dataframe\">\n",
       "  <thead>\n",
       "    <tr style=\"text-align: right;\">\n",
       "      <th></th>\n",
       "      <th>year</th>\n",
       "      <th>tmID</th>\n",
       "      <th>GP</th>\n",
       "      <th>G</th>\n",
       "      <th>A</th>\n",
       "      <th>Pts</th>\n",
       "      <th>SOG</th>\n",
       "    </tr>\n",
       "    <tr>\n",
       "      <th>playerID</th>\n",
       "      <th></th>\n",
       "      <th></th>\n",
       "      <th></th>\n",
       "      <th></th>\n",
       "      <th></th>\n",
       "      <th></th>\n",
       "      <th></th>\n",
       "    </tr>\n",
       "  </thead>\n",
       "  <tbody>\n",
       "    <tr>\n",
       "      <th>gretzwa01</th>\n",
       "      <td>1980</td>\n",
       "      <td>EDM</td>\n",
       "      <td>80.0</td>\n",
       "      <td>55.0</td>\n",
       "      <td>109.0</td>\n",
       "      <td>164.0</td>\n",
       "      <td>261.0</td>\n",
       "    </tr>\n",
       "    <tr>\n",
       "      <th>gretzwa01</th>\n",
       "      <td>1981</td>\n",
       "      <td>EDM</td>\n",
       "      <td>80.0</td>\n",
       "      <td>92.0</td>\n",
       "      <td>120.0</td>\n",
       "      <td>212.0</td>\n",
       "      <td>369.0</td>\n",
       "    </tr>\n",
       "    <tr>\n",
       "      <th>gretzwa01</th>\n",
       "      <td>1982</td>\n",
       "      <td>EDM</td>\n",
       "      <td>80.0</td>\n",
       "      <td>71.0</td>\n",
       "      <td>125.0</td>\n",
       "      <td>196.0</td>\n",
       "      <td>348.0</td>\n",
       "    </tr>\n",
       "    <tr>\n",
       "      <th>gretzwa01</th>\n",
       "      <td>1983</td>\n",
       "      <td>EDM</td>\n",
       "      <td>74.0</td>\n",
       "      <td>87.0</td>\n",
       "      <td>118.0</td>\n",
       "      <td>205.0</td>\n",
       "      <td>324.0</td>\n",
       "    </tr>\n",
       "    <tr>\n",
       "      <th>gretzwa01</th>\n",
       "      <td>1984</td>\n",
       "      <td>EDM</td>\n",
       "      <td>80.0</td>\n",
       "      <td>73.0</td>\n",
       "      <td>135.0</td>\n",
       "      <td>208.0</td>\n",
       "      <td>358.0</td>\n",
       "    </tr>\n",
       "  </tbody>\n",
       "</table>\n",
       "</div>"
      ],
      "text/plain": [
       "           year tmID    GP     G      A    Pts    SOG\n",
       "playerID                                             \n",
       "gretzwa01  1980  EDM  80.0  55.0  109.0  164.0  261.0\n",
       "gretzwa01  1981  EDM  80.0  92.0  120.0  212.0  369.0\n",
       "gretzwa01  1982  EDM  80.0  71.0  125.0  196.0  348.0\n",
       "gretzwa01  1983  EDM  74.0  87.0  118.0  205.0  324.0\n",
       "gretzwa01  1984  EDM  80.0  73.0  135.0  208.0  358.0"
      ]
     },
     "execution_count": 20,
     "metadata": {},
     "output_type": "execute_result"
    }
   ],
   "source": [
    "wayne = scoring.set_index(\"playerID\").loc['gretzwa01']\n",
    "wayne.head()"
   ]
  },
  {
   "cell_type": "code",
   "execution_count": 21,
   "metadata": {
    "slideshow": {
     "slide_type": "slide"
    }
   },
   "outputs": [
    {
     "data": {
      "text/html": [
       "<div>\n",
       "<style scoped>\n",
       "    .dataframe tbody tr th:only-of-type {\n",
       "        vertical-align: middle;\n",
       "    }\n",
       "\n",
       "    .dataframe tbody tr th {\n",
       "        vertical-align: top;\n",
       "    }\n",
       "\n",
       "    .dataframe thead th {\n",
       "        text-align: right;\n",
       "    }\n",
       "</style>\n",
       "<table border=\"1\" class=\"dataframe\">\n",
       "  <thead>\n",
       "    <tr style=\"text-align: right;\">\n",
       "      <th></th>\n",
       "      <th>year</th>\n",
       "      <th>tmID</th>\n",
       "      <th>GP</th>\n",
       "      <th>Pts</th>\n",
       "      <th>pts_per_game</th>\n",
       "    </tr>\n",
       "    <tr>\n",
       "      <th>playerID</th>\n",
       "      <th></th>\n",
       "      <th></th>\n",
       "      <th></th>\n",
       "      <th></th>\n",
       "      <th></th>\n",
       "    </tr>\n",
       "  </thead>\n",
       "  <tbody>\n",
       "    <tr>\n",
       "      <th>gretzwa01</th>\n",
       "      <td>1980</td>\n",
       "      <td>EDM</td>\n",
       "      <td>80.0</td>\n",
       "      <td>164.0</td>\n",
       "      <td>2.05000</td>\n",
       "    </tr>\n",
       "    <tr>\n",
       "      <th>gretzwa01</th>\n",
       "      <td>1981</td>\n",
       "      <td>EDM</td>\n",
       "      <td>80.0</td>\n",
       "      <td>212.0</td>\n",
       "      <td>2.65000</td>\n",
       "    </tr>\n",
       "    <tr>\n",
       "      <th>gretzwa01</th>\n",
       "      <td>1982</td>\n",
       "      <td>EDM</td>\n",
       "      <td>80.0</td>\n",
       "      <td>196.0</td>\n",
       "      <td>2.45000</td>\n",
       "    </tr>\n",
       "    <tr>\n",
       "      <th>gretzwa01</th>\n",
       "      <td>1983</td>\n",
       "      <td>EDM</td>\n",
       "      <td>74.0</td>\n",
       "      <td>205.0</td>\n",
       "      <td>2.77027</td>\n",
       "    </tr>\n",
       "    <tr>\n",
       "      <th>gretzwa01</th>\n",
       "      <td>1984</td>\n",
       "      <td>EDM</td>\n",
       "      <td>80.0</td>\n",
       "      <td>208.0</td>\n",
       "      <td>2.60000</td>\n",
       "    </tr>\n",
       "  </tbody>\n",
       "</table>\n",
       "</div>"
      ],
      "text/plain": [
       "           year tmID    GP    Pts  pts_per_game\n",
       "playerID                                       \n",
       "gretzwa01  1980  EDM  80.0  164.0       2.05000\n",
       "gretzwa01  1981  EDM  80.0  212.0       2.65000\n",
       "gretzwa01  1982  EDM  80.0  196.0       2.45000\n",
       "gretzwa01  1983  EDM  74.0  205.0       2.77027\n",
       "gretzwa01  1984  EDM  80.0  208.0       2.60000"
      ]
     },
     "execution_count": 21,
     "metadata": {},
     "output_type": "execute_result"
    }
   ],
   "source": [
    "wayne = wayne[['year', 'tmID', 'GP', 'Pts']]\n",
    "wayne = wayne.assign(pts_per_game = lambda x: x['Pts'] / x['GP'])\n",
    "wayne.head()"
   ]
  },
  {
   "cell_type": "code",
   "execution_count": 22,
   "metadata": {
    "slideshow": {
     "slide_type": "slide"
    }
   },
   "outputs": [
    {
     "data": {
      "text/plain": [
       "playerID\n",
       "gretzwa01    EDM\n",
       "gretzwa01    EDM\n",
       "gretzwa01    EDM\n",
       "gretzwa01    EDM\n",
       "gretzwa01    EDM\n",
       "Name: tmID, dtype: category\n",
       "Categories (37, object): ['ANA', 'AND', 'ATL', 'BOS', ..., 'VAN', 'WAS', 'WIN', 'WPG']"
      ]
     },
     "execution_count": 22,
     "metadata": {},
     "output_type": "execute_result"
    }
   ],
   "source": [
    "wayne.tmID.head()"
   ]
  },
  {
   "cell_type": "code",
   "execution_count": 23,
   "metadata": {
    "slideshow": {
     "slide_type": "slide"
    }
   },
   "outputs": [
    {
     "data": {
      "text/plain": [
       "playerID\n",
       "gretzwa01    EDM\n",
       "gretzwa01    EDM\n",
       "gretzwa01    EDM\n",
       "gretzwa01    EDM\n",
       "gretzwa01    EDM\n",
       "Name: tmID, dtype: category\n",
       "Categories (4, object): ['EDM', 'LAK', 'NYR', 'STL']"
      ]
     },
     "execution_count": 23,
     "metadata": {},
     "output_type": "execute_result"
    }
   ],
   "source": [
    "wayne.loc[:, \"tmID\"] = wayne.tmID.cat.remove_unused_categories()\n",
    "wayne.tmID.head()"
   ]
  },
  {
   "cell_type": "code",
   "execution_count": 24,
   "metadata": {
    "slideshow": {
     "slide_type": "slide"
    }
   },
   "outputs": [
    {
     "data": {
      "text/html": [
       "<div>\n",
       "<style scoped>\n",
       "    .dataframe tbody tr th:only-of-type {\n",
       "        vertical-align: middle;\n",
       "    }\n",
       "\n",
       "    .dataframe tbody tr th {\n",
       "        vertical-align: top;\n",
       "    }\n",
       "\n",
       "    .dataframe thead th {\n",
       "        text-align: right;\n",
       "    }\n",
       "</style>\n",
       "<table border=\"1\" class=\"dataframe\">\n",
       "  <thead>\n",
       "    <tr style=\"text-align: right;\">\n",
       "      <th></th>\n",
       "      <th>year</th>\n",
       "      <th>tmID</th>\n",
       "      <th>GP</th>\n",
       "      <th>Pts</th>\n",
       "      <th>pts_per_game</th>\n",
       "      <th>tmCode</th>\n",
       "    </tr>\n",
       "    <tr>\n",
       "      <th>playerID</th>\n",
       "      <th></th>\n",
       "      <th></th>\n",
       "      <th></th>\n",
       "      <th></th>\n",
       "      <th></th>\n",
       "      <th></th>\n",
       "    </tr>\n",
       "  </thead>\n",
       "  <tbody>\n",
       "    <tr>\n",
       "      <th>gretzwa01</th>\n",
       "      <td>1991</td>\n",
       "      <td>LAK</td>\n",
       "      <td>74.0</td>\n",
       "      <td>121.0</td>\n",
       "      <td>1.635135</td>\n",
       "      <td>1</td>\n",
       "    </tr>\n",
       "    <tr>\n",
       "      <th>gretzwa01</th>\n",
       "      <td>1994</td>\n",
       "      <td>LAK</td>\n",
       "      <td>48.0</td>\n",
       "      <td>48.0</td>\n",
       "      <td>1.000000</td>\n",
       "      <td>1</td>\n",
       "    </tr>\n",
       "    <tr>\n",
       "      <th>gretzwa01</th>\n",
       "      <td>1981</td>\n",
       "      <td>EDM</td>\n",
       "      <td>80.0</td>\n",
       "      <td>212.0</td>\n",
       "      <td>2.650000</td>\n",
       "      <td>0</td>\n",
       "    </tr>\n",
       "    <tr>\n",
       "      <th>gretzwa01</th>\n",
       "      <td>1988</td>\n",
       "      <td>LAK</td>\n",
       "      <td>78.0</td>\n",
       "      <td>168.0</td>\n",
       "      <td>2.153846</td>\n",
       "      <td>1</td>\n",
       "    </tr>\n",
       "    <tr>\n",
       "      <th>gretzwa01</th>\n",
       "      <td>1983</td>\n",
       "      <td>EDM</td>\n",
       "      <td>74.0</td>\n",
       "      <td>205.0</td>\n",
       "      <td>2.770270</td>\n",
       "      <td>0</td>\n",
       "    </tr>\n",
       "  </tbody>\n",
       "</table>\n",
       "</div>"
      ],
      "text/plain": [
       "           year tmID    GP    Pts  pts_per_game  tmCode\n",
       "playerID                                               \n",
       "gretzwa01  1991  LAK  74.0  121.0      1.635135       1\n",
       "gretzwa01  1994  LAK  48.0   48.0      1.000000       1\n",
       "gretzwa01  1981  EDM  80.0  212.0      2.650000       0\n",
       "gretzwa01  1988  LAK  78.0  168.0      2.153846       1\n",
       "gretzwa01  1983  EDM  74.0  205.0      2.770270       0"
      ]
     },
     "execution_count": 24,
     "metadata": {},
     "output_type": "execute_result"
    }
   ],
   "source": [
    "wayne.loc[:, \"tmCode\"] = wayne[\"tmID\"].cat.codes\n",
    "wayne.sample(5)"
   ]
  },
  {
   "cell_type": "code",
   "execution_count": 25,
   "metadata": {
    "slideshow": {
     "slide_type": "fragment"
    }
   },
   "outputs": [],
   "source": [
    "wayne.loc[:, \"year\"] = pd.to_datetime(wayne.year, format=\"%Y\")"
   ]
  },
  {
   "cell_type": "code",
   "execution_count": 26,
   "metadata": {
    "slideshow": {
     "slide_type": "slide"
    }
   },
   "outputs": [],
   "source": [
    "gp_max = wayne.GP.max()\n",
    "gp_min = wayne.GP.min()\n",
    "pts_per_game_max = wayne.pts_per_game.max()\n",
    "pts_per_game_min = wayne.pts_per_game.min()"
   ]
  },
  {
   "cell_type": "code",
   "execution_count": 27,
   "metadata": {
    "slideshow": {
     "slide_type": "fragment"
    }
   },
   "outputs": [
    {
     "data": {
      "text/html": [
       "<div>\n",
       "<style scoped>\n",
       "    .dataframe tbody tr th:only-of-type {\n",
       "        vertical-align: middle;\n",
       "    }\n",
       "\n",
       "    .dataframe tbody tr th {\n",
       "        vertical-align: top;\n",
       "    }\n",
       "\n",
       "    .dataframe thead th {\n",
       "        text-align: right;\n",
       "    }\n",
       "</style>\n",
       "<table border=\"1\" class=\"dataframe\">\n",
       "  <thead>\n",
       "    <tr style=\"text-align: right;\">\n",
       "      <th></th>\n",
       "      <th>year</th>\n",
       "      <th>tmID</th>\n",
       "      <th>GP</th>\n",
       "      <th>Pts</th>\n",
       "      <th>pts_per_game</th>\n",
       "      <th>tmCode</th>\n",
       "      <th>height</th>\n",
       "      <th>bottom</th>\n",
       "      <th>top</th>\n",
       "    </tr>\n",
       "    <tr>\n",
       "      <th>playerID</th>\n",
       "      <th></th>\n",
       "      <th></th>\n",
       "      <th></th>\n",
       "      <th></th>\n",
       "      <th></th>\n",
       "      <th></th>\n",
       "      <th></th>\n",
       "      <th></th>\n",
       "      <th></th>\n",
       "    </tr>\n",
       "  </thead>\n",
       "  <tbody>\n",
       "    <tr>\n",
       "      <th>gretzwa01</th>\n",
       "      <td>1980-01-01</td>\n",
       "      <td>EDM</td>\n",
       "      <td>80.0</td>\n",
       "      <td>164.0</td>\n",
       "      <td>2.05000</td>\n",
       "      <td>0</td>\n",
       "      <td>0.975610</td>\n",
       "      <td>0</td>\n",
       "      <td>0.975610</td>\n",
       "    </tr>\n",
       "    <tr>\n",
       "      <th>gretzwa01</th>\n",
       "      <td>1981-01-01</td>\n",
       "      <td>EDM</td>\n",
       "      <td>80.0</td>\n",
       "      <td>212.0</td>\n",
       "      <td>2.65000</td>\n",
       "      <td>0</td>\n",
       "      <td>0.975610</td>\n",
       "      <td>0</td>\n",
       "      <td>0.975610</td>\n",
       "    </tr>\n",
       "    <tr>\n",
       "      <th>gretzwa01</th>\n",
       "      <td>1982-01-01</td>\n",
       "      <td>EDM</td>\n",
       "      <td>80.0</td>\n",
       "      <td>196.0</td>\n",
       "      <td>2.45000</td>\n",
       "      <td>0</td>\n",
       "      <td>0.975610</td>\n",
       "      <td>0</td>\n",
       "      <td>0.975610</td>\n",
       "    </tr>\n",
       "    <tr>\n",
       "      <th>gretzwa01</th>\n",
       "      <td>1983-01-01</td>\n",
       "      <td>EDM</td>\n",
       "      <td>74.0</td>\n",
       "      <td>205.0</td>\n",
       "      <td>2.77027</td>\n",
       "      <td>0</td>\n",
       "      <td>0.902439</td>\n",
       "      <td>0</td>\n",
       "      <td>0.902439</td>\n",
       "    </tr>\n",
       "    <tr>\n",
       "      <th>gretzwa01</th>\n",
       "      <td>1984-01-01</td>\n",
       "      <td>EDM</td>\n",
       "      <td>80.0</td>\n",
       "      <td>208.0</td>\n",
       "      <td>2.60000</td>\n",
       "      <td>0</td>\n",
       "      <td>0.975610</td>\n",
       "      <td>0</td>\n",
       "      <td>0.975610</td>\n",
       "    </tr>\n",
       "  </tbody>\n",
       "</table>\n",
       "</div>"
      ],
      "text/plain": [
       "                year tmID    GP    Pts  pts_per_game  tmCode    height  \\\n",
       "playerID                                                                 \n",
       "gretzwa01 1980-01-01  EDM  80.0  164.0       2.05000       0  0.975610   \n",
       "gretzwa01 1981-01-01  EDM  80.0  212.0       2.65000       0  0.975610   \n",
       "gretzwa01 1982-01-01  EDM  80.0  196.0       2.45000       0  0.975610   \n",
       "gretzwa01 1983-01-01  EDM  74.0  205.0       2.77027       0  0.902439   \n",
       "gretzwa01 1984-01-01  EDM  80.0  208.0       2.60000       0  0.975610   \n",
       "\n",
       "           bottom       top  \n",
       "playerID                     \n",
       "gretzwa01       0  0.975610  \n",
       "gretzwa01       0  0.975610  \n",
       "gretzwa01       0  0.975610  \n",
       "gretzwa01       0  0.902439  \n",
       "gretzwa01       0  0.975610  "
      ]
     },
     "execution_count": 27,
     "metadata": {},
     "output_type": "execute_result"
    }
   ],
   "source": [
    "wayne.loc[:, \"height\"] = wayne.GP / gp_max\n",
    "wayne.loc[:, \"bottom\"] = wayne.tmCode\n",
    "wayne.loc[:, \"top\"] = wayne.bottom + wayne.height\n",
    "wayne.head()"
   ]
  },
  {
   "cell_type": "code",
   "execution_count": 28,
   "metadata": {
    "slideshow": {
     "slide_type": "slide"
    }
   },
   "outputs": [],
   "source": [
    "src = cds(wayne)\n",
    "p = figure(x_axis_type='datetime',\n",
    "           height=500, width=500,\n",
    "           y_range=list(wayne.tmID.cat.categories))\n",
    "p.vbar(bottom='bottom',\n",
    "       top='top', x='year',\n",
    "       width=1, source=src);"
   ]
  },
  {
   "cell_type": "code",
   "execution_count": 29,
   "metadata": {
    "slideshow": {
     "slide_type": "slide"
    }
   },
   "outputs": [
    {
     "data": {
      "text/html": [
       "\n",
       "  <div class=\"bk-root\" id=\"2c6d223d-1f0d-483c-a17a-d2cbed71253f\" data-root-id=\"1720\"></div>\n"
      ]
     },
     "metadata": {},
     "output_type": "display_data"
    },
    {
     "data": {
      "application/javascript": [
       "(function(root) {\n",
       "  function embed_document(root) {\n",
       "  const docs_json = {\"9d1b2a2f-03f9-4ac8-ba35-1654c349fd1b\":{\"defs\":[],\"roots\":{\"references\":[{\"attributes\":{\"below\":[{\"id\":\"1729\"}],\"center\":[{\"id\":\"1732\"},{\"id\":\"1735\"}],\"height\":500,\"left\":[{\"id\":\"1733\"}],\"renderers\":[{\"id\":\"1754\"}],\"title\":{\"id\":\"1825\"},\"toolbar\":{\"id\":\"1743\"},\"width\":500,\"x_range\":{\"id\":\"1721\"},\"x_scale\":{\"id\":\"1725\"},\"y_range\":{\"id\":\"1723\"},\"y_scale\":{\"id\":\"1727\"}},\"id\":\"1720\",\"subtype\":\"Figure\",\"type\":\"Plot\"},{\"attributes\":{\"coordinates\":null,\"formatter\":{\"id\":\"1828\"},\"group\":null,\"major_label_policy\":{\"id\":\"1829\"},\"ticker\":{\"id\":\"1734\"}},\"id\":\"1733\",\"type\":\"CategoricalAxis\"},{\"attributes\":{},\"id\":\"1740\",\"type\":\"ResetTool\"},{\"attributes\":{},\"id\":\"1725\",\"type\":\"LinearScale\"},{\"attributes\":{},\"id\":\"1831\",\"type\":\"DatetimeTickFormatter\"},{\"attributes\":{\"days\":[1,2,3,4,5,6,7,8,9,10,11,12,13,14,15,16,17,18,19,20,21,22,23,24,25,26,27,28,29,30,31]},\"id\":\"1839\",\"type\":\"DaysTicker\"},{\"attributes\":{\"days\":[1,15]},\"id\":\"1842\",\"type\":\"DaysTicker\"},{\"attributes\":{\"axis\":{\"id\":\"1733\"},\"coordinates\":null,\"dimension\":1,\"group\":null,\"ticker\":null},\"id\":\"1735\",\"type\":\"Grid\"},{\"attributes\":{\"days\":[1,4,7,10,13,16,19,22,25,28]},\"id\":\"1840\",\"type\":\"DaysTicker\"},{\"attributes\":{\"coordinates\":null,\"data_source\":{\"id\":\"1719\"},\"glyph\":{\"id\":\"1751\"},\"group\":null,\"hover_glyph\":null,\"muted_glyph\":{\"id\":\"1753\"},\"nonselection_glyph\":{\"id\":\"1752\"},\"view\":{\"id\":\"1755\"}},\"id\":\"1754\",\"type\":\"GlyphRenderer\"},{\"attributes\":{},\"id\":\"1833\",\"type\":\"UnionRenderers\"},{\"attributes\":{\"tools\":[{\"id\":\"1736\"},{\"id\":\"1737\"},{\"id\":\"1738\"},{\"id\":\"1739\"},{\"id\":\"1740\"},{\"id\":\"1741\"}]},\"id\":\"1743\",\"type\":\"Toolbar\"},{\"attributes\":{},\"id\":\"1832\",\"type\":\"AllLabels\"},{\"attributes\":{\"days\":[1,8,15,22]},\"id\":\"1841\",\"type\":\"DaysTicker\"},{\"attributes\":{\"axis\":{\"id\":\"1729\"},\"coordinates\":null,\"group\":null,\"ticker\":null},\"id\":\"1732\",\"type\":\"Grid\"},{\"attributes\":{\"overlay\":{\"id\":\"1742\"}},\"id\":\"1738\",\"type\":\"BoxZoomTool\"},{\"attributes\":{\"data\":{\"GP\":{\"__ndarray__\":\"AAAAAAAAVEAAAAAAAABUQAAAAAAAAFRAAAAAAACAUkAAAAAAAABUQAAAAAAAAFRAAAAAAADAU0AAAAAAAABQQAAAAAAAgFNAAAAAAABAUkAAAAAAAIBTQAAAAAAAgFJAAAAAAACARkAAAAAAAEBUQAAAAAAAAEhAAAAAAAAAT0AAAAAAAAAyQAAAAAAAgFRAAAAAAACAVEAAAAAAAIBRQA==\",\"dtype\":\"float64\",\"order\":\"little\",\"shape\":[20]},\"Pts\":{\"__ndarray__\":\"AAAAAACAZEAAAAAAAIBqQAAAAAAAgGhAAAAAAACgaUAAAAAAAABqQAAAAAAA4GpAAAAAAADgZkAAAAAAAKBiQAAAAAAAAGVAAAAAAADAYUAAAAAAAGBkQAAAAAAAQF5AAAAAAABAUEAAAAAAAEBgQAAAAAAAAEhAAAAAAABAVEAAAAAAAAA1QAAAAAAAQFhAAAAAAACAVkAAAAAAAABPQA==\",\"dtype\":\"float64\",\"order\":\"little\",\"shape\":[20]},\"bottom\":{\"__ndarray__\":\"AAAAAAAAAAABAQEBAQEBAQMCAgI=\",\"dtype\":\"int8\",\"order\":\"little\",\"shape\":[20]},\"height\":{\"__ndarray__\":\"OB+D8zE47z84H4PzMTjvPzgfg/MxOO8/4XwMzsfg7D84H4PzMTjvPzgfg/MxOO8/1K5E7UrU7j/6GJyPwfnoP3A+BudjcO4/fQzOx+B87D9wPgbnY3DuP+F8DM7H4Ow/kMH5GJyP4T+cj8H5GJzvP7sStStRu+I/Mjgfg/Mx6D8ZnI/B+RjMPwAAAAAAAPA/AAAAAAAA8D9RuxK1K1HrPw==\",\"dtype\":\"float64\",\"order\":\"little\",\"shape\":[20]},\"playerID\":[\"gretzwa01\",\"gretzwa01\",\"gretzwa01\",\"gretzwa01\",\"gretzwa01\",\"gretzwa01\",\"gretzwa01\",\"gretzwa01\",\"gretzwa01\",\"gretzwa01\",\"gretzwa01\",\"gretzwa01\",\"gretzwa01\",\"gretzwa01\",\"gretzwa01\",\"gretzwa01\",\"gretzwa01\",\"gretzwa01\",\"gretzwa01\",\"gretzwa01\"],\"pts_per_game\":{\"__ndarray__\":\"ZmZmZmZmAEAzMzMzMzMFQJqZmZmZmQNAmCKfdYMpBkDNzMzMzMwEQAAAAAAAgAVAEJWO7BmIAkAAAAAAAKACQLETO7ETOwFA+fHjx48f/z99y7d8y7cAQJgin3WDKfo/x3Ecx3Ec9z+IRcrA0635PwAAAAAAAPA/55xzzjnn9D+rqqqqqqryP+1K1K5E7fI/kMH5GJyP8T98xVd8xVfsPw==\",\"dtype\":\"float64\",\"order\":\"little\",\"shape\":[20]},\"tmCode\":{\"__ndarray__\":\"AAAAAAAAAAABAQEBAQEBAQMCAgI=\",\"dtype\":\"int8\",\"order\":\"little\",\"shape\":[20]},\"tmID\":[\"EDM\",\"EDM\",\"EDM\",\"EDM\",\"EDM\",\"EDM\",\"EDM\",\"EDM\",\"LAK\",\"LAK\",\"LAK\",\"LAK\",\"LAK\",\"LAK\",\"LAK\",\"LAK\",\"STL\",\"NYR\",\"NYR\",\"NYR\"],\"top\":{\"__ndarray__\":\"OB+D8zE47z84H4PzMTjvPzgfg/MxOO8/4XwMzsfg7D84H4PzMTjvPzgfg/MxOO8/1K5E7UrU7j/6GJyPwfnoPzgfg/MxOP8/PgbnY3A+/j84H4PzMTj/P3A+BudjcP4/yOB8DM7H+D/Ox+B8DM7/P16J2pWoXfk/GZyPwfkY/D/C+Ricj8EJQAAAAAAAAAhAAAAAAAAACEDUrkTtStQGQA==\",\"dtype\":\"float64\",\"order\":\"little\",\"shape\":[20]},\"year\":{\"__ndarray__\":\"AAAAHM5dUkIAAAD+AzVUQgAAAEnwClZCAAAAlNzgV0IAAADfyLZZQgAAAMH+jVtCAAAADOtjXUIAAABX1zlfQgAAANHhh2BCAAAAwnxzYUIAAIDncl5iQgAAAA1pSWNCAACAMl80ZEIAAIAj+h9lQgAAAEnwCmZCAACAbub1ZkIAAIBu5vVmQgAAAJTc4GdCAAAAhXfMaEIAAICqbbdpQg==\",\"dtype\":\"float64\",\"order\":\"little\",\"shape\":[20]}},\"selected\":{\"id\":\"1834\"},\"selection_policy\":{\"id\":\"1833\"}},\"id\":\"1719\",\"type\":\"ColumnDataSource\"},{\"attributes\":{\"bottom\":{\"field\":\"bottom\"},\"fill_alpha\":{\"value\":0.2},\"fill_color\":{\"value\":\"#1f77b4\"},\"hatch_alpha\":{\"value\":0.2},\"line_alpha\":{\"value\":0.2},\"line_color\":{\"value\":\"#1f77b4\"},\"top\":{\"field\":\"top\"},\"x\":{\"field\":\"year\"}},\"id\":\"1753\",\"type\":\"VBar\"},{\"attributes\":{\"bottom_units\":\"screen\",\"coordinates\":null,\"fill_alpha\":0.5,\"fill_color\":\"lightgrey\",\"group\":null,\"left_units\":\"screen\",\"level\":\"overlay\",\"line_alpha\":1.0,\"line_color\":\"black\",\"line_dash\":[4,4],\"line_width\":2,\"right_units\":\"screen\",\"syncable\":false,\"top_units\":\"screen\"},\"id\":\"1742\",\"type\":\"BoxAnnotation\"},{\"attributes\":{},\"id\":\"1736\",\"type\":\"PanTool\"},{\"attributes\":{},\"id\":\"1829\",\"type\":\"AllLabels\"},{\"attributes\":{\"months\":[0,2,4,6,8,10]},\"id\":\"1844\",\"type\":\"MonthsTicker\"},{\"attributes\":{},\"id\":\"1737\",\"type\":\"WheelZoomTool\"},{\"attributes\":{\"mantissas\":[1,2,5],\"max_interval\":500.0,\"num_minor_ticks\":0},\"id\":\"1836\",\"type\":\"AdaptiveTicker\"},{\"attributes\":{\"coordinates\":null,\"formatter\":{\"id\":\"1831\"},\"group\":null,\"major_label_policy\":{\"id\":\"1832\"},\"ticker\":{\"id\":\"1730\"}},\"id\":\"1729\",\"type\":\"DatetimeAxis\"},{\"attributes\":{\"source\":{\"id\":\"1719\"}},\"id\":\"1755\",\"type\":\"CDSView\"},{\"attributes\":{},\"id\":\"1828\",\"type\":\"CategoricalTickFormatter\"},{\"attributes\":{\"base\":60,\"mantissas\":[1,2,5,10,15,20,30],\"max_interval\":1800000.0,\"min_interval\":1000.0,\"num_minor_ticks\":0},\"id\":\"1837\",\"type\":\"AdaptiveTicker\"},{\"attributes\":{\"months\":[0,1,2,3,4,5,6,7,8,9,10,11]},\"id\":\"1843\",\"type\":\"MonthsTicker\"},{\"attributes\":{},\"id\":\"1727\",\"type\":\"CategoricalScale\"},{\"attributes\":{},\"id\":\"1739\",\"type\":\"SaveTool\"},{\"attributes\":{\"bottom\":{\"field\":\"bottom\"},\"fill_alpha\":{\"value\":0.1},\"fill_color\":{\"value\":\"#1f77b4\"},\"hatch_alpha\":{\"value\":0.1},\"line_alpha\":{\"value\":0.1},\"line_color\":{\"value\":\"#1f77b4\"},\"top\":{\"field\":\"top\"},\"x\":{\"field\":\"year\"}},\"id\":\"1752\",\"type\":\"VBar\"},{\"attributes\":{},\"id\":\"1734\",\"type\":\"CategoricalTicker\"},{\"attributes\":{},\"id\":\"1721\",\"type\":\"DataRange1d\"},{\"attributes\":{\"bottom\":{\"field\":\"bottom\"},\"fill_color\":{\"value\":\"#1f77b4\"},\"line_color\":{\"value\":\"#1f77b4\"},\"top\":{\"field\":\"top\"},\"x\":{\"field\":\"year\"}},\"id\":\"1751\",\"type\":\"VBar\"},{\"attributes\":{\"months\":[0,6]},\"id\":\"1846\",\"type\":\"MonthsTicker\"},{\"attributes\":{\"coordinates\":null,\"group\":null},\"id\":\"1825\",\"type\":\"Title\"},{\"attributes\":{\"num_minor_ticks\":5,\"tickers\":[{\"id\":\"1836\"},{\"id\":\"1837\"},{\"id\":\"1838\"},{\"id\":\"1839\"},{\"id\":\"1840\"},{\"id\":\"1841\"},{\"id\":\"1842\"},{\"id\":\"1843\"},{\"id\":\"1844\"},{\"id\":\"1845\"},{\"id\":\"1846\"},{\"id\":\"1847\"}]},\"id\":\"1730\",\"type\":\"DatetimeTicker\"},{\"attributes\":{},\"id\":\"1834\",\"type\":\"Selection\"},{\"attributes\":{\"months\":[0,4,8]},\"id\":\"1845\",\"type\":\"MonthsTicker\"},{\"attributes\":{\"base\":24,\"mantissas\":[1,2,4,6,8,12],\"max_interval\":43200000.0,\"min_interval\":3600000.0,\"num_minor_ticks\":0},\"id\":\"1838\",\"type\":\"AdaptiveTicker\"},{\"attributes\":{},\"id\":\"1847\",\"type\":\"YearsTicker\"},{\"attributes\":{},\"id\":\"1741\",\"type\":\"HelpTool\"},{\"attributes\":{\"factors\":[\"EDM\",\"LAK\",\"NYR\",\"STL\"]},\"id\":\"1723\",\"type\":\"FactorRange\"}],\"root_ids\":[\"1720\"]},\"title\":\"Bokeh Application\",\"version\":\"2.4.3\"}};\n",
       "  const render_items = [{\"docid\":\"9d1b2a2f-03f9-4ac8-ba35-1654c349fd1b\",\"root_ids\":[\"1720\"],\"roots\":{\"1720\":\"2c6d223d-1f0d-483c-a17a-d2cbed71253f\"}}];\n",
       "  root.Bokeh.embed.embed_items_notebook(docs_json, render_items);\n",
       "  }\n",
       "  if (root.Bokeh !== undefined) {\n",
       "    embed_document(root);\n",
       "  } else {\n",
       "    let attempts = 0;\n",
       "    const timer = setInterval(function(root) {\n",
       "      if (root.Bokeh !== undefined) {\n",
       "        clearInterval(timer);\n",
       "        embed_document(root);\n",
       "      } else {\n",
       "        attempts++;\n",
       "        if (attempts > 100) {\n",
       "          clearInterval(timer);\n",
       "          console.log(\"Bokeh: ERROR: Unable to run BokehJS code because BokehJS library is missing\");\n",
       "        }\n",
       "      }\n",
       "    }, 10, root)\n",
       "  }\n",
       "})(window);"
      ],
      "application/vnd.bokehjs_exec.v0+json": ""
     },
     "metadata": {
      "application/vnd.bokehjs_exec.v0+json": {
       "id": "1720"
      }
     },
     "output_type": "display_data"
    }
   ],
   "source": [
    "show(p)"
   ]
  },
  {
   "cell_type": "code",
   "execution_count": 30,
   "metadata": {
    "slideshow": {
     "slide_type": "slide"
    }
   },
   "outputs": [],
   "source": [
    "p = figure(x_axis_type='datetime',\n",
    "           height=500, width=500,\n",
    "           y_range=list(wayne.tmID.cat.categories))\n",
    "p.vbar(bottom='bottom',\n",
    "       top='top', x='year',\n",
    "       width=1, source=src)\n",
    "p.xaxis.major_label_text_font_size = \"12pt\"\n",
    "p.yaxis.major_label_text_font_size = \"12pt\""
   ]
  },
  {
   "cell_type": "code",
   "execution_count": 31,
   "metadata": {
    "slideshow": {
     "slide_type": "slide"
    }
   },
   "outputs": [
    {
     "data": {
      "text/html": [
       "\n",
       "  <div class=\"bk-root\" id=\"51e79fc2-1ec3-478c-8cbb-3b321168708b\" data-root-id=\"1963\"></div>\n"
      ]
     },
     "metadata": {},
     "output_type": "display_data"
    },
    {
     "data": {
      "application/javascript": [
       "(function(root) {\n",
       "  function embed_document(root) {\n",
       "  const docs_json = {\"347b4a96-29c3-4119-a4ad-5bfa07e84ec6\":{\"defs\":[],\"roots\":{\"references\":[{\"attributes\":{\"below\":[{\"id\":\"1972\"}],\"center\":[{\"id\":\"1975\"},{\"id\":\"1978\"}],\"height\":500,\"left\":[{\"id\":\"1976\"}],\"renderers\":[{\"id\":\"1997\"}],\"title\":{\"id\":\"2091\"},\"toolbar\":{\"id\":\"1986\"},\"width\":500,\"x_range\":{\"id\":\"1964\"},\"x_scale\":{\"id\":\"1968\"},\"y_range\":{\"id\":\"1966\"},\"y_scale\":{\"id\":\"1970\"}},\"id\":\"1963\",\"subtype\":\"Figure\",\"type\":\"Plot\"},{\"attributes\":{\"tools\":[{\"id\":\"1979\"},{\"id\":\"1980\"},{\"id\":\"1981\"},{\"id\":\"1982\"},{\"id\":\"1983\"},{\"id\":\"1984\"}]},\"id\":\"1986\",\"type\":\"Toolbar\"},{\"attributes\":{\"months\":[0,1,2,3,4,5,6,7,8,9,10,11]},\"id\":\"2109\",\"type\":\"MonthsTicker\"},{\"attributes\":{\"source\":{\"id\":\"1719\"}},\"id\":\"1998\",\"type\":\"CDSView\"},{\"attributes\":{},\"id\":\"2097\",\"type\":\"DatetimeTickFormatter\"},{\"attributes\":{\"coordinates\":null,\"group\":null},\"id\":\"2091\",\"type\":\"Title\"},{\"attributes\":{\"coordinates\":null,\"data_source\":{\"id\":\"1719\"},\"glyph\":{\"id\":\"1994\"},\"group\":null,\"hover_glyph\":null,\"muted_glyph\":{\"id\":\"1996\"},\"nonselection_glyph\":{\"id\":\"1995\"},\"view\":{\"id\":\"1998\"}},\"id\":\"1997\",\"type\":\"GlyphRenderer\"},{\"attributes\":{\"bottom_units\":\"screen\",\"coordinates\":null,\"fill_alpha\":0.5,\"fill_color\":\"lightgrey\",\"group\":null,\"left_units\":\"screen\",\"level\":\"overlay\",\"line_alpha\":1.0,\"line_color\":\"black\",\"line_dash\":[4,4],\"line_width\":2,\"right_units\":\"screen\",\"syncable\":false,\"top_units\":\"screen\"},\"id\":\"1985\",\"type\":\"BoxAnnotation\"},{\"attributes\":{},\"id\":\"1979\",\"type\":\"PanTool\"},{\"attributes\":{},\"id\":\"1833\",\"type\":\"UnionRenderers\"},{\"attributes\":{},\"id\":\"1983\",\"type\":\"ResetTool\"},{\"attributes\":{},\"id\":\"1980\",\"type\":\"WheelZoomTool\"},{\"attributes\":{\"base\":24,\"mantissas\":[1,2,4,6,8,12],\"max_interval\":43200000.0,\"min_interval\":3600000.0,\"num_minor_ticks\":0},\"id\":\"2104\",\"type\":\"AdaptiveTicker\"},{\"attributes\":{},\"id\":\"1968\",\"type\":\"LinearScale\"},{\"attributes\":{\"overlay\":{\"id\":\"1985\"}},\"id\":\"1981\",\"type\":\"BoxZoomTool\"},{\"attributes\":{\"days\":[1,4,7,10,13,16,19,22,25,28]},\"id\":\"2106\",\"type\":\"DaysTicker\"},{\"attributes\":{},\"id\":\"1982\",\"type\":\"SaveTool\"},{\"attributes\":{},\"id\":\"2098\",\"type\":\"AllLabels\"},{\"attributes\":{\"months\":[0,4,8]},\"id\":\"2111\",\"type\":\"MonthsTicker\"},{\"attributes\":{\"factors\":[\"EDM\",\"LAK\",\"NYR\",\"STL\"]},\"id\":\"1966\",\"type\":\"FactorRange\"},{\"attributes\":{},\"id\":\"1970\",\"type\":\"CategoricalScale\"},{\"attributes\":{\"mantissas\":[1,2,5],\"max_interval\":500.0,\"num_minor_ticks\":0},\"id\":\"2102\",\"type\":\"AdaptiveTicker\"},{\"attributes\":{\"data\":{\"GP\":{\"__ndarray__\":\"AAAAAAAAVEAAAAAAAABUQAAAAAAAAFRAAAAAAACAUkAAAAAAAABUQAAAAAAAAFRAAAAAAADAU0AAAAAAAABQQAAAAAAAgFNAAAAAAABAUkAAAAAAAIBTQAAAAAAAgFJAAAAAAACARkAAAAAAAEBUQAAAAAAAAEhAAAAAAAAAT0AAAAAAAAAyQAAAAAAAgFRAAAAAAACAVEAAAAAAAIBRQA==\",\"dtype\":\"float64\",\"order\":\"little\",\"shape\":[20]},\"Pts\":{\"__ndarray__\":\"AAAAAACAZEAAAAAAAIBqQAAAAAAAgGhAAAAAAACgaUAAAAAAAABqQAAAAAAA4GpAAAAAAADgZkAAAAAAAKBiQAAAAAAAAGVAAAAAAADAYUAAAAAAAGBkQAAAAAAAQF5AAAAAAABAUEAAAAAAAEBgQAAAAAAAAEhAAAAAAABAVEAAAAAAAAA1QAAAAAAAQFhAAAAAAACAVkAAAAAAAABPQA==\",\"dtype\":\"float64\",\"order\":\"little\",\"shape\":[20]},\"bottom\":{\"__ndarray__\":\"AAAAAAAAAAABAQEBAQEBAQMCAgI=\",\"dtype\":\"int8\",\"order\":\"little\",\"shape\":[20]},\"height\":{\"__ndarray__\":\"OB+D8zE47z84H4PzMTjvPzgfg/MxOO8/4XwMzsfg7D84H4PzMTjvPzgfg/MxOO8/1K5E7UrU7j/6GJyPwfnoP3A+BudjcO4/fQzOx+B87D9wPgbnY3DuP+F8DM7H4Ow/kMH5GJyP4T+cj8H5GJzvP7sStStRu+I/Mjgfg/Mx6D8ZnI/B+RjMPwAAAAAAAPA/AAAAAAAA8D9RuxK1K1HrPw==\",\"dtype\":\"float64\",\"order\":\"little\",\"shape\":[20]},\"playerID\":[\"gretzwa01\",\"gretzwa01\",\"gretzwa01\",\"gretzwa01\",\"gretzwa01\",\"gretzwa01\",\"gretzwa01\",\"gretzwa01\",\"gretzwa01\",\"gretzwa01\",\"gretzwa01\",\"gretzwa01\",\"gretzwa01\",\"gretzwa01\",\"gretzwa01\",\"gretzwa01\",\"gretzwa01\",\"gretzwa01\",\"gretzwa01\",\"gretzwa01\"],\"pts_per_game\":{\"__ndarray__\":\"ZmZmZmZmAEAzMzMzMzMFQJqZmZmZmQNAmCKfdYMpBkDNzMzMzMwEQAAAAAAAgAVAEJWO7BmIAkAAAAAAAKACQLETO7ETOwFA+fHjx48f/z99y7d8y7cAQJgin3WDKfo/x3Ecx3Ec9z+IRcrA0635PwAAAAAAAPA/55xzzjnn9D+rqqqqqqryP+1K1K5E7fI/kMH5GJyP8T98xVd8xVfsPw==\",\"dtype\":\"float64\",\"order\":\"little\",\"shape\":[20]},\"tmCode\":{\"__ndarray__\":\"AAAAAAAAAAABAQEBAQEBAQMCAgI=\",\"dtype\":\"int8\",\"order\":\"little\",\"shape\":[20]},\"tmID\":[\"EDM\",\"EDM\",\"EDM\",\"EDM\",\"EDM\",\"EDM\",\"EDM\",\"EDM\",\"LAK\",\"LAK\",\"LAK\",\"LAK\",\"LAK\",\"LAK\",\"LAK\",\"LAK\",\"STL\",\"NYR\",\"NYR\",\"NYR\"],\"top\":{\"__ndarray__\":\"OB+D8zE47z84H4PzMTjvPzgfg/MxOO8/4XwMzsfg7D84H4PzMTjvPzgfg/MxOO8/1K5E7UrU7j/6GJyPwfnoPzgfg/MxOP8/PgbnY3A+/j84H4PzMTj/P3A+BudjcP4/yOB8DM7H+D/Ox+B8DM7/P16J2pWoXfk/GZyPwfkY/D/C+Ricj8EJQAAAAAAAAAhAAAAAAAAACEDUrkTtStQGQA==\",\"dtype\":\"float64\",\"order\":\"little\",\"shape\":[20]},\"year\":{\"__ndarray__\":\"AAAAHM5dUkIAAAD+AzVUQgAAAEnwClZCAAAAlNzgV0IAAADfyLZZQgAAAMH+jVtCAAAADOtjXUIAAABX1zlfQgAAANHhh2BCAAAAwnxzYUIAAIDncl5iQgAAAA1pSWNCAACAMl80ZEIAAIAj+h9lQgAAAEnwCmZCAACAbub1ZkIAAIBu5vVmQgAAAJTc4GdCAAAAhXfMaEIAAICqbbdpQg==\",\"dtype\":\"float64\",\"order\":\"little\",\"shape\":[20]}},\"selected\":{\"id\":\"1834\"},\"selection_policy\":{\"id\":\"1833\"}},\"id\":\"1719\",\"type\":\"ColumnDataSource\"},{\"attributes\":{\"bottom\":{\"field\":\"bottom\"},\"fill_alpha\":{\"value\":0.1},\"fill_color\":{\"value\":\"#1f77b4\"},\"hatch_alpha\":{\"value\":0.1},\"line_alpha\":{\"value\":0.1},\"line_color\":{\"value\":\"#1f77b4\"},\"top\":{\"field\":\"top\"},\"x\":{\"field\":\"year\"}},\"id\":\"1995\",\"type\":\"VBar\"},{\"attributes\":{},\"id\":\"1984\",\"type\":\"HelpTool\"},{\"attributes\":{\"coordinates\":null,\"formatter\":{\"id\":\"2097\"},\"group\":null,\"major_label_policy\":{\"id\":\"2098\"},\"major_label_text_font_size\":\"12pt\",\"ticker\":{\"id\":\"1973\"}},\"id\":\"1972\",\"type\":\"DatetimeAxis\"},{\"attributes\":{},\"id\":\"2113\",\"type\":\"YearsTicker\"},{\"attributes\":{\"months\":[0,6]},\"id\":\"2112\",\"type\":\"MonthsTicker\"},{\"attributes\":{\"months\":[0,2,4,6,8,10]},\"id\":\"2110\",\"type\":\"MonthsTicker\"},{\"attributes\":{},\"id\":\"1964\",\"type\":\"DataRange1d\"},{\"attributes\":{\"bottom\":{\"field\":\"bottom\"},\"fill_alpha\":{\"value\":0.2},\"fill_color\":{\"value\":\"#1f77b4\"},\"hatch_alpha\":{\"value\":0.2},\"line_alpha\":{\"value\":0.2},\"line_color\":{\"value\":\"#1f77b4\"},\"top\":{\"field\":\"top\"},\"x\":{\"field\":\"year\"}},\"id\":\"1996\",\"type\":\"VBar\"},{\"attributes\":{\"num_minor_ticks\":5,\"tickers\":[{\"id\":\"2102\"},{\"id\":\"2103\"},{\"id\":\"2104\"},{\"id\":\"2105\"},{\"id\":\"2106\"},{\"id\":\"2107\"},{\"id\":\"2108\"},{\"id\":\"2109\"},{\"id\":\"2110\"},{\"id\":\"2111\"},{\"id\":\"2112\"},{\"id\":\"2113\"}]},\"id\":\"1973\",\"type\":\"DatetimeTicker\"},{\"attributes\":{\"axis\":{\"id\":\"1976\"},\"coordinates\":null,\"dimension\":1,\"group\":null,\"ticker\":null},\"id\":\"1978\",\"type\":\"Grid\"},{\"attributes\":{},\"id\":\"2094\",\"type\":\"CategoricalTickFormatter\"},{\"attributes\":{\"base\":60,\"mantissas\":[1,2,5,10,15,20,30],\"max_interval\":1800000.0,\"min_interval\":1000.0,\"num_minor_ticks\":0},\"id\":\"2103\",\"type\":\"AdaptiveTicker\"},{\"attributes\":{\"coordinates\":null,\"formatter\":{\"id\":\"2094\"},\"group\":null,\"major_label_policy\":{\"id\":\"2095\"},\"major_label_text_font_size\":\"12pt\",\"ticker\":{\"id\":\"1977\"}},\"id\":\"1976\",\"type\":\"CategoricalAxis\"},{\"attributes\":{\"days\":[1,2,3,4,5,6,7,8,9,10,11,12,13,14,15,16,17,18,19,20,21,22,23,24,25,26,27,28,29,30,31]},\"id\":\"2105\",\"type\":\"DaysTicker\"},{\"attributes\":{\"axis\":{\"id\":\"1972\"},\"coordinates\":null,\"group\":null,\"ticker\":null},\"id\":\"1975\",\"type\":\"Grid\"},{\"attributes\":{},\"id\":\"2095\",\"type\":\"AllLabels\"},{\"attributes\":{\"days\":[1,15]},\"id\":\"2108\",\"type\":\"DaysTicker\"},{\"attributes\":{},\"id\":\"1834\",\"type\":\"Selection\"},{\"attributes\":{\"days\":[1,8,15,22]},\"id\":\"2107\",\"type\":\"DaysTicker\"},{\"attributes\":{},\"id\":\"1977\",\"type\":\"CategoricalTicker\"},{\"attributes\":{\"bottom\":{\"field\":\"bottom\"},\"fill_color\":{\"value\":\"#1f77b4\"},\"line_color\":{\"value\":\"#1f77b4\"},\"top\":{\"field\":\"top\"},\"x\":{\"field\":\"year\"}},\"id\":\"1994\",\"type\":\"VBar\"}],\"root_ids\":[\"1963\"]},\"title\":\"Bokeh Application\",\"version\":\"2.4.3\"}};\n",
       "  const render_items = [{\"docid\":\"347b4a96-29c3-4119-a4ad-5bfa07e84ec6\",\"root_ids\":[\"1963\"],\"roots\":{\"1963\":\"51e79fc2-1ec3-478c-8cbb-3b321168708b\"}}];\n",
       "  root.Bokeh.embed.embed_items_notebook(docs_json, render_items);\n",
       "  }\n",
       "  if (root.Bokeh !== undefined) {\n",
       "    embed_document(root);\n",
       "  } else {\n",
       "    let attempts = 0;\n",
       "    const timer = setInterval(function(root) {\n",
       "      if (root.Bokeh !== undefined) {\n",
       "        clearInterval(timer);\n",
       "        embed_document(root);\n",
       "      } else {\n",
       "        attempts++;\n",
       "        if (attempts > 100) {\n",
       "          clearInterval(timer);\n",
       "          console.log(\"Bokeh: ERROR: Unable to run BokehJS code because BokehJS library is missing\");\n",
       "        }\n",
       "      }\n",
       "    }, 10, root)\n",
       "  }\n",
       "})(window);"
      ],
      "application/vnd.bokehjs_exec.v0+json": ""
     },
     "metadata": {
      "application/vnd.bokehjs_exec.v0+json": {
       "id": "1963"
      }
     },
     "output_type": "display_data"
    }
   ],
   "source": [
    "show(p)"
   ]
  },
  {
   "cell_type": "code",
   "execution_count": 32,
   "metadata": {
    "slideshow": {
     "slide_type": "slide"
    }
   },
   "outputs": [
    {
     "data": {
      "text/plain": [
       "['EDM', 'LAK', 'STL', 'NYR']\n",
       "Categories (4, object): ['EDM', 'LAK', 'NYR', 'STL']"
      ]
     },
     "execution_count": 32,
     "metadata": {},
     "output_type": "execute_result"
    }
   ],
   "source": [
    "reordered = wayne.sort_values('year').tmID.unique()\n",
    "reordered"
   ]
  },
  {
   "cell_type": "code",
   "execution_count": 33,
   "metadata": {
    "slideshow": {
     "slide_type": "fragment"
    }
   },
   "outputs": [],
   "source": [
    "wayne.loc[:, \"tmID\"] = wayne.tmID.cat.reorder_categories(reordered)\n",
    "wayne.loc[:, \"tmCode\"] = wayne[\"tmID\"].cat.codes\n",
    "wayne.loc[:, \"bottom\"] = wayne.tmCode\n",
    "wayne.loc[:, \"top\"] = wayne.bottom + wayne.height"
   ]
  },
  {
   "cell_type": "code",
   "execution_count": 34,
   "metadata": {
    "slideshow": {
     "slide_type": "fragment"
    }
   },
   "outputs": [],
   "source": [
    "width = 320 * 24 * 60 * 60 * 1000"
   ]
  },
  {
   "cell_type": "code",
   "execution_count": 35,
   "metadata": {
    "slideshow": {
     "slide_type": "slide"
    }
   },
   "outputs": [],
   "source": [
    "src = cds(wayne)\n",
    "p = figure(x_axis_type='datetime',\n",
    "           height=500, width=500,\n",
    "           y_range=list(wayne.tmID.cat.categories))\n",
    "p.vbar(bottom='bottom',\n",
    "       top='top', x='year',\n",
    "       width=width, source=src)\n",
    "p.xaxis.major_label_text_font_size = \"12pt\"\n",
    "p.yaxis.major_label_text_font_size = \"12pt\""
   ]
  },
  {
   "cell_type": "code",
   "execution_count": 36,
   "metadata": {
    "slideshow": {
     "slide_type": "slide"
    }
   },
   "outputs": [
    {
     "data": {
      "text/html": [
       "\n",
       "  <div class=\"bk-root\" id=\"d6791184-9ea7-4953-adf1-76967e9f4a5c\" data-root-id=\"2230\"></div>\n"
      ]
     },
     "metadata": {},
     "output_type": "display_data"
    },
    {
     "data": {
      "application/javascript": [
       "(function(root) {\n",
       "  function embed_document(root) {\n",
       "  const docs_json = {\"407d54a1-bdb1-490c-a7ea-a4b45558f862\":{\"defs\":[],\"roots\":{\"references\":[{\"attributes\":{\"below\":[{\"id\":\"2239\"}],\"center\":[{\"id\":\"2242\"},{\"id\":\"2245\"}],\"height\":500,\"left\":[{\"id\":\"2243\"}],\"renderers\":[{\"id\":\"2264\"}],\"title\":{\"id\":\"2381\"},\"toolbar\":{\"id\":\"2253\"},\"width\":500,\"x_range\":{\"id\":\"2231\"},\"x_scale\":{\"id\":\"2235\"},\"y_range\":{\"id\":\"2233\"},\"y_scale\":{\"id\":\"2237\"}},\"id\":\"2230\",\"subtype\":\"Figure\",\"type\":\"Plot\"},{\"attributes\":{\"factors\":[\"EDM\",\"LAK\",\"NYR\",\"STL\"]},\"id\":\"2233\",\"type\":\"FactorRange\"},{\"attributes\":{\"days\":[1,15]},\"id\":\"2398\",\"type\":\"DaysTicker\"},{\"attributes\":{},\"id\":\"2247\",\"type\":\"WheelZoomTool\"},{\"attributes\":{\"data\":{\"GP\":{\"__ndarray__\":\"AAAAAAAAVEAAAAAAAABUQAAAAAAAAFRAAAAAAACAUkAAAAAAAABUQAAAAAAAAFRAAAAAAADAU0AAAAAAAABQQAAAAAAAgFNAAAAAAABAUkAAAAAAAIBTQAAAAAAAgFJAAAAAAACARkAAAAAAAEBUQAAAAAAAAEhAAAAAAAAAT0AAAAAAAAAyQAAAAAAAgFRAAAAAAACAVEAAAAAAAIBRQA==\",\"dtype\":\"float64\",\"order\":\"little\",\"shape\":[20]},\"Pts\":{\"__ndarray__\":\"AAAAAACAZEAAAAAAAIBqQAAAAAAAgGhAAAAAAACgaUAAAAAAAABqQAAAAAAA4GpAAAAAAADgZkAAAAAAAKBiQAAAAAAAAGVAAAAAAADAYUAAAAAAAGBkQAAAAAAAQF5AAAAAAABAUEAAAAAAAEBgQAAAAAAAAEhAAAAAAABAVEAAAAAAAAA1QAAAAAAAQFhAAAAAAACAVkAAAAAAAABPQA==\",\"dtype\":\"float64\",\"order\":\"little\",\"shape\":[20]},\"bottom\":{\"__ndarray__\":\"AAAAAAAAAAABAQEBAQEBAQMCAgI=\",\"dtype\":\"int8\",\"order\":\"little\",\"shape\":[20]},\"height\":{\"__ndarray__\":\"OB+D8zE47z84H4PzMTjvPzgfg/MxOO8/4XwMzsfg7D84H4PzMTjvPzgfg/MxOO8/1K5E7UrU7j/6GJyPwfnoP3A+BudjcO4/fQzOx+B87D9wPgbnY3DuP+F8DM7H4Ow/kMH5GJyP4T+cj8H5GJzvP7sStStRu+I/Mjgfg/Mx6D8ZnI/B+RjMPwAAAAAAAPA/AAAAAAAA8D9RuxK1K1HrPw==\",\"dtype\":\"float64\",\"order\":\"little\",\"shape\":[20]},\"playerID\":[\"gretzwa01\",\"gretzwa01\",\"gretzwa01\",\"gretzwa01\",\"gretzwa01\",\"gretzwa01\",\"gretzwa01\",\"gretzwa01\",\"gretzwa01\",\"gretzwa01\",\"gretzwa01\",\"gretzwa01\",\"gretzwa01\",\"gretzwa01\",\"gretzwa01\",\"gretzwa01\",\"gretzwa01\",\"gretzwa01\",\"gretzwa01\",\"gretzwa01\"],\"pts_per_game\":{\"__ndarray__\":\"ZmZmZmZmAEAzMzMzMzMFQJqZmZmZmQNAmCKfdYMpBkDNzMzMzMwEQAAAAAAAgAVAEJWO7BmIAkAAAAAAAKACQLETO7ETOwFA+fHjx48f/z99y7d8y7cAQJgin3WDKfo/x3Ecx3Ec9z+IRcrA0635PwAAAAAAAPA/55xzzjnn9D+rqqqqqqryP+1K1K5E7fI/kMH5GJyP8T98xVd8xVfsPw==\",\"dtype\":\"float64\",\"order\":\"little\",\"shape\":[20]},\"tmCode\":{\"__ndarray__\":\"AAAAAAAAAAABAQEBAQEBAQMCAgI=\",\"dtype\":\"int8\",\"order\":\"little\",\"shape\":[20]},\"tmID\":[\"EDM\",\"EDM\",\"EDM\",\"EDM\",\"EDM\",\"EDM\",\"EDM\",\"EDM\",\"LAK\",\"LAK\",\"LAK\",\"LAK\",\"LAK\",\"LAK\",\"LAK\",\"LAK\",\"STL\",\"NYR\",\"NYR\",\"NYR\"],\"top\":{\"__ndarray__\":\"OB+D8zE47z84H4PzMTjvPzgfg/MxOO8/4XwMzsfg7D84H4PzMTjvPzgfg/MxOO8/1K5E7UrU7j/6GJyPwfnoPzgfg/MxOP8/PgbnY3A+/j84H4PzMTj/P3A+BudjcP4/yOB8DM7H+D/Ox+B8DM7/P16J2pWoXfk/GZyPwfkY/D/C+Ricj8EJQAAAAAAAAAhAAAAAAAAACEDUrkTtStQGQA==\",\"dtype\":\"float64\",\"order\":\"little\",\"shape\":[20]},\"year\":{\"__ndarray__\":\"AAAAHM5dUkIAAAD+AzVUQgAAAEnwClZCAAAAlNzgV0IAAADfyLZZQgAAAMH+jVtCAAAADOtjXUIAAABX1zlfQgAAANHhh2BCAAAAwnxzYUIAAIDncl5iQgAAAA1pSWNCAACAMl80ZEIAAIAj+h9lQgAAAEnwCmZCAACAbub1ZkIAAIBu5vVmQgAAAJTc4GdCAAAAhXfMaEIAAICqbbdpQg==\",\"dtype\":\"float64\",\"order\":\"little\",\"shape\":[20]}},\"selected\":{\"id\":\"2390\"},\"selection_policy\":{\"id\":\"2389\"}},\"id\":\"2229\",\"type\":\"ColumnDataSource\"},{\"attributes\":{\"overlay\":{\"id\":\"2252\"}},\"id\":\"2248\",\"type\":\"BoxZoomTool\"},{\"attributes\":{\"days\":[1,8,15,22]},\"id\":\"2397\",\"type\":\"DaysTicker\"},{\"attributes\":{},\"id\":\"2403\",\"type\":\"YearsTicker\"},{\"attributes\":{\"coordinates\":null,\"formatter\":{\"id\":\"2387\"},\"group\":null,\"major_label_policy\":{\"id\":\"2388\"},\"major_label_text_font_size\":\"12pt\",\"ticker\":{\"id\":\"2240\"}},\"id\":\"2239\",\"type\":\"DatetimeAxis\"},{\"attributes\":{},\"id\":\"2250\",\"type\":\"ResetTool\"},{\"attributes\":{},\"id\":\"2388\",\"type\":\"AllLabels\"},{\"attributes\":{\"bottom_units\":\"screen\",\"coordinates\":null,\"fill_alpha\":0.5,\"fill_color\":\"lightgrey\",\"group\":null,\"left_units\":\"screen\",\"level\":\"overlay\",\"line_alpha\":1.0,\"line_color\":\"black\",\"line_dash\":[4,4],\"line_width\":2,\"right_units\":\"screen\",\"syncable\":false,\"top_units\":\"screen\"},\"id\":\"2252\",\"type\":\"BoxAnnotation\"},{\"attributes\":{},\"id\":\"2246\",\"type\":\"PanTool\"},{\"attributes\":{\"days\":[1,2,3,4,5,6,7,8,9,10,11,12,13,14,15,16,17,18,19,20,21,22,23,24,25,26,27,28,29,30,31]},\"id\":\"2395\",\"type\":\"DaysTicker\"},{\"attributes\":{\"months\":[0,2,4,6,8,10]},\"id\":\"2400\",\"type\":\"MonthsTicker\"},{\"attributes\":{},\"id\":\"2231\",\"type\":\"DataRange1d\"},{\"attributes\":{\"bottom\":{\"field\":\"bottom\"},\"fill_color\":{\"value\":\"#1f77b4\"},\"line_color\":{\"value\":\"#1f77b4\"},\"top\":{\"field\":\"top\"},\"width\":{\"value\":27648000000},\"x\":{\"field\":\"year\"}},\"id\":\"2261\",\"type\":\"VBar\"},{\"attributes\":{},\"id\":\"2235\",\"type\":\"LinearScale\"},{\"attributes\":{\"bottom\":{\"field\":\"bottom\"},\"fill_alpha\":{\"value\":0.1},\"fill_color\":{\"value\":\"#1f77b4\"},\"hatch_alpha\":{\"value\":0.1},\"line_alpha\":{\"value\":0.1},\"line_color\":{\"value\":\"#1f77b4\"},\"top\":{\"field\":\"top\"},\"width\":{\"value\":27648000000},\"x\":{\"field\":\"year\"}},\"id\":\"2262\",\"type\":\"VBar\"},{\"attributes\":{},\"id\":\"2384\",\"type\":\"CategoricalTickFormatter\"},{\"attributes\":{},\"id\":\"2249\",\"type\":\"SaveTool\"},{\"attributes\":{},\"id\":\"2244\",\"type\":\"CategoricalTicker\"},{\"attributes\":{},\"id\":\"2251\",\"type\":\"HelpTool\"},{\"attributes\":{\"coordinates\":null,\"formatter\":{\"id\":\"2384\"},\"group\":null,\"major_label_policy\":{\"id\":\"2385\"},\"major_label_text_font_size\":\"12pt\",\"ticker\":{\"id\":\"2244\"}},\"id\":\"2243\",\"type\":\"CategoricalAxis\"},{\"attributes\":{\"months\":[0,1,2,3,4,5,6,7,8,9,10,11]},\"id\":\"2399\",\"type\":\"MonthsTicker\"},{\"attributes\":{\"bottom\":{\"field\":\"bottom\"},\"fill_alpha\":{\"value\":0.2},\"fill_color\":{\"value\":\"#1f77b4\"},\"hatch_alpha\":{\"value\":0.2},\"line_alpha\":{\"value\":0.2},\"line_color\":{\"value\":\"#1f77b4\"},\"top\":{\"field\":\"top\"},\"width\":{\"value\":27648000000},\"x\":{\"field\":\"year\"}},\"id\":\"2263\",\"type\":\"VBar\"},{\"attributes\":{\"coordinates\":null,\"group\":null},\"id\":\"2381\",\"type\":\"Title\"},{\"attributes\":{},\"id\":\"2387\",\"type\":\"DatetimeTickFormatter\"},{\"attributes\":{\"mantissas\":[1,2,5],\"max_interval\":500.0,\"num_minor_ticks\":0},\"id\":\"2392\",\"type\":\"AdaptiveTicker\"},{\"attributes\":{\"axis\":{\"id\":\"2239\"},\"coordinates\":null,\"group\":null,\"ticker\":null},\"id\":\"2242\",\"type\":\"Grid\"},{\"attributes\":{\"source\":{\"id\":\"2229\"}},\"id\":\"2265\",\"type\":\"CDSView\"},{\"attributes\":{\"months\":[0,6]},\"id\":\"2402\",\"type\":\"MonthsTicker\"},{\"attributes\":{},\"id\":\"2390\",\"type\":\"Selection\"},{\"attributes\":{\"days\":[1,4,7,10,13,16,19,22,25,28]},\"id\":\"2396\",\"type\":\"DaysTicker\"},{\"attributes\":{\"base\":24,\"mantissas\":[1,2,4,6,8,12],\"max_interval\":43200000.0,\"min_interval\":3600000.0,\"num_minor_ticks\":0},\"id\":\"2394\",\"type\":\"AdaptiveTicker\"},{\"attributes\":{\"months\":[0,4,8]},\"id\":\"2401\",\"type\":\"MonthsTicker\"},{\"attributes\":{\"tools\":[{\"id\":\"2246\"},{\"id\":\"2247\"},{\"id\":\"2248\"},{\"id\":\"2249\"},{\"id\":\"2250\"},{\"id\":\"2251\"}]},\"id\":\"2253\",\"type\":\"Toolbar\"},{\"attributes\":{\"num_minor_ticks\":5,\"tickers\":[{\"id\":\"2392\"},{\"id\":\"2393\"},{\"id\":\"2394\"},{\"id\":\"2395\"},{\"id\":\"2396\"},{\"id\":\"2397\"},{\"id\":\"2398\"},{\"id\":\"2399\"},{\"id\":\"2400\"},{\"id\":\"2401\"},{\"id\":\"2402\"},{\"id\":\"2403\"}]},\"id\":\"2240\",\"type\":\"DatetimeTicker\"},{\"attributes\":{},\"id\":\"2237\",\"type\":\"CategoricalScale\"},{\"attributes\":{\"base\":60,\"mantissas\":[1,2,5,10,15,20,30],\"max_interval\":1800000.0,\"min_interval\":1000.0,\"num_minor_ticks\":0},\"id\":\"2393\",\"type\":\"AdaptiveTicker\"},{\"attributes\":{\"axis\":{\"id\":\"2243\"},\"coordinates\":null,\"dimension\":1,\"group\":null,\"ticker\":null},\"id\":\"2245\",\"type\":\"Grid\"},{\"attributes\":{},\"id\":\"2389\",\"type\":\"UnionRenderers\"},{\"attributes\":{},\"id\":\"2385\",\"type\":\"AllLabels\"},{\"attributes\":{\"coordinates\":null,\"data_source\":{\"id\":\"2229\"},\"glyph\":{\"id\":\"2261\"},\"group\":null,\"hover_glyph\":null,\"muted_glyph\":{\"id\":\"2263\"},\"nonselection_glyph\":{\"id\":\"2262\"},\"view\":{\"id\":\"2265\"}},\"id\":\"2264\",\"type\":\"GlyphRenderer\"}],\"root_ids\":[\"2230\"]},\"title\":\"Bokeh Application\",\"version\":\"2.4.3\"}};\n",
       "  const render_items = [{\"docid\":\"407d54a1-bdb1-490c-a7ea-a4b45558f862\",\"root_ids\":[\"2230\"],\"roots\":{\"2230\":\"d6791184-9ea7-4953-adf1-76967e9f4a5c\"}}];\n",
       "  root.Bokeh.embed.embed_items_notebook(docs_json, render_items);\n",
       "  }\n",
       "  if (root.Bokeh !== undefined) {\n",
       "    embed_document(root);\n",
       "  } else {\n",
       "    let attempts = 0;\n",
       "    const timer = setInterval(function(root) {\n",
       "      if (root.Bokeh !== undefined) {\n",
       "        clearInterval(timer);\n",
       "        embed_document(root);\n",
       "      } else {\n",
       "        attempts++;\n",
       "        if (attempts > 100) {\n",
       "          clearInterval(timer);\n",
       "          console.log(\"Bokeh: ERROR: Unable to run BokehJS code because BokehJS library is missing\");\n",
       "        }\n",
       "      }\n",
       "    }, 10, root)\n",
       "  }\n",
       "})(window);"
      ],
      "application/vnd.bokehjs_exec.v0+json": ""
     },
     "metadata": {
      "application/vnd.bokehjs_exec.v0+json": {
       "id": "2230"
      }
     },
     "output_type": "display_data"
    }
   ],
   "source": [
    "show(p)"
   ]
  },
  {
   "cell_type": "code",
   "execution_count": 37,
   "metadata": {
    "slideshow": {
     "slide_type": "slide"
    }
   },
   "outputs": [],
   "source": [
    "wayne.loc[:, \"bottom\"] = wayne.tmCode - (wayne.height / 2.0 ) + 0.5\n",
    "wayne.loc[:, \"top\"] = wayne.bottom + wayne.height"
   ]
  },
  {
   "cell_type": "code",
   "execution_count": 38,
   "metadata": {
    "slideshow": {
     "slide_type": "slide"
    }
   },
   "outputs": [],
   "source": [
    "src = cds(wayne)\n",
    "p = figure(x_axis_type='datetime',\n",
    "           height=500, width=500,\n",
    "           y_range=list(wayne.tmID.cat.categories))\n",
    "p.vbar(bottom='bottom',\n",
    "       top='top', x='year',\n",
    "       width=width, source=src)\n",
    "p.xaxis.major_label_text_font_size = \"12pt\"\n",
    "p.yaxis.major_label_text_font_size = \"12pt\""
   ]
  },
  {
   "cell_type": "code",
   "execution_count": 39,
   "metadata": {
    "slideshow": {
     "slide_type": "slide"
    }
   },
   "outputs": [
    {
     "data": {
      "text/html": [
       "\n",
       "  <div class=\"bk-root\" id=\"2c2c9c79-59de-4471-82bb-e835c46f7c96\" data-root-id=\"2520\"></div>\n"
      ]
     },
     "metadata": {},
     "output_type": "display_data"
    },
    {
     "data": {
      "application/javascript": [
       "(function(root) {\n",
       "  function embed_document(root) {\n",
       "  const docs_json = {\"1fa50f1d-458e-4643-9dd3-0815f0883e34\":{\"defs\":[],\"roots\":{\"references\":[{\"attributes\":{\"below\":[{\"id\":\"2529\"}],\"center\":[{\"id\":\"2532\"},{\"id\":\"2535\"}],\"height\":500,\"left\":[{\"id\":\"2533\"}],\"renderers\":[{\"id\":\"2554\"}],\"title\":{\"id\":\"2694\"},\"toolbar\":{\"id\":\"2543\"},\"width\":500,\"x_range\":{\"id\":\"2521\"},\"x_scale\":{\"id\":\"2525\"},\"y_range\":{\"id\":\"2523\"},\"y_scale\":{\"id\":\"2527\"}},\"id\":\"2520\",\"subtype\":\"Figure\",\"type\":\"Plot\"},{\"attributes\":{},\"id\":\"2700\",\"type\":\"DatetimeTickFormatter\"},{\"attributes\":{},\"id\":\"2536\",\"type\":\"PanTool\"},{\"attributes\":{},\"id\":\"2703\",\"type\":\"Selection\"},{\"attributes\":{},\"id\":\"2537\",\"type\":\"WheelZoomTool\"},{\"attributes\":{\"overlay\":{\"id\":\"2542\"}},\"id\":\"2538\",\"type\":\"BoxZoomTool\"},{\"attributes\":{\"months\":[0,4,8]},\"id\":\"2714\",\"type\":\"MonthsTicker\"},{\"attributes\":{\"coordinates\":null,\"formatter\":{\"id\":\"2697\"},\"group\":null,\"major_label_policy\":{\"id\":\"2698\"},\"major_label_text_font_size\":\"12pt\",\"ticker\":{\"id\":\"2534\"}},\"id\":\"2533\",\"type\":\"CategoricalAxis\"},{\"attributes\":{},\"id\":\"2540\",\"type\":\"ResetTool\"},{\"attributes\":{\"base\":60,\"mantissas\":[1,2,5,10,15,20,30],\"max_interval\":1800000.0,\"min_interval\":1000.0,\"num_minor_ticks\":0},\"id\":\"2706\",\"type\":\"AdaptiveTicker\"},{\"attributes\":{},\"id\":\"2527\",\"type\":\"CategoricalScale\"},{\"attributes\":{\"base\":24,\"mantissas\":[1,2,4,6,8,12],\"max_interval\":43200000.0,\"min_interval\":3600000.0,\"num_minor_ticks\":0},\"id\":\"2707\",\"type\":\"AdaptiveTicker\"},{\"attributes\":{\"bottom\":{\"field\":\"bottom\"},\"fill_alpha\":{\"value\":0.2},\"fill_color\":{\"value\":\"#1f77b4\"},\"hatch_alpha\":{\"value\":0.2},\"line_alpha\":{\"value\":0.2},\"line_color\":{\"value\":\"#1f77b4\"},\"top\":{\"field\":\"top\"},\"width\":{\"value\":27648000000},\"x\":{\"field\":\"year\"}},\"id\":\"2553\",\"type\":\"VBar\"},{\"attributes\":{\"bottom_units\":\"screen\",\"coordinates\":null,\"fill_alpha\":0.5,\"fill_color\":\"lightgrey\",\"group\":null,\"left_units\":\"screen\",\"level\":\"overlay\",\"line_alpha\":1.0,\"line_color\":\"black\",\"line_dash\":[4,4],\"line_width\":2,\"right_units\":\"screen\",\"syncable\":false,\"top_units\":\"screen\"},\"id\":\"2542\",\"type\":\"BoxAnnotation\"},{\"attributes\":{\"tools\":[{\"id\":\"2536\"},{\"id\":\"2537\"},{\"id\":\"2538\"},{\"id\":\"2539\"},{\"id\":\"2540\"},{\"id\":\"2541\"}]},\"id\":\"2543\",\"type\":\"Toolbar\"},{\"attributes\":{\"num_minor_ticks\":5,\"tickers\":[{\"id\":\"2705\"},{\"id\":\"2706\"},{\"id\":\"2707\"},{\"id\":\"2708\"},{\"id\":\"2709\"},{\"id\":\"2710\"},{\"id\":\"2711\"},{\"id\":\"2712\"},{\"id\":\"2713\"},{\"id\":\"2714\"},{\"id\":\"2715\"},{\"id\":\"2716\"}]},\"id\":\"2530\",\"type\":\"DatetimeTicker\"},{\"attributes\":{\"coordinates\":null,\"group\":null},\"id\":\"2694\",\"type\":\"Title\"},{\"attributes\":{\"days\":[1,4,7,10,13,16,19,22,25,28]},\"id\":\"2709\",\"type\":\"DaysTicker\"},{\"attributes\":{\"days\":[1,8,15,22]},\"id\":\"2710\",\"type\":\"DaysTicker\"},{\"attributes\":{\"months\":[0,1,2,3,4,5,6,7,8,9,10,11]},\"id\":\"2712\",\"type\":\"MonthsTicker\"},{\"attributes\":{},\"id\":\"2716\",\"type\":\"YearsTicker\"},{\"attributes\":{\"source\":{\"id\":\"2519\"}},\"id\":\"2555\",\"type\":\"CDSView\"},{\"attributes\":{\"factors\":[\"EDM\",\"LAK\",\"NYR\",\"STL\"]},\"id\":\"2523\",\"type\":\"FactorRange\"},{\"attributes\":{\"data\":{\"GP\":{\"__ndarray__\":\"AAAAAAAAVEAAAAAAAABUQAAAAAAAAFRAAAAAAACAUkAAAAAAAABUQAAAAAAAAFRAAAAAAADAU0AAAAAAAABQQAAAAAAAgFNAAAAAAABAUkAAAAAAAIBTQAAAAAAAgFJAAAAAAACARkAAAAAAAEBUQAAAAAAAAEhAAAAAAAAAT0AAAAAAAAAyQAAAAAAAgFRAAAAAAACAVEAAAAAAAIBRQA==\",\"dtype\":\"float64\",\"order\":\"little\",\"shape\":[20]},\"Pts\":{\"__ndarray__\":\"AAAAAACAZEAAAAAAAIBqQAAAAAAAgGhAAAAAAACgaUAAAAAAAABqQAAAAAAA4GpAAAAAAADgZkAAAAAAAKBiQAAAAAAAAGVAAAAAAADAYUAAAAAAAGBkQAAAAAAAQF5AAAAAAABAUEAAAAAAAEBgQAAAAAAAAEhAAAAAAABAVEAAAAAAAAA1QAAAAAAAQFhAAAAAAACAVkAAAAAAAABPQA==\",\"dtype\":\"float64\",\"order\":\"little\",\"shape\":[20]},\"bottom\":{\"__ndarray__\":\"ABmcj8H5iD8AGZyPwfmIPwAZnI/B+Yg/+Bicj8H5qD8AGZyPwfmIPwAZnI/B+Yg/wBK1K1G7kj8YnI/B+Ri8P2RwPgbnY/A/4XwMzsfg8D9kcD4G52PwP8jgfAzOx/A/nI/B+Ric8z8ZnI/B+RjwP1G7ErUrUfM/9DE4H4Pz8T8fg/MxOB8LQAAAAAAAAABAAAAAAAAAAECWqF2J2pUAQA==\",\"dtype\":\"float64\",\"order\":\"little\",\"shape\":[20]},\"height\":{\"__ndarray__\":\"OB+D8zE47z84H4PzMTjvPzgfg/MxOO8/4XwMzsfg7D84H4PzMTjvPzgfg/MxOO8/1K5E7UrU7j/6GJyPwfnoP3A+BudjcO4/fQzOx+B87D9wPgbnY3DuP+F8DM7H4Ow/kMH5GJyP4T+cj8H5GJzvP7sStStRu+I/Mjgfg/Mx6D8ZnI/B+RjMPwAAAAAAAPA/AAAAAAAA8D9RuxK1K1HrPw==\",\"dtype\":\"float64\",\"order\":\"little\",\"shape\":[20]},\"playerID\":[\"gretzwa01\",\"gretzwa01\",\"gretzwa01\",\"gretzwa01\",\"gretzwa01\",\"gretzwa01\",\"gretzwa01\",\"gretzwa01\",\"gretzwa01\",\"gretzwa01\",\"gretzwa01\",\"gretzwa01\",\"gretzwa01\",\"gretzwa01\",\"gretzwa01\",\"gretzwa01\",\"gretzwa01\",\"gretzwa01\",\"gretzwa01\",\"gretzwa01\"],\"pts_per_game\":{\"__ndarray__\":\"ZmZmZmZmAEAzMzMzMzMFQJqZmZmZmQNAmCKfdYMpBkDNzMzMzMwEQAAAAAAAgAVAEJWO7BmIAkAAAAAAAKACQLETO7ETOwFA+fHjx48f/z99y7d8y7cAQJgin3WDKfo/x3Ecx3Ec9z+IRcrA0635PwAAAAAAAPA/55xzzjnn9D+rqqqqqqryP+1K1K5E7fI/kMH5GJyP8T98xVd8xVfsPw==\",\"dtype\":\"float64\",\"order\":\"little\",\"shape\":[20]},\"tmCode\":{\"__ndarray__\":\"AAAAAAAAAAABAQEBAQEBAQMCAgI=\",\"dtype\":\"int8\",\"order\":\"little\",\"shape\":[20]},\"tmID\":[\"EDM\",\"EDM\",\"EDM\",\"EDM\",\"EDM\",\"EDM\",\"EDM\",\"EDM\",\"LAK\",\"LAK\",\"LAK\",\"LAK\",\"LAK\",\"LAK\",\"LAK\",\"LAK\",\"STL\",\"NYR\",\"NYR\",\"NYR\"],\"top\":{\"__ndarray__\":\"nI/B+Ric7z+cj8H5GJzvP5yPwfkYnO8/cD4G52Nw7j+cj8H5GJzvP5yPwfkYnO8/aleidiVq7z99DM7H4HzsP5yPwfkYnP8/IIPzMTgf/z+cj8H5GJz/Pzgfg/MxOP8/ZHA+Budj/D/nY3A+Buf/P65E7UrUrvw/Dc7H4HwM/j/hfAzOx+AMQAAAAAAAAAhAAAAAAAAACEBqV6J2JWoHQA==\",\"dtype\":\"float64\",\"order\":\"little\",\"shape\":[20]},\"year\":{\"__ndarray__\":\"AAAAHM5dUkIAAAD+AzVUQgAAAEnwClZCAAAAlNzgV0IAAADfyLZZQgAAAMH+jVtCAAAADOtjXUIAAABX1zlfQgAAANHhh2BCAAAAwnxzYUIAAIDncl5iQgAAAA1pSWNCAACAMl80ZEIAAIAj+h9lQgAAAEnwCmZCAACAbub1ZkIAAIBu5vVmQgAAAJTc4GdCAAAAhXfMaEIAAICqbbdpQg==\",\"dtype\":\"float64\",\"order\":\"little\",\"shape\":[20]}},\"selected\":{\"id\":\"2703\"},\"selection_policy\":{\"id\":\"2702\"}},\"id\":\"2519\",\"type\":\"ColumnDataSource\"},{\"attributes\":{\"months\":[0,2,4,6,8,10]},\"id\":\"2713\",\"type\":\"MonthsTicker\"},{\"attributes\":{\"coordinates\":null,\"formatter\":{\"id\":\"2700\"},\"group\":null,\"major_label_policy\":{\"id\":\"2701\"},\"major_label_text_font_size\":\"12pt\",\"ticker\":{\"id\":\"2530\"}},\"id\":\"2529\",\"type\":\"DatetimeAxis\"},{\"attributes\":{},\"id\":\"2701\",\"type\":\"AllLabels\"},{\"attributes\":{\"months\":[0,6]},\"id\":\"2715\",\"type\":\"MonthsTicker\"},{\"attributes\":{},\"id\":\"2521\",\"type\":\"DataRange1d\"},{\"attributes\":{\"axis\":{\"id\":\"2533\"},\"coordinates\":null,\"dimension\":1,\"group\":null,\"ticker\":null},\"id\":\"2535\",\"type\":\"Grid\"},{\"attributes\":{},\"id\":\"2525\",\"type\":\"LinearScale\"},{\"attributes\":{\"bottom\":{\"field\":\"bottom\"},\"fill_color\":{\"value\":\"#1f77b4\"},\"line_color\":{\"value\":\"#1f77b4\"},\"top\":{\"field\":\"top\"},\"width\":{\"value\":27648000000},\"x\":{\"field\":\"year\"}},\"id\":\"2551\",\"type\":\"VBar\"},{\"attributes\":{\"coordinates\":null,\"data_source\":{\"id\":\"2519\"},\"glyph\":{\"id\":\"2551\"},\"group\":null,\"hover_glyph\":null,\"muted_glyph\":{\"id\":\"2553\"},\"nonselection_glyph\":{\"id\":\"2552\"},\"view\":{\"id\":\"2555\"}},\"id\":\"2554\",\"type\":\"GlyphRenderer\"},{\"attributes\":{},\"id\":\"2539\",\"type\":\"SaveTool\"},{\"attributes\":{},\"id\":\"2702\",\"type\":\"UnionRenderers\"},{\"attributes\":{\"days\":[1,15]},\"id\":\"2711\",\"type\":\"DaysTicker\"},{\"attributes\":{},\"id\":\"2541\",\"type\":\"HelpTool\"},{\"attributes\":{},\"id\":\"2697\",\"type\":\"CategoricalTickFormatter\"},{\"attributes\":{\"mantissas\":[1,2,5],\"max_interval\":500.0,\"num_minor_ticks\":0},\"id\":\"2705\",\"type\":\"AdaptiveTicker\"},{\"attributes\":{},\"id\":\"2698\",\"type\":\"AllLabels\"},{\"attributes\":{},\"id\":\"2534\",\"type\":\"CategoricalTicker\"},{\"attributes\":{\"days\":[1,2,3,4,5,6,7,8,9,10,11,12,13,14,15,16,17,18,19,20,21,22,23,24,25,26,27,28,29,30,31]},\"id\":\"2708\",\"type\":\"DaysTicker\"},{\"attributes\":{\"axis\":{\"id\":\"2529\"},\"coordinates\":null,\"group\":null,\"ticker\":null},\"id\":\"2532\",\"type\":\"Grid\"},{\"attributes\":{\"bottom\":{\"field\":\"bottom\"},\"fill_alpha\":{\"value\":0.1},\"fill_color\":{\"value\":\"#1f77b4\"},\"hatch_alpha\":{\"value\":0.1},\"line_alpha\":{\"value\":0.1},\"line_color\":{\"value\":\"#1f77b4\"},\"top\":{\"field\":\"top\"},\"width\":{\"value\":27648000000},\"x\":{\"field\":\"year\"}},\"id\":\"2552\",\"type\":\"VBar\"}],\"root_ids\":[\"2520\"]},\"title\":\"Bokeh Application\",\"version\":\"2.4.3\"}};\n",
       "  const render_items = [{\"docid\":\"1fa50f1d-458e-4643-9dd3-0815f0883e34\",\"root_ids\":[\"2520\"],\"roots\":{\"2520\":\"2c2c9c79-59de-4471-82bb-e835c46f7c96\"}}];\n",
       "  root.Bokeh.embed.embed_items_notebook(docs_json, render_items);\n",
       "  }\n",
       "  if (root.Bokeh !== undefined) {\n",
       "    embed_document(root);\n",
       "  } else {\n",
       "    let attempts = 0;\n",
       "    const timer = setInterval(function(root) {\n",
       "      if (root.Bokeh !== undefined) {\n",
       "        clearInterval(timer);\n",
       "        embed_document(root);\n",
       "      } else {\n",
       "        attempts++;\n",
       "        if (attempts > 100) {\n",
       "          clearInterval(timer);\n",
       "          console.log(\"Bokeh: ERROR: Unable to run BokehJS code because BokehJS library is missing\");\n",
       "        }\n",
       "      }\n",
       "    }, 10, root)\n",
       "  }\n",
       "})(window);"
      ],
      "application/vnd.bokehjs_exec.v0+json": ""
     },
     "metadata": {
      "application/vnd.bokehjs_exec.v0+json": {
       "id": "2520"
      }
     },
     "output_type": "display_data"
    }
   ],
   "source": [
    "show(p)"
   ]
  },
  {
   "cell_type": "code",
   "execution_count": 40,
   "metadata": {
    "slideshow": {
     "slide_type": "slide"
    }
   },
   "outputs": [],
   "source": [
    "wayne.loc[:, \"height\"] = wayne.GP / gp_max * 0.8\n",
    "wayne.loc[:, \"bottom\"] = wayne.tmCode - (wayne.height / 2.0 ) + 0.5\n",
    "wayne.loc[:, \"top\"] = wayne.bottom + wayne.height"
   ]
  },
  {
   "cell_type": "code",
   "execution_count": 41,
   "metadata": {
    "slideshow": {
     "slide_type": "slide"
    }
   },
   "outputs": [],
   "source": [
    "src = cds(wayne)\n",
    "p = figure(x_axis_type='datetime',\n",
    "           height=500, width=500,\n",
    "           y_range=list(wayne.tmID.cat.categories))\n",
    "p.vbar(bottom='bottom',\n",
    "       top='top', x='year',\n",
    "       width=width, source=src)\n",
    "p.xaxis.major_label_text_font_size = \"12pt\"\n",
    "p.yaxis.major_label_text_font_size = \"12pt\""
   ]
  },
  {
   "cell_type": "code",
   "execution_count": 42,
   "metadata": {
    "slideshow": {
     "slide_type": "slide"
    }
   },
   "outputs": [
    {
     "data": {
      "text/html": [
       "\n",
       "  <div class=\"bk-root\" id=\"378c0910-3fa0-483a-a9a5-5b303b9d21fb\" data-root-id=\"2833\"></div>\n"
      ]
     },
     "metadata": {},
     "output_type": "display_data"
    },
    {
     "data": {
      "application/javascript": [
       "(function(root) {\n",
       "  function embed_document(root) {\n",
       "  const docs_json = {\"fcbe8e80-8803-420c-a23d-be5083a590f8\":{\"defs\":[],\"roots\":{\"references\":[{\"attributes\":{\"below\":[{\"id\":\"2842\"}],\"center\":[{\"id\":\"2845\"},{\"id\":\"2848\"}],\"height\":500,\"left\":[{\"id\":\"2846\"}],\"renderers\":[{\"id\":\"2867\"}],\"title\":{\"id\":\"3030\"},\"toolbar\":{\"id\":\"2856\"},\"width\":500,\"x_range\":{\"id\":\"2834\"},\"x_scale\":{\"id\":\"2838\"},\"y_range\":{\"id\":\"2836\"},\"y_scale\":{\"id\":\"2840\"}},\"id\":\"2833\",\"subtype\":\"Figure\",\"type\":\"Plot\"},{\"attributes\":{\"overlay\":{\"id\":\"2855\"}},\"id\":\"2851\",\"type\":\"BoxZoomTool\"},{\"attributes\":{},\"id\":\"2847\",\"type\":\"CategoricalTicker\"},{\"attributes\":{\"coordinates\":null,\"formatter\":{\"id\":\"3033\"},\"group\":null,\"major_label_policy\":{\"id\":\"3034\"},\"major_label_text_font_size\":\"12pt\",\"ticker\":{\"id\":\"2847\"}},\"id\":\"2846\",\"type\":\"CategoricalAxis\"},{\"attributes\":{},\"id\":\"2853\",\"type\":\"ResetTool\"},{\"attributes\":{\"axis\":{\"id\":\"2842\"},\"coordinates\":null,\"group\":null,\"ticker\":null},\"id\":\"2845\",\"type\":\"Grid\"},{\"attributes\":{},\"id\":\"2852\",\"type\":\"SaveTool\"},{\"attributes\":{},\"id\":\"2840\",\"type\":\"CategoricalScale\"},{\"attributes\":{},\"id\":\"2854\",\"type\":\"HelpTool\"},{\"attributes\":{\"axis\":{\"id\":\"2846\"},\"coordinates\":null,\"dimension\":1,\"group\":null,\"ticker\":null},\"id\":\"2848\",\"type\":\"Grid\"},{\"attributes\":{},\"id\":\"3033\",\"type\":\"CategoricalTickFormatter\"},{\"attributes\":{\"days\":[1,2,3,4,5,6,7,8,9,10,11,12,13,14,15,16,17,18,19,20,21,22,23,24,25,26,27,28,29,30,31]},\"id\":\"3044\",\"type\":\"DaysTicker\"},{\"attributes\":{\"num_minor_ticks\":5,\"tickers\":[{\"id\":\"3041\"},{\"id\":\"3042\"},{\"id\":\"3043\"},{\"id\":\"3044\"},{\"id\":\"3045\"},{\"id\":\"3046\"},{\"id\":\"3047\"},{\"id\":\"3048\"},{\"id\":\"3049\"},{\"id\":\"3050\"},{\"id\":\"3051\"},{\"id\":\"3052\"}]},\"id\":\"2843\",\"type\":\"DatetimeTicker\"},{\"attributes\":{},\"id\":\"3037\",\"type\":\"AllLabels\"},{\"attributes\":{},\"id\":\"3038\",\"type\":\"UnionRenderers\"},{\"attributes\":{\"coordinates\":null,\"group\":null},\"id\":\"3030\",\"type\":\"Title\"},{\"attributes\":{\"tools\":[{\"id\":\"2849\"},{\"id\":\"2850\"},{\"id\":\"2851\"},{\"id\":\"2852\"},{\"id\":\"2853\"},{\"id\":\"2854\"}]},\"id\":\"2856\",\"type\":\"Toolbar\"},{\"attributes\":{\"coordinates\":null,\"formatter\":{\"id\":\"3036\"},\"group\":null,\"major_label_policy\":{\"id\":\"3037\"},\"major_label_text_font_size\":\"12pt\",\"ticker\":{\"id\":\"2843\"}},\"id\":\"2842\",\"type\":\"DatetimeAxis\"},{\"attributes\":{},\"id\":\"2850\",\"type\":\"WheelZoomTool\"},{\"attributes\":{\"days\":[1,4,7,10,13,16,19,22,25,28]},\"id\":\"3045\",\"type\":\"DaysTicker\"},{\"attributes\":{\"factors\":[\"EDM\",\"LAK\",\"NYR\",\"STL\"]},\"id\":\"2836\",\"type\":\"FactorRange\"},{\"attributes\":{},\"id\":\"3034\",\"type\":\"AllLabels\"},{\"attributes\":{\"mantissas\":[1,2,5],\"max_interval\":500.0,\"num_minor_ticks\":0},\"id\":\"3041\",\"type\":\"AdaptiveTicker\"},{\"attributes\":{\"base\":60,\"mantissas\":[1,2,5,10,15,20,30],\"max_interval\":1800000.0,\"min_interval\":1000.0,\"num_minor_ticks\":0},\"id\":\"3042\",\"type\":\"AdaptiveTicker\"},{\"attributes\":{\"bottom_units\":\"screen\",\"coordinates\":null,\"fill_alpha\":0.5,\"fill_color\":\"lightgrey\",\"group\":null,\"left_units\":\"screen\",\"level\":\"overlay\",\"line_alpha\":1.0,\"line_color\":\"black\",\"line_dash\":[4,4],\"line_width\":2,\"right_units\":\"screen\",\"syncable\":false,\"top_units\":\"screen\"},\"id\":\"2855\",\"type\":\"BoxAnnotation\"},{\"attributes\":{\"months\":[0,6]},\"id\":\"3051\",\"type\":\"MonthsTicker\"},{\"attributes\":{\"days\":[1,8,15,22]},\"id\":\"3046\",\"type\":\"DaysTicker\"},{\"attributes\":{\"bottom\":{\"field\":\"bottom\"},\"fill_color\":{\"value\":\"#1f77b4\"},\"line_color\":{\"value\":\"#1f77b4\"},\"top\":{\"field\":\"top\"},\"width\":{\"value\":27648000000},\"x\":{\"field\":\"year\"}},\"id\":\"2864\",\"type\":\"VBar\"},{\"attributes\":{},\"id\":\"3036\",\"type\":\"DatetimeTickFormatter\"},{\"attributes\":{},\"id\":\"3039\",\"type\":\"Selection\"},{\"attributes\":{\"months\":[0,1,2,3,4,5,6,7,8,9,10,11]},\"id\":\"3048\",\"type\":\"MonthsTicker\"},{\"attributes\":{\"base\":24,\"mantissas\":[1,2,4,6,8,12],\"max_interval\":43200000.0,\"min_interval\":3600000.0,\"num_minor_ticks\":0},\"id\":\"3043\",\"type\":\"AdaptiveTicker\"},{\"attributes\":{},\"id\":\"3052\",\"type\":\"YearsTicker\"},{\"attributes\":{\"months\":[0,2,4,6,8,10]},\"id\":\"3049\",\"type\":\"MonthsTicker\"},{\"attributes\":{\"bottom\":{\"field\":\"bottom\"},\"fill_alpha\":{\"value\":0.1},\"fill_color\":{\"value\":\"#1f77b4\"},\"hatch_alpha\":{\"value\":0.1},\"line_alpha\":{\"value\":0.1},\"line_color\":{\"value\":\"#1f77b4\"},\"top\":{\"field\":\"top\"},\"width\":{\"value\":27648000000},\"x\":{\"field\":\"year\"}},\"id\":\"2865\",\"type\":\"VBar\"},{\"attributes\":{\"bottom\":{\"field\":\"bottom\"},\"fill_alpha\":{\"value\":0.2},\"fill_color\":{\"value\":\"#1f77b4\"},\"hatch_alpha\":{\"value\":0.2},\"line_alpha\":{\"value\":0.2},\"line_color\":{\"value\":\"#1f77b4\"},\"top\":{\"field\":\"top\"},\"width\":{\"value\":27648000000},\"x\":{\"field\":\"year\"}},\"id\":\"2866\",\"type\":\"VBar\"},{\"attributes\":{},\"id\":\"2849\",\"type\":\"PanTool\"},{\"attributes\":{\"months\":[0,4,8]},\"id\":\"3050\",\"type\":\"MonthsTicker\"},{\"attributes\":{},\"id\":\"2838\",\"type\":\"LinearScale\"},{\"attributes\":{},\"id\":\"2834\",\"type\":\"DataRange1d\"},{\"attributes\":{\"days\":[1,15]},\"id\":\"3047\",\"type\":\"DaysTicker\"},{\"attributes\":{\"coordinates\":null,\"data_source\":{\"id\":\"2832\"},\"glyph\":{\"id\":\"2864\"},\"group\":null,\"hover_glyph\":null,\"muted_glyph\":{\"id\":\"2866\"},\"nonselection_glyph\":{\"id\":\"2865\"},\"view\":{\"id\":\"2868\"}},\"id\":\"2867\",\"type\":\"GlyphRenderer\"},{\"attributes\":{\"source\":{\"id\":\"2832\"}},\"id\":\"2868\",\"type\":\"CDSView\"},{\"attributes\":{\"data\":{\"GP\":{\"__ndarray__\":\"AAAAAAAAVEAAAAAAAABUQAAAAAAAAFRAAAAAAACAUkAAAAAAAABUQAAAAAAAAFRAAAAAAADAU0AAAAAAAABQQAAAAAAAgFNAAAAAAABAUkAAAAAAAIBTQAAAAAAAgFJAAAAAAACARkAAAAAAAEBUQAAAAAAAAEhAAAAAAAAAT0AAAAAAAAAyQAAAAAAAgFRAAAAAAACAVEAAAAAAAIBRQA==\",\"dtype\":\"float64\",\"order\":\"little\",\"shape\":[20]},\"Pts\":{\"__ndarray__\":\"AAAAAACAZEAAAAAAAIBqQAAAAAAAgGhAAAAAAACgaUAAAAAAAABqQAAAAAAA4GpAAAAAAADgZkAAAAAAAKBiQAAAAAAAAGVAAAAAAADAYUAAAAAAAGBkQAAAAAAAQF5AAAAAAABAUEAAAAAAAEBgQAAAAAAAAEhAAAAAAABAVEAAAAAAAAA1QAAAAAAAQFhAAAAAAACAVkAAAAAAAABPQA==\",\"dtype\":\"float64\",\"order\":\"little\",\"shape\":[20]},\"bottom\":{\"__ndarray__\":\"GJyPwfkYvD8YnI/B+Ri8Pxicj8H5GLw/ytG4HI3LwT8YnI/B+Ri8Pxicj8H5GLw/WJ2K1alYvT8I2J+A/QnIP+pZmJ6F6fE/TcrWpGxN8j/qWZiehenxPzkal6NxOfI/fQzOx+B89D+uSdmalK3xP0H8DsTvQPQ/KVuTsjUp8z9Mz8L0LEwLQM3MzMzMzABAzczMzMzMAEBE7UrUrkQBQA==\",\"dtype\":\"float64\",\"order\":\"little\",\"shape\":[20]},\"height\":{\"__ndarray__\":\"+hicj8H56D/6GJyPwfnoP/oYnI/B+eg/G5ejcTka5z/6GJyPwfnoP/oYnI/B+eg/qliditWp6D/8E7A/AfvjP1qYnoXpWeg/y9akbE3K5j9amJ6F6VnoPxuXo3E5Guc/GpyPwfkY3D9K2ZqUrUnpP/gdiN+B+N0/XJOyNSlb4z97FqZnYXrGP5qZmZmZmek/mpmZmZmZ6T/blahdidrlPw==\",\"dtype\":\"float64\",\"order\":\"little\",\"shape\":[20]},\"playerID\":[\"gretzwa01\",\"gretzwa01\",\"gretzwa01\",\"gretzwa01\",\"gretzwa01\",\"gretzwa01\",\"gretzwa01\",\"gretzwa01\",\"gretzwa01\",\"gretzwa01\",\"gretzwa01\",\"gretzwa01\",\"gretzwa01\",\"gretzwa01\",\"gretzwa01\",\"gretzwa01\",\"gretzwa01\",\"gretzwa01\",\"gretzwa01\",\"gretzwa01\"],\"pts_per_game\":{\"__ndarray__\":\"ZmZmZmZmAEAzMzMzMzMFQJqZmZmZmQNAmCKfdYMpBkDNzMzMzMwEQAAAAAAAgAVAEJWO7BmIAkAAAAAAAKACQLETO7ETOwFA+fHjx48f/z99y7d8y7cAQJgin3WDKfo/x3Ecx3Ec9z+IRcrA0635PwAAAAAAAPA/55xzzjnn9D+rqqqqqqryP+1K1K5E7fI/kMH5GJyP8T98xVd8xVfsPw==\",\"dtype\":\"float64\",\"order\":\"little\",\"shape\":[20]},\"tmCode\":{\"__ndarray__\":\"AAAAAAAAAAABAQEBAQEBAQMCAgI=\",\"dtype\":\"int8\",\"order\":\"little\",\"shape\":[20]},\"tmID\":[\"EDM\",\"EDM\",\"EDM\",\"EDM\",\"EDM\",\"EDM\",\"EDM\",\"EDM\",\"LAK\",\"LAK\",\"LAK\",\"LAK\",\"LAK\",\"LAK\",\"LAK\",\"LAK\",\"STL\",\"NYR\",\"NYR\",\"NYR\"],\"top\":{\"__ndarray__\":\"fQzOx+B87D99DM7H4HzsP30MzsfgfOw/jsvRuByN6z99DM7H4HzsP30MzsfgfOw/VaxOxepU7D/+CdifgP3pPxemZ2F6Fv4/sjUpW5Oy/T8Xpmdhehb+P8blaFyOxv0/hPMxOB+D+z9TtiZla1L+P78D8TsQv/s/16RsTcrW/D+0MD0L07MMQDQzMzMzMwdANDMzMzMzB0C7ErUrUbsGQA==\",\"dtype\":\"float64\",\"order\":\"little\",\"shape\":[20]},\"year\":{\"__ndarray__\":\"AAAAHM5dUkIAAAD+AzVUQgAAAEnwClZCAAAAlNzgV0IAAADfyLZZQgAAAMH+jVtCAAAADOtjXUIAAABX1zlfQgAAANHhh2BCAAAAwnxzYUIAAIDncl5iQgAAAA1pSWNCAACAMl80ZEIAAIAj+h9lQgAAAEnwCmZCAACAbub1ZkIAAIBu5vVmQgAAAJTc4GdCAAAAhXfMaEIAAICqbbdpQg==\",\"dtype\":\"float64\",\"order\":\"little\",\"shape\":[20]}},\"selected\":{\"id\":\"3039\"},\"selection_policy\":{\"id\":\"3038\"}},\"id\":\"2832\",\"type\":\"ColumnDataSource\"}],\"root_ids\":[\"2833\"]},\"title\":\"Bokeh Application\",\"version\":\"2.4.3\"}};\n",
       "  const render_items = [{\"docid\":\"fcbe8e80-8803-420c-a23d-be5083a590f8\",\"root_ids\":[\"2833\"],\"roots\":{\"2833\":\"378c0910-3fa0-483a-a9a5-5b303b9d21fb\"}}];\n",
       "  root.Bokeh.embed.embed_items_notebook(docs_json, render_items);\n",
       "  }\n",
       "  if (root.Bokeh !== undefined) {\n",
       "    embed_document(root);\n",
       "  } else {\n",
       "    let attempts = 0;\n",
       "    const timer = setInterval(function(root) {\n",
       "      if (root.Bokeh !== undefined) {\n",
       "        clearInterval(timer);\n",
       "        embed_document(root);\n",
       "      } else {\n",
       "        attempts++;\n",
       "        if (attempts > 100) {\n",
       "          clearInterval(timer);\n",
       "          console.log(\"Bokeh: ERROR: Unable to run BokehJS code because BokehJS library is missing\");\n",
       "        }\n",
       "      }\n",
       "    }, 10, root)\n",
       "  }\n",
       "})(window);"
      ],
      "application/vnd.bokehjs_exec.v0+json": ""
     },
     "metadata": {
      "application/vnd.bokehjs_exec.v0+json": {
       "id": "2833"
      }
     },
     "output_type": "display_data"
    }
   ],
   "source": [
    "show(p)"
   ]
  },
  {
   "cell_type": "code",
   "execution_count": 43,
   "metadata": {
    "slideshow": {
     "slide_type": "slide"
    }
   },
   "outputs": [],
   "source": [
    "from bokeh.models import LinearColorMapper\n",
    "color_mapper = LinearColorMapper(\n",
    "    palette=\"Plasma256\", \n",
    "    low=pts_per_game_min, \n",
    "    high=pts_per_game_max)"
   ]
  },
  {
   "cell_type": "code",
   "execution_count": 44,
   "metadata": {
    "slideshow": {
     "slide_type": "slide"
    }
   },
   "outputs": [],
   "source": [
    "src = cds(wayne)\n",
    "p = figure(x_axis_type='datetime', \n",
    "           height=500, width=500,\n",
    "           y_range=list(wayne.tmID.cat.categories))\n",
    "p.vbar(bottom='bottom', top='top',\n",
    "       x='year', width=width,\n",
    "       color={'field': 'pts_per_game', 'transform': color_mapper},\n",
    "       source=src);"
   ]
  },
  {
   "cell_type": "code",
   "execution_count": 45,
   "metadata": {
    "slideshow": {
     "slide_type": "slide"
    }
   },
   "outputs": [
    {
     "data": {
      "text/html": [
       "\n",
       "  <div class=\"bk-root\" id=\"469c2524-ae4a-4a73-a59c-c24d97b11e9e\" data-root-id=\"3170\"></div>\n"
      ]
     },
     "metadata": {},
     "output_type": "display_data"
    },
    {
     "data": {
      "application/javascript": [
       "(function(root) {\n",
       "  function embed_document(root) {\n",
       "  const docs_json = {\"be63ee8c-7a3d-46da-8c7d-22f43a9fcd73\":{\"defs\":[],\"roots\":{\"references\":[{\"attributes\":{\"below\":[{\"id\":\"3179\"}],\"center\":[{\"id\":\"3182\"},{\"id\":\"3185\"}],\"height\":500,\"left\":[{\"id\":\"3183\"}],\"renderers\":[{\"id\":\"3204\"}],\"title\":{\"id\":\"3390\"},\"toolbar\":{\"id\":\"3193\"},\"width\":500,\"x_range\":{\"id\":\"3171\"},\"x_scale\":{\"id\":\"3175\"},\"y_range\":{\"id\":\"3173\"},\"y_scale\":{\"id\":\"3177\"}},\"id\":\"3170\",\"subtype\":\"Figure\",\"type\":\"Plot\"},{\"attributes\":{\"coordinates\":null,\"group\":null},\"id\":\"3390\",\"type\":\"Title\"},{\"attributes\":{},\"id\":\"3187\",\"type\":\"WheelZoomTool\"},{\"attributes\":{\"months\":[0,4,8]},\"id\":\"3410\",\"type\":\"MonthsTicker\"},{\"attributes\":{\"months\":[0,2,4,6,8,10]},\"id\":\"3409\",\"type\":\"MonthsTicker\"},{\"attributes\":{},\"id\":\"3186\",\"type\":\"PanTool\"},{\"attributes\":{},\"id\":\"3177\",\"type\":\"CategoricalScale\"},{\"attributes\":{\"num_minor_ticks\":5,\"tickers\":[{\"id\":\"3401\"},{\"id\":\"3402\"},{\"id\":\"3403\"},{\"id\":\"3404\"},{\"id\":\"3405\"},{\"id\":\"3406\"},{\"id\":\"3407\"},{\"id\":\"3408\"},{\"id\":\"3409\"},{\"id\":\"3410\"},{\"id\":\"3411\"},{\"id\":\"3412\"}]},\"id\":\"3180\",\"type\":\"DatetimeTicker\"},{\"attributes\":{\"tools\":[{\"id\":\"3186\"},{\"id\":\"3187\"},{\"id\":\"3188\"},{\"id\":\"3189\"},{\"id\":\"3190\"},{\"id\":\"3191\"}]},\"id\":\"3193\",\"type\":\"Toolbar\"},{\"attributes\":{\"factors\":[\"EDM\",\"LAK\",\"NYR\",\"STL\"]},\"id\":\"3173\",\"type\":\"FactorRange\"},{\"attributes\":{\"overlay\":{\"id\":\"3192\"}},\"id\":\"3188\",\"type\":\"BoxZoomTool\"},{\"attributes\":{},\"id\":\"3190\",\"type\":\"ResetTool\"},{\"attributes\":{\"months\":[0,1,2,3,4,5,6,7,8,9,10,11]},\"id\":\"3408\",\"type\":\"MonthsTicker\"},{\"attributes\":{\"coordinates\":null,\"formatter\":{\"id\":\"3396\"},\"group\":null,\"major_label_policy\":{\"id\":\"3397\"},\"ticker\":{\"id\":\"3180\"}},\"id\":\"3179\",\"type\":\"DatetimeAxis\"},{\"attributes\":{},\"id\":\"3397\",\"type\":\"AllLabels\"},{\"attributes\":{\"mantissas\":[1,2,5],\"max_interval\":500.0,\"num_minor_ticks\":0},\"id\":\"3401\",\"type\":\"AdaptiveTicker\"},{\"attributes\":{\"base\":60,\"mantissas\":[1,2,5,10,15,20,30],\"max_interval\":1800000.0,\"min_interval\":1000.0,\"num_minor_ticks\":0},\"id\":\"3402\",\"type\":\"AdaptiveTicker\"},{\"attributes\":{\"source\":{\"id\":\"3169\"}},\"id\":\"3205\",\"type\":\"CDSView\"},{\"attributes\":{},\"id\":\"3171\",\"type\":\"DataRange1d\"},{\"attributes\":{},\"id\":\"3175\",\"type\":\"LinearScale\"},{\"attributes\":{},\"id\":\"3398\",\"type\":\"UnionRenderers\"},{\"attributes\":{\"days\":[1,15]},\"id\":\"3407\",\"type\":\"DaysTicker\"},{\"attributes\":{\"bottom\":{\"field\":\"bottom\"},\"fill_alpha\":{\"value\":0.2},\"fill_color\":{\"field\":\"pts_per_game\",\"transform\":{\"id\":\"3168\"}},\"hatch_alpha\":{\"value\":0.2},\"hatch_color\":{\"field\":\"pts_per_game\",\"transform\":{\"id\":\"3168\"}},\"line_alpha\":{\"value\":0.2},\"line_color\":{\"field\":\"pts_per_game\",\"transform\":{\"id\":\"3168\"}},\"top\":{\"field\":\"top\"},\"width\":{\"value\":27648000000},\"x\":{\"field\":\"year\"}},\"id\":\"3203\",\"type\":\"VBar\"},{\"attributes\":{\"bottom\":{\"field\":\"bottom\"},\"fill_color\":{\"field\":\"pts_per_game\",\"transform\":{\"id\":\"3168\"}},\"hatch_color\":{\"field\":\"pts_per_game\",\"transform\":{\"id\":\"3168\"}},\"line_color\":{\"field\":\"pts_per_game\",\"transform\":{\"id\":\"3168\"}},\"top\":{\"field\":\"top\"},\"width\":{\"value\":27648000000},\"x\":{\"field\":\"year\"}},\"id\":\"3201\",\"type\":\"VBar\"},{\"attributes\":{\"days\":[1,2,3,4,5,6,7,8,9,10,11,12,13,14,15,16,17,18,19,20,21,22,23,24,25,26,27,28,29,30,31]},\"id\":\"3404\",\"type\":\"DaysTicker\"},{\"attributes\":{\"high\":2.77027027027027,\"low\":0.8857142857142857,\"palette\":[\"#0C0786\",\"#100787\",\"#130689\",\"#15068A\",\"#18068B\",\"#1B068C\",\"#1D068D\",\"#1F058E\",\"#21058F\",\"#230590\",\"#250591\",\"#270592\",\"#290593\",\"#2B0594\",\"#2D0494\",\"#2F0495\",\"#310496\",\"#330497\",\"#340498\",\"#360498\",\"#380499\",\"#3A049A\",\"#3B039A\",\"#3D039B\",\"#3F039C\",\"#40039C\",\"#42039D\",\"#44039E\",\"#45039E\",\"#47029F\",\"#49029F\",\"#4A02A0\",\"#4C02A1\",\"#4E02A1\",\"#4F02A2\",\"#5101A2\",\"#5201A3\",\"#5401A3\",\"#5601A3\",\"#5701A4\",\"#5901A4\",\"#5A00A5\",\"#5C00A5\",\"#5E00A5\",\"#5F00A6\",\"#6100A6\",\"#6200A6\",\"#6400A7\",\"#6500A7\",\"#6700A7\",\"#6800A7\",\"#6A00A7\",\"#6C00A8\",\"#6D00A8\",\"#6F00A8\",\"#7000A8\",\"#7200A8\",\"#7300A8\",\"#7500A8\",\"#7601A8\",\"#7801A8\",\"#7901A8\",\"#7B02A8\",\"#7C02A7\",\"#7E03A7\",\"#7F03A7\",\"#8104A7\",\"#8204A7\",\"#8405A6\",\"#8506A6\",\"#8607A6\",\"#8807A5\",\"#8908A5\",\"#8B09A4\",\"#8C0AA4\",\"#8E0CA4\",\"#8F0DA3\",\"#900EA3\",\"#920FA2\",\"#9310A1\",\"#9511A1\",\"#9612A0\",\"#9713A0\",\"#99149F\",\"#9A159E\",\"#9B179E\",\"#9D189D\",\"#9E199C\",\"#9F1A9B\",\"#A01B9B\",\"#A21C9A\",\"#A31D99\",\"#A41E98\",\"#A51F97\",\"#A72197\",\"#A82296\",\"#A92395\",\"#AA2494\",\"#AC2593\",\"#AD2692\",\"#AE2791\",\"#AF2890\",\"#B02A8F\",\"#B12B8F\",\"#B22C8E\",\"#B42D8D\",\"#B52E8C\",\"#B62F8B\",\"#B7308A\",\"#B83289\",\"#B93388\",\"#BA3487\",\"#BB3586\",\"#BC3685\",\"#BD3784\",\"#BE3883\",\"#BF3982\",\"#C03B81\",\"#C13C80\",\"#C23D80\",\"#C33E7F\",\"#C43F7E\",\"#C5407D\",\"#C6417C\",\"#C7427B\",\"#C8447A\",\"#C94579\",\"#CA4678\",\"#CB4777\",\"#CC4876\",\"#CD4975\",\"#CE4A75\",\"#CF4B74\",\"#D04D73\",\"#D14E72\",\"#D14F71\",\"#D25070\",\"#D3516F\",\"#D4526E\",\"#D5536D\",\"#D6556D\",\"#D7566C\",\"#D7576B\",\"#D8586A\",\"#D95969\",\"#DA5A68\",\"#DB5B67\",\"#DC5D66\",\"#DC5E66\",\"#DD5F65\",\"#DE6064\",\"#DF6163\",\"#DF6262\",\"#E06461\",\"#E16560\",\"#E26660\",\"#E3675F\",\"#E3685E\",\"#E46A5D\",\"#E56B5C\",\"#E56C5B\",\"#E66D5A\",\"#E76E5A\",\"#E87059\",\"#E87158\",\"#E97257\",\"#EA7356\",\"#EA7455\",\"#EB7654\",\"#EC7754\",\"#EC7853\",\"#ED7952\",\"#ED7B51\",\"#EE7C50\",\"#EF7D4F\",\"#EF7E4E\",\"#F0804D\",\"#F0814D\",\"#F1824C\",\"#F2844B\",\"#F2854A\",\"#F38649\",\"#F38748\",\"#F48947\",\"#F48A47\",\"#F58B46\",\"#F58D45\",\"#F68E44\",\"#F68F43\",\"#F69142\",\"#F79241\",\"#F79341\",\"#F89540\",\"#F8963F\",\"#F8983E\",\"#F9993D\",\"#F99A3C\",\"#FA9C3B\",\"#FA9D3A\",\"#FA9F3A\",\"#FAA039\",\"#FBA238\",\"#FBA337\",\"#FBA436\",\"#FCA635\",\"#FCA735\",\"#FCA934\",\"#FCAA33\",\"#FCAC32\",\"#FCAD31\",\"#FDAF31\",\"#FDB030\",\"#FDB22F\",\"#FDB32E\",\"#FDB52D\",\"#FDB62D\",\"#FDB82C\",\"#FDB92B\",\"#FDBB2B\",\"#FDBC2A\",\"#FDBE29\",\"#FDC029\",\"#FDC128\",\"#FDC328\",\"#FDC427\",\"#FDC626\",\"#FCC726\",\"#FCC926\",\"#FCCB25\",\"#FCCC25\",\"#FCCE25\",\"#FBD024\",\"#FBD124\",\"#FBD324\",\"#FAD524\",\"#FAD624\",\"#FAD824\",\"#F9D924\",\"#F9DB24\",\"#F8DD24\",\"#F8DF24\",\"#F7E024\",\"#F7E225\",\"#F6E425\",\"#F6E525\",\"#F5E726\",\"#F5E926\",\"#F4EA26\",\"#F3EC26\",\"#F3EE26\",\"#F2F026\",\"#F2F126\",\"#F1F326\",\"#F0F525\",\"#F0F623\",\"#EFF821\"]},\"id\":\"3168\",\"type\":\"LinearColorMapper\"},{\"attributes\":{},\"id\":\"3412\",\"type\":\"YearsTicker\"},{\"attributes\":{\"base\":24,\"mantissas\":[1,2,4,6,8,12],\"max_interval\":43200000.0,\"min_interval\":3600000.0,\"num_minor_ticks\":0},\"id\":\"3403\",\"type\":\"AdaptiveTicker\"},{\"attributes\":{\"months\":[0,6]},\"id\":\"3411\",\"type\":\"MonthsTicker\"},{\"attributes\":{},\"id\":\"3393\",\"type\":\"CategoricalTickFormatter\"},{\"attributes\":{},\"id\":\"3399\",\"type\":\"Selection\"},{\"attributes\":{},\"id\":\"3189\",\"type\":\"SaveTool\"},{\"attributes\":{\"coordinates\":null,\"data_source\":{\"id\":\"3169\"},\"glyph\":{\"id\":\"3201\"},\"group\":null,\"hover_glyph\":null,\"muted_glyph\":{\"id\":\"3203\"},\"nonselection_glyph\":{\"id\":\"3202\"},\"view\":{\"id\":\"3205\"}},\"id\":\"3204\",\"type\":\"GlyphRenderer\"},{\"attributes\":{\"data\":{\"GP\":{\"__ndarray__\":\"AAAAAAAAVEAAAAAAAABUQAAAAAAAAFRAAAAAAACAUkAAAAAAAABUQAAAAAAAAFRAAAAAAADAU0AAAAAAAABQQAAAAAAAgFNAAAAAAABAUkAAAAAAAIBTQAAAAAAAgFJAAAAAAACARkAAAAAAAEBUQAAAAAAAAEhAAAAAAAAAT0AAAAAAAAAyQAAAAAAAgFRAAAAAAACAVEAAAAAAAIBRQA==\",\"dtype\":\"float64\",\"order\":\"little\",\"shape\":[20]},\"Pts\":{\"__ndarray__\":\"AAAAAACAZEAAAAAAAIBqQAAAAAAAgGhAAAAAAACgaUAAAAAAAABqQAAAAAAA4GpAAAAAAADgZkAAAAAAAKBiQAAAAAAAAGVAAAAAAADAYUAAAAAAAGBkQAAAAAAAQF5AAAAAAABAUEAAAAAAAEBgQAAAAAAAAEhAAAAAAABAVEAAAAAAAAA1QAAAAAAAQFhAAAAAAACAVkAAAAAAAABPQA==\",\"dtype\":\"float64\",\"order\":\"little\",\"shape\":[20]},\"bottom\":{\"__ndarray__\":\"GJyPwfkYvD8YnI/B+Ri8Pxicj8H5GLw/ytG4HI3LwT8YnI/B+Ri8Pxicj8H5GLw/WJ2K1alYvT8I2J+A/QnIP+pZmJ6F6fE/TcrWpGxN8j/qWZiehenxPzkal6NxOfI/fQzOx+B89D+uSdmalK3xP0H8DsTvQPQ/KVuTsjUp8z9Mz8L0LEwLQM3MzMzMzABAzczMzMzMAEBE7UrUrkQBQA==\",\"dtype\":\"float64\",\"order\":\"little\",\"shape\":[20]},\"height\":{\"__ndarray__\":\"+hicj8H56D/6GJyPwfnoP/oYnI/B+eg/G5ejcTka5z/6GJyPwfnoP/oYnI/B+eg/qliditWp6D/8E7A/AfvjP1qYnoXpWeg/y9akbE3K5j9amJ6F6VnoPxuXo3E5Guc/GpyPwfkY3D9K2ZqUrUnpP/gdiN+B+N0/XJOyNSlb4z97FqZnYXrGP5qZmZmZmek/mpmZmZmZ6T/blahdidrlPw==\",\"dtype\":\"float64\",\"order\":\"little\",\"shape\":[20]},\"playerID\":[\"gretzwa01\",\"gretzwa01\",\"gretzwa01\",\"gretzwa01\",\"gretzwa01\",\"gretzwa01\",\"gretzwa01\",\"gretzwa01\",\"gretzwa01\",\"gretzwa01\",\"gretzwa01\",\"gretzwa01\",\"gretzwa01\",\"gretzwa01\",\"gretzwa01\",\"gretzwa01\",\"gretzwa01\",\"gretzwa01\",\"gretzwa01\",\"gretzwa01\"],\"pts_per_game\":{\"__ndarray__\":\"ZmZmZmZmAEAzMzMzMzMFQJqZmZmZmQNAmCKfdYMpBkDNzMzMzMwEQAAAAAAAgAVAEJWO7BmIAkAAAAAAAKACQLETO7ETOwFA+fHjx48f/z99y7d8y7cAQJgin3WDKfo/x3Ecx3Ec9z+IRcrA0635PwAAAAAAAPA/55xzzjnn9D+rqqqqqqryP+1K1K5E7fI/kMH5GJyP8T98xVd8xVfsPw==\",\"dtype\":\"float64\",\"order\":\"little\",\"shape\":[20]},\"tmCode\":{\"__ndarray__\":\"AAAAAAAAAAABAQEBAQEBAQMCAgI=\",\"dtype\":\"int8\",\"order\":\"little\",\"shape\":[20]},\"tmID\":[\"EDM\",\"EDM\",\"EDM\",\"EDM\",\"EDM\",\"EDM\",\"EDM\",\"EDM\",\"LAK\",\"LAK\",\"LAK\",\"LAK\",\"LAK\",\"LAK\",\"LAK\",\"LAK\",\"STL\",\"NYR\",\"NYR\",\"NYR\"],\"top\":{\"__ndarray__\":\"fQzOx+B87D99DM7H4HzsP30MzsfgfOw/jsvRuByN6z99DM7H4HzsP30MzsfgfOw/VaxOxepU7D/+CdifgP3pPxemZ2F6Fv4/sjUpW5Oy/T8Xpmdhehb+P8blaFyOxv0/hPMxOB+D+z9TtiZla1L+P78D8TsQv/s/16RsTcrW/D+0MD0L07MMQDQzMzMzMwdANDMzMzMzB0C7ErUrUbsGQA==\",\"dtype\":\"float64\",\"order\":\"little\",\"shape\":[20]},\"year\":{\"__ndarray__\":\"AAAAHM5dUkIAAAD+AzVUQgAAAEnwClZCAAAAlNzgV0IAAADfyLZZQgAAAMH+jVtCAAAADOtjXUIAAABX1zlfQgAAANHhh2BCAAAAwnxzYUIAAIDncl5iQgAAAA1pSWNCAACAMl80ZEIAAIAj+h9lQgAAAEnwCmZCAACAbub1ZkIAAIBu5vVmQgAAAJTc4GdCAAAAhXfMaEIAAICqbbdpQg==\",\"dtype\":\"float64\",\"order\":\"little\",\"shape\":[20]}},\"selected\":{\"id\":\"3399\"},\"selection_policy\":{\"id\":\"3398\"}},\"id\":\"3169\",\"type\":\"ColumnDataSource\"},{\"attributes\":{\"days\":[1,4,7,10,13,16,19,22,25,28]},\"id\":\"3405\",\"type\":\"DaysTicker\"},{\"attributes\":{\"axis\":{\"id\":\"3179\"},\"coordinates\":null,\"group\":null,\"ticker\":null},\"id\":\"3182\",\"type\":\"Grid\"},{\"attributes\":{},\"id\":\"3191\",\"type\":\"HelpTool\"},{\"attributes\":{},\"id\":\"3394\",\"type\":\"AllLabels\"},{\"attributes\":{},\"id\":\"3396\",\"type\":\"DatetimeTickFormatter\"},{\"attributes\":{\"coordinates\":null,\"formatter\":{\"id\":\"3393\"},\"group\":null,\"major_label_policy\":{\"id\":\"3394\"},\"ticker\":{\"id\":\"3184\"}},\"id\":\"3183\",\"type\":\"CategoricalAxis\"},{\"attributes\":{\"bottom\":{\"field\":\"bottom\"},\"fill_alpha\":{\"value\":0.1},\"fill_color\":{\"field\":\"pts_per_game\",\"transform\":{\"id\":\"3168\"}},\"hatch_alpha\":{\"value\":0.1},\"hatch_color\":{\"field\":\"pts_per_game\",\"transform\":{\"id\":\"3168\"}},\"line_alpha\":{\"value\":0.1},\"line_color\":{\"field\":\"pts_per_game\",\"transform\":{\"id\":\"3168\"}},\"top\":{\"field\":\"top\"},\"width\":{\"value\":27648000000},\"x\":{\"field\":\"year\"}},\"id\":\"3202\",\"type\":\"VBar\"},{\"attributes\":{},\"id\":\"3184\",\"type\":\"CategoricalTicker\"},{\"attributes\":{\"days\":[1,8,15,22]},\"id\":\"3406\",\"type\":\"DaysTicker\"},{\"attributes\":{\"axis\":{\"id\":\"3183\"},\"coordinates\":null,\"dimension\":1,\"group\":null,\"ticker\":null},\"id\":\"3185\",\"type\":\"Grid\"},{\"attributes\":{\"bottom_units\":\"screen\",\"coordinates\":null,\"fill_alpha\":0.5,\"fill_color\":\"lightgrey\",\"group\":null,\"left_units\":\"screen\",\"level\":\"overlay\",\"line_alpha\":1.0,\"line_color\":\"black\",\"line_dash\":[4,4],\"line_width\":2,\"right_units\":\"screen\",\"syncable\":false,\"top_units\":\"screen\"},\"id\":\"3192\",\"type\":\"BoxAnnotation\"}],\"root_ids\":[\"3170\"]},\"title\":\"Bokeh Application\",\"version\":\"2.4.3\"}};\n",
       "  const render_items = [{\"docid\":\"be63ee8c-7a3d-46da-8c7d-22f43a9fcd73\",\"root_ids\":[\"3170\"],\"roots\":{\"3170\":\"469c2524-ae4a-4a73-a59c-c24d97b11e9e\"}}];\n",
       "  root.Bokeh.embed.embed_items_notebook(docs_json, render_items);\n",
       "  }\n",
       "  if (root.Bokeh !== undefined) {\n",
       "    embed_document(root);\n",
       "  } else {\n",
       "    let attempts = 0;\n",
       "    const timer = setInterval(function(root) {\n",
       "      if (root.Bokeh !== undefined) {\n",
       "        clearInterval(timer);\n",
       "        embed_document(root);\n",
       "      } else {\n",
       "        attempts++;\n",
       "        if (attempts > 100) {\n",
       "          clearInterval(timer);\n",
       "          console.log(\"Bokeh: ERROR: Unable to run BokehJS code because BokehJS library is missing\");\n",
       "        }\n",
       "      }\n",
       "    }, 10, root)\n",
       "  }\n",
       "})(window);"
      ],
      "application/vnd.bokehjs_exec.v0+json": ""
     },
     "metadata": {
      "application/vnd.bokehjs_exec.v0+json": {
       "id": "3170"
      }
     },
     "output_type": "display_data"
    }
   ],
   "source": [
    "show(p)"
   ]
  },
  {
   "cell_type": "code",
   "execution_count": 46,
   "metadata": {
    "slideshow": {
     "slide_type": "slide"
    }
   },
   "outputs": [],
   "source": [
    "from bokeh.models import ColorBar\n",
    "src = cds(wayne)\n",
    "p = figure(x_axis_type='datetime', \n",
    "           width=500,\n",
    "           height=500, \n",
    "           y_range=list(wayne.tmID.cat.categories)\n",
    ")\n",
    "p.vbar(bottom='bottom', top='top', x='year', width=width,\n",
    "       color={'field': 'pts_per_game', 'transform': color_mapper}, source=src)\n",
    "color_bar = ColorBar(color_mapper=color_mapper,\n",
    "                     label_standoff=8, border_line_color=None, \n",
    "                     location=(0,0)\n",
    ")\n",
    "\n",
    "p.add_layout(color_bar, 'right');"
   ]
  },
  {
   "cell_type": "code",
   "execution_count": 47,
   "metadata": {
    "slideshow": {
     "slide_type": "slide"
    }
   },
   "outputs": [
    {
     "data": {
      "text/html": [
       "\n",
       "  <div class=\"bk-root\" id=\"8eb82558-fa57-414d-913e-264d59b6da06\" data-root-id=\"3529\"></div>\n"
      ]
     },
     "metadata": {},
     "output_type": "display_data"
    },
    {
     "data": {
      "application/javascript": [
       "(function(root) {\n",
       "  function embed_document(root) {\n",
       "  const docs_json = {\"8b2a5afd-50ae-471e-8498-1c01f6e2290c\":{\"defs\":[],\"roots\":{\"references\":[{\"attributes\":{\"below\":[{\"id\":\"3538\"}],\"center\":[{\"id\":\"3541\"},{\"id\":\"3544\"}],\"height\":500,\"left\":[{\"id\":\"3542\"}],\"renderers\":[{\"id\":\"3563\"}],\"right\":[{\"id\":\"3565\"}],\"title\":{\"id\":\"3773\"},\"toolbar\":{\"id\":\"3552\"},\"width\":500,\"x_range\":{\"id\":\"3530\"},\"x_scale\":{\"id\":\"3534\"},\"y_range\":{\"id\":\"3532\"},\"y_scale\":{\"id\":\"3536\"}},\"id\":\"3529\",\"subtype\":\"Figure\",\"type\":\"Plot\"},{\"attributes\":{\"coordinates\":null,\"data_source\":{\"id\":\"3528\"},\"glyph\":{\"id\":\"3560\"},\"group\":null,\"hover_glyph\":null,\"muted_glyph\":{\"id\":\"3562\"},\"nonselection_glyph\":{\"id\":\"3561\"},\"view\":{\"id\":\"3564\"}},\"id\":\"3563\",\"type\":\"GlyphRenderer\"},{\"attributes\":{},\"id\":\"3546\",\"type\":\"WheelZoomTool\"},{\"attributes\":{},\"id\":\"3778\",\"type\":\"NoOverlap\"},{\"attributes\":{\"months\":[0,2,4,6,8,10]},\"id\":\"3793\",\"type\":\"MonthsTicker\"},{\"attributes\":{\"days\":[1,8,15,22]},\"id\":\"3790\",\"type\":\"DaysTicker\"},{\"attributes\":{},\"id\":\"3548\",\"type\":\"SaveTool\"},{\"attributes\":{},\"id\":\"3543\",\"type\":\"CategoricalTicker\"},{\"attributes\":{\"coordinates\":null,\"formatter\":{\"id\":\"3776\"},\"group\":null,\"major_label_policy\":{\"id\":\"3777\"},\"ticker\":{\"id\":\"3543\"}},\"id\":\"3542\",\"type\":\"CategoricalAxis\"},{\"attributes\":{\"overlay\":{\"id\":\"3551\"}},\"id\":\"3547\",\"type\":\"BoxZoomTool\"},{\"attributes\":{\"months\":[0,4,8]},\"id\":\"3794\",\"type\":\"MonthsTicker\"},{\"attributes\":{\"source\":{\"id\":\"3528\"}},\"id\":\"3564\",\"type\":\"CDSView\"},{\"attributes\":{\"mantissas\":[1,2,5],\"max_interval\":500.0,\"num_minor_ticks\":0},\"id\":\"3785\",\"type\":\"AdaptiveTicker\"},{\"attributes\":{},\"id\":\"3545\",\"type\":\"PanTool\"},{\"attributes\":{\"axis\":{\"id\":\"3538\"},\"coordinates\":null,\"group\":null,\"ticker\":null},\"id\":\"3541\",\"type\":\"Grid\"},{\"attributes\":{},\"id\":\"3549\",\"type\":\"ResetTool\"},{\"attributes\":{\"days\":[1,15]},\"id\":\"3791\",\"type\":\"DaysTicker\"},{\"attributes\":{\"num_minor_ticks\":5,\"tickers\":[{\"id\":\"3785\"},{\"id\":\"3786\"},{\"id\":\"3787\"},{\"id\":\"3788\"},{\"id\":\"3789\"},{\"id\":\"3790\"},{\"id\":\"3791\"},{\"id\":\"3792\"},{\"id\":\"3793\"},{\"id\":\"3794\"},{\"id\":\"3795\"},{\"id\":\"3796\"}]},\"id\":\"3539\",\"type\":\"DatetimeTicker\"},{\"attributes\":{\"days\":[1,2,3,4,5,6,7,8,9,10,11,12,13,14,15,16,17,18,19,20,21,22,23,24,25,26,27,28,29,30,31]},\"id\":\"3788\",\"type\":\"DaysTicker\"},{\"attributes\":{},\"id\":\"3536\",\"type\":\"CategoricalScale\"},{\"attributes\":{},\"id\":\"3781\",\"type\":\"AllLabels\"},{\"attributes\":{\"axis\":{\"id\":\"3542\"},\"coordinates\":null,\"dimension\":1,\"group\":null,\"ticker\":null},\"id\":\"3544\",\"type\":\"Grid\"},{\"attributes\":{\"data\":{\"GP\":{\"__ndarray__\":\"AAAAAAAAVEAAAAAAAABUQAAAAAAAAFRAAAAAAACAUkAAAAAAAABUQAAAAAAAAFRAAAAAAADAU0AAAAAAAABQQAAAAAAAgFNAAAAAAABAUkAAAAAAAIBTQAAAAAAAgFJAAAAAAACARkAAAAAAAEBUQAAAAAAAAEhAAAAAAAAAT0AAAAAAAAAyQAAAAAAAgFRAAAAAAACAVEAAAAAAAIBRQA==\",\"dtype\":\"float64\",\"order\":\"little\",\"shape\":[20]},\"Pts\":{\"__ndarray__\":\"AAAAAACAZEAAAAAAAIBqQAAAAAAAgGhAAAAAAACgaUAAAAAAAABqQAAAAAAA4GpAAAAAAADgZkAAAAAAAKBiQAAAAAAAAGVAAAAAAADAYUAAAAAAAGBkQAAAAAAAQF5AAAAAAABAUEAAAAAAAEBgQAAAAAAAAEhAAAAAAABAVEAAAAAAAAA1QAAAAAAAQFhAAAAAAACAVkAAAAAAAABPQA==\",\"dtype\":\"float64\",\"order\":\"little\",\"shape\":[20]},\"bottom\":{\"__ndarray__\":\"GJyPwfkYvD8YnI/B+Ri8Pxicj8H5GLw/ytG4HI3LwT8YnI/B+Ri8Pxicj8H5GLw/WJ2K1alYvT8I2J+A/QnIP+pZmJ6F6fE/TcrWpGxN8j/qWZiehenxPzkal6NxOfI/fQzOx+B89D+uSdmalK3xP0H8DsTvQPQ/KVuTsjUp8z9Mz8L0LEwLQM3MzMzMzABAzczMzMzMAEBE7UrUrkQBQA==\",\"dtype\":\"float64\",\"order\":\"little\",\"shape\":[20]},\"height\":{\"__ndarray__\":\"+hicj8H56D/6GJyPwfnoP/oYnI/B+eg/G5ejcTka5z/6GJyPwfnoP/oYnI/B+eg/qliditWp6D/8E7A/AfvjP1qYnoXpWeg/y9akbE3K5j9amJ6F6VnoPxuXo3E5Guc/GpyPwfkY3D9K2ZqUrUnpP/gdiN+B+N0/XJOyNSlb4z97FqZnYXrGP5qZmZmZmek/mpmZmZmZ6T/blahdidrlPw==\",\"dtype\":\"float64\",\"order\":\"little\",\"shape\":[20]},\"playerID\":[\"gretzwa01\",\"gretzwa01\",\"gretzwa01\",\"gretzwa01\",\"gretzwa01\",\"gretzwa01\",\"gretzwa01\",\"gretzwa01\",\"gretzwa01\",\"gretzwa01\",\"gretzwa01\",\"gretzwa01\",\"gretzwa01\",\"gretzwa01\",\"gretzwa01\",\"gretzwa01\",\"gretzwa01\",\"gretzwa01\",\"gretzwa01\",\"gretzwa01\"],\"pts_per_game\":{\"__ndarray__\":\"ZmZmZmZmAEAzMzMzMzMFQJqZmZmZmQNAmCKfdYMpBkDNzMzMzMwEQAAAAAAAgAVAEJWO7BmIAkAAAAAAAKACQLETO7ETOwFA+fHjx48f/z99y7d8y7cAQJgin3WDKfo/x3Ecx3Ec9z+IRcrA0635PwAAAAAAAPA/55xzzjnn9D+rqqqqqqryP+1K1K5E7fI/kMH5GJyP8T98xVd8xVfsPw==\",\"dtype\":\"float64\",\"order\":\"little\",\"shape\":[20]},\"tmCode\":{\"__ndarray__\":\"AAAAAAAAAAABAQEBAQEBAQMCAgI=\",\"dtype\":\"int8\",\"order\":\"little\",\"shape\":[20]},\"tmID\":[\"EDM\",\"EDM\",\"EDM\",\"EDM\",\"EDM\",\"EDM\",\"EDM\",\"EDM\",\"LAK\",\"LAK\",\"LAK\",\"LAK\",\"LAK\",\"LAK\",\"LAK\",\"LAK\",\"STL\",\"NYR\",\"NYR\",\"NYR\"],\"top\":{\"__ndarray__\":\"fQzOx+B87D99DM7H4HzsP30MzsfgfOw/jsvRuByN6z99DM7H4HzsP30MzsfgfOw/VaxOxepU7D/+CdifgP3pPxemZ2F6Fv4/sjUpW5Oy/T8Xpmdhehb+P8blaFyOxv0/hPMxOB+D+z9TtiZla1L+P78D8TsQv/s/16RsTcrW/D+0MD0L07MMQDQzMzMzMwdANDMzMzMzB0C7ErUrUbsGQA==\",\"dtype\":\"float64\",\"order\":\"little\",\"shape\":[20]},\"year\":{\"__ndarray__\":\"AAAAHM5dUkIAAAD+AzVUQgAAAEnwClZCAAAAlNzgV0IAAADfyLZZQgAAAMH+jVtCAAAADOtjXUIAAABX1zlfQgAAANHhh2BCAAAAwnxzYUIAAIDncl5iQgAAAA1pSWNCAACAMl80ZEIAAIAj+h9lQgAAAEnwCmZCAACAbub1ZkIAAIBu5vVmQgAAAJTc4GdCAAAAhXfMaEIAAICqbbdpQg==\",\"dtype\":\"float64\",\"order\":\"little\",\"shape\":[20]}},\"selected\":{\"id\":\"3783\"},\"selection_policy\":{\"id\":\"3782\"}},\"id\":\"3528\",\"type\":\"ColumnDataSource\"},{\"attributes\":{},\"id\":\"3550\",\"type\":\"HelpTool\"},{\"attributes\":{},\"id\":\"3534\",\"type\":\"LinearScale\"},{\"attributes\":{\"bottom\":{\"field\":\"bottom\"},\"fill_alpha\":{\"value\":0.2},\"fill_color\":{\"field\":\"pts_per_game\",\"transform\":{\"id\":\"3168\"}},\"hatch_alpha\":{\"value\":0.2},\"hatch_color\":{\"field\":\"pts_per_game\",\"transform\":{\"id\":\"3168\"}},\"line_alpha\":{\"value\":0.2},\"line_color\":{\"field\":\"pts_per_game\",\"transform\":{\"id\":\"3168\"}},\"top\":{\"field\":\"top\"},\"width\":{\"value\":27648000000},\"x\":{\"field\":\"year\"}},\"id\":\"3562\",\"type\":\"VBar\"},{\"attributes\":{\"factors\":[\"EDM\",\"LAK\",\"NYR\",\"STL\"]},\"id\":\"3532\",\"type\":\"FactorRange\"},{\"attributes\":{},\"id\":\"3776\",\"type\":\"CategoricalTickFormatter\"},{\"attributes\":{\"tools\":[{\"id\":\"3545\"},{\"id\":\"3546\"},{\"id\":\"3547\"},{\"id\":\"3548\"},{\"id\":\"3549\"},{\"id\":\"3550\"}]},\"id\":\"3552\",\"type\":\"Toolbar\"},{\"attributes\":{},\"id\":\"3530\",\"type\":\"DataRange1d\"},{\"attributes\":{\"high\":2.77027027027027,\"low\":0.8857142857142857,\"palette\":[\"#0C0786\",\"#100787\",\"#130689\",\"#15068A\",\"#18068B\",\"#1B068C\",\"#1D068D\",\"#1F058E\",\"#21058F\",\"#230590\",\"#250591\",\"#270592\",\"#290593\",\"#2B0594\",\"#2D0494\",\"#2F0495\",\"#310496\",\"#330497\",\"#340498\",\"#360498\",\"#380499\",\"#3A049A\",\"#3B039A\",\"#3D039B\",\"#3F039C\",\"#40039C\",\"#42039D\",\"#44039E\",\"#45039E\",\"#47029F\",\"#49029F\",\"#4A02A0\",\"#4C02A1\",\"#4E02A1\",\"#4F02A2\",\"#5101A2\",\"#5201A3\",\"#5401A3\",\"#5601A3\",\"#5701A4\",\"#5901A4\",\"#5A00A5\",\"#5C00A5\",\"#5E00A5\",\"#5F00A6\",\"#6100A6\",\"#6200A6\",\"#6400A7\",\"#6500A7\",\"#6700A7\",\"#6800A7\",\"#6A00A7\",\"#6C00A8\",\"#6D00A8\",\"#6F00A8\",\"#7000A8\",\"#7200A8\",\"#7300A8\",\"#7500A8\",\"#7601A8\",\"#7801A8\",\"#7901A8\",\"#7B02A8\",\"#7C02A7\",\"#7E03A7\",\"#7F03A7\",\"#8104A7\",\"#8204A7\",\"#8405A6\",\"#8506A6\",\"#8607A6\",\"#8807A5\",\"#8908A5\",\"#8B09A4\",\"#8C0AA4\",\"#8E0CA4\",\"#8F0DA3\",\"#900EA3\",\"#920FA2\",\"#9310A1\",\"#9511A1\",\"#9612A0\",\"#9713A0\",\"#99149F\",\"#9A159E\",\"#9B179E\",\"#9D189D\",\"#9E199C\",\"#9F1A9B\",\"#A01B9B\",\"#A21C9A\",\"#A31D99\",\"#A41E98\",\"#A51F97\",\"#A72197\",\"#A82296\",\"#A92395\",\"#AA2494\",\"#AC2593\",\"#AD2692\",\"#AE2791\",\"#AF2890\",\"#B02A8F\",\"#B12B8F\",\"#B22C8E\",\"#B42D8D\",\"#B52E8C\",\"#B62F8B\",\"#B7308A\",\"#B83289\",\"#B93388\",\"#BA3487\",\"#BB3586\",\"#BC3685\",\"#BD3784\",\"#BE3883\",\"#BF3982\",\"#C03B81\",\"#C13C80\",\"#C23D80\",\"#C33E7F\",\"#C43F7E\",\"#C5407D\",\"#C6417C\",\"#C7427B\",\"#C8447A\",\"#C94579\",\"#CA4678\",\"#CB4777\",\"#CC4876\",\"#CD4975\",\"#CE4A75\",\"#CF4B74\",\"#D04D73\",\"#D14E72\",\"#D14F71\",\"#D25070\",\"#D3516F\",\"#D4526E\",\"#D5536D\",\"#D6556D\",\"#D7566C\",\"#D7576B\",\"#D8586A\",\"#D95969\",\"#DA5A68\",\"#DB5B67\",\"#DC5D66\",\"#DC5E66\",\"#DD5F65\",\"#DE6064\",\"#DF6163\",\"#DF6262\",\"#E06461\",\"#E16560\",\"#E26660\",\"#E3675F\",\"#E3685E\",\"#E46A5D\",\"#E56B5C\",\"#E56C5B\",\"#E66D5A\",\"#E76E5A\",\"#E87059\",\"#E87158\",\"#E97257\",\"#EA7356\",\"#EA7455\",\"#EB7654\",\"#EC7754\",\"#EC7853\",\"#ED7952\",\"#ED7B51\",\"#EE7C50\",\"#EF7D4F\",\"#EF7E4E\",\"#F0804D\",\"#F0814D\",\"#F1824C\",\"#F2844B\",\"#F2854A\",\"#F38649\",\"#F38748\",\"#F48947\",\"#F48A47\",\"#F58B46\",\"#F58D45\",\"#F68E44\",\"#F68F43\",\"#F69142\",\"#F79241\",\"#F79341\",\"#F89540\",\"#F8963F\",\"#F8983E\",\"#F9993D\",\"#F99A3C\",\"#FA9C3B\",\"#FA9D3A\",\"#FA9F3A\",\"#FAA039\",\"#FBA238\",\"#FBA337\",\"#FBA436\",\"#FCA635\",\"#FCA735\",\"#FCA934\",\"#FCAA33\",\"#FCAC32\",\"#FCAD31\",\"#FDAF31\",\"#FDB030\",\"#FDB22F\",\"#FDB32E\",\"#FDB52D\",\"#FDB62D\",\"#FDB82C\",\"#FDB92B\",\"#FDBB2B\",\"#FDBC2A\",\"#FDBE29\",\"#FDC029\",\"#FDC128\",\"#FDC328\",\"#FDC427\",\"#FDC626\",\"#FCC726\",\"#FCC926\",\"#FCCB25\",\"#FCCC25\",\"#FCCE25\",\"#FBD024\",\"#FBD124\",\"#FBD324\",\"#FAD524\",\"#FAD624\",\"#FAD824\",\"#F9D924\",\"#F9DB24\",\"#F8DD24\",\"#F8DF24\",\"#F7E024\",\"#F7E225\",\"#F6E425\",\"#F6E525\",\"#F5E726\",\"#F5E926\",\"#F4EA26\",\"#F3EC26\",\"#F3EE26\",\"#F2F026\",\"#F2F126\",\"#F1F326\",\"#F0F525\",\"#F0F623\",\"#EFF821\"]},\"id\":\"3168\",\"type\":\"LinearColorMapper\"},{\"attributes\":{\"coordinates\":null,\"formatter\":{\"id\":\"3780\"},\"group\":null,\"major_label_policy\":{\"id\":\"3781\"},\"ticker\":{\"id\":\"3539\"}},\"id\":\"3538\",\"type\":\"DatetimeAxis\"},{\"attributes\":{\"bottom_units\":\"screen\",\"coordinates\":null,\"fill_alpha\":0.5,\"fill_color\":\"lightgrey\",\"group\":null,\"left_units\":\"screen\",\"level\":\"overlay\",\"line_alpha\":1.0,\"line_color\":\"black\",\"line_dash\":[4,4],\"line_width\":2,\"right_units\":\"screen\",\"syncable\":false,\"top_units\":\"screen\"},\"id\":\"3551\",\"type\":\"BoxAnnotation\"},{\"attributes\":{},\"id\":\"3782\",\"type\":\"UnionRenderers\"},{\"attributes\":{\"base\":60,\"mantissas\":[1,2,5,10,15,20,30],\"max_interval\":1800000.0,\"min_interval\":1000.0,\"num_minor_ticks\":0},\"id\":\"3786\",\"type\":\"AdaptiveTicker\"},{\"attributes\":{\"months\":[0,1,2,3,4,5,6,7,8,9,10,11]},\"id\":\"3792\",\"type\":\"MonthsTicker\"},{\"attributes\":{\"bottom\":{\"field\":\"bottom\"},\"fill_alpha\":{\"value\":0.1},\"fill_color\":{\"field\":\"pts_per_game\",\"transform\":{\"id\":\"3168\"}},\"hatch_alpha\":{\"value\":0.1},\"hatch_color\":{\"field\":\"pts_per_game\",\"transform\":{\"id\":\"3168\"}},\"line_alpha\":{\"value\":0.1},\"line_color\":{\"field\":\"pts_per_game\",\"transform\":{\"id\":\"3168\"}},\"top\":{\"field\":\"top\"},\"width\":{\"value\":27648000000},\"x\":{\"field\":\"year\"}},\"id\":\"3561\",\"type\":\"VBar\"},{\"attributes\":{},\"id\":\"3777\",\"type\":\"AllLabels\"},{\"attributes\":{\"base\":24,\"mantissas\":[1,2,4,6,8,12],\"max_interval\":43200000.0,\"min_interval\":3600000.0,\"num_minor_ticks\":0},\"id\":\"3787\",\"type\":\"AdaptiveTicker\"},{\"attributes\":{\"bottom\":{\"field\":\"bottom\"},\"fill_color\":{\"field\":\"pts_per_game\",\"transform\":{\"id\":\"3168\"}},\"hatch_color\":{\"field\":\"pts_per_game\",\"transform\":{\"id\":\"3168\"}},\"line_color\":{\"field\":\"pts_per_game\",\"transform\":{\"id\":\"3168\"}},\"top\":{\"field\":\"top\"},\"width\":{\"value\":27648000000},\"x\":{\"field\":\"year\"}},\"id\":\"3560\",\"type\":\"VBar\"},{\"attributes\":{},\"id\":\"3780\",\"type\":\"DatetimeTickFormatter\"},{\"attributes\":{\"days\":[1,4,7,10,13,16,19,22,25,28]},\"id\":\"3789\",\"type\":\"DaysTicker\"},{\"attributes\":{},\"id\":\"3796\",\"type\":\"YearsTicker\"},{\"attributes\":{\"color_mapper\":{\"id\":\"3168\"},\"coordinates\":null,\"group\":null,\"label_standoff\":8,\"location\":[0,0],\"major_label_policy\":{\"id\":\"3778\"}},\"id\":\"3565\",\"type\":\"ColorBar\"},{\"attributes\":{},\"id\":\"3783\",\"type\":\"Selection\"},{\"attributes\":{\"months\":[0,6]},\"id\":\"3795\",\"type\":\"MonthsTicker\"},{\"attributes\":{\"coordinates\":null,\"group\":null},\"id\":\"3773\",\"type\":\"Title\"}],\"root_ids\":[\"3529\"]},\"title\":\"Bokeh Application\",\"version\":\"2.4.3\"}};\n",
       "  const render_items = [{\"docid\":\"8b2a5afd-50ae-471e-8498-1c01f6e2290c\",\"root_ids\":[\"3529\"],\"roots\":{\"3529\":\"8eb82558-fa57-414d-913e-264d59b6da06\"}}];\n",
       "  root.Bokeh.embed.embed_items_notebook(docs_json, render_items);\n",
       "  }\n",
       "  if (root.Bokeh !== undefined) {\n",
       "    embed_document(root);\n",
       "  } else {\n",
       "    let attempts = 0;\n",
       "    const timer = setInterval(function(root) {\n",
       "      if (root.Bokeh !== undefined) {\n",
       "        clearInterval(timer);\n",
       "        embed_document(root);\n",
       "      } else {\n",
       "        attempts++;\n",
       "        if (attempts > 100) {\n",
       "          clearInterval(timer);\n",
       "          console.log(\"Bokeh: ERROR: Unable to run BokehJS code because BokehJS library is missing\");\n",
       "        }\n",
       "      }\n",
       "    }, 10, root)\n",
       "  }\n",
       "})(window);"
      ],
      "application/vnd.bokehjs_exec.v0+json": ""
     },
     "metadata": {
      "application/vnd.bokehjs_exec.v0+json": {
       "id": "3529"
      }
     },
     "output_type": "display_data"
    }
   ],
   "source": [
    "show(p)"
   ]
  },
  {
   "cell_type": "code",
   "execution_count": 48,
   "metadata": {
    "slideshow": {
     "slide_type": "slide"
    }
   },
   "outputs": [],
   "source": [
    "from bokeh.models.tools import HoverTool\n",
    "hover = HoverTool(\n",
    "    tooltips=[\n",
    "        (\"Points per game\", \"@pts_per_game\"),\n",
    "        (\"Games played\", \"@GP\")\n",
    "    ]\n",
    ")"
   ]
  },
  {
   "cell_type": "code",
   "execution_count": 49,
   "metadata": {
    "slideshow": {
     "slide_type": "slide"
    }
   },
   "outputs": [],
   "source": [
    "src = cds(wayne)\n",
    "p = figure(x_axis_type='datetime', \n",
    "           width=500,\n",
    "           height=500, \n",
    "           y_range=list(wayne.tmID.cat.categories)\n",
    ")\n",
    "p.vbar(bottom='bottom', top='top', x='year', width=width,\n",
    "       color={'field': 'pts_per_game', 'transform': color_mapper}, source=src)\n",
    "color_bar = ColorBar(color_mapper=color_mapper,\n",
    "                     label_standoff=8, border_line_color=None, \n",
    "                     location=(0,0)\n",
    ")\n",
    "\n",
    "p.add_layout(color_bar, 'right')\n",
    "p.add_tools(hover);"
   ]
  },
  {
   "cell_type": "code",
   "execution_count": 50,
   "metadata": {
    "slideshow": {
     "slide_type": "slide"
    }
   },
   "outputs": [
    {
     "data": {
      "text/html": [
       "\n",
       "  <div class=\"bk-root\" id=\"4f4b58a8-f296-4b79-8291-01f7f420fa68\" data-root-id=\"3919\"></div>\n"
      ]
     },
     "metadata": {},
     "output_type": "display_data"
    },
    {
     "data": {
      "application/javascript": [
       "(function(root) {\n",
       "  function embed_document(root) {\n",
       "  const docs_json = {\"13164240-f892-4b6e-bab7-13d228849f91\":{\"defs\":[],\"roots\":{\"references\":[{\"attributes\":{\"below\":[{\"id\":\"3928\"}],\"center\":[{\"id\":\"3931\"},{\"id\":\"3934\"}],\"height\":500,\"left\":[{\"id\":\"3932\"}],\"renderers\":[{\"id\":\"3953\"}],\"right\":[{\"id\":\"3955\"}],\"title\":{\"id\":\"4188\"},\"toolbar\":{\"id\":\"3942\"},\"width\":500,\"x_range\":{\"id\":\"3920\"},\"x_scale\":{\"id\":\"3924\"},\"y_range\":{\"id\":\"3922\"},\"y_scale\":{\"id\":\"3926\"}},\"id\":\"3919\",\"subtype\":\"Figure\",\"type\":\"Plot\"},{\"attributes\":{\"coordinates\":null,\"group\":null},\"id\":\"4188\",\"type\":\"Title\"},{\"attributes\":{\"bottom\":{\"field\":\"bottom\"},\"fill_alpha\":{\"value\":0.2},\"fill_color\":{\"field\":\"pts_per_game\",\"transform\":{\"id\":\"3168\"}},\"hatch_alpha\":{\"value\":0.2},\"hatch_color\":{\"field\":\"pts_per_game\",\"transform\":{\"id\":\"3168\"}},\"line_alpha\":{\"value\":0.2},\"line_color\":{\"field\":\"pts_per_game\",\"transform\":{\"id\":\"3168\"}},\"top\":{\"field\":\"top\"},\"width\":{\"value\":27648000000},\"x\":{\"field\":\"year\"}},\"id\":\"3952\",\"type\":\"VBar\"},{\"attributes\":{},\"id\":\"3933\",\"type\":\"CategoricalTicker\"},{\"attributes\":{\"coordinates\":null,\"data_source\":{\"id\":\"3918\"},\"glyph\":{\"id\":\"3950\"},\"group\":null,\"hover_glyph\":null,\"muted_glyph\":{\"id\":\"3952\"},\"nonselection_glyph\":{\"id\":\"3951\"},\"view\":{\"id\":\"3954\"}},\"id\":\"3953\",\"type\":\"GlyphRenderer\"},{\"attributes\":{\"days\":[1,2,3,4,5,6,7,8,9,10,11,12,13,14,15,16,17,18,19,20,21,22,23,24,25,26,27,28,29,30,31]},\"id\":\"4203\",\"type\":\"DaysTicker\"},{\"attributes\":{\"days\":[1,8,15,22]},\"id\":\"4205\",\"type\":\"DaysTicker\"},{\"attributes\":{\"months\":[0,1,2,3,4,5,6,7,8,9,10,11]},\"id\":\"4207\",\"type\":\"MonthsTicker\"},{\"attributes\":{\"tools\":[{\"id\":\"3935\"},{\"id\":\"3936\"},{\"id\":\"3937\"},{\"id\":\"3938\"},{\"id\":\"3939\"},{\"id\":\"3940\"},{\"id\":\"3917\"}]},\"id\":\"3942\",\"type\":\"Toolbar\"},{\"attributes\":{\"months\":[0,6]},\"id\":\"4210\",\"type\":\"MonthsTicker\"},{\"attributes\":{\"bottom\":{\"field\":\"bottom\"},\"fill_alpha\":{\"value\":0.1},\"fill_color\":{\"field\":\"pts_per_game\",\"transform\":{\"id\":\"3168\"}},\"hatch_alpha\":{\"value\":0.1},\"hatch_color\":{\"field\":\"pts_per_game\",\"transform\":{\"id\":\"3168\"}},\"line_alpha\":{\"value\":0.1},\"line_color\":{\"field\":\"pts_per_game\",\"transform\":{\"id\":\"3168\"}},\"top\":{\"field\":\"top\"},\"width\":{\"value\":27648000000},\"x\":{\"field\":\"year\"}},\"id\":\"3951\",\"type\":\"VBar\"},{\"attributes\":{},\"id\":\"3926\",\"type\":\"CategoricalScale\"},{\"attributes\":{\"bottom_units\":\"screen\",\"coordinates\":null,\"fill_alpha\":0.5,\"fill_color\":\"lightgrey\",\"group\":null,\"left_units\":\"screen\",\"level\":\"overlay\",\"line_alpha\":1.0,\"line_color\":\"black\",\"line_dash\":[4,4],\"line_width\":2,\"right_units\":\"screen\",\"syncable\":false,\"top_units\":\"screen\"},\"id\":\"3941\",\"type\":\"BoxAnnotation\"},{\"attributes\":{\"days\":[1,15]},\"id\":\"4206\",\"type\":\"DaysTicker\"},{\"attributes\":{},\"id\":\"3935\",\"type\":\"PanTool\"},{\"attributes\":{},\"id\":\"3939\",\"type\":\"ResetTool\"},{\"attributes\":{\"num_minor_ticks\":5,\"tickers\":[{\"id\":\"4200\"},{\"id\":\"4201\"},{\"id\":\"4202\"},{\"id\":\"4203\"},{\"id\":\"4204\"},{\"id\":\"4205\"},{\"id\":\"4206\"},{\"id\":\"4207\"},{\"id\":\"4208\"},{\"id\":\"4209\"},{\"id\":\"4210\"},{\"id\":\"4211\"}]},\"id\":\"3929\",\"type\":\"DatetimeTicker\"},{\"attributes\":{},\"id\":\"3936\",\"type\":\"WheelZoomTool\"},{\"attributes\":{\"days\":[1,4,7,10,13,16,19,22,25,28]},\"id\":\"4204\",\"type\":\"DaysTicker\"},{\"attributes\":{\"overlay\":{\"id\":\"3941\"}},\"id\":\"3937\",\"type\":\"BoxZoomTool\"},{\"attributes\":{\"coordinates\":null,\"formatter\":{\"id\":\"4195\"},\"group\":null,\"major_label_policy\":{\"id\":\"4196\"},\"ticker\":{\"id\":\"3929\"}},\"id\":\"3928\",\"type\":\"DatetimeAxis\"},{\"attributes\":{\"base\":60,\"mantissas\":[1,2,5,10,15,20,30],\"max_interval\":1800000.0,\"min_interval\":1000.0,\"num_minor_ticks\":0},\"id\":\"4201\",\"type\":\"AdaptiveTicker\"},{\"attributes\":{\"factors\":[\"EDM\",\"LAK\",\"NYR\",\"STL\"]},\"id\":\"3922\",\"type\":\"FactorRange\"},{\"attributes\":{},\"id\":\"3938\",\"type\":\"SaveTool\"},{\"attributes\":{},\"id\":\"4192\",\"type\":\"AllLabels\"},{\"attributes\":{\"source\":{\"id\":\"3918\"}},\"id\":\"3954\",\"type\":\"CDSView\"},{\"attributes\":{},\"id\":\"4193\",\"type\":\"NoOverlap\"},{\"attributes\":{\"data\":{\"GP\":{\"__ndarray__\":\"AAAAAAAAVEAAAAAAAABUQAAAAAAAAFRAAAAAAACAUkAAAAAAAABUQAAAAAAAAFRAAAAAAADAU0AAAAAAAABQQAAAAAAAgFNAAAAAAABAUkAAAAAAAIBTQAAAAAAAgFJAAAAAAACARkAAAAAAAEBUQAAAAAAAAEhAAAAAAAAAT0AAAAAAAAAyQAAAAAAAgFRAAAAAAACAVEAAAAAAAIBRQA==\",\"dtype\":\"float64\",\"order\":\"little\",\"shape\":[20]},\"Pts\":{\"__ndarray__\":\"AAAAAACAZEAAAAAAAIBqQAAAAAAAgGhAAAAAAACgaUAAAAAAAABqQAAAAAAA4GpAAAAAAADgZkAAAAAAAKBiQAAAAAAAAGVAAAAAAADAYUAAAAAAAGBkQAAAAAAAQF5AAAAAAABAUEAAAAAAAEBgQAAAAAAAAEhAAAAAAABAVEAAAAAAAAA1QAAAAAAAQFhAAAAAAACAVkAAAAAAAABPQA==\",\"dtype\":\"float64\",\"order\":\"little\",\"shape\":[20]},\"bottom\":{\"__ndarray__\":\"GJyPwfkYvD8YnI/B+Ri8Pxicj8H5GLw/ytG4HI3LwT8YnI/B+Ri8Pxicj8H5GLw/WJ2K1alYvT8I2J+A/QnIP+pZmJ6F6fE/TcrWpGxN8j/qWZiehenxPzkal6NxOfI/fQzOx+B89D+uSdmalK3xP0H8DsTvQPQ/KVuTsjUp8z9Mz8L0LEwLQM3MzMzMzABAzczMzMzMAEBE7UrUrkQBQA==\",\"dtype\":\"float64\",\"order\":\"little\",\"shape\":[20]},\"height\":{\"__ndarray__\":\"+hicj8H56D/6GJyPwfnoP/oYnI/B+eg/G5ejcTka5z/6GJyPwfnoP/oYnI/B+eg/qliditWp6D/8E7A/AfvjP1qYnoXpWeg/y9akbE3K5j9amJ6F6VnoPxuXo3E5Guc/GpyPwfkY3D9K2ZqUrUnpP/gdiN+B+N0/XJOyNSlb4z97FqZnYXrGP5qZmZmZmek/mpmZmZmZ6T/blahdidrlPw==\",\"dtype\":\"float64\",\"order\":\"little\",\"shape\":[20]},\"playerID\":[\"gretzwa01\",\"gretzwa01\",\"gretzwa01\",\"gretzwa01\",\"gretzwa01\",\"gretzwa01\",\"gretzwa01\",\"gretzwa01\",\"gretzwa01\",\"gretzwa01\",\"gretzwa01\",\"gretzwa01\",\"gretzwa01\",\"gretzwa01\",\"gretzwa01\",\"gretzwa01\",\"gretzwa01\",\"gretzwa01\",\"gretzwa01\",\"gretzwa01\"],\"pts_per_game\":{\"__ndarray__\":\"ZmZmZmZmAEAzMzMzMzMFQJqZmZmZmQNAmCKfdYMpBkDNzMzMzMwEQAAAAAAAgAVAEJWO7BmIAkAAAAAAAKACQLETO7ETOwFA+fHjx48f/z99y7d8y7cAQJgin3WDKfo/x3Ecx3Ec9z+IRcrA0635PwAAAAAAAPA/55xzzjnn9D+rqqqqqqryP+1K1K5E7fI/kMH5GJyP8T98xVd8xVfsPw==\",\"dtype\":\"float64\",\"order\":\"little\",\"shape\":[20]},\"tmCode\":{\"__ndarray__\":\"AAAAAAAAAAABAQEBAQEBAQMCAgI=\",\"dtype\":\"int8\",\"order\":\"little\",\"shape\":[20]},\"tmID\":[\"EDM\",\"EDM\",\"EDM\",\"EDM\",\"EDM\",\"EDM\",\"EDM\",\"EDM\",\"LAK\",\"LAK\",\"LAK\",\"LAK\",\"LAK\",\"LAK\",\"LAK\",\"LAK\",\"STL\",\"NYR\",\"NYR\",\"NYR\"],\"top\":{\"__ndarray__\":\"fQzOx+B87D99DM7H4HzsP30MzsfgfOw/jsvRuByN6z99DM7H4HzsP30MzsfgfOw/VaxOxepU7D/+CdifgP3pPxemZ2F6Fv4/sjUpW5Oy/T8Xpmdhehb+P8blaFyOxv0/hPMxOB+D+z9TtiZla1L+P78D8TsQv/s/16RsTcrW/D+0MD0L07MMQDQzMzMzMwdANDMzMzMzB0C7ErUrUbsGQA==\",\"dtype\":\"float64\",\"order\":\"little\",\"shape\":[20]},\"year\":{\"__ndarray__\":\"AAAAHM5dUkIAAAD+AzVUQgAAAEnwClZCAAAAlNzgV0IAAADfyLZZQgAAAMH+jVtCAAAADOtjXUIAAABX1zlfQgAAANHhh2BCAAAAwnxzYUIAAIDncl5iQgAAAA1pSWNCAACAMl80ZEIAAIAj+h9lQgAAAEnwCmZCAACAbub1ZkIAAIBu5vVmQgAAAJTc4GdCAAAAhXfMaEIAAICqbbdpQg==\",\"dtype\":\"float64\",\"order\":\"little\",\"shape\":[20]}},\"selected\":{\"id\":\"4198\"},\"selection_policy\":{\"id\":\"4197\"}},\"id\":\"3918\",\"type\":\"ColumnDataSource\"},{\"attributes\":{},\"id\":\"4196\",\"type\":\"AllLabels\"},{\"attributes\":{},\"id\":\"3940\",\"type\":\"HelpTool\"},{\"attributes\":{},\"id\":\"4198\",\"type\":\"Selection\"},{\"attributes\":{\"bottom\":{\"field\":\"bottom\"},\"fill_color\":{\"field\":\"pts_per_game\",\"transform\":{\"id\":\"3168\"}},\"hatch_color\":{\"field\":\"pts_per_game\",\"transform\":{\"id\":\"3168\"}},\"line_color\":{\"field\":\"pts_per_game\",\"transform\":{\"id\":\"3168\"}},\"top\":{\"field\":\"top\"},\"width\":{\"value\":27648000000},\"x\":{\"field\":\"year\"}},\"id\":\"3950\",\"type\":\"VBar\"},{\"attributes\":{\"high\":2.77027027027027,\"low\":0.8857142857142857,\"palette\":[\"#0C0786\",\"#100787\",\"#130689\",\"#15068A\",\"#18068B\",\"#1B068C\",\"#1D068D\",\"#1F058E\",\"#21058F\",\"#230590\",\"#250591\",\"#270592\",\"#290593\",\"#2B0594\",\"#2D0494\",\"#2F0495\",\"#310496\",\"#330497\",\"#340498\",\"#360498\",\"#380499\",\"#3A049A\",\"#3B039A\",\"#3D039B\",\"#3F039C\",\"#40039C\",\"#42039D\",\"#44039E\",\"#45039E\",\"#47029F\",\"#49029F\",\"#4A02A0\",\"#4C02A1\",\"#4E02A1\",\"#4F02A2\",\"#5101A2\",\"#5201A3\",\"#5401A3\",\"#5601A3\",\"#5701A4\",\"#5901A4\",\"#5A00A5\",\"#5C00A5\",\"#5E00A5\",\"#5F00A6\",\"#6100A6\",\"#6200A6\",\"#6400A7\",\"#6500A7\",\"#6700A7\",\"#6800A7\",\"#6A00A7\",\"#6C00A8\",\"#6D00A8\",\"#6F00A8\",\"#7000A8\",\"#7200A8\",\"#7300A8\",\"#7500A8\",\"#7601A8\",\"#7801A8\",\"#7901A8\",\"#7B02A8\",\"#7C02A7\",\"#7E03A7\",\"#7F03A7\",\"#8104A7\",\"#8204A7\",\"#8405A6\",\"#8506A6\",\"#8607A6\",\"#8807A5\",\"#8908A5\",\"#8B09A4\",\"#8C0AA4\",\"#8E0CA4\",\"#8F0DA3\",\"#900EA3\",\"#920FA2\",\"#9310A1\",\"#9511A1\",\"#9612A0\",\"#9713A0\",\"#99149F\",\"#9A159E\",\"#9B179E\",\"#9D189D\",\"#9E199C\",\"#9F1A9B\",\"#A01B9B\",\"#A21C9A\",\"#A31D99\",\"#A41E98\",\"#A51F97\",\"#A72197\",\"#A82296\",\"#A92395\",\"#AA2494\",\"#AC2593\",\"#AD2692\",\"#AE2791\",\"#AF2890\",\"#B02A8F\",\"#B12B8F\",\"#B22C8E\",\"#B42D8D\",\"#B52E8C\",\"#B62F8B\",\"#B7308A\",\"#B83289\",\"#B93388\",\"#BA3487\",\"#BB3586\",\"#BC3685\",\"#BD3784\",\"#BE3883\",\"#BF3982\",\"#C03B81\",\"#C13C80\",\"#C23D80\",\"#C33E7F\",\"#C43F7E\",\"#C5407D\",\"#C6417C\",\"#C7427B\",\"#C8447A\",\"#C94579\",\"#CA4678\",\"#CB4777\",\"#CC4876\",\"#CD4975\",\"#CE4A75\",\"#CF4B74\",\"#D04D73\",\"#D14E72\",\"#D14F71\",\"#D25070\",\"#D3516F\",\"#D4526E\",\"#D5536D\",\"#D6556D\",\"#D7566C\",\"#D7576B\",\"#D8586A\",\"#D95969\",\"#DA5A68\",\"#DB5B67\",\"#DC5D66\",\"#DC5E66\",\"#DD5F65\",\"#DE6064\",\"#DF6163\",\"#DF6262\",\"#E06461\",\"#E16560\",\"#E26660\",\"#E3675F\",\"#E3685E\",\"#E46A5D\",\"#E56B5C\",\"#E56C5B\",\"#E66D5A\",\"#E76E5A\",\"#E87059\",\"#E87158\",\"#E97257\",\"#EA7356\",\"#EA7455\",\"#EB7654\",\"#EC7754\",\"#EC7853\",\"#ED7952\",\"#ED7B51\",\"#EE7C50\",\"#EF7D4F\",\"#EF7E4E\",\"#F0804D\",\"#F0814D\",\"#F1824C\",\"#F2844B\",\"#F2854A\",\"#F38649\",\"#F38748\",\"#F48947\",\"#F48A47\",\"#F58B46\",\"#F58D45\",\"#F68E44\",\"#F68F43\",\"#F69142\",\"#F79241\",\"#F79341\",\"#F89540\",\"#F8963F\",\"#F8983E\",\"#F9993D\",\"#F99A3C\",\"#FA9C3B\",\"#FA9D3A\",\"#FA9F3A\",\"#FAA039\",\"#FBA238\",\"#FBA337\",\"#FBA436\",\"#FCA635\",\"#FCA735\",\"#FCA934\",\"#FCAA33\",\"#FCAC32\",\"#FCAD31\",\"#FDAF31\",\"#FDB030\",\"#FDB22F\",\"#FDB32E\",\"#FDB52D\",\"#FDB62D\",\"#FDB82C\",\"#FDB92B\",\"#FDBB2B\",\"#FDBC2A\",\"#FDBE29\",\"#FDC029\",\"#FDC128\",\"#FDC328\",\"#FDC427\",\"#FDC626\",\"#FCC726\",\"#FCC926\",\"#FCCB25\",\"#FCCC25\",\"#FCCE25\",\"#FBD024\",\"#FBD124\",\"#FBD324\",\"#FAD524\",\"#FAD624\",\"#FAD824\",\"#F9D924\",\"#F9DB24\",\"#F8DD24\",\"#F8DF24\",\"#F7E024\",\"#F7E225\",\"#F6E425\",\"#F6E525\",\"#F5E726\",\"#F5E926\",\"#F4EA26\",\"#F3EC26\",\"#F3EE26\",\"#F2F026\",\"#F2F126\",\"#F1F326\",\"#F0F525\",\"#F0F623\",\"#EFF821\"]},\"id\":\"3168\",\"type\":\"LinearColorMapper\"},{\"attributes\":{\"mantissas\":[1,2,5],\"max_interval\":500.0,\"num_minor_ticks\":0},\"id\":\"4200\",\"type\":\"AdaptiveTicker\"},{\"attributes\":{},\"id\":\"3924\",\"type\":\"LinearScale\"},{\"attributes\":{\"months\":[0,2,4,6,8,10]},\"id\":\"4208\",\"type\":\"MonthsTicker\"},{\"attributes\":{\"coordinates\":null,\"formatter\":{\"id\":\"4191\"},\"group\":null,\"major_label_policy\":{\"id\":\"4192\"},\"ticker\":{\"id\":\"3933\"}},\"id\":\"3932\",\"type\":\"CategoricalAxis\"},{\"attributes\":{},\"id\":\"3920\",\"type\":\"DataRange1d\"},{\"attributes\":{},\"id\":\"4197\",\"type\":\"UnionRenderers\"},{\"attributes\":{\"axis\":{\"id\":\"3928\"},\"coordinates\":null,\"group\":null,\"ticker\":null},\"id\":\"3931\",\"type\":\"Grid\"},{\"attributes\":{\"callback\":null,\"tooltips\":[[\"Points per game\",\"@pts_per_game\"],[\"Games played\",\"@GP\"]]},\"id\":\"3917\",\"type\":\"HoverTool\"},{\"attributes\":{\"months\":[0,4,8]},\"id\":\"4209\",\"type\":\"MonthsTicker\"},{\"attributes\":{},\"id\":\"4211\",\"type\":\"YearsTicker\"},{\"attributes\":{\"color_mapper\":{\"id\":\"3168\"},\"coordinates\":null,\"group\":null,\"label_standoff\":8,\"location\":[0,0],\"major_label_policy\":{\"id\":\"4193\"}},\"id\":\"3955\",\"type\":\"ColorBar\"},{\"attributes\":{},\"id\":\"4191\",\"type\":\"CategoricalTickFormatter\"},{\"attributes\":{},\"id\":\"4195\",\"type\":\"DatetimeTickFormatter\"},{\"attributes\":{\"base\":24,\"mantissas\":[1,2,4,6,8,12],\"max_interval\":43200000.0,\"min_interval\":3600000.0,\"num_minor_ticks\":0},\"id\":\"4202\",\"type\":\"AdaptiveTicker\"},{\"attributes\":{\"axis\":{\"id\":\"3932\"},\"coordinates\":null,\"dimension\":1,\"group\":null,\"ticker\":null},\"id\":\"3934\",\"type\":\"Grid\"}],\"root_ids\":[\"3919\"]},\"title\":\"Bokeh Application\",\"version\":\"2.4.3\"}};\n",
       "  const render_items = [{\"docid\":\"13164240-f892-4b6e-bab7-13d228849f91\",\"root_ids\":[\"3919\"],\"roots\":{\"3919\":\"4f4b58a8-f296-4b79-8291-01f7f420fa68\"}}];\n",
       "  root.Bokeh.embed.embed_items_notebook(docs_json, render_items);\n",
       "  }\n",
       "  if (root.Bokeh !== undefined) {\n",
       "    embed_document(root);\n",
       "  } else {\n",
       "    let attempts = 0;\n",
       "    const timer = setInterval(function(root) {\n",
       "      if (root.Bokeh !== undefined) {\n",
       "        clearInterval(timer);\n",
       "        embed_document(root);\n",
       "      } else {\n",
       "        attempts++;\n",
       "        if (attempts > 100) {\n",
       "          clearInterval(timer);\n",
       "          console.log(\"Bokeh: ERROR: Unable to run BokehJS code because BokehJS library is missing\");\n",
       "        }\n",
       "      }\n",
       "    }, 10, root)\n",
       "  }\n",
       "})(window);"
      ],
      "application/vnd.bokehjs_exec.v0+json": ""
     },
     "metadata": {
      "application/vnd.bokehjs_exec.v0+json": {
       "id": "3919"
      }
     },
     "output_type": "display_data"
    }
   ],
   "source": [
    "show(p)"
   ]
  }
 ],
 "metadata": {
  "kernelspec": {
   "display_name": "Python 3 (ipykernel)",
   "language": "python",
   "name": "python3"
  },
  "language_info": {
   "codemirror_mode": {
    "name": "ipython",
    "version": 3
   },
   "file_extension": ".py",
   "mimetype": "text/x-python",
   "name": "python",
   "nbconvert_exporter": "python",
   "pygments_lexer": "ipython3",
   "version": "3.7.13"
  }
 },
 "nbformat": 4,
 "nbformat_minor": 2
}

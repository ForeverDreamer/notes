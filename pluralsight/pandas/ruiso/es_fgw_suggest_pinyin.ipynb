{
 "cells": [
  {
   "cell_type": "code",
   "execution_count": 4,
   "metadata": {},
   "outputs": [
    {
     "data": {
      "text/plain": [
       "'\\n    概述：这个做成任务，每周或更久才更新一次。或者数据量大的变化时更新。不用太及时。\\n    做法是取出一些标题（不用所有，太久的太多或没用，自己把握取多少，速度能接受就行），然后切词，然后统计词频，然后取高频词，然后拼音，都准备好后，清空现有suggest，插入新的。（因为更新貌似更麻烦还不如重建）\\n    \\n\\n    scan all fgw_index items_of_topn_or_past_6month:\\n        get title and analyze to tokens #ares=es.indices.analyze(index=\\'fgw\\',body=dict(text=\\'政府投资及企业投资类铁路项目备案\\',analyzer=\\'ik_synonym_analyzer\\'),filter_path=\"tokens.token\")[\\'tokens\\']\\n    count tokens\\n    take token if len() >1 and count>n,n can set 100 or 50.\\n    maybe need to skip stop words\\n    \\n    for token in selected_tokens:\\n        get pinyin tokens:ares=es.indices.analyze(index=\\'fgw\\',body=dict(text=l[\\'_source\\'][\\'ruiso_suggest\\'][\\'input\\'][0],analyzer=\\'pinyin_analyzer\\'),filter_path=\"tokens.token\")[\\'tokens\\']\\n        add to items_to_update list,with token,pinyins,weight=count\\n    \\n    clear and insert items\\n'"
      ]
     },
     "execution_count": 4,
     "metadata": {},
     "output_type": "execute_result"
    }
   ],
   "source": [
    "'''\n",
    "    概述：这个做成任务，每周或更久才更新一次。或者数据量大的变化时更新。不用太及时。\n",
    "    做法是取出一些标题（不用所有，太久的太多或没用，自己把握取多少，速度能接受就行），然后切词，然后统计词频，然后取高频词，然后拼音，\n",
    "    都准备好后，清空现有suggest，插入新的。（因为更新貌似更麻烦还不如重建）\n",
    "    具体如下：\n",
    "\n",
    "    scan all fgw_index items_of_topn_or_past_6month:\n",
    "        get title and analyze to tokens #ares=es.indices.analyze(index='fgw',body=dict(text='政府投资及企业投资类铁路项目备案',analyzer='ik_synonym_analyzer'),filter_path=\"tokens.token\")['tokens']\n",
    "    count tokens\n",
    "    take token if len() >1 and count>n,n can set 100 or 50.\n",
    "    maybe need to skip stop words\n",
    "    \n",
    "    for token in selected_tokens:\n",
    "        get pinyin tokens:ares=es.indices.analyze(index='fgw',body=dict(text=l['_source']['ruiso_suggest']['input'][0],analyzer='pinyin_analyzer'),filter_path=\"tokens.token\")['tokens']\n",
    "        add to items_to_update list,with token,pinyins,weight=count\n",
    "    \n",
    "    clear and insert items\n",
    "'''"
   ]
  },
  {
   "cell_type": "code",
   "execution_count": null,
   "metadata": {},
   "outputs": [],
   "source": []
  },
  {
   "cell_type": "code",
   "execution_count": null,
   "metadata": {},
   "outputs": [],
   "source": []
  },
  {
   "cell_type": "code",
   "execution_count": 2,
   "metadata": {},
   "outputs": [],
   "source": [
    "import elasticsearch\n",
    "from elasticsearch import Elasticsearch,helpers\n",
    "es=Elasticsearch(\"192.168.71.20:9200\")"
   ]
  },
  {
   "cell_type": "code",
   "execution_count": 1,
   "metadata": {},
   "outputs": [
    {
     "data": {
      "text/plain": [
       "'\\n{\\n\\t\"fgw_suggest\": {\\n\\t\\t\"aliases\": {},\\n\\t\\t\"mappings\": {\\n\\t\\t\\t\"properties\": {\\n\\t\\t\\t\\t\"ruiso_suggest\": {\\n\\t\\t\\t\\t\\t\"type\": \"completion\",\\n\\t\\t\\t\\t\\t\"analyzer\": \"simple\",\\n\\t\\t\\t\\t\\t\"preserve_separators\": true,\\n\\t\\t\\t\\t\\t\"preserve_position_increments\": true,\\n\\t\\t\\t\\t\\t\"max_input_length\": 15\\n\\t\\t\\t\\t}\\n\\t\\t\\t}\\n\\t\\t},\\n\\t\\t\"settings\": {\\n\\t\\t\\t\"index\": {\\n\\t\\t\\t\\t\"routing\": {\\n\\t\\t\\t\\t\\t\"allocation\": {\\n\\t\\t\\t\\t\\t\\t\"include\": {\\n\\t\\t\\t\\t\\t\\t\\t\"_tier_preference\": \"data_content\"\\n\\t\\t\\t\\t\\t\\t}\\n\\t\\t\\t\\t\\t}\\n\\t\\t\\t\\t},\\n\\t\\t\\t\\t\"number_of_shards\": \"1\",\\n\\t\\t\\t\\t\"provided_name\": \"fgw_suggest\",\\n\\t\\t\\t\\t\"creation_date\": \"1666958173394\",\\n\\t\\t\\t\\t\"number_of_replicas\": \"1\",\\n\\t\\t\\t\\t\"uuid\": \"gzWOm1IjTzOswuBs1SF5uw\",\\n\\t\\t\\t\\t\"version\": {\\n\\t\\t\\t\\t\\t\"created\": \"7160299\"\\n\\t\\t\\t\\t}\\n\\t\\t\\t}\\n\\t\\t}\\n\\t}\\n}\\n'"
      ]
     },
     "execution_count": 1,
     "metadata": {},
     "output_type": "execute_result"
    }
   ],
   "source": [
    "\"\"\"\n",
    "{\n",
    "\t\"fgw_suggest\": {\n",
    "\t\t\"aliases\": {},\n",
    "\t\t\"mappings\": {\n",
    "\t\t\t\"properties\": {\n",
    "\t\t\t\t\"ruiso_suggest\": {\n",
    "\t\t\t\t\t\"type\": \"completion\",\n",
    "\t\t\t\t\t\"analyzer\": \"simple\",\n",
    "\t\t\t\t\t\"preserve_separators\": true,\n",
    "\t\t\t\t\t\"preserve_position_increments\": true,\n",
    "\t\t\t\t\t\"max_input_length\": 15\n",
    "\t\t\t\t}\n",
    "\t\t\t}\n",
    "\t\t},\n",
    "\t\t\"settings\": {\n",
    "\t\t\t\"index\": {\n",
    "\t\t\t\t\"routing\": {\n",
    "\t\t\t\t\t\"allocation\": {\n",
    "\t\t\t\t\t\t\"include\": {\n",
    "\t\t\t\t\t\t\t\"_tier_preference\": \"data_content\"\n",
    "\t\t\t\t\t\t}\n",
    "\t\t\t\t\t}\n",
    "\t\t\t\t},\n",
    "\t\t\t\t\"number_of_shards\": \"1\",\n",
    "\t\t\t\t\"provided_name\": \"fgw_suggest\",\n",
    "\t\t\t\t\"creation_date\": \"1666958173394\",\n",
    "\t\t\t\t\"number_of_replicas\": \"1\",\n",
    "\t\t\t\t\"uuid\": \"gzWOm1IjTzOswuBs1SF5uw\",\n",
    "\t\t\t\t\"version\": {\n",
    "\t\t\t\t\t\"created\": \"7160299\"\n",
    "\t\t\t\t}\n",
    "\t\t\t}\n",
    "\t\t}\n",
    "\t}\n",
    "}\n",
    "\"\"\""
   ]
  },
  {
   "cell_type": "code",
   "execution_count": 7,
   "metadata": {},
   "outputs": [],
   "source": [
    "total_items=es.count(index='fgw_suggest')['count']"
   ]
  },
  {
   "cell_type": "code",
   "execution_count": 25,
   "metadata": {},
   "outputs": [],
   "source": [
    "from tqdm import tqdm"
   ]
  },
  {
   "cell_type": "code",
   "execution_count": 16,
   "metadata": {},
   "outputs": [],
   "source": [
    "import time"
   ]
  },
  {
   "cell_type": "code",
   "execution_count": 13,
   "metadata": {},
   "outputs": [
    {
     "data": {
      "text/plain": [
       "{'tokens': [{'token': '中国人民银行',\n",
       "   'start_offset': 0,\n",
       "   'end_offset': 6,\n",
       "   'type': 'CN_WORD',\n",
       "   'position': 0}]}"
      ]
     },
     "execution_count": 13,
     "metadata": {},
     "output_type": "execute_result"
    }
   ],
   "source": [
    "ares=es.indices.analyze(index='fgw',body=dict(text='中国人民银行',analyzer='ik_synonym_search_analyzer'))#,filter_path=\"tokens.token\")['tokens']\n",
    "ares"
   ]
  },
  {
   "cell_type": "code",
   "execution_count": 36,
   "metadata": {},
   "outputs": [
    {
     "data": {
      "text/plain": [
       "{'tokens': [{'token': 'g',\n",
       "   'start_offset': 0,\n",
       "   'end_offset': 0,\n",
       "   'type': 'word',\n",
       "   'position': 0},\n",
       "  {'token': 'g-20',\n",
       "   'start_offset': 0,\n",
       "   'end_offset': 0,\n",
       "   'type': 'word',\n",
       "   'position': 0},\n",
       "  {'token': 'g20',\n",
       "   'start_offset': 0,\n",
       "   'end_offset': 0,\n",
       "   'type': 'word',\n",
       "   'position': 0},\n",
       "  {'token': '20',\n",
       "   'start_offset': 0,\n",
       "   'end_offset': 0,\n",
       "   'type': 'word',\n",
       "   'position': 1}]}"
      ]
     },
     "execution_count": 36,
     "metadata": {},
     "output_type": "execute_result"
    }
   ],
   "source": [
    "ares=es.indices.analyze(index='fgw',body=dict(text='G-20',analyzer='pinyin_analyzer'))#,filter_path=\"tokens.token\")['tokens']\n",
    "ares"
   ]
  },
  {
   "cell_type": "code",
   "execution_count": 7,
   "metadata": {},
   "outputs": [],
   "source": [
    "import re"
   ]
  },
  {
   "cell_type": "code",
   "execution_count": null,
   "metadata": {},
   "outputs": [],
   "source": []
  },
  {
   "cell_type": "code",
   "execution_count": 53,
   "metadata": {},
   "outputs": [],
   "source": [
    "from collections import Counter\n",
    "token_freqs=Counter()"
   ]
  },
  {
   "cell_type": "code",
   "execution_count": 54,
   "metadata": {},
   "outputs": [],
   "source": [
    "token_freqs.update(['这里','没用','自己','拼音'])\n",
    "token_freqs.update(['这里','没用','自己','拼音'])\n",
    "token_freqs.update(['这里','没用','自己','拼音'])\n",
    "token_freqs.update(['这里','没用','自己','拼音'])"
   ]
  },
  {
   "cell_type": "code",
   "execution_count": 55,
   "metadata": {},
   "outputs": [
    {
     "data": {
      "text/plain": [
       "[('这里', 4), ('没用', 4), ('自己', 4), ('拼音', 4)]"
      ]
     },
     "execution_count": 55,
     "metadata": {},
     "output_type": "execute_result"
    }
   ],
   "source": [
    "token_freqs.most_common(100)"
   ]
  },
  {
   "cell_type": "code",
   "execution_count": null,
   "metadata": {},
   "outputs": [],
   "source": []
  },
  {
   "cell_type": "code",
   "execution_count": 49,
   "metadata": {},
   "outputs": [],
   "source": [
    "'''原理：\n",
    "这里没用自己的拼音，而是用了es的拼索引的拼音功能。这里以前已经有了fgw_suggest，\n",
    "'''\n",
    "import re\n",
    "_re_py=re.compile('[a-zA-Z ]+')\n",
    "\n",
    "def es_analyze_zh_cut(raw_text):\n",
    "    ares=es.indices.analyze(index='fgw',body=dict(text=raw_text,analyzer='ik_synonym_search_analyzer'),filter_path=\"tokens.token\")['tokens']\n",
    "    ares=[e['token'] for e in ares]\n",
    "    return ares\n",
    "\n",
    "def es_analyze_suggest_and_pinyings(raw_token):\n",
    "    ares=es.indices.analyze(index='fgw',body=dict(text=raw_token,analyzer='pinyin_analyzer'),filter_path=\"tokens.token\")['tokens']\n",
    "    ares=[e['token'] for e in ares if e['token'] !=raw_token.lower()]\n",
    "    all_compls=[raw_token]\n",
    "    if len(ares)>1:\n",
    "        #https://github.com/medcl/elasticsearch-analysis-pinyin 这个顺需和返回得token 和这些有关。0是第一个拼音，1是汉字,2是首字母，3以后是其他字母\n",
    "        #这个或许应把 mapping 中的pinyin_analyzer keep_first_letter 关掉，然后不要首字母，然后自己用re去掉汉字，然后根据 position 排序后自己拼接，那样更安全\n",
    "        all_compls.append(ares.pop(1))\n",
    "        all_compls.append(''.join(ares))\n",
    "        all_compls.append(' '.join(ares))\n",
    "        \n",
    "        #all_compls+=[ares[2],''.join(ares[0:1]+ares[3:]),' '.join(ares[0:1]+ares[3:])]\n",
    "        return all_compls\n",
    "        \n",
    "    #return None# 没有拼音的一般都是有任何汉字的。\n",
    "\n"
   ]
  },
  {
   "cell_type": "code",
   "execution_count": null,
   "metadata": {},
   "outputs": [],
   "source": [
    "from collections import Counter\n",
    "token_freqs=Counter()\n",
    "total_items=es.count(index='fgw')['count']\n",
    "for li,l in tqdm(enumerate(helpers.scan(client=es,index='fgw',query=dict(_source=[\"title\"],query=dict(term=dict(scene=\"news\"))))),total=total_items):\n",
    "    l=l['_source'].get('title')\n",
    "    ts=es_analyze_zh_cut(l)\n",
    "    token_freqs.update(ts)"
   ]
  },
  {
   "cell_type": "code",
   "execution_count": 50,
   "metadata": {},
   "outputs": [
    {
     "name": "stderr",
     "output_type": "stream",
     "text": [
      "  0%|                                                                         | 0/802 [00:00<?, ?it/s]C:\\ProgramData\\Miniconda3\\lib\\site-packages\\elasticsearch\\connection\\base.py:177: ElasticsearchDeprecationWarning: Elasticsearch built-in security features are not enabled. Without authentication, your cluster could be accessible to anyone. See https://www.elastic.co/guide/en/elasticsearch/reference/7.16/security-minimal-setup.html to enable security.\n",
      "  warnings.warn(message, category=ElasticsearchDeprecationWarning)\n",
      "100%|██████████████████████████████████████████████████████████████| 802/802 [00:01<00:00, 651.14it/s]\n"
     ]
    }
   ],
   "source": [
    "newitems=[]\n",
    "most_commons=[(a,b) for a,b in token_freqs.most_common(10000) if b>20 and len(a)>1]\n",
    "\n",
    "for raw_token,token_weight in tqdm(most_commons):\n",
    "    all_compls=es_analyze_suggest_and_pinyings(raw_token)\n",
    "    if all_compls:\n",
    "        newbody={'_op_type': 'index','_index': 'fgw_suggest','doc':{'ruiso_suggest':{'input':all_compls,'weight':token_weight}}}\n",
    "        newitems.append(newbody)\n",
    "    "
   ]
  },
  {
   "cell_type": "code",
   "execution_count": null,
   "metadata": {},
   "outputs": [],
   "source": [
    "most_commons"
   ]
  },
  {
   "cell_type": "code",
   "execution_count": 29,
   "metadata": {},
   "outputs": [
    {
     "name": "stderr",
     "output_type": "stream",
     "text": [
      "100%|███████████████████████████████████████████████████████████████████████████| 62828/62828 [02:19<00:00, 450.99it/s]\n"
     ]
    }
   ],
   "source": [
    "'''原理：\n",
    "这里没用自己的拼音，而是用了es的拼音索引的拼音功能。这里以前已经有了fgw_suggest，\n",
    "'''\n",
    "\n",
    "newitems=[]\n",
    "for li,sl in tqdm(enumerate(helpers.scan(client=es,index='fgw_suggest')),total=total_items):\n",
    "    l=sl\n",
    "    ares=es.indices.analyze(index='fgw',body=dict(text=l['_source']['ruiso_suggest']['input'][0],analyzer='pinyin_analyzer'),filter_path=\"tokens.token\")['tokens']\n",
    "    ares=[e['token'] for e in ares]\n",
    "    if not ares or len(ares)<2:\n",
    "        continue\n",
    "    #print(ares,l)\n",
    "    #break\n",
    "    all_compls=[ares[1]]\n",
    "    if len(ares)>2:\n",
    "        all_compls+=[ares[2],''.join(ares[0:1]+ares[3:]),' '.join(ares[0:1]+ares[3:])]\n",
    "\n",
    "    newbody={'_op_type': 'update','_index': 'fgw_suggest','_id': l['_id'],'doc':{'ruiso_suggest':{'input':all_compls,'weight':l['_source']['ruiso_suggest']['weight']}}}\n",
    "    newitems.append(newbody)\n",
    "        "
   ]
  },
  {
   "cell_type": "code",
   "execution_count": 34,
   "metadata": {},
   "outputs": [
    {
     "data": {
      "text/plain": [
       "{'_index': 'fgw_suggest',\n",
       " '_type': '_doc',\n",
       " '_id': 'vOl8HoQByB9vxMP5ePOY',\n",
       " '_score': None,\n",
       " '_source': {'ruiso_suggest': {'input': ['中共中央党'], 'weight': 4}},\n",
       " 'sort': [62827]}"
      ]
     },
     "execution_count": 34,
     "metadata": {},
     "output_type": "execute_result"
    }
   ],
   "source": [
    "sl"
   ]
  },
  {
   "cell_type": "code",
   "execution_count": 31,
   "metadata": {},
   "outputs": [
    {
     "data": {
      "text/plain": [
       "[{'_op_type': 'update',\n",
       "  '_index': 'fgw_suggest',\n",
       "  '_id': 'Ueh2HoQByB9vxMP54f6a',\n",
       "  '_source': {'ruiso_suggest': {'input': ['发展', 'fz', 'fazhan', 'fa zhan'],\n",
       "    'weight': 17554}}},\n",
       " {'_op_type': 'update',\n",
       "  '_index': 'fgw_suggest',\n",
       "  '_id': 'Uuh2HoQByB9vxMP54v5Y',\n",
       "  '_source': {'ruiso_suggest': {'input': ['企业', 'qy', 'qiye', 'qi ye'],\n",
       "    'weight': 9718}}},\n",
       " {'_op_type': 'update',\n",
       "  '_index': 'fgw_suggest',\n",
       "  '_id': 'U-h2HoQByB9vxMP54v5p',\n",
       "  '_source': {'ruiso_suggest': {'input': ['工作', 'gz', 'gongzuo', 'gong zuo'],\n",
       "    'weight': 7937}}}]"
      ]
     },
     "execution_count": 31,
     "metadata": {},
     "output_type": "execute_result"
    }
   ],
   "source": [
    "newitems[:3]"
   ]
  },
  {
   "cell_type": "code",
   "execution_count": 45,
   "metadata": {},
   "outputs": [],
   "source": [
    "def update_suggests(items):\n",
    "    global exx\n",
    "    try:\n",
    "        helpers.bulk(client = es,actions = items)\n",
    "    except Exception as ex:\n",
    "        exx=ex\n",
    "        print(ex)\n",
    "        raise ex\n"
   ]
  },
  {
   "cell_type": "code",
   "execution_count": null,
   "metadata": {},
   "outputs": [],
   "source": [
    "        gen = _process_bulk_chunk_error(\n",
    "            error=e,\n",
    "            bulk_data=bulk_data,\n",
    "            raise_on_exception=raise_on_exception,\n",
    "            raise_on_error=raise_on_error,\n",
    "        )"
   ]
  },
  {
   "cell_type": "code",
   "execution_count": 49,
   "metadata": {},
   "outputs": [
    {
     "data": {
      "text/plain": [
       "elasticsearch.exceptions.RequestError(400,\n",
       "                                      'x_content_parse_exception',\n",
       "                                      {'error': {'root_cause': [{'type': 'x_content_parse_exception',\n",
       "                                          'reason': '[1:2] [UpdateRequest] unknown field [ruiso_suggest]'}],\n",
       "                                        'type': 'x_content_parse_exception',\n",
       "                                        'reason': '[1:2] [UpdateRequest] unknown field [ruiso_suggest]'},\n",
       "                                       'status': 400})"
      ]
     },
     "execution_count": 49,
     "metadata": {},
     "output_type": "execute_result"
    }
   ],
   "source": [
    "exx"
   ]
  },
  {
   "cell_type": "code",
   "execution_count": 51,
   "metadata": {},
   "outputs": [
    {
     "name": "stderr",
     "output_type": "stream",
     "text": [
      "C:\\ProgramData\\Miniconda3\\lib\\site-packages\\elasticsearch\\connection\\base.py:177: ElasticsearchDeprecationWarning: Elasticsearch built-in security features are not enabled. Without authentication, your cluster could be accessible to anyone. See https://www.elastic.co/guide/en/elasticsearch/reference/7.16/security-minimal-setup.html to enable security.\n",
      "  warnings.warn(message, category=ElasticsearchDeprecationWarning)\n"
     ]
    }
   ],
   "source": [
    "update_suggests([{'_op_type': 'update',\n",
    "  '_index': 'fgw_suggest',\n",
    "  '_id': 'Ueh2HoQByB9vxMP54f6a',\n",
    "  'doc': {'ruiso_suggest': {'input': ['发展', 'fz', 'fazhan', 'fa zhan'],\n",
    "    'weight': 17554}}}])"
   ]
  },
  {
   "cell_type": "code",
   "execution_count": null,
   "metadata": {},
   "outputs": [],
   "source": []
  },
  {
   "cell_type": "code",
   "execution_count": 52,
   "metadata": {},
   "outputs": [
    {
     "name": "stderr",
     "output_type": "stream",
     "text": [
      "100%|████████████████████████████████████████████████████████████████████████████████| 623/623 [00:19<00:00, 32.32it/s]\n"
     ]
    }
   ],
   "source": [
    "for i in tqdm(range(0,len(newitems),100)):\n",
    "    x=[{(k if k!=\"_source\" else \"doc\"):v for k,v in item.items()} for item in newitems[i:i+100]]\n",
    "    update_suggests(x)\n"
   ]
  },
  {
   "cell_type": "code",
   "execution_count": 54,
   "metadata": {},
   "outputs": [
    {
     "data": {
      "text/plain": [
       "({'_op_type': 'update',\n",
       "  '_index': 'fgw_suggest',\n",
       "  '_id': 'Ueh2HoQByB9vxMP54f6a',\n",
       "  '_source': {'ruiso_suggest': {'input': ['发展', 'fz', 'fazhan', 'fa zhan'],\n",
       "    'weight': 17554}}},\n",
       " ({'update': {'_id': 'Ueh2HoQByB9vxMP54f6a', '_index': 'fgw_suggest'}},\n",
       "  {'ruiso_suggest': {'input': ['发展', 'fz', 'fazhan', 'fa zhan'],\n",
       "    'weight': 17554}}))"
      ]
     },
     "execution_count": 54,
     "metadata": {},
     "output_type": "execute_result"
    }
   ],
   "source": [
    "newitems[0],helpers.expand_action(newitems[0])"
   ]
  },
  {
   "cell_type": "code",
   "execution_count": 24,
   "metadata": {},
   "outputs": [
    {
     "data": {
      "text/plain": [
       "[{'_op_type': 'update',\n",
       "  '_index': 'fgw_suggest',\n",
       "  '_id': 'Ueh2HoQByB9vxMP54f6a',\n",
       "  '_source': {'ruiso_suggest': {'input': ['发展', 'fz', 'fazhan', 'fa zhan'],\n",
       "    'weight': 17554}}},\n",
       " {'_op_type': 'update',\n",
       "  '_index': 'fgw_suggest',\n",
       "  '_id': 'Uuh2HoQByB9vxMP54v5Y',\n",
       "  '_source': {'ruiso_suggest': {'input': ['企业', 'qy', 'qiye', 'qi ye'],\n",
       "    'weight': 9718}}},\n",
       " {'_op_type': 'update',\n",
       "  '_index': 'fgw_suggest',\n",
       "  '_id': 'U-h2HoQByB9vxMP54v5p',\n",
       "  '_source': {'ruiso_suggest': {'input': ['工作', 'gz', 'gongzuo', 'gong zuo'],\n",
       "    'weight': 7937}}},\n",
       " {'_op_type': 'update',\n",
       "  '_index': 'fgw_suggest',\n",
       "  '_id': 'VOh2HoQByB9vxMP54v53',\n",
       "  '_source': {'ruiso_suggest': {'input': ['年', 'n', 'nian', 'nian'],\n",
       "    'weight': 7573}}},\n",
       " {'_op_type': 'update',\n",
       "  '_index': 'fgw_suggest',\n",
       "  '_id': 'Veh2HoQByB9vxMP54v6E',\n",
       "  '_source': {'ruiso_suggest': {'input': ['月', 'y', 'yue', 'yue'],\n",
       "    'weight': 7074}}},\n",
       " {'_op_type': 'update',\n",
       "  '_index': 'fgw_suggest',\n",
       "  '_id': 'Vuh2HoQByB9vxMP54v6V',\n",
       "  '_source': {'ruiso_suggest': {'input': ['建设', 'js', 'jianshe', 'jian she'],\n",
       "    'weight': 7046}}},\n",
       " {'_op_type': 'update',\n",
       "  '_index': 'fgw_suggest',\n",
       "  '_id': 'V-h2HoQByB9vxMP54v6f',\n",
       "  '_source': {'ruiso_suggest': {'input': ['国家', 'gj', 'guojia', 'guo jia'],\n",
       "    'weight': 6221}}},\n",
       " {'_op_type': 'update',\n",
       "  '_index': 'fgw_suggest',\n",
       "  '_id': 'WOh2HoQByB9vxMP54v7B',\n",
       "  '_source': {'ruiso_suggest': {'input': ['经济', 'jj', 'jingji', 'jing ji'],\n",
       "    'weight': 6180}}},\n",
       " {'_op_type': 'update',\n",
       "  '_index': 'fgw_suggest',\n",
       "  '_id': 'Weh2HoQByB9vxMP54v7K',\n",
       "  '_source': {'ruiso_suggest': {'input': ['改革', 'gg', 'gaige', 'gai ge'],\n",
       "    'weight': 6156}}},\n",
       " {'_op_type': 'update',\n",
       "  '_index': 'fgw_suggest',\n",
       "  '_id': 'Wuh2HoQByB9vxMP54v7T',\n",
       "  '_source': {'ruiso_suggest': {'input': ['新', 'x', 'xin', 'xin'],\n",
       "    'weight': 6154}}}]"
      ]
     },
     "execution_count": 24,
     "metadata": {},
     "output_type": "execute_result"
    }
   ],
   "source": [
    "newitems[:10]"
   ]
  }
 ],
 "metadata": {
  "kernelspec": {
   "display_name": "Python 3 (ipykernel)",
   "language": "python",
   "name": "python3"
  },
  "language_info": {
   "codemirror_mode": {
    "name": "ipython",
    "version": 3
   },
   "file_extension": ".py",
   "mimetype": "text/x-python",
   "name": "python",
   "nbconvert_exporter": "python",
   "pygments_lexer": "ipython3",
   "version": "3.8.12"
  }
 },
 "nbformat": 4,
 "nbformat_minor": 4
}

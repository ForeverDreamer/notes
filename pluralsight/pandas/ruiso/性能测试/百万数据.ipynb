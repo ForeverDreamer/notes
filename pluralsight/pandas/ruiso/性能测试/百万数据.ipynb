{
 "cells": [
  {
   "cell_type": "code",
   "execution_count": 1,
   "metadata": {},
   "outputs": [],
   "source": [
    "import pandas as pd"
   ]
  },
  {
   "cell_type": "code",
   "execution_count": 2,
   "metadata": {},
   "outputs": [],
   "source": [
    "chnl_df = pd.read_pickle('/ossfs/ceis-bgd-ba/WCM-FGW-DATA/WCMCHANNEL_all.df.pickle.gz')\n",
    "columns_to_keep = ['CHNLNAME', 'CHNLDESC', 'CHNLORDER', 'SITEID']\n",
    "chnl_df = chnl_df[columns_to_keep]"
   ]
  },
  {
   "cell_type": "code",
   "execution_count": 3,
   "metadata": {},
   "outputs": [
    {
     "data": {
      "text/html": [
       "<div>\n",
       "<style scoped>\n",
       "    .dataframe tbody tr th:only-of-type {\n",
       "        vertical-align: middle;\n",
       "    }\n",
       "\n",
       "    .dataframe tbody tr th {\n",
       "        vertical-align: top;\n",
       "    }\n",
       "\n",
       "    .dataframe thead th {\n",
       "        text-align: right;\n",
       "    }\n",
       "</style>\n",
       "<table border=\"1\" class=\"dataframe\">\n",
       "  <thead>\n",
       "    <tr style=\"text-align: right;\">\n",
       "      <th></th>\n",
       "      <th>CHNLNAME</th>\n",
       "      <th>CHNLDESC</th>\n",
       "      <th>CHNLORDER</th>\n",
       "      <th>SITEID</th>\n",
       "    </tr>\n",
       "    <tr>\n",
       "      <th>CHANNELID</th>\n",
       "      <th></th>\n",
       "      <th></th>\n",
       "      <th></th>\n",
       "      <th></th>\n",
       "    </tr>\n",
       "  </thead>\n",
       "  <tbody>\n",
       "    <tr>\n",
       "      <th>83</th>\n",
       "      <td>省政府办公厅</td>\n",
       "      <td>省政府办公厅</td>\n",
       "      <td>78</td>\n",
       "      <td>8</td>\n",
       "    </tr>\n",
       "    <tr>\n",
       "      <th>84</th>\n",
       "      <td>省发展改革委</td>\n",
       "      <td>省发展改革委</td>\n",
       "      <td>77</td>\n",
       "      <td>8</td>\n",
       "    </tr>\n",
       "    <tr>\n",
       "      <th>85</th>\n",
       "      <td>省经委</td>\n",
       "      <td>省经委</td>\n",
       "      <td>76</td>\n",
       "      <td>8</td>\n",
       "    </tr>\n",
       "    <tr>\n",
       "      <th>86</th>\n",
       "      <td>省民委</td>\n",
       "      <td>省民委</td>\n",
       "      <td>75</td>\n",
       "      <td>8</td>\n",
       "    </tr>\n",
       "    <tr>\n",
       "      <th>87</th>\n",
       "      <td>省人口计生委</td>\n",
       "      <td>省人口计生委</td>\n",
       "      <td>74</td>\n",
       "      <td>8</td>\n",
       "    </tr>\n",
       "  </tbody>\n",
       "</table>\n",
       "</div>"
      ],
      "text/plain": [
       "          CHNLNAME CHNLDESC  CHNLORDER  SITEID\n",
       "CHANNELID                                     \n",
       "83          省政府办公厅   省政府办公厅         78       8\n",
       "84          省发展改革委   省发展改革委         77       8\n",
       "85             省经委      省经委         76       8\n",
       "86             省民委      省民委         75       8\n",
       "87          省人口计生委   省人口计生委         74       8"
      ]
     },
     "execution_count": 3,
     "metadata": {},
     "output_type": "execute_result"
    }
   ],
   "source": [
    "chnl_df.head()"
   ]
  },
  {
   "cell_type": "code",
   "execution_count": 4,
   "metadata": {},
   "outputs": [],
   "source": [
    "news_df = pd.read_pickle('/ossfs/ceis-bgd-ba/WCM-FGW-DATA/WCMDOCUMENT_100000-200000.df.pickle.gz')\n",
    "columns_to_keep = ['DOCCHANNEL', 'DOCTYPE', 'DOCTITLE', 'DOCSOURCE', 'DOCSTATUS', 'DOCCONTENT', 'DOCPUBURL']\n",
    "news_df = news_df[columns_to_keep]"
   ]
  },
  {
   "cell_type": "code",
   "execution_count": 5,
   "metadata": {},
   "outputs": [
    {
     "data": {
      "text/html": [
       "<div>\n",
       "<style scoped>\n",
       "    .dataframe tbody tr th:only-of-type {\n",
       "        vertical-align: middle;\n",
       "    }\n",
       "\n",
       "    .dataframe tbody tr th {\n",
       "        vertical-align: top;\n",
       "    }\n",
       "\n",
       "    .dataframe thead th {\n",
       "        text-align: right;\n",
       "    }\n",
       "</style>\n",
       "<table border=\"1\" class=\"dataframe\">\n",
       "  <thead>\n",
       "    <tr style=\"text-align: right;\">\n",
       "      <th></th>\n",
       "      <th>DOCCHANNEL</th>\n",
       "      <th>DOCTYPE</th>\n",
       "      <th>DOCTITLE</th>\n",
       "      <th>DOCSOURCE</th>\n",
       "      <th>DOCSTATUS</th>\n",
       "      <th>DOCCONTENT</th>\n",
       "      <th>DOCPUBURL</th>\n",
       "    </tr>\n",
       "    <tr>\n",
       "      <th>DOCID</th>\n",
       "      <th></th>\n",
       "      <th></th>\n",
       "      <th></th>\n",
       "      <th></th>\n",
       "      <th></th>\n",
       "      <th></th>\n",
       "      <th></th>\n",
       "    </tr>\n",
       "  </thead>\n",
       "  <tbody>\n",
       "    <tr>\n",
       "      <th>137028</th>\n",
       "      <td>4346</td>\n",
       "      <td>20</td>\n",
       "      <td>唐山市一年节煤50万吨奥秘</td>\n",
       "      <td>0</td>\n",
       "      <td>10</td>\n",
       "      <td>唐山市一年节煤50万吨奥秘\\r\\n\\r\\n　　最新的一组统计数据显示，2006年唐山市钢铁、...</td>\n",
       "      <td>http://hzs.ndrc.gov.cn/newjsjyxsh/200705/t2007...</td>\n",
       "    </tr>\n",
       "    <tr>\n",
       "      <th>137029</th>\n",
       "      <td>4358</td>\n",
       "      <td>20</td>\n",
       "      <td>唐山市一年节煤50万吨奥秘</td>\n",
       "      <td>0</td>\n",
       "      <td>10</td>\n",
       "      <td>唐山市一年节煤50万吨奥秘\\r\\n\\r\\n　　最新的一组统计数据显示，2006年唐山市钢铁、...</td>\n",
       "      <td>http://hzs.ndrc.gov.cn/newgzdt/200705/t2007052...</td>\n",
       "    </tr>\n",
       "    <tr>\n",
       "      <th>137032</th>\n",
       "      <td>3321</td>\n",
       "      <td>20</td>\n",
       "      <td>唐山市一年节煤50万吨奥秘</td>\n",
       "      <td>279</td>\n",
       "      <td>15</td>\n",
       "      <td>唐山市一年节煤50万吨奥秘\\r\\n\\r\\n　　最新的一组统计数据显示，2006年唐山市钢铁、...</td>\n",
       "      <td>/pub/hjhzyzhlys/newgzdt/t20070524_137029.htm</td>\n",
       "    </tr>\n",
       "    <tr>\n",
       "      <th>136534</th>\n",
       "      <td>3351</td>\n",
       "      <td>20</td>\n",
       "      <td>2007年农药企业更名名单(第二批) 2007年第29号公告</td>\n",
       "      <td>52</td>\n",
       "      <td>10</td>\n",
       "      <td>中华人民共和国国家发展和改革委员会公告\\r\\n\\r\\n2007年  第29号\\r\\n\\r\\n...</td>\n",
       "      <td>http://www.ndrc.gov.cn/zcfb/zcfbgg/200705/t200...</td>\n",
       "    </tr>\n",
       "    <tr>\n",
       "      <th>136582</th>\n",
       "      <td>-3746</td>\n",
       "      <td>20</td>\n",
       "      <td>四川省：2006年经济体制改革进展情况</td>\n",
       "      <td>0</td>\n",
       "      <td>10</td>\n",
       "      <td>四川省：\\r\\n2006年经济体制改革进展情况\\r\\n\\r\\n2006年是我省实施“十一五”...</td>\n",
       "      <td>http://tgs.ndrc.gov.cn/zttp/qgjjtzgggzhy/2007t...</td>\n",
       "    </tr>\n",
       "  </tbody>\n",
       "</table>\n",
       "</div>"
      ],
      "text/plain": [
       "        DOCCHANNEL  DOCTYPE                        DOCTITLE  DOCSOURCE  \\\n",
       "DOCID                                                                    \n",
       "137028        4346       20                   唐山市一年节煤50万吨奥秘          0   \n",
       "137029        4358       20                   唐山市一年节煤50万吨奥秘          0   \n",
       "137032        3321       20                   唐山市一年节煤50万吨奥秘        279   \n",
       "136534        3351       20  2007年农药企业更名名单(第二批) 2007年第29号公告         52   \n",
       "136582       -3746       20             四川省：2006年经济体制改革进展情况          0   \n",
       "\n",
       "        DOCSTATUS                                         DOCCONTENT  \\\n",
       "DOCID                                                                  \n",
       "137028         10  唐山市一年节煤50万吨奥秘\\r\\n\\r\\n　　最新的一组统计数据显示，2006年唐山市钢铁、...   \n",
       "137029         10  唐山市一年节煤50万吨奥秘\\r\\n\\r\\n　　最新的一组统计数据显示，2006年唐山市钢铁、...   \n",
       "137032         15  唐山市一年节煤50万吨奥秘\\r\\n\\r\\n　　最新的一组统计数据显示，2006年唐山市钢铁、...   \n",
       "136534         10  中华人民共和国国家发展和改革委员会公告\\r\\n\\r\\n2007年  第29号\\r\\n\\r\\n...   \n",
       "136582         10  四川省：\\r\\n2006年经济体制改革进展情况\\r\\n\\r\\n2006年是我省实施“十一五”...   \n",
       "\n",
       "                                                DOCPUBURL  \n",
       "DOCID                                                      \n",
       "137028  http://hzs.ndrc.gov.cn/newjsjyxsh/200705/t2007...  \n",
       "137029  http://hzs.ndrc.gov.cn/newgzdt/200705/t2007052...  \n",
       "137032       /pub/hjhzyzhlys/newgzdt/t20070524_137029.htm  \n",
       "136534  http://www.ndrc.gov.cn/zcfb/zcfbgg/200705/t200...  \n",
       "136582  http://tgs.ndrc.gov.cn/zttp/qgjjtzgggzhy/2007t...  "
      ]
     },
     "execution_count": 5,
     "metadata": {},
     "output_type": "execute_result"
    }
   ],
   "source": [
    "news_df.head()"
   ]
  },
  {
   "cell_type": "code",
   "execution_count": 6,
   "metadata": {},
   "outputs": [
    {
     "data": {
      "text/plain": [
       "(100000, 7)"
      ]
     },
     "execution_count": 6,
     "metadata": {},
     "output_type": "execute_result"
    }
   ],
   "source": [
    "news_df.shape"
   ]
  },
  {
   "cell_type": "code",
   "execution_count": 7,
   "metadata": {},
   "outputs": [
    {
     "data": {
      "text/plain": [
       "True"
      ]
     },
     "execution_count": 7,
     "metadata": {},
     "output_type": "execute_result"
    }
   ],
   "source": [
    "news_df.index.is_unique"
   ]
  },
  {
   "cell_type": "code",
   "execution_count": 8,
   "metadata": {
    "tags": []
   },
   "outputs": [],
   "source": [
    "df = pd.merge(chnl_df, news_df, left_index=True, right_on=\"DOCCHANNEL\", how=\"right\")"
   ]
  },
  {
   "cell_type": "code",
   "execution_count": 9,
   "metadata": {},
   "outputs": [
    {
     "data": {
      "text/plain": [
       "False"
      ]
     },
     "execution_count": 9,
     "metadata": {},
     "output_type": "execute_result"
    }
   ],
   "source": [
    "(df['CHNLORDER'] == 0).any()"
   ]
  },
  {
   "cell_type": "code",
   "execution_count": 10,
   "metadata": {},
   "outputs": [
    {
     "data": {
      "text/plain": [
       "False"
      ]
     },
     "execution_count": 10,
     "metadata": {},
     "output_type": "execute_result"
    }
   ],
   "source": [
    "(df['SITEID'] == 0).any()"
   ]
  },
  {
   "cell_type": "code",
   "execution_count": 11,
   "metadata": {},
   "outputs": [],
   "source": [
    "df['CHNLORDER'] = df['CHNLORDER'].fillna(0).astype('int32')\n",
    "df['SITEID'] = df['SITEID'].fillna(0).astype('int32')"
   ]
  },
  {
   "cell_type": "code",
   "execution_count": 12,
   "metadata": {},
   "outputs": [
    {
     "data": {
      "text/plain": [
       "dtype('int32')"
      ]
     },
     "execution_count": 12,
     "metadata": {},
     "output_type": "execute_result"
    }
   ],
   "source": [
    "df['CHNLORDER'].dtype"
   ]
  },
  {
   "cell_type": "code",
   "execution_count": 13,
   "metadata": {},
   "outputs": [
    {
     "data": {
      "text/plain": [
       "dtype('int32')"
      ]
     },
     "execution_count": 13,
     "metadata": {},
     "output_type": "execute_result"
    }
   ],
   "source": [
    "df['SITEID'].dtype"
   ]
  },
  {
   "cell_type": "code",
   "execution_count": 14,
   "metadata": {
    "tags": []
   },
   "outputs": [
    {
     "data": {
      "text/html": [
       "<div>\n",
       "<style scoped>\n",
       "    .dataframe tbody tr th:only-of-type {\n",
       "        vertical-align: middle;\n",
       "    }\n",
       "\n",
       "    .dataframe tbody tr th {\n",
       "        vertical-align: top;\n",
       "    }\n",
       "\n",
       "    .dataframe thead th {\n",
       "        text-align: right;\n",
       "    }\n",
       "</style>\n",
       "<table border=\"1\" class=\"dataframe\">\n",
       "  <thead>\n",
       "    <tr style=\"text-align: right;\">\n",
       "      <th></th>\n",
       "      <th>CHNLNAME</th>\n",
       "      <th>CHNLDESC</th>\n",
       "      <th>CHNLORDER</th>\n",
       "      <th>SITEID</th>\n",
       "      <th>DOCCHANNEL</th>\n",
       "      <th>DOCTYPE</th>\n",
       "      <th>DOCTITLE</th>\n",
       "      <th>DOCSOURCE</th>\n",
       "      <th>DOCSTATUS</th>\n",
       "      <th>DOCCONTENT</th>\n",
       "      <th>DOCPUBURL</th>\n",
       "    </tr>\n",
       "    <tr>\n",
       "      <th>DOCID</th>\n",
       "      <th></th>\n",
       "      <th></th>\n",
       "      <th></th>\n",
       "      <th></th>\n",
       "      <th></th>\n",
       "      <th></th>\n",
       "      <th></th>\n",
       "      <th></th>\n",
       "      <th></th>\n",
       "      <th></th>\n",
       "      <th></th>\n",
       "    </tr>\n",
       "  </thead>\n",
       "  <tbody>\n",
       "    <tr>\n",
       "      <th>137028</th>\n",
       "      <td>新建设节约型社会</td>\n",
       "      <td>生态文明建设</td>\n",
       "      <td>40</td>\n",
       "      <td>30</td>\n",
       "      <td>4346</td>\n",
       "      <td>20</td>\n",
       "      <td>唐山市一年节煤50万吨奥秘</td>\n",
       "      <td>0</td>\n",
       "      <td>10</td>\n",
       "      <td>唐山市一年节煤50万吨奥秘\\r\\n\\r\\n　　最新的一组统计数据显示，2006年唐山市钢铁、...</td>\n",
       "      <td>http://hzs.ndrc.gov.cn/newjsjyxsh/200705/t2007...</td>\n",
       "    </tr>\n",
       "    <tr>\n",
       "      <th>137029</th>\n",
       "      <td>新工作动态</td>\n",
       "      <td>工作动态</td>\n",
       "      <td>44</td>\n",
       "      <td>30</td>\n",
       "      <td>4358</td>\n",
       "      <td>20</td>\n",
       "      <td>唐山市一年节煤50万吨奥秘</td>\n",
       "      <td>0</td>\n",
       "      <td>10</td>\n",
       "      <td>唐山市一年节煤50万吨奥秘\\r\\n\\r\\n　　最新的一组统计数据显示，2006年唐山市钢铁、...</td>\n",
       "      <td>http://hzs.ndrc.gov.cn/newgzdt/200705/t2007052...</td>\n",
       "    </tr>\n",
       "    <tr>\n",
       "      <th>137032</th>\n",
       "      <td>工作动态</td>\n",
       "      <td>委工作动态</td>\n",
       "      <td>102</td>\n",
       "      <td>14</td>\n",
       "      <td>3321</td>\n",
       "      <td>20</td>\n",
       "      <td>唐山市一年节煤50万吨奥秘</td>\n",
       "      <td>279</td>\n",
       "      <td>15</td>\n",
       "      <td>唐山市一年节煤50万吨奥秘\\r\\n\\r\\n　　最新的一组统计数据显示，2006年唐山市钢铁、...</td>\n",
       "      <td>/pub/hjhzyzhlys/newgzdt/t20070524_137029.htm</td>\n",
       "    </tr>\n",
       "    <tr>\n",
       "      <th>136534</th>\n",
       "      <td>政策发布公告</td>\n",
       "      <td>公　　告</td>\n",
       "      <td>7</td>\n",
       "      <td>14</td>\n",
       "      <td>3351</td>\n",
       "      <td>20</td>\n",
       "      <td>2007年农药企业更名名单(第二批) 2007年第29号公告</td>\n",
       "      <td>52</td>\n",
       "      <td>10</td>\n",
       "      <td>中华人民共和国国家发展和改革委员会公告\\r\\n\\r\\n2007年  第29号\\r\\n\\r\\n...</td>\n",
       "      <td>http://www.ndrc.gov.cn/zcfb/zcfbgg/200705/t200...</td>\n",
       "    </tr>\n",
       "    <tr>\n",
       "      <th>136582</th>\n",
       "      <td>NaN</td>\n",
       "      <td>NaN</td>\n",
       "      <td>0</td>\n",
       "      <td>0</td>\n",
       "      <td>-3746</td>\n",
       "      <td>20</td>\n",
       "      <td>四川省：2006年经济体制改革进展情况</td>\n",
       "      <td>0</td>\n",
       "      <td>10</td>\n",
       "      <td>四川省：\\r\\n2006年经济体制改革进展情况\\r\\n\\r\\n2006年是我省实施“十一五”...</td>\n",
       "      <td>http://tgs.ndrc.gov.cn/zttp/qgjjtzgggzhy/2007t...</td>\n",
       "    </tr>\n",
       "  </tbody>\n",
       "</table>\n",
       "</div>"
      ],
      "text/plain": [
       "        CHNLNAME CHNLDESC  CHNLORDER  SITEID  DOCCHANNEL  DOCTYPE  \\\n",
       "DOCID                                                               \n",
       "137028  新建设节约型社会   生态文明建设         40      30        4346       20   \n",
       "137029     新工作动态     工作动态         44      30        4358       20   \n",
       "137032      工作动态    委工作动态        102      14        3321       20   \n",
       "136534    政策发布公告     公　　告          7      14        3351       20   \n",
       "136582       NaN      NaN          0       0       -3746       20   \n",
       "\n",
       "                              DOCTITLE  DOCSOURCE  DOCSTATUS  \\\n",
       "DOCID                                                          \n",
       "137028                   唐山市一年节煤50万吨奥秘          0         10   \n",
       "137029                   唐山市一年节煤50万吨奥秘          0         10   \n",
       "137032                   唐山市一年节煤50万吨奥秘        279         15   \n",
       "136534  2007年农药企业更名名单(第二批) 2007年第29号公告         52         10   \n",
       "136582             四川省：2006年经济体制改革进展情况          0         10   \n",
       "\n",
       "                                               DOCCONTENT  \\\n",
       "DOCID                                                       \n",
       "137028  唐山市一年节煤50万吨奥秘\\r\\n\\r\\n　　最新的一组统计数据显示，2006年唐山市钢铁、...   \n",
       "137029  唐山市一年节煤50万吨奥秘\\r\\n\\r\\n　　最新的一组统计数据显示，2006年唐山市钢铁、...   \n",
       "137032  唐山市一年节煤50万吨奥秘\\r\\n\\r\\n　　最新的一组统计数据显示，2006年唐山市钢铁、...   \n",
       "136534  中华人民共和国国家发展和改革委员会公告\\r\\n\\r\\n2007年  第29号\\r\\n\\r\\n...   \n",
       "136582  四川省：\\r\\n2006年经济体制改革进展情况\\r\\n\\r\\n2006年是我省实施“十一五”...   \n",
       "\n",
       "                                                DOCPUBURL  \n",
       "DOCID                                                      \n",
       "137028  http://hzs.ndrc.gov.cn/newjsjyxsh/200705/t2007...  \n",
       "137029  http://hzs.ndrc.gov.cn/newgzdt/200705/t2007052...  \n",
       "137032       /pub/hjhzyzhlys/newgzdt/t20070524_137029.htm  \n",
       "136534  http://www.ndrc.gov.cn/zcfb/zcfbgg/200705/t200...  \n",
       "136582  http://tgs.ndrc.gov.cn/zttp/qgjjtzgggzhy/2007t...  "
      ]
     },
     "execution_count": 14,
     "metadata": {},
     "output_type": "execute_result"
    }
   ],
   "source": [
    "df.head()"
   ]
  },
  {
   "cell_type": "code",
   "execution_count": 15,
   "metadata": {},
   "outputs": [
    {
     "data": {
      "text/plain": [
       "(100000, 11)"
      ]
     },
     "execution_count": 15,
     "metadata": {},
     "output_type": "execute_result"
    }
   ],
   "source": [
    "df.shape"
   ]
  },
  {
   "cell_type": "code",
   "execution_count": 16,
   "metadata": {},
   "outputs": [],
   "source": [
    "df['CHNLNAME'] = df['CHNLNAME'].fillna('')\n",
    "df['CHNLDESC'] = df['CHNLDESC'].fillna('')\n",
    "df['DOCPUBURL'] = df['DOCPUBURL'].fillna('')"
   ]
  },
  {
   "cell_type": "code",
   "execution_count": 17,
   "metadata": {},
   "outputs": [],
   "source": [
    "from pandas import isnull"
   ]
  },
  {
   "cell_type": "code",
   "execution_count": 18,
   "metadata": {},
   "outputs": [
    {
     "data": {
      "text/html": [
       "<div>\n",
       "<style scoped>\n",
       "    .dataframe tbody tr th:only-of-type {\n",
       "        vertical-align: middle;\n",
       "    }\n",
       "\n",
       "    .dataframe tbody tr th {\n",
       "        vertical-align: top;\n",
       "    }\n",
       "\n",
       "    .dataframe thead th {\n",
       "        text-align: right;\n",
       "    }\n",
       "</style>\n",
       "<table border=\"1\" class=\"dataframe\">\n",
       "  <thead>\n",
       "    <tr style=\"text-align: right;\">\n",
       "      <th></th>\n",
       "      <th>CHNLNAME</th>\n",
       "      <th>CHNLDESC</th>\n",
       "      <th>CHNLORDER</th>\n",
       "      <th>SITEID</th>\n",
       "      <th>DOCCHANNEL</th>\n",
       "      <th>DOCTYPE</th>\n",
       "      <th>DOCTITLE</th>\n",
       "      <th>DOCSOURCE</th>\n",
       "      <th>DOCSTATUS</th>\n",
       "      <th>DOCCONTENT</th>\n",
       "      <th>DOCPUBURL</th>\n",
       "    </tr>\n",
       "    <tr>\n",
       "      <th>DOCID</th>\n",
       "      <th></th>\n",
       "      <th></th>\n",
       "      <th></th>\n",
       "      <th></th>\n",
       "      <th></th>\n",
       "      <th></th>\n",
       "      <th></th>\n",
       "      <th></th>\n",
       "      <th></th>\n",
       "      <th></th>\n",
       "      <th></th>\n",
       "    </tr>\n",
       "  </thead>\n",
       "  <tbody>\n",
       "  </tbody>\n",
       "</table>\n",
       "</div>"
      ],
      "text/plain": [
       "Empty DataFrame\n",
       "Columns: [CHNLNAME, CHNLDESC, CHNLORDER, SITEID, DOCCHANNEL, DOCTYPE, DOCTITLE, DOCSOURCE, DOCSTATUS, DOCCONTENT, DOCPUBURL]\n",
       "Index: []"
      ]
     },
     "execution_count": 18,
     "metadata": {},
     "output_type": "execute_result"
    }
   ],
   "source": [
    "df[isnull(df['CHNLNAME'])].head()"
   ]
  },
  {
   "cell_type": "code",
   "execution_count": 19,
   "metadata": {},
   "outputs": [
    {
     "data": {
      "text/html": [
       "<div>\n",
       "<style scoped>\n",
       "    .dataframe tbody tr th:only-of-type {\n",
       "        vertical-align: middle;\n",
       "    }\n",
       "\n",
       "    .dataframe tbody tr th {\n",
       "        vertical-align: top;\n",
       "    }\n",
       "\n",
       "    .dataframe thead th {\n",
       "        text-align: right;\n",
       "    }\n",
       "</style>\n",
       "<table border=\"1\" class=\"dataframe\">\n",
       "  <thead>\n",
       "    <tr style=\"text-align: right;\">\n",
       "      <th></th>\n",
       "      <th>CHNLNAME</th>\n",
       "      <th>CHNLDESC</th>\n",
       "      <th>CHNLORDER</th>\n",
       "      <th>SITEID</th>\n",
       "      <th>DOCCHANNEL</th>\n",
       "      <th>DOCTYPE</th>\n",
       "      <th>DOCTITLE</th>\n",
       "      <th>DOCSOURCE</th>\n",
       "      <th>DOCSTATUS</th>\n",
       "      <th>DOCCONTENT</th>\n",
       "      <th>DOCPUBURL</th>\n",
       "    </tr>\n",
       "    <tr>\n",
       "      <th>DOCID</th>\n",
       "      <th></th>\n",
       "      <th></th>\n",
       "      <th></th>\n",
       "      <th></th>\n",
       "      <th></th>\n",
       "      <th></th>\n",
       "      <th></th>\n",
       "      <th></th>\n",
       "      <th></th>\n",
       "      <th></th>\n",
       "      <th></th>\n",
       "    </tr>\n",
       "  </thead>\n",
       "  <tbody>\n",
       "  </tbody>\n",
       "</table>\n",
       "</div>"
      ],
      "text/plain": [
       "Empty DataFrame\n",
       "Columns: [CHNLNAME, CHNLDESC, CHNLORDER, SITEID, DOCCHANNEL, DOCTYPE, DOCTITLE, DOCSOURCE, DOCSTATUS, DOCCONTENT, DOCPUBURL]\n",
       "Index: []"
      ]
     },
     "execution_count": 19,
     "metadata": {},
     "output_type": "execute_result"
    }
   ],
   "source": [
    "df[isnull(df['CHNLDESC'])].head()"
   ]
  },
  {
   "cell_type": "code",
   "execution_count": 20,
   "metadata": {},
   "outputs": [
    {
     "data": {
      "text/html": [
       "<div>\n",
       "<style scoped>\n",
       "    .dataframe tbody tr th:only-of-type {\n",
       "        vertical-align: middle;\n",
       "    }\n",
       "\n",
       "    .dataframe tbody tr th {\n",
       "        vertical-align: top;\n",
       "    }\n",
       "\n",
       "    .dataframe thead th {\n",
       "        text-align: right;\n",
       "    }\n",
       "</style>\n",
       "<table border=\"1\" class=\"dataframe\">\n",
       "  <thead>\n",
       "    <tr style=\"text-align: right;\">\n",
       "      <th></th>\n",
       "      <th>CHNLNAME</th>\n",
       "      <th>CHNLDESC</th>\n",
       "      <th>CHNLORDER</th>\n",
       "      <th>SITEID</th>\n",
       "      <th>DOCCHANNEL</th>\n",
       "      <th>DOCTYPE</th>\n",
       "      <th>DOCTITLE</th>\n",
       "      <th>DOCSOURCE</th>\n",
       "      <th>DOCSTATUS</th>\n",
       "      <th>DOCCONTENT</th>\n",
       "      <th>DOCPUBURL</th>\n",
       "    </tr>\n",
       "    <tr>\n",
       "      <th>DOCID</th>\n",
       "      <th></th>\n",
       "      <th></th>\n",
       "      <th></th>\n",
       "      <th></th>\n",
       "      <th></th>\n",
       "      <th></th>\n",
       "      <th></th>\n",
       "      <th></th>\n",
       "      <th></th>\n",
       "      <th></th>\n",
       "      <th></th>\n",
       "    </tr>\n",
       "  </thead>\n",
       "  <tbody>\n",
       "  </tbody>\n",
       "</table>\n",
       "</div>"
      ],
      "text/plain": [
       "Empty DataFrame\n",
       "Columns: [CHNLNAME, CHNLDESC, CHNLORDER, SITEID, DOCCHANNEL, DOCTYPE, DOCTITLE, DOCSOURCE, DOCSTATUS, DOCCONTENT, DOCPUBURL]\n",
       "Index: []"
      ]
     },
     "execution_count": 20,
     "metadata": {},
     "output_type": "execute_result"
    }
   ],
   "source": [
    "df[isnull(df['DOCPUBURL'])].head()"
   ]
  },
  {
   "cell_type": "code",
   "execution_count": 21,
   "metadata": {},
   "outputs": [],
   "source": [
    "df = df.reset_index()"
   ]
  },
  {
   "cell_type": "code",
   "execution_count": 22,
   "metadata": {},
   "outputs": [
    {
     "data": {
      "text/html": [
       "<div>\n",
       "<style scoped>\n",
       "    .dataframe tbody tr th:only-of-type {\n",
       "        vertical-align: middle;\n",
       "    }\n",
       "\n",
       "    .dataframe tbody tr th {\n",
       "        vertical-align: top;\n",
       "    }\n",
       "\n",
       "    .dataframe thead th {\n",
       "        text-align: right;\n",
       "    }\n",
       "</style>\n",
       "<table border=\"1\" class=\"dataframe\">\n",
       "  <thead>\n",
       "    <tr style=\"text-align: right;\">\n",
       "      <th></th>\n",
       "      <th>CHNLNAME</th>\n",
       "      <th>CHNLDESC</th>\n",
       "      <th>CHNLORDER</th>\n",
       "      <th>SITEID</th>\n",
       "      <th>DOCCHANNEL</th>\n",
       "      <th>DOCTYPE</th>\n",
       "      <th>DOCTITLE</th>\n",
       "      <th>DOCSOURCE</th>\n",
       "      <th>DOCSTATUS</th>\n",
       "      <th>DOCCONTENT</th>\n",
       "      <th>DOCPUBURL</th>\n",
       "    </tr>\n",
       "  </thead>\n",
       "  <tbody>\n",
       "    <tr>\n",
       "      <th>0</th>\n",
       "      <td>新建设节约型社会</td>\n",
       "      <td>生态文明建设</td>\n",
       "      <td>40</td>\n",
       "      <td>30</td>\n",
       "      <td>4346</td>\n",
       "      <td>20</td>\n",
       "      <td>唐山市一年节煤50万吨奥秘</td>\n",
       "      <td>0</td>\n",
       "      <td>10</td>\n",
       "      <td>唐山市一年节煤50万吨奥秘\\r\\n\\r\\n　　最新的一组统计数据显示，2006年唐山市钢铁、...</td>\n",
       "      <td>http://hzs.ndrc.gov.cn/newjsjyxsh/200705/t2007...</td>\n",
       "    </tr>\n",
       "    <tr>\n",
       "      <th>1</th>\n",
       "      <td>新工作动态</td>\n",
       "      <td>工作动态</td>\n",
       "      <td>44</td>\n",
       "      <td>30</td>\n",
       "      <td>4358</td>\n",
       "      <td>20</td>\n",
       "      <td>唐山市一年节煤50万吨奥秘</td>\n",
       "      <td>0</td>\n",
       "      <td>10</td>\n",
       "      <td>唐山市一年节煤50万吨奥秘\\r\\n\\r\\n　　最新的一组统计数据显示，2006年唐山市钢铁、...</td>\n",
       "      <td>http://hzs.ndrc.gov.cn/newgzdt/200705/t2007052...</td>\n",
       "    </tr>\n",
       "    <tr>\n",
       "      <th>2</th>\n",
       "      <td>工作动态</td>\n",
       "      <td>委工作动态</td>\n",
       "      <td>102</td>\n",
       "      <td>14</td>\n",
       "      <td>3321</td>\n",
       "      <td>20</td>\n",
       "      <td>唐山市一年节煤50万吨奥秘</td>\n",
       "      <td>279</td>\n",
       "      <td>15</td>\n",
       "      <td>唐山市一年节煤50万吨奥秘\\r\\n\\r\\n　　最新的一组统计数据显示，2006年唐山市钢铁、...</td>\n",
       "      <td>/pub/hjhzyzhlys/newgzdt/t20070524_137029.htm</td>\n",
       "    </tr>\n",
       "    <tr>\n",
       "      <th>3</th>\n",
       "      <td>政策发布公告</td>\n",
       "      <td>公　　告</td>\n",
       "      <td>7</td>\n",
       "      <td>14</td>\n",
       "      <td>3351</td>\n",
       "      <td>20</td>\n",
       "      <td>2007年农药企业更名名单(第二批) 2007年第29号公告</td>\n",
       "      <td>52</td>\n",
       "      <td>10</td>\n",
       "      <td>中华人民共和国国家发展和改革委员会公告\\r\\n\\r\\n2007年  第29号\\r\\n\\r\\n...</td>\n",
       "      <td>http://www.ndrc.gov.cn/zcfb/zcfbgg/200705/t200...</td>\n",
       "    </tr>\n",
       "    <tr>\n",
       "      <th>4</th>\n",
       "      <td></td>\n",
       "      <td></td>\n",
       "      <td>0</td>\n",
       "      <td>0</td>\n",
       "      <td>-3746</td>\n",
       "      <td>20</td>\n",
       "      <td>四川省：2006年经济体制改革进展情况</td>\n",
       "      <td>0</td>\n",
       "      <td>10</td>\n",
       "      <td>四川省：\\r\\n2006年经济体制改革进展情况\\r\\n\\r\\n2006年是我省实施“十一五”...</td>\n",
       "      <td>http://tgs.ndrc.gov.cn/zttp/qgjjtzgggzhy/2007t...</td>\n",
       "    </tr>\n",
       "  </tbody>\n",
       "</table>\n",
       "</div>"
      ],
      "text/plain": [
       "   CHNLNAME CHNLDESC  CHNLORDER  SITEID  DOCCHANNEL  DOCTYPE  \\\n",
       "0  新建设节约型社会   生态文明建设         40      30        4346       20   \n",
       "1     新工作动态     工作动态         44      30        4358       20   \n",
       "2      工作动态    委工作动态        102      14        3321       20   \n",
       "3    政策发布公告     公　　告          7      14        3351       20   \n",
       "4                             0       0       -3746       20   \n",
       "\n",
       "                         DOCTITLE  DOCSOURCE  DOCSTATUS  \\\n",
       "0                   唐山市一年节煤50万吨奥秘          0         10   \n",
       "1                   唐山市一年节煤50万吨奥秘          0         10   \n",
       "2                   唐山市一年节煤50万吨奥秘        279         15   \n",
       "3  2007年农药企业更名名单(第二批) 2007年第29号公告         52         10   \n",
       "4             四川省：2006年经济体制改革进展情况          0         10   \n",
       "\n",
       "                                          DOCCONTENT  \\\n",
       "0  唐山市一年节煤50万吨奥秘\\r\\n\\r\\n　　最新的一组统计数据显示，2006年唐山市钢铁、...   \n",
       "1  唐山市一年节煤50万吨奥秘\\r\\n\\r\\n　　最新的一组统计数据显示，2006年唐山市钢铁、...   \n",
       "2  唐山市一年节煤50万吨奥秘\\r\\n\\r\\n　　最新的一组统计数据显示，2006年唐山市钢铁、...   \n",
       "3  中华人民共和国国家发展和改革委员会公告\\r\\n\\r\\n2007年  第29号\\r\\n\\r\\n...   \n",
       "4  四川省：\\r\\n2006年经济体制改革进展情况\\r\\n\\r\\n2006年是我省实施“十一五”...   \n",
       "\n",
       "                                           DOCPUBURL  \n",
       "0  http://hzs.ndrc.gov.cn/newjsjyxsh/200705/t2007...  \n",
       "1  http://hzs.ndrc.gov.cn/newgzdt/200705/t2007052...  \n",
       "2       /pub/hjhzyzhlys/newgzdt/t20070524_137029.htm  \n",
       "3  http://www.ndrc.gov.cn/zcfb/zcfbgg/200705/t200...  \n",
       "4  http://tgs.ndrc.gov.cn/zttp/qgjjtzgggzhy/2007t...  "
      ]
     },
     "execution_count": 22,
     "metadata": {},
     "output_type": "execute_result"
    }
   ],
   "source": [
    "df.head()"
   ]
  },
  {
   "cell_type": "code",
   "execution_count": null,
   "metadata": {},
   "outputs": [],
   "source": []
  }
 ],
 "metadata": {
  "kernelspec": {
   "display_name": "Python 3",
   "language": "python",
   "name": "python3"
  },
  "language_info": {
   "codemirror_mode": {
    "name": "ipython",
    "version": 3
   },
   "file_extension": ".py",
   "mimetype": "text/x-python",
   "name": "python",
   "nbconvert_exporter": "python",
   "pygments_lexer": "ipython3",
   "version": "3.8.5"
  }
 },
 "nbformat": 4,
 "nbformat_minor": 5
}

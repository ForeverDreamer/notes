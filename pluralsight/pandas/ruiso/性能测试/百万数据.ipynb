{
 "cells": [
  {
   "cell_type": "code",
   "execution_count": 1,
   "id": "909d99b5-f3bf-44f4-940c-27d65cdab4a4",
   "metadata": {},
   "outputs": [],
   "source": [
    "import pandas as pd"
   ]
  },
  {
   "cell_type": "code",
   "execution_count": 2,
   "id": "103d3bcf-9653-4bbe-9551-5454cbaaefc2",
   "metadata": {},
   "outputs": [],
   "source": [
    "chnl_df = pd.read_pickle('/ossfs/ceis-bgd-ba/WCM-FGW-DATA/WCMCHANNEL_all.df.pickle.gz')\n",
    "columns_to_keep = ['CHNLNAME', 'CHNLDESC', 'CHNLORDER', 'SITEID']\n",
    "chnl_df = chnl_df[columns_to_keep]"
   ]
  },
  {
   "cell_type": "code",
   "execution_count": 3,
   "id": "032cb3be-004f-43cb-9a87-b0a2befb3141",
   "metadata": {},
   "outputs": [
    {
     "data": {
      "text/html": [
       "<div>\n",
       "<style scoped>\n",
       "    .dataframe tbody tr th:only-of-type {\n",
       "        vertical-align: middle;\n",
       "    }\n",
       "\n",
       "    .dataframe tbody tr th {\n",
       "        vertical-align: top;\n",
       "    }\n",
       "\n",
       "    .dataframe thead th {\n",
       "        text-align: right;\n",
       "    }\n",
       "</style>\n",
       "<table border=\"1\" class=\"dataframe\">\n",
       "  <thead>\n",
       "    <tr style=\"text-align: right;\">\n",
       "      <th></th>\n",
       "      <th>CHNLNAME</th>\n",
       "      <th>CHNLDESC</th>\n",
       "      <th>CHNLORDER</th>\n",
       "      <th>SITEID</th>\n",
       "    </tr>\n",
       "    <tr>\n",
       "      <th>CHANNELID</th>\n",
       "      <th></th>\n",
       "      <th></th>\n",
       "      <th></th>\n",
       "      <th></th>\n",
       "    </tr>\n",
       "  </thead>\n",
       "  <tbody>\n",
       "    <tr>\n",
       "      <th>83</th>\n",
       "      <td>省政府办公厅</td>\n",
       "      <td>省政府办公厅</td>\n",
       "      <td>78</td>\n",
       "      <td>8</td>\n",
       "    </tr>\n",
       "    <tr>\n",
       "      <th>84</th>\n",
       "      <td>省发展改革委</td>\n",
       "      <td>省发展改革委</td>\n",
       "      <td>77</td>\n",
       "      <td>8</td>\n",
       "    </tr>\n",
       "    <tr>\n",
       "      <th>85</th>\n",
       "      <td>省经委</td>\n",
       "      <td>省经委</td>\n",
       "      <td>76</td>\n",
       "      <td>8</td>\n",
       "    </tr>\n",
       "    <tr>\n",
       "      <th>86</th>\n",
       "      <td>省民委</td>\n",
       "      <td>省民委</td>\n",
       "      <td>75</td>\n",
       "      <td>8</td>\n",
       "    </tr>\n",
       "    <tr>\n",
       "      <th>87</th>\n",
       "      <td>省人口计生委</td>\n",
       "      <td>省人口计生委</td>\n",
       "      <td>74</td>\n",
       "      <td>8</td>\n",
       "    </tr>\n",
       "  </tbody>\n",
       "</table>\n",
       "</div>"
      ],
      "text/plain": [
       "          CHNLNAME CHNLDESC  CHNLORDER  SITEID\n",
       "CHANNELID                                     \n",
       "83          省政府办公厅   省政府办公厅         78       8\n",
       "84          省发展改革委   省发展改革委         77       8\n",
       "85             省经委      省经委         76       8\n",
       "86             省民委      省民委         75       8\n",
       "87          省人口计生委   省人口计生委         74       8"
      ]
     },
     "execution_count": 3,
     "metadata": {},
     "output_type": "execute_result"
    }
   ],
   "source": [
    "chnl_df.head()"
   ]
  },
  {
   "cell_type": "code",
   "execution_count": 4,
   "id": "42174665-ab52-456f-8a6e-3c5b25f13300",
   "metadata": {},
   "outputs": [],
   "source": [
    "save_name = 'WCMDOCUMENT_1142126-1242126'\n",
    "\n",
    "news_df = pd.read_pickle(f'/ossfs/ceis-bgd-ba/WCM-FGW-DATA/{save_name}.df.pickle.gz')\n",
    "columns_to_keep = ['DOCCHANNEL', 'DOCTYPE', 'DOCTITLE', 'DOCSOURCE', 'DOCSTATUS', 'DOCCONTENT', 'DOCPUBURL']\n",
    "news_df = news_df[columns_to_keep]"
   ]
  },
  {
   "cell_type": "code",
   "execution_count": 5,
   "id": "f349ae7f-224a-4c1d-b205-48ae023add46",
   "metadata": {},
   "outputs": [
    {
     "data": {
      "text/html": [
       "<div>\n",
       "<style scoped>\n",
       "    .dataframe tbody tr th:only-of-type {\n",
       "        vertical-align: middle;\n",
       "    }\n",
       "\n",
       "    .dataframe tbody tr th {\n",
       "        vertical-align: top;\n",
       "    }\n",
       "\n",
       "    .dataframe thead th {\n",
       "        text-align: right;\n",
       "    }\n",
       "</style>\n",
       "<table border=\"1\" class=\"dataframe\">\n",
       "  <thead>\n",
       "    <tr style=\"text-align: right;\">\n",
       "      <th></th>\n",
       "      <th>DOCCHANNEL</th>\n",
       "      <th>DOCTYPE</th>\n",
       "      <th>DOCTITLE</th>\n",
       "      <th>DOCSOURCE</th>\n",
       "      <th>DOCSTATUS</th>\n",
       "      <th>DOCCONTENT</th>\n",
       "      <th>DOCPUBURL</th>\n",
       "    </tr>\n",
       "    <tr>\n",
       "      <th>DOCID</th>\n",
       "      <th></th>\n",
       "      <th></th>\n",
       "      <th></th>\n",
       "      <th></th>\n",
       "      <th></th>\n",
       "      <th></th>\n",
       "      <th></th>\n",
       "    </tr>\n",
       "  </thead>\n",
       "  <tbody>\n",
       "    <tr>\n",
       "      <th>1296828</th>\n",
       "      <td>7314</td>\n",
       "      <td>20</td>\n",
       "      <td>江苏泗阳：“四治融合”探索新型农村社区治理 新路径</td>\n",
       "      <td>46</td>\n",
       "      <td>10</td>\n",
       "      <td>“用60分换了个篮球，做公益还能收获到一些小纪念品。”最近，在江苏省农村改革试验区泗阳县...</td>\n",
       "      <td>http://www.ndrc.gov.cn/njs/nyncjj/xczx/202109/...</td>\n",
       "    </tr>\n",
       "    <tr>\n",
       "      <th>1296829</th>\n",
       "      <td>7314</td>\n",
       "      <td>20</td>\n",
       "      <td>江苏省连云港市连云区汇聚山海优势走出乡村振兴“致富路”</td>\n",
       "      <td>46</td>\n",
       "      <td>10</td>\n",
       "      <td>绿树掩映，白墙红瓦，阵阵海风拂面，条条村路平坦，巷陌间花树掩映，来往村民欢声笑语萦绕耳畔...</td>\n",
       "      <td>http://www.ndrc.gov.cn/njs/nyncjj/xczx/202109/...</td>\n",
       "    </tr>\n",
       "    <tr>\n",
       "      <th>1296830</th>\n",
       "      <td>6641</td>\n",
       "      <td>20</td>\n",
       "      <td>“十四五”时期上海科创中心强化科技创新策源功能 狠抓八项重点任务落实</td>\n",
       "      <td>32</td>\n",
       "      <td>10</td>\n",
       "      <td>近日，国家发展改革委会同上海市印发《上海市建设具有全球影响力的科技创新中心“十四五”规划...</td>\n",
       "      <td>http://gbdy.ndrc.gov.cn/gbdyzcjd/202109/t20210...</td>\n",
       "    </tr>\n",
       "    <tr>\n",
       "      <th>1296831</th>\n",
       "      <td>6641</td>\n",
       "      <td>20</td>\n",
       "      <td>“十三五”时期上海国际科技创新中心建设成效显著</td>\n",
       "      <td>32</td>\n",
       "      <td>10</td>\n",
       "      <td>近日，国家发展改革委会同上海市印发《上海市建设具有全球影响力的科技创新中心“十四五”规划...</td>\n",
       "      <td>http://gbdy.ndrc.gov.cn/gbdyzcjd/202109/t20210...</td>\n",
       "    </tr>\n",
       "    <tr>\n",
       "      <th>1296832</th>\n",
       "      <td>7372</td>\n",
       "      <td>20</td>\n",
       "      <td>全国首张！衢州发出的这张证，含金量杠杠的~</td>\n",
       "      <td>1063905038</td>\n",
       "      <td>10</td>\n",
       "      <td>取水许可电子证照是国务院确定的首批高频推广应用的电子证照之一。2019年，水利部确定北京...</td>\n",
       "      <td>http://www.ndrc.gov.cn/fgs/fgfg/dfxx/202109/t2...</td>\n",
       "    </tr>\n",
       "  </tbody>\n",
       "</table>\n",
       "</div>"
      ],
      "text/plain": [
       "         DOCCHANNEL  DOCTYPE                            DOCTITLE   DOCSOURCE  \\\n",
       "DOCID                                                                          \n",
       "1296828        7314       20           江苏泗阳：“四治融合”探索新型农村社区治理 新路径          46   \n",
       "1296829        7314       20         江苏省连云港市连云区汇聚山海优势走出乡村振兴“致富路”          46   \n",
       "1296830        6641       20  “十四五”时期上海科创中心强化科技创新策源功能 狠抓八项重点任务落实          32   \n",
       "1296831        6641       20             “十三五”时期上海国际科技创新中心建设成效显著          32   \n",
       "1296832        7372       20               全国首张！衢州发出的这张证，含金量杠杠的~  1063905038   \n",
       "\n",
       "         DOCSTATUS                                         DOCCONTENT  \\\n",
       "DOCID                                                                   \n",
       "1296828         10  　　“用60分换了个篮球，做公益还能收获到一些小纪念品。”最近，在江苏省农村改革试验区泗阳县...   \n",
       "1296829         10  　　绿树掩映，白墙红瓦，阵阵海风拂面，条条村路平坦，巷陌间花树掩映，来往村民欢声笑语萦绕耳畔...   \n",
       "1296830         10  　　近日，国家发展改革委会同上海市印发《上海市建设具有全球影响力的科技创新中心“十四五”规划...   \n",
       "1296831         10  　　近日，国家发展改革委会同上海市印发《上海市建设具有全球影响力的科技创新中心“十四五”规划...   \n",
       "1296832         10  　　取水许可电子证照是国务院确定的首批高频推广应用的电子证照之一。2019年，水利部确定北京...   \n",
       "\n",
       "                                                 DOCPUBURL  \n",
       "DOCID                                                       \n",
       "1296828  http://www.ndrc.gov.cn/njs/nyncjj/xczx/202109/...  \n",
       "1296829  http://www.ndrc.gov.cn/njs/nyncjj/xczx/202109/...  \n",
       "1296830  http://gbdy.ndrc.gov.cn/gbdyzcjd/202109/t20210...  \n",
       "1296831  http://gbdy.ndrc.gov.cn/gbdyzcjd/202109/t20210...  \n",
       "1296832  http://www.ndrc.gov.cn/fgs/fgfg/dfxx/202109/t2...  "
      ]
     },
     "execution_count": 5,
     "metadata": {},
     "output_type": "execute_result"
    }
   ],
   "source": [
    "news_df.head()"
   ]
  },
  {
   "cell_type": "code",
   "execution_count": 6,
   "id": "94cb8889-d282-428d-ad67-32074672962c",
   "metadata": {},
   "outputs": [
    {
     "data": {
      "text/plain": [
       "(42126, 7)"
      ]
     },
     "execution_count": 6,
     "metadata": {},
     "output_type": "execute_result"
    }
   ],
   "source": [
    "news_df.shape"
   ]
  },
  {
   "cell_type": "code",
   "execution_count": 7,
   "id": "33ec093d-6e12-40bb-bce2-a3cb801d041a",
   "metadata": {},
   "outputs": [
    {
     "data": {
      "text/plain": [
       "True"
      ]
     },
     "execution_count": 7,
     "metadata": {},
     "output_type": "execute_result"
    }
   ],
   "source": [
    "news_df.index.is_unique"
   ]
  },
  {
   "cell_type": "code",
   "execution_count": 8,
   "id": "597572c4-9add-47b4-9bb4-d631f2c10e73",
   "metadata": {
    "tags": []
   },
   "outputs": [],
   "source": [
    "df = pd.merge(chnl_df, news_df, left_index=True, right_on=\"DOCCHANNEL\", how=\"right\")"
   ]
  },
  {
   "cell_type": "code",
   "execution_count": 9,
   "id": "a7023b7c-0905-4e8a-81ce-a5c2b0223d08",
   "metadata": {},
   "outputs": [
    {
     "data": {
      "text/plain": [
       "False"
      ]
     },
     "execution_count": 9,
     "metadata": {},
     "output_type": "execute_result"
    }
   ],
   "source": [
    "(df['CHNLORDER'] == -1).any()"
   ]
  },
  {
   "cell_type": "code",
   "execution_count": 10,
   "id": "3a88cd22-cb5a-48b8-9f4d-fe01983bfab1",
   "metadata": {},
   "outputs": [
    {
     "data": {
      "text/plain": [
       "False"
      ]
     },
     "execution_count": 10,
     "metadata": {},
     "output_type": "execute_result"
    }
   ],
   "source": [
    "(df['SITEID'] == -1).any()"
   ]
  },
  {
   "cell_type": "code",
   "execution_count": 11,
   "id": "c2afd025-2f8f-4728-a1d0-6fb878552ef0",
   "metadata": {},
   "outputs": [],
   "source": [
    "df['CHNLORDER'] = df['CHNLORDER'].fillna(-1).astype('int32')\n",
    "df['SITEID'] = df['SITEID'].fillna(-1).astype('int32')"
   ]
  },
  {
   "cell_type": "code",
   "execution_count": 12,
   "id": "3deccba0-0ec2-47d8-a763-6586a208a1c8",
   "metadata": {},
   "outputs": [
    {
     "data": {
      "text/plain": [
       "dtype('int32')"
      ]
     },
     "execution_count": 12,
     "metadata": {},
     "output_type": "execute_result"
    }
   ],
   "source": [
    "df['CHNLORDER'].dtype"
   ]
  },
  {
   "cell_type": "code",
   "execution_count": 13,
   "id": "b1ff03e0-a7f4-448c-827f-143829d23db3",
   "metadata": {},
   "outputs": [
    {
     "data": {
      "text/plain": [
       "dtype('int32')"
      ]
     },
     "execution_count": 13,
     "metadata": {},
     "output_type": "execute_result"
    }
   ],
   "source": [
    "df['SITEID'].dtype"
   ]
  },
  {
   "cell_type": "code",
   "execution_count": 14,
   "id": "aa0e7387-545b-4d65-989a-f8aede65450f",
   "metadata": {
    "tags": []
   },
   "outputs": [
    {
     "data": {
      "text/html": [
       "<div>\n",
       "<style scoped>\n",
       "    .dataframe tbody tr th:only-of-type {\n",
       "        vertical-align: middle;\n",
       "    }\n",
       "\n",
       "    .dataframe tbody tr th {\n",
       "        vertical-align: top;\n",
       "    }\n",
       "\n",
       "    .dataframe thead th {\n",
       "        text-align: right;\n",
       "    }\n",
       "</style>\n",
       "<table border=\"1\" class=\"dataframe\">\n",
       "  <thead>\n",
       "    <tr style=\"text-align: right;\">\n",
       "      <th></th>\n",
       "      <th>CHNLNAME</th>\n",
       "      <th>CHNLDESC</th>\n",
       "      <th>CHNLORDER</th>\n",
       "      <th>SITEID</th>\n",
       "      <th>DOCCHANNEL</th>\n",
       "      <th>DOCTYPE</th>\n",
       "      <th>DOCTITLE</th>\n",
       "      <th>DOCSOURCE</th>\n",
       "      <th>DOCSTATUS</th>\n",
       "      <th>DOCCONTENT</th>\n",
       "      <th>DOCPUBURL</th>\n",
       "    </tr>\n",
       "    <tr>\n",
       "      <th>DOCID</th>\n",
       "      <th></th>\n",
       "      <th></th>\n",
       "      <th></th>\n",
       "      <th></th>\n",
       "      <th></th>\n",
       "      <th></th>\n",
       "      <th></th>\n",
       "      <th></th>\n",
       "      <th></th>\n",
       "      <th></th>\n",
       "      <th></th>\n",
       "    </tr>\n",
       "  </thead>\n",
       "  <tbody>\n",
       "    <tr>\n",
       "      <th>1296828</th>\n",
       "      <td>乡村振兴</td>\n",
       "      <td>乡村振兴</td>\n",
       "      <td>2</td>\n",
       "      <td>113</td>\n",
       "      <td>7314</td>\n",
       "      <td>20</td>\n",
       "      <td>江苏泗阳：“四治融合”探索新型农村社区治理 新路径</td>\n",
       "      <td>46</td>\n",
       "      <td>10</td>\n",
       "      <td>“用60分换了个篮球，做公益还能收获到一些小纪念品。”最近，在江苏省农村改革试验区泗阳县...</td>\n",
       "      <td>http://www.ndrc.gov.cn/njs/nyncjj/xczx/202109/...</td>\n",
       "    </tr>\n",
       "    <tr>\n",
       "      <th>1296829</th>\n",
       "      <td>乡村振兴</td>\n",
       "      <td>乡村振兴</td>\n",
       "      <td>2</td>\n",
       "      <td>113</td>\n",
       "      <td>7314</td>\n",
       "      <td>20</td>\n",
       "      <td>江苏省连云港市连云区汇聚山海优势走出乡村振兴“致富路”</td>\n",
       "      <td>46</td>\n",
       "      <td>10</td>\n",
       "      <td>绿树掩映，白墙红瓦，阵阵海风拂面，条条村路平坦，巷陌间花树掩映，来往村民欢声笑语萦绕耳畔...</td>\n",
       "      <td>http://www.ndrc.gov.cn/njs/nyncjj/xczx/202109/...</td>\n",
       "    </tr>\n",
       "    <tr>\n",
       "      <th>1296830</th>\n",
       "      <td>国办调用政策解读</td>\n",
       "      <td>政策及解读</td>\n",
       "      <td>2</td>\n",
       "      <td>104</td>\n",
       "      <td>6641</td>\n",
       "      <td>20</td>\n",
       "      <td>“十四五”时期上海科创中心强化科技创新策源功能 狠抓八项重点任务落实</td>\n",
       "      <td>32</td>\n",
       "      <td>10</td>\n",
       "      <td>近日，国家发展改革委会同上海市印发《上海市建设具有全球影响力的科技创新中心“十四五”规划...</td>\n",
       "      <td>http://gbdy.ndrc.gov.cn/gbdyzcjd/202109/t20210...</td>\n",
       "    </tr>\n",
       "    <tr>\n",
       "      <th>1296831</th>\n",
       "      <td>国办调用政策解读</td>\n",
       "      <td>政策及解读</td>\n",
       "      <td>2</td>\n",
       "      <td>104</td>\n",
       "      <td>6641</td>\n",
       "      <td>20</td>\n",
       "      <td>“十三五”时期上海国际科技创新中心建设成效显著</td>\n",
       "      <td>32</td>\n",
       "      <td>10</td>\n",
       "      <td>近日，国家发展改革委会同上海市印发《上海市建设具有全球影响力的科技创新中心“十四五”规划...</td>\n",
       "      <td>http://gbdy.ndrc.gov.cn/gbdyzcjd/202109/t20210...</td>\n",
       "    </tr>\n",
       "    <tr>\n",
       "      <th>1296832</th>\n",
       "      <td>地方信息</td>\n",
       "      <td>地方信息</td>\n",
       "      <td>1</td>\n",
       "      <td>113</td>\n",
       "      <td>7372</td>\n",
       "      <td>20</td>\n",
       "      <td>全国首张！衢州发出的这张证，含金量杠杠的~</td>\n",
       "      <td>1063905038</td>\n",
       "      <td>10</td>\n",
       "      <td>取水许可电子证照是国务院确定的首批高频推广应用的电子证照之一。2019年，水利部确定北京...</td>\n",
       "      <td>http://www.ndrc.gov.cn/fgs/fgfg/dfxx/202109/t2...</td>\n",
       "    </tr>\n",
       "  </tbody>\n",
       "</table>\n",
       "</div>"
      ],
      "text/plain": [
       "         CHNLNAME CHNLDESC  CHNLORDER  SITEID  DOCCHANNEL  DOCTYPE  \\\n",
       "DOCID                                                                \n",
       "1296828      乡村振兴     乡村振兴          2     113        7314       20   \n",
       "1296829      乡村振兴     乡村振兴          2     113        7314       20   \n",
       "1296830  国办调用政策解读    政策及解读          2     104        6641       20   \n",
       "1296831  国办调用政策解读    政策及解读          2     104        6641       20   \n",
       "1296832      地方信息     地方信息          1     113        7372       20   \n",
       "\n",
       "                                   DOCTITLE   DOCSOURCE  DOCSTATUS  \\\n",
       "DOCID                                                                \n",
       "1296828           江苏泗阳：“四治融合”探索新型农村社区治理 新路径          46         10   \n",
       "1296829         江苏省连云港市连云区汇聚山海优势走出乡村振兴“致富路”          46         10   \n",
       "1296830  “十四五”时期上海科创中心强化科技创新策源功能 狠抓八项重点任务落实          32         10   \n",
       "1296831             “十三五”时期上海国际科技创新中心建设成效显著          32         10   \n",
       "1296832               全国首张！衢州发出的这张证，含金量杠杠的~  1063905038         10   \n",
       "\n",
       "                                                DOCCONTENT  \\\n",
       "DOCID                                                        \n",
       "1296828  　　“用60分换了个篮球，做公益还能收获到一些小纪念品。”最近，在江苏省农村改革试验区泗阳县...   \n",
       "1296829  　　绿树掩映，白墙红瓦，阵阵海风拂面，条条村路平坦，巷陌间花树掩映，来往村民欢声笑语萦绕耳畔...   \n",
       "1296830  　　近日，国家发展改革委会同上海市印发《上海市建设具有全球影响力的科技创新中心“十四五”规划...   \n",
       "1296831  　　近日，国家发展改革委会同上海市印发《上海市建设具有全球影响力的科技创新中心“十四五”规划...   \n",
       "1296832  　　取水许可电子证照是国务院确定的首批高频推广应用的电子证照之一。2019年，水利部确定北京...   \n",
       "\n",
       "                                                 DOCPUBURL  \n",
       "DOCID                                                       \n",
       "1296828  http://www.ndrc.gov.cn/njs/nyncjj/xczx/202109/...  \n",
       "1296829  http://www.ndrc.gov.cn/njs/nyncjj/xczx/202109/...  \n",
       "1296830  http://gbdy.ndrc.gov.cn/gbdyzcjd/202109/t20210...  \n",
       "1296831  http://gbdy.ndrc.gov.cn/gbdyzcjd/202109/t20210...  \n",
       "1296832  http://www.ndrc.gov.cn/fgs/fgfg/dfxx/202109/t2...  "
      ]
     },
     "execution_count": 14,
     "metadata": {},
     "output_type": "execute_result"
    }
   ],
   "source": [
    "df.head()"
   ]
  },
  {
   "cell_type": "code",
   "execution_count": 15,
   "id": "0c4c489d-fcc4-46e6-84c7-875156db25b7",
   "metadata": {},
   "outputs": [
    {
     "data": {
      "text/plain": [
       "(42126, 11)"
      ]
     },
     "execution_count": 15,
     "metadata": {},
     "output_type": "execute_result"
    }
   ],
   "source": [
    "df.shape"
   ]
  },
  {
   "cell_type": "code",
   "execution_count": 16,
   "id": "acdb49df-6b5c-4905-9235-4af49a9e2173",
   "metadata": {},
   "outputs": [],
   "source": [
    "df['CHNLNAME'] = df['CHNLNAME'].fillna('<空>')\n",
    "df['CHNLDESC'] = df['CHNLDESC'].fillna('<空>')\n",
    "df['DOCPUBURL'] = df['DOCPUBURL'].fillna('<空>')"
   ]
  },
  {
   "cell_type": "code",
   "execution_count": 17,
   "id": "e89645e8-658d-4e02-9a34-2340e70040b0",
   "metadata": {},
   "outputs": [],
   "source": [
    "from pandas import isnull"
   ]
  },
  {
   "cell_type": "code",
   "execution_count": 18,
   "id": "b75325c9-a03b-4db5-98f9-62038e28eebf",
   "metadata": {},
   "outputs": [
    {
     "data": {
      "text/html": [
       "<div>\n",
       "<style scoped>\n",
       "    .dataframe tbody tr th:only-of-type {\n",
       "        vertical-align: middle;\n",
       "    }\n",
       "\n",
       "    .dataframe tbody tr th {\n",
       "        vertical-align: top;\n",
       "    }\n",
       "\n",
       "    .dataframe thead th {\n",
       "        text-align: right;\n",
       "    }\n",
       "</style>\n",
       "<table border=\"1\" class=\"dataframe\">\n",
       "  <thead>\n",
       "    <tr style=\"text-align: right;\">\n",
       "      <th></th>\n",
       "      <th>CHNLNAME</th>\n",
       "      <th>CHNLDESC</th>\n",
       "      <th>CHNLORDER</th>\n",
       "      <th>SITEID</th>\n",
       "      <th>DOCCHANNEL</th>\n",
       "      <th>DOCTYPE</th>\n",
       "      <th>DOCTITLE</th>\n",
       "      <th>DOCSOURCE</th>\n",
       "      <th>DOCSTATUS</th>\n",
       "      <th>DOCCONTENT</th>\n",
       "      <th>DOCPUBURL</th>\n",
       "    </tr>\n",
       "    <tr>\n",
       "      <th>DOCID</th>\n",
       "      <th></th>\n",
       "      <th></th>\n",
       "      <th></th>\n",
       "      <th></th>\n",
       "      <th></th>\n",
       "      <th></th>\n",
       "      <th></th>\n",
       "      <th></th>\n",
       "      <th></th>\n",
       "      <th></th>\n",
       "      <th></th>\n",
       "    </tr>\n",
       "  </thead>\n",
       "  <tbody>\n",
       "  </tbody>\n",
       "</table>\n",
       "</div>"
      ],
      "text/plain": [
       "Empty DataFrame\n",
       "Columns: [CHNLNAME, CHNLDESC, CHNLORDER, SITEID, DOCCHANNEL, DOCTYPE, DOCTITLE, DOCSOURCE, DOCSTATUS, DOCCONTENT, DOCPUBURL]\n",
       "Index: []"
      ]
     },
     "execution_count": 18,
     "metadata": {},
     "output_type": "execute_result"
    }
   ],
   "source": [
    "df[isnull(df['CHNLNAME'])].head()"
   ]
  },
  {
   "cell_type": "code",
   "execution_count": 19,
   "id": "ee08b49b-e039-44d9-9f1b-18ce9556d13d",
   "metadata": {},
   "outputs": [
    {
     "data": {
      "text/html": [
       "<div>\n",
       "<style scoped>\n",
       "    .dataframe tbody tr th:only-of-type {\n",
       "        vertical-align: middle;\n",
       "    }\n",
       "\n",
       "    .dataframe tbody tr th {\n",
       "        vertical-align: top;\n",
       "    }\n",
       "\n",
       "    .dataframe thead th {\n",
       "        text-align: right;\n",
       "    }\n",
       "</style>\n",
       "<table border=\"1\" class=\"dataframe\">\n",
       "  <thead>\n",
       "    <tr style=\"text-align: right;\">\n",
       "      <th></th>\n",
       "      <th>CHNLNAME</th>\n",
       "      <th>CHNLDESC</th>\n",
       "      <th>CHNLORDER</th>\n",
       "      <th>SITEID</th>\n",
       "      <th>DOCCHANNEL</th>\n",
       "      <th>DOCTYPE</th>\n",
       "      <th>DOCTITLE</th>\n",
       "      <th>DOCSOURCE</th>\n",
       "      <th>DOCSTATUS</th>\n",
       "      <th>DOCCONTENT</th>\n",
       "      <th>DOCPUBURL</th>\n",
       "    </tr>\n",
       "    <tr>\n",
       "      <th>DOCID</th>\n",
       "      <th></th>\n",
       "      <th></th>\n",
       "      <th></th>\n",
       "      <th></th>\n",
       "      <th></th>\n",
       "      <th></th>\n",
       "      <th></th>\n",
       "      <th></th>\n",
       "      <th></th>\n",
       "      <th></th>\n",
       "      <th></th>\n",
       "    </tr>\n",
       "  </thead>\n",
       "  <tbody>\n",
       "  </tbody>\n",
       "</table>\n",
       "</div>"
      ],
      "text/plain": [
       "Empty DataFrame\n",
       "Columns: [CHNLNAME, CHNLDESC, CHNLORDER, SITEID, DOCCHANNEL, DOCTYPE, DOCTITLE, DOCSOURCE, DOCSTATUS, DOCCONTENT, DOCPUBURL]\n",
       "Index: []"
      ]
     },
     "execution_count": 19,
     "metadata": {},
     "output_type": "execute_result"
    }
   ],
   "source": [
    "df[isnull(df['CHNLDESC'])].head()"
   ]
  },
  {
   "cell_type": "code",
   "execution_count": 20,
   "id": "f391c181-b112-4bb9-81a6-0a6d1e440942",
   "metadata": {},
   "outputs": [
    {
     "data": {
      "text/html": [
       "<div>\n",
       "<style scoped>\n",
       "    .dataframe tbody tr th:only-of-type {\n",
       "        vertical-align: middle;\n",
       "    }\n",
       "\n",
       "    .dataframe tbody tr th {\n",
       "        vertical-align: top;\n",
       "    }\n",
       "\n",
       "    .dataframe thead th {\n",
       "        text-align: right;\n",
       "    }\n",
       "</style>\n",
       "<table border=\"1\" class=\"dataframe\">\n",
       "  <thead>\n",
       "    <tr style=\"text-align: right;\">\n",
       "      <th></th>\n",
       "      <th>CHNLNAME</th>\n",
       "      <th>CHNLDESC</th>\n",
       "      <th>CHNLORDER</th>\n",
       "      <th>SITEID</th>\n",
       "      <th>DOCCHANNEL</th>\n",
       "      <th>DOCTYPE</th>\n",
       "      <th>DOCTITLE</th>\n",
       "      <th>DOCSOURCE</th>\n",
       "      <th>DOCSTATUS</th>\n",
       "      <th>DOCCONTENT</th>\n",
       "      <th>DOCPUBURL</th>\n",
       "    </tr>\n",
       "    <tr>\n",
       "      <th>DOCID</th>\n",
       "      <th></th>\n",
       "      <th></th>\n",
       "      <th></th>\n",
       "      <th></th>\n",
       "      <th></th>\n",
       "      <th></th>\n",
       "      <th></th>\n",
       "      <th></th>\n",
       "      <th></th>\n",
       "      <th></th>\n",
       "      <th></th>\n",
       "    </tr>\n",
       "  </thead>\n",
       "  <tbody>\n",
       "  </tbody>\n",
       "</table>\n",
       "</div>"
      ],
      "text/plain": [
       "Empty DataFrame\n",
       "Columns: [CHNLNAME, CHNLDESC, CHNLORDER, SITEID, DOCCHANNEL, DOCTYPE, DOCTITLE, DOCSOURCE, DOCSTATUS, DOCCONTENT, DOCPUBURL]\n",
       "Index: []"
      ]
     },
     "execution_count": 20,
     "metadata": {},
     "output_type": "execute_result"
    }
   ],
   "source": [
    "df[isnull(df['DOCPUBURL'])].head()"
   ]
  },
  {
   "cell_type": "code",
   "execution_count": 21,
   "id": "c57f861f-782c-4aea-8451-64de1b98d6e1",
   "metadata": {},
   "outputs": [],
   "source": [
    "df = df.reset_index()"
   ]
  },
  {
   "cell_type": "code",
   "execution_count": 22,
   "id": "b2a6bc19-7d46-400a-a907-39428b99d4c3",
   "metadata": {},
   "outputs": [
    {
     "data": {
      "text/html": [
       "<div>\n",
       "<style scoped>\n",
       "    .dataframe tbody tr th:only-of-type {\n",
       "        vertical-align: middle;\n",
       "    }\n",
       "\n",
       "    .dataframe tbody tr th {\n",
       "        vertical-align: top;\n",
       "    }\n",
       "\n",
       "    .dataframe thead th {\n",
       "        text-align: right;\n",
       "    }\n",
       "</style>\n",
       "<table border=\"1\" class=\"dataframe\">\n",
       "  <thead>\n",
       "    <tr style=\"text-align: right;\">\n",
       "      <th></th>\n",
       "      <th>DOCID</th>\n",
       "      <th>CHNLNAME</th>\n",
       "      <th>CHNLDESC</th>\n",
       "      <th>CHNLORDER</th>\n",
       "      <th>SITEID</th>\n",
       "      <th>DOCCHANNEL</th>\n",
       "      <th>DOCTYPE</th>\n",
       "      <th>DOCTITLE</th>\n",
       "      <th>DOCSOURCE</th>\n",
       "      <th>DOCSTATUS</th>\n",
       "      <th>DOCCONTENT</th>\n",
       "      <th>DOCPUBURL</th>\n",
       "    </tr>\n",
       "  </thead>\n",
       "  <tbody>\n",
       "    <tr>\n",
       "      <th>0</th>\n",
       "      <td>1296828</td>\n",
       "      <td>乡村振兴</td>\n",
       "      <td>乡村振兴</td>\n",
       "      <td>2</td>\n",
       "      <td>113</td>\n",
       "      <td>7314</td>\n",
       "      <td>20</td>\n",
       "      <td>江苏泗阳：“四治融合”探索新型农村社区治理 新路径</td>\n",
       "      <td>46</td>\n",
       "      <td>10</td>\n",
       "      <td>“用60分换了个篮球，做公益还能收获到一些小纪念品。”最近，在江苏省农村改革试验区泗阳县...</td>\n",
       "      <td>http://www.ndrc.gov.cn/njs/nyncjj/xczx/202109/...</td>\n",
       "    </tr>\n",
       "    <tr>\n",
       "      <th>1</th>\n",
       "      <td>1296829</td>\n",
       "      <td>乡村振兴</td>\n",
       "      <td>乡村振兴</td>\n",
       "      <td>2</td>\n",
       "      <td>113</td>\n",
       "      <td>7314</td>\n",
       "      <td>20</td>\n",
       "      <td>江苏省连云港市连云区汇聚山海优势走出乡村振兴“致富路”</td>\n",
       "      <td>46</td>\n",
       "      <td>10</td>\n",
       "      <td>绿树掩映，白墙红瓦，阵阵海风拂面，条条村路平坦，巷陌间花树掩映，来往村民欢声笑语萦绕耳畔...</td>\n",
       "      <td>http://www.ndrc.gov.cn/njs/nyncjj/xczx/202109/...</td>\n",
       "    </tr>\n",
       "    <tr>\n",
       "      <th>2</th>\n",
       "      <td>1296830</td>\n",
       "      <td>国办调用政策解读</td>\n",
       "      <td>政策及解读</td>\n",
       "      <td>2</td>\n",
       "      <td>104</td>\n",
       "      <td>6641</td>\n",
       "      <td>20</td>\n",
       "      <td>“十四五”时期上海科创中心强化科技创新策源功能 狠抓八项重点任务落实</td>\n",
       "      <td>32</td>\n",
       "      <td>10</td>\n",
       "      <td>近日，国家发展改革委会同上海市印发《上海市建设具有全球影响力的科技创新中心“十四五”规划...</td>\n",
       "      <td>http://gbdy.ndrc.gov.cn/gbdyzcjd/202109/t20210...</td>\n",
       "    </tr>\n",
       "    <tr>\n",
       "      <th>3</th>\n",
       "      <td>1296831</td>\n",
       "      <td>国办调用政策解读</td>\n",
       "      <td>政策及解读</td>\n",
       "      <td>2</td>\n",
       "      <td>104</td>\n",
       "      <td>6641</td>\n",
       "      <td>20</td>\n",
       "      <td>“十三五”时期上海国际科技创新中心建设成效显著</td>\n",
       "      <td>32</td>\n",
       "      <td>10</td>\n",
       "      <td>近日，国家发展改革委会同上海市印发《上海市建设具有全球影响力的科技创新中心“十四五”规划...</td>\n",
       "      <td>http://gbdy.ndrc.gov.cn/gbdyzcjd/202109/t20210...</td>\n",
       "    </tr>\n",
       "    <tr>\n",
       "      <th>4</th>\n",
       "      <td>1296832</td>\n",
       "      <td>地方信息</td>\n",
       "      <td>地方信息</td>\n",
       "      <td>1</td>\n",
       "      <td>113</td>\n",
       "      <td>7372</td>\n",
       "      <td>20</td>\n",
       "      <td>全国首张！衢州发出的这张证，含金量杠杠的~</td>\n",
       "      <td>1063905038</td>\n",
       "      <td>10</td>\n",
       "      <td>取水许可电子证照是国务院确定的首批高频推广应用的电子证照之一。2019年，水利部确定北京...</td>\n",
       "      <td>http://www.ndrc.gov.cn/fgs/fgfg/dfxx/202109/t2...</td>\n",
       "    </tr>\n",
       "  </tbody>\n",
       "</table>\n",
       "</div>"
      ],
      "text/plain": [
       "     DOCID  CHNLNAME CHNLDESC  CHNLORDER  SITEID  DOCCHANNEL  DOCTYPE  \\\n",
       "0  1296828      乡村振兴     乡村振兴          2     113        7314       20   \n",
       "1  1296829      乡村振兴     乡村振兴          2     113        7314       20   \n",
       "2  1296830  国办调用政策解读    政策及解读          2     104        6641       20   \n",
       "3  1296831  国办调用政策解读    政策及解读          2     104        6641       20   \n",
       "4  1296832      地方信息     地方信息          1     113        7372       20   \n",
       "\n",
       "                             DOCTITLE   DOCSOURCE  DOCSTATUS  \\\n",
       "0           江苏泗阳：“四治融合”探索新型农村社区治理 新路径          46         10   \n",
       "1         江苏省连云港市连云区汇聚山海优势走出乡村振兴“致富路”          46         10   \n",
       "2  “十四五”时期上海科创中心强化科技创新策源功能 狠抓八项重点任务落实          32         10   \n",
       "3             “十三五”时期上海国际科技创新中心建设成效显著          32         10   \n",
       "4               全国首张！衢州发出的这张证，含金量杠杠的~  1063905038         10   \n",
       "\n",
       "                                          DOCCONTENT  \\\n",
       "0  　　“用60分换了个篮球，做公益还能收获到一些小纪念品。”最近，在江苏省农村改革试验区泗阳县...   \n",
       "1  　　绿树掩映，白墙红瓦，阵阵海风拂面，条条村路平坦，巷陌间花树掩映，来往村民欢声笑语萦绕耳畔...   \n",
       "2  　　近日，国家发展改革委会同上海市印发《上海市建设具有全球影响力的科技创新中心“十四五”规划...   \n",
       "3  　　近日，国家发展改革委会同上海市印发《上海市建设具有全球影响力的科技创新中心“十四五”规划...   \n",
       "4  　　取水许可电子证照是国务院确定的首批高频推广应用的电子证照之一。2019年，水利部确定北京...   \n",
       "\n",
       "                                           DOCPUBURL  \n",
       "0  http://www.ndrc.gov.cn/njs/nyncjj/xczx/202109/...  \n",
       "1  http://www.ndrc.gov.cn/njs/nyncjj/xczx/202109/...  \n",
       "2  http://gbdy.ndrc.gov.cn/gbdyzcjd/202109/t20210...  \n",
       "3  http://gbdy.ndrc.gov.cn/gbdyzcjd/202109/t20210...  \n",
       "4  http://www.ndrc.gov.cn/fgs/fgfg/dfxx/202109/t2...  "
      ]
     },
     "execution_count": 22,
     "metadata": {},
     "output_type": "execute_result"
    }
   ],
   "source": [
    "df.head()"
   ]
  },
  {
   "cell_type": "code",
   "execution_count": 23,
   "id": "4e24d177-6cb2-42bc-8ea7-10921f2d9509",
   "metadata": {},
   "outputs": [],
   "source": [
    "import os\n",
    "\n",
    "df.to_pickle(os.path.join(\"/data/ruiso/local/client/es/performance_test\", f\"{save_name}.pickle\"))"
   ]
  }
 ],
 "metadata": {
  "kernelspec": {
   "display_name": "py38",
   "language": "python",
   "name": "py38"
  },
  "language_info": {
   "codemirror_mode": {
    "name": "ipython",
    "version": 3
   },
   "file_extension": ".py",
   "mimetype": "text/x-python",
   "name": "python",
   "nbconvert_exporter": "python",
   "pygments_lexer": "ipython3",
   "version": "3.8.15"
  }
 },
 "nbformat": 4,
 "nbformat_minor": 5
}

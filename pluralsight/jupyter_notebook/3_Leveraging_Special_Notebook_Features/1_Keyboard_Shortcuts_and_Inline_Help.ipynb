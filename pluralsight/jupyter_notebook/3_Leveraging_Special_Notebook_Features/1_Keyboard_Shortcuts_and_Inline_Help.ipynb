{
 "cells": [
  {
   "cell_type": "markdown",
   "id": "da7fde68",
   "metadata": {},
   "source": [
    "# Command Mode Shortcuts - Manipulating Cells"
   ]
  },
  {
   "cell_type": "code",
   "execution_count": 1,
   "id": "a1f17d00",
   "metadata": {},
   "outputs": [],
   "source": [
    "# 鼠标l之外任意地方进入命令模式\n",
    "\n",
    "# X - cut selected cell\n",
    "# C - copy selected cell\n",
    "# V - paste below\n",
    "# Shift+V - paste above\n",
    "\n",
    "# D,D(press D twice) - delete selected cell\n",
    "\n",
    "# A insert a cell above\n",
    "# B insert a cell below\n",
    "\n",
    "# Shift+up/Down - Extend selection up/down\n",
    "# Ctrl+Enter - Run selected cell\n",
    "# Shift+Enter - Run selected, select cell below(insert new cell if at end of notebook)\n",
    "# Alt+Enter - Run selected, insert cell below\n",
    "\n",
    "# Shift+M - Merge selected cells\n",
    "\n",
    "# Shift+L - Toggle line numbers\n",
    "\n",
    "# H - See the full list of keyboard shortcuts"
   ]
  },
  {
   "cell_type": "markdown",
   "id": "ed4b9a85",
   "metadata": {},
   "source": [
    "# Edit Mode Commands"
   ]
  },
  {
   "cell_type": "code",
   "execution_count": 2,
   "id": "86cb0208",
   "metadata": {},
   "outputs": [],
   "source": [
    "# 鼠标点击cell内部进入编辑模式\n",
    "\n",
    "# Cut, Copy and Paste for text within a cell - use the browser shortcuts\n",
    "\n",
    "# Ctrl+] - indent\n",
    "# Ctrl+[ - dedent\n",
    "\n",
    "# Ctrl+Shift+Minus - split cell"
   ]
  },
  {
   "cell_type": "markdown",
   "id": "dbe9c803",
   "metadata": {},
   "source": [
    "# Inline Help"
   ]
  },
  {
   "cell_type": "code",
   "execution_count": 3,
   "id": "cff13752",
   "metadata": {},
   "outputs": [],
   "source": [
    "# Append a question mark(?) to any member and run the cell\n",
    "# Shift+Tab\n",
    "import random"
   ]
  },
  {
   "cell_type": "code",
   "execution_count": 4,
   "id": "15374a83",
   "metadata": {},
   "outputs": [],
   "source": [
    "random.shuffle?"
   ]
  }
 ],
 "metadata": {
  "kernelspec": {
   "display_name": "Python 3 (ipykernel)",
   "language": "python",
   "name": "python3"
  },
  "language_info": {
   "codemirror_mode": {
    "name": "ipython",
    "version": 3
   },
   "file_extension": ".py",
   "mimetype": "text/x-python",
   "name": "python",
   "nbconvert_exporter": "python",
   "pygments_lexer": "ipython3",
   "version": "3.7.9"
  }
 },
 "nbformat": 4,
 "nbformat_minor": 5
}

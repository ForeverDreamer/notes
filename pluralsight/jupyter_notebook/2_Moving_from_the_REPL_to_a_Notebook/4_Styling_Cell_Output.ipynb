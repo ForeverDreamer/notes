{
 "cells": [
  {
   "cell_type": "markdown",
   "metadata": {},
   "source": [
    "### windows wsl"
   ]
  },
  {
   "cell_type": "code",
   "execution_count": 1,
   "metadata": {},
   "outputs": [],
   "source": [
    "# url = 'https://raw.githubusercontent.com/kelseyhightower/weather-data/master/weather.csv'\n",
    "# !curl {url} -o wheather.csv"
   ]
  },
  {
   "cell_type": "code",
   "execution_count": 2,
   "metadata": {},
   "outputs": [
    {
     "name": "stdout",
     "output_type": "stream",
     "text": [
      "2000,11,30,23,00,6.65\r\n",
      "2000,12,01,00,00,5.83\r\n",
      "2000,12,01,01,00,5.06\r\n",
      "2000,12,01,02,00,4.35\r\n",
      "2000,12,01,03,00,3.68\r\n"
     ]
    }
   ],
   "source": [
    "!head -n 5 ./weather.csv"
   ]
  },
  {
   "cell_type": "code",
   "execution_count": 3,
   "metadata": {},
   "outputs": [
    {
     "name": "stdout",
     "output_type": "stream",
     "text": [
      "/mnt/d/data_files/notes/pluralsight/jupyter_notebook/2_Moving_from_the_REPL_to_a_Notebook\r\n"
     ]
    }
   ],
   "source": [
    "!pwd"
   ]
  },
  {
   "cell_type": "code",
   "execution_count": 4,
   "metadata": {},
   "outputs": [
    {
     "name": "stdout",
     "output_type": "stream",
     "text": [
      "1_Creating_a_Jupyter_Notebook.ipynb\t    4_Styling_Cell_Output.ipynb\r\n",
      "3_Shell_Commands_and_Special_Objects.ipynb  weather.csv\r\n"
     ]
    }
   ],
   "source": [
    "!ls"
   ]
  },
  {
   "cell_type": "code",
   "execution_count": 5,
   "metadata": {},
   "outputs": [],
   "source": [
    "import csv"
   ]
  },
  {
   "cell_type": "code",
   "execution_count": 6,
   "metadata": {},
   "outputs": [
    {
     "name": "stdout",
     "output_type": "stream",
     "text": [
      "['2000', '11', '30', '23', '00', '6.65']\n",
      "['2000', '12', '01', '00', '00', '5.83']\n",
      "['2000', '12', '01', '01', '00', '5.06']\n",
      "['2000', '12', '01', '02', '00', '4.35']\n",
      "['2000', '12', '01', '03', '00', '3.68']\n",
      "['2000', '12', '01', '04', '00', '3.20']\n"
     ]
    }
   ],
   "source": [
    "with open('weather.csv', 'r') as f:\n",
    "    count = 0\n",
    "    for line in csv.reader(f):\n",
    "        if count > 5:\n",
    "            break\n",
    "        print(line)\n",
    "        count += 1"
   ]
  },
  {
   "cell_type": "code",
   "execution_count": 7,
   "metadata": {},
   "outputs": [],
   "source": [
    "import pandas as pd"
   ]
  },
  {
   "cell_type": "code",
   "execution_count": 8,
   "metadata": {},
   "outputs": [],
   "source": [
    "df_weather = pd.read_csv('weather.csv')"
   ]
  },
  {
   "cell_type": "code",
   "execution_count": 13,
   "metadata": {},
   "outputs": [],
   "source": [
    "df_head5 = df_weather.loc[:5]"
   ]
  },
  {
   "cell_type": "code",
   "execution_count": 14,
   "metadata": {
    "scrolled": true
   },
   "outputs": [
    {
     "data": {
      "text/plain": [
       "'<style type=\"text/css\">\\n</style>\\n<table id=\"T_5abe0_\">\\n  <thead>\\n    <tr>\\n      <th class=\"blank level0\" >&nbsp;</th>\\n      <th class=\"col_heading level0 col0\" >2000</th>\\n      <th class=\"col_heading level0 col1\" >11</th>\\n      <th class=\"col_heading level0 col2\" >30</th>\\n      <th class=\"col_heading level0 col3\" >23</th>\\n      <th class=\"col_heading level0 col4\" >00</th>\\n      <th class=\"col_heading level0 col5\" >6.65</th>\\n    </tr>\\n  </thead>\\n  <tbody>\\n    <tr>\\n      <th id=\"T_5abe0_level0_row0\" class=\"row_heading level0 row0\" >0</th>\\n      <td id=\"T_5abe0_row0_col0\" class=\"data row0 col0\" >2000</td>\\n      <td id=\"T_5abe0_row0_col1\" class=\"data row0 col1\" >12</td>\\n      <td id=\"T_5abe0_row0_col2\" class=\"data row0 col2\" >1</td>\\n      <td id=\"T_5abe0_row0_col3\" class=\"data row0 col3\" >0</td>\\n      <td id=\"T_5abe0_row0_col4\" class=\"data row0 col4\" >0</td>\\n      <td id=\"T_5abe0_row0_col5\" class=\"data row0 col5\" >5.830000</td>\\n    </tr>\\n    <tr>\\n      <th id=\"T_5abe0_level0_row1\" class=\"row_heading level0 row1\" >1</th>\\n      <td id=\"T_5abe0_row1_col0\" class=\"data row1 col0\" >2000</td>\\n      <td id=\"T_5abe0_row1_col1\" class=\"data row1 col1\" >12</td>\\n      <td id=\"T_5abe0_row1_col2\" class=\"data row1 col2\" >1</td>\\n      <td id=\"T_5abe0_row1_col3\" class=\"data row1 col3\" >1</td>\\n      <td id=\"T_5abe0_row1_col4\" class=\"data row1 col4\" >0</td>\\n      <td id=\"T_5abe0_row1_col5\" class=\"data row1 col5\" >5.060000</td>\\n    </tr>\\n  </tbody>\\n</table>\\n'"
      ]
     },
     "execution_count": 14,
     "metadata": {},
     "output_type": "execute_result"
    }
   ],
   "source": [
    "df_head5.loc[:1].style.render()"
   ]
  },
  {
   "cell_type": "code",
   "execution_count": 15,
   "metadata": {},
   "outputs": [
    {
     "data": {
      "text/html": [
       "<style type=\"text/css\">\n",
       "#T_6d532_row0_col0, #T_6d532_row0_col1, #T_6d532_row0_col2, #T_6d532_row0_col4, #T_6d532_row0_col5, #T_6d532_row1_col0, #T_6d532_row1_col1, #T_6d532_row1_col2, #T_6d532_row1_col4, #T_6d532_row2_col0, #T_6d532_row2_col1, #T_6d532_row2_col2, #T_6d532_row2_col4, #T_6d532_row3_col0, #T_6d532_row3_col1, #T_6d532_row3_col2, #T_6d532_row3_col4, #T_6d532_row4_col0, #T_6d532_row4_col1, #T_6d532_row4_col2, #T_6d532_row4_col4, #T_6d532_row5_col0, #T_6d532_row5_col1, #T_6d532_row5_col2, #T_6d532_row5_col3, #T_6d532_row5_col4 {\n",
       "  background-color: yellow;\n",
       "}\n",
       "</style>\n",
       "<table id=\"T_6d532_\">\n",
       "  <thead>\n",
       "    <tr>\n",
       "      <th class=\"blank level0\" >&nbsp;</th>\n",
       "      <th class=\"col_heading level0 col0\" >2000</th>\n",
       "      <th class=\"col_heading level0 col1\" >11</th>\n",
       "      <th class=\"col_heading level0 col2\" >30</th>\n",
       "      <th class=\"col_heading level0 col3\" >23</th>\n",
       "      <th class=\"col_heading level0 col4\" >00</th>\n",
       "      <th class=\"col_heading level0 col5\" >6.65</th>\n",
       "    </tr>\n",
       "  </thead>\n",
       "  <tbody>\n",
       "    <tr>\n",
       "      <th id=\"T_6d532_level0_row0\" class=\"row_heading level0 row0\" >0</th>\n",
       "      <td id=\"T_6d532_row0_col0\" class=\"data row0 col0\" >2000</td>\n",
       "      <td id=\"T_6d532_row0_col1\" class=\"data row0 col1\" >12</td>\n",
       "      <td id=\"T_6d532_row0_col2\" class=\"data row0 col2\" >1</td>\n",
       "      <td id=\"T_6d532_row0_col3\" class=\"data row0 col3\" >0</td>\n",
       "      <td id=\"T_6d532_row0_col4\" class=\"data row0 col4\" >0</td>\n",
       "      <td id=\"T_6d532_row0_col5\" class=\"data row0 col5\" >5.830000</td>\n",
       "    </tr>\n",
       "    <tr>\n",
       "      <th id=\"T_6d532_level0_row1\" class=\"row_heading level0 row1\" >1</th>\n",
       "      <td id=\"T_6d532_row1_col0\" class=\"data row1 col0\" >2000</td>\n",
       "      <td id=\"T_6d532_row1_col1\" class=\"data row1 col1\" >12</td>\n",
       "      <td id=\"T_6d532_row1_col2\" class=\"data row1 col2\" >1</td>\n",
       "      <td id=\"T_6d532_row1_col3\" class=\"data row1 col3\" >1</td>\n",
       "      <td id=\"T_6d532_row1_col4\" class=\"data row1 col4\" >0</td>\n",
       "      <td id=\"T_6d532_row1_col5\" class=\"data row1 col5\" >5.060000</td>\n",
       "    </tr>\n",
       "    <tr>\n",
       "      <th id=\"T_6d532_level0_row2\" class=\"row_heading level0 row2\" >2</th>\n",
       "      <td id=\"T_6d532_row2_col0\" class=\"data row2 col0\" >2000</td>\n",
       "      <td id=\"T_6d532_row2_col1\" class=\"data row2 col1\" >12</td>\n",
       "      <td id=\"T_6d532_row2_col2\" class=\"data row2 col2\" >1</td>\n",
       "      <td id=\"T_6d532_row2_col3\" class=\"data row2 col3\" >2</td>\n",
       "      <td id=\"T_6d532_row2_col4\" class=\"data row2 col4\" >0</td>\n",
       "      <td id=\"T_6d532_row2_col5\" class=\"data row2 col5\" >4.350000</td>\n",
       "    </tr>\n",
       "    <tr>\n",
       "      <th id=\"T_6d532_level0_row3\" class=\"row_heading level0 row3\" >3</th>\n",
       "      <td id=\"T_6d532_row3_col0\" class=\"data row3 col0\" >2000</td>\n",
       "      <td id=\"T_6d532_row3_col1\" class=\"data row3 col1\" >12</td>\n",
       "      <td id=\"T_6d532_row3_col2\" class=\"data row3 col2\" >1</td>\n",
       "      <td id=\"T_6d532_row3_col3\" class=\"data row3 col3\" >3</td>\n",
       "      <td id=\"T_6d532_row3_col4\" class=\"data row3 col4\" >0</td>\n",
       "      <td id=\"T_6d532_row3_col5\" class=\"data row3 col5\" >3.680000</td>\n",
       "    </tr>\n",
       "    <tr>\n",
       "      <th id=\"T_6d532_level0_row4\" class=\"row_heading level0 row4\" >4</th>\n",
       "      <td id=\"T_6d532_row4_col0\" class=\"data row4 col0\" >2000</td>\n",
       "      <td id=\"T_6d532_row4_col1\" class=\"data row4 col1\" >12</td>\n",
       "      <td id=\"T_6d532_row4_col2\" class=\"data row4 col2\" >1</td>\n",
       "      <td id=\"T_6d532_row4_col3\" class=\"data row4 col3\" >4</td>\n",
       "      <td id=\"T_6d532_row4_col4\" class=\"data row4 col4\" >0</td>\n",
       "      <td id=\"T_6d532_row4_col5\" class=\"data row4 col5\" >3.200000</td>\n",
       "    </tr>\n",
       "    <tr>\n",
       "      <th id=\"T_6d532_level0_row5\" class=\"row_heading level0 row5\" >5</th>\n",
       "      <td id=\"T_6d532_row5_col0\" class=\"data row5 col0\" >2000</td>\n",
       "      <td id=\"T_6d532_row5_col1\" class=\"data row5 col1\" >12</td>\n",
       "      <td id=\"T_6d532_row5_col2\" class=\"data row5 col2\" >1</td>\n",
       "      <td id=\"T_6d532_row5_col3\" class=\"data row5 col3\" >5</td>\n",
       "      <td id=\"T_6d532_row5_col4\" class=\"data row5 col4\" >0</td>\n",
       "      <td id=\"T_6d532_row5_col5\" class=\"data row5 col5\" >2.710000</td>\n",
       "    </tr>\n",
       "  </tbody>\n",
       "</table>\n"
      ],
      "text/plain": [
       "<pandas.io.formats.style.Styler at 0x7f02ab46d7d0>"
      ]
     },
     "execution_count": 15,
     "metadata": {},
     "output_type": "execute_result"
    }
   ],
   "source": [
    "df_head5.style.highlight_max()"
   ]
  },
  {
   "cell_type": "code",
   "execution_count": 18,
   "metadata": {},
   "outputs": [],
   "source": [
    "def highlight_5_and_over(value):\n",
    "    return 'color: {0}'.format('green' if value >= 5 else 'black')"
   ]
  },
  {
   "cell_type": "code",
   "execution_count": 19,
   "metadata": {},
   "outputs": [
    {
     "data": {
      "text/html": [
       "<style type=\"text/css\">\n",
       "#T_e654a_row0_col0, #T_e654a_row0_col1, #T_e654a_row0_col5, #T_e654a_row1_col0, #T_e654a_row1_col1, #T_e654a_row1_col5, #T_e654a_row2_col0, #T_e654a_row2_col1, #T_e654a_row3_col0, #T_e654a_row3_col1, #T_e654a_row4_col0, #T_e654a_row4_col1, #T_e654a_row5_col0, #T_e654a_row5_col1, #T_e654a_row5_col3 {\n",
       "  color: green;\n",
       "}\n",
       "#T_e654a_row0_col2, #T_e654a_row0_col3, #T_e654a_row0_col4, #T_e654a_row1_col2, #T_e654a_row1_col3, #T_e654a_row1_col4, #T_e654a_row2_col2, #T_e654a_row2_col3, #T_e654a_row2_col4, #T_e654a_row2_col5, #T_e654a_row3_col2, #T_e654a_row3_col3, #T_e654a_row3_col4, #T_e654a_row3_col5, #T_e654a_row4_col2, #T_e654a_row4_col3, #T_e654a_row4_col4, #T_e654a_row4_col5, #T_e654a_row5_col2, #T_e654a_row5_col4, #T_e654a_row5_col5 {\n",
       "  color: black;\n",
       "}\n",
       "</style>\n",
       "<table id=\"T_e654a_\">\n",
       "  <thead>\n",
       "    <tr>\n",
       "      <th class=\"blank level0\" >&nbsp;</th>\n",
       "      <th class=\"col_heading level0 col0\" >2000</th>\n",
       "      <th class=\"col_heading level0 col1\" >11</th>\n",
       "      <th class=\"col_heading level0 col2\" >30</th>\n",
       "      <th class=\"col_heading level0 col3\" >23</th>\n",
       "      <th class=\"col_heading level0 col4\" >00</th>\n",
       "      <th class=\"col_heading level0 col5\" >6.65</th>\n",
       "    </tr>\n",
       "  </thead>\n",
       "  <tbody>\n",
       "    <tr>\n",
       "      <th id=\"T_e654a_level0_row0\" class=\"row_heading level0 row0\" >0</th>\n",
       "      <td id=\"T_e654a_row0_col0\" class=\"data row0 col0\" >2000</td>\n",
       "      <td id=\"T_e654a_row0_col1\" class=\"data row0 col1\" >12</td>\n",
       "      <td id=\"T_e654a_row0_col2\" class=\"data row0 col2\" >1</td>\n",
       "      <td id=\"T_e654a_row0_col3\" class=\"data row0 col3\" >0</td>\n",
       "      <td id=\"T_e654a_row0_col4\" class=\"data row0 col4\" >0</td>\n",
       "      <td id=\"T_e654a_row0_col5\" class=\"data row0 col5\" >5.830000</td>\n",
       "    </tr>\n",
       "    <tr>\n",
       "      <th id=\"T_e654a_level0_row1\" class=\"row_heading level0 row1\" >1</th>\n",
       "      <td id=\"T_e654a_row1_col0\" class=\"data row1 col0\" >2000</td>\n",
       "      <td id=\"T_e654a_row1_col1\" class=\"data row1 col1\" >12</td>\n",
       "      <td id=\"T_e654a_row1_col2\" class=\"data row1 col2\" >1</td>\n",
       "      <td id=\"T_e654a_row1_col3\" class=\"data row1 col3\" >1</td>\n",
       "      <td id=\"T_e654a_row1_col4\" class=\"data row1 col4\" >0</td>\n",
       "      <td id=\"T_e654a_row1_col5\" class=\"data row1 col5\" >5.060000</td>\n",
       "    </tr>\n",
       "    <tr>\n",
       "      <th id=\"T_e654a_level0_row2\" class=\"row_heading level0 row2\" >2</th>\n",
       "      <td id=\"T_e654a_row2_col0\" class=\"data row2 col0\" >2000</td>\n",
       "      <td id=\"T_e654a_row2_col1\" class=\"data row2 col1\" >12</td>\n",
       "      <td id=\"T_e654a_row2_col2\" class=\"data row2 col2\" >1</td>\n",
       "      <td id=\"T_e654a_row2_col3\" class=\"data row2 col3\" >2</td>\n",
       "      <td id=\"T_e654a_row2_col4\" class=\"data row2 col4\" >0</td>\n",
       "      <td id=\"T_e654a_row2_col5\" class=\"data row2 col5\" >4.350000</td>\n",
       "    </tr>\n",
       "    <tr>\n",
       "      <th id=\"T_e654a_level0_row3\" class=\"row_heading level0 row3\" >3</th>\n",
       "      <td id=\"T_e654a_row3_col0\" class=\"data row3 col0\" >2000</td>\n",
       "      <td id=\"T_e654a_row3_col1\" class=\"data row3 col1\" >12</td>\n",
       "      <td id=\"T_e654a_row3_col2\" class=\"data row3 col2\" >1</td>\n",
       "      <td id=\"T_e654a_row3_col3\" class=\"data row3 col3\" >3</td>\n",
       "      <td id=\"T_e654a_row3_col4\" class=\"data row3 col4\" >0</td>\n",
       "      <td id=\"T_e654a_row3_col5\" class=\"data row3 col5\" >3.680000</td>\n",
       "    </tr>\n",
       "    <tr>\n",
       "      <th id=\"T_e654a_level0_row4\" class=\"row_heading level0 row4\" >4</th>\n",
       "      <td id=\"T_e654a_row4_col0\" class=\"data row4 col0\" >2000</td>\n",
       "      <td id=\"T_e654a_row4_col1\" class=\"data row4 col1\" >12</td>\n",
       "      <td id=\"T_e654a_row4_col2\" class=\"data row4 col2\" >1</td>\n",
       "      <td id=\"T_e654a_row4_col3\" class=\"data row4 col3\" >4</td>\n",
       "      <td id=\"T_e654a_row4_col4\" class=\"data row4 col4\" >0</td>\n",
       "      <td id=\"T_e654a_row4_col5\" class=\"data row4 col5\" >3.200000</td>\n",
       "    </tr>\n",
       "    <tr>\n",
       "      <th id=\"T_e654a_level0_row5\" class=\"row_heading level0 row5\" >5</th>\n",
       "      <td id=\"T_e654a_row5_col0\" class=\"data row5 col0\" >2000</td>\n",
       "      <td id=\"T_e654a_row5_col1\" class=\"data row5 col1\" >12</td>\n",
       "      <td id=\"T_e654a_row5_col2\" class=\"data row5 col2\" >1</td>\n",
       "      <td id=\"T_e654a_row5_col3\" class=\"data row5 col3\" >5</td>\n",
       "      <td id=\"T_e654a_row5_col4\" class=\"data row5 col4\" >0</td>\n",
       "      <td id=\"T_e654a_row5_col5\" class=\"data row5 col5\" >2.710000</td>\n",
       "    </tr>\n",
       "  </tbody>\n",
       "</table>\n"
      ],
      "text/plain": [
       "<pandas.io.formats.style.Styler at 0x7f02aa0b8a90>"
      ]
     },
     "execution_count": 19,
     "metadata": {},
     "output_type": "execute_result"
    }
   ],
   "source": [
    "df_head5.style.applymap(highlight_5_and_over)"
   ]
  },
  {
   "cell_type": "code",
   "execution_count": 20,
   "metadata": {},
   "outputs": [
    {
     "data": {
      "text/html": [
       "<style type=\"text/css\">\n",
       "#T_07c60_row0_col3, #T_07c60_row0_col4, #T_07c60_row1_col3, #T_07c60_row1_col4, #T_07c60_row2_col3, #T_07c60_row2_col4, #T_07c60_row2_col5, #T_07c60_row3_col3, #T_07c60_row3_col4, #T_07c60_row3_col5, #T_07c60_row4_col3, #T_07c60_row4_col4, #T_07c60_row4_col5, #T_07c60_row5_col4, #T_07c60_row5_col5 {\n",
       "  color: black;\n",
       "}\n",
       "#T_07c60_row0_col5, #T_07c60_row1_col5, #T_07c60_row5_col3 {\n",
       "  color: green;\n",
       "}\n",
       "</style>\n",
       "<table id=\"T_07c60_\">\n",
       "  <thead>\n",
       "    <tr>\n",
       "      <th class=\"blank level0\" >&nbsp;</th>\n",
       "      <th class=\"col_heading level0 col0\" >2000</th>\n",
       "      <th class=\"col_heading level0 col1\" >11</th>\n",
       "      <th class=\"col_heading level0 col2\" >30</th>\n",
       "      <th class=\"col_heading level0 col3\" >23</th>\n",
       "      <th class=\"col_heading level0 col4\" >00</th>\n",
       "      <th class=\"col_heading level0 col5\" >6.65</th>\n",
       "    </tr>\n",
       "  </thead>\n",
       "  <tbody>\n",
       "    <tr>\n",
       "      <th id=\"T_07c60_level0_row0\" class=\"row_heading level0 row0\" >0</th>\n",
       "      <td id=\"T_07c60_row0_col0\" class=\"data row0 col0\" >2000</td>\n",
       "      <td id=\"T_07c60_row0_col1\" class=\"data row0 col1\" >12</td>\n",
       "      <td id=\"T_07c60_row0_col2\" class=\"data row0 col2\" >1</td>\n",
       "      <td id=\"T_07c60_row0_col3\" class=\"data row0 col3\" >0</td>\n",
       "      <td id=\"T_07c60_row0_col4\" class=\"data row0 col4\" >0</td>\n",
       "      <td id=\"T_07c60_row0_col5\" class=\"data row0 col5\" >5.830000</td>\n",
       "    </tr>\n",
       "    <tr>\n",
       "      <th id=\"T_07c60_level0_row1\" class=\"row_heading level0 row1\" >1</th>\n",
       "      <td id=\"T_07c60_row1_col0\" class=\"data row1 col0\" >2000</td>\n",
       "      <td id=\"T_07c60_row1_col1\" class=\"data row1 col1\" >12</td>\n",
       "      <td id=\"T_07c60_row1_col2\" class=\"data row1 col2\" >1</td>\n",
       "      <td id=\"T_07c60_row1_col3\" class=\"data row1 col3\" >1</td>\n",
       "      <td id=\"T_07c60_row1_col4\" class=\"data row1 col4\" >0</td>\n",
       "      <td id=\"T_07c60_row1_col5\" class=\"data row1 col5\" >5.060000</td>\n",
       "    </tr>\n",
       "    <tr>\n",
       "      <th id=\"T_07c60_level0_row2\" class=\"row_heading level0 row2\" >2</th>\n",
       "      <td id=\"T_07c60_row2_col0\" class=\"data row2 col0\" >2000</td>\n",
       "      <td id=\"T_07c60_row2_col1\" class=\"data row2 col1\" >12</td>\n",
       "      <td id=\"T_07c60_row2_col2\" class=\"data row2 col2\" >1</td>\n",
       "      <td id=\"T_07c60_row2_col3\" class=\"data row2 col3\" >2</td>\n",
       "      <td id=\"T_07c60_row2_col4\" class=\"data row2 col4\" >0</td>\n",
       "      <td id=\"T_07c60_row2_col5\" class=\"data row2 col5\" >4.350000</td>\n",
       "    </tr>\n",
       "    <tr>\n",
       "      <th id=\"T_07c60_level0_row3\" class=\"row_heading level0 row3\" >3</th>\n",
       "      <td id=\"T_07c60_row3_col0\" class=\"data row3 col0\" >2000</td>\n",
       "      <td id=\"T_07c60_row3_col1\" class=\"data row3 col1\" >12</td>\n",
       "      <td id=\"T_07c60_row3_col2\" class=\"data row3 col2\" >1</td>\n",
       "      <td id=\"T_07c60_row3_col3\" class=\"data row3 col3\" >3</td>\n",
       "      <td id=\"T_07c60_row3_col4\" class=\"data row3 col4\" >0</td>\n",
       "      <td id=\"T_07c60_row3_col5\" class=\"data row3 col5\" >3.680000</td>\n",
       "    </tr>\n",
       "    <tr>\n",
       "      <th id=\"T_07c60_level0_row4\" class=\"row_heading level0 row4\" >4</th>\n",
       "      <td id=\"T_07c60_row4_col0\" class=\"data row4 col0\" >2000</td>\n",
       "      <td id=\"T_07c60_row4_col1\" class=\"data row4 col1\" >12</td>\n",
       "      <td id=\"T_07c60_row4_col2\" class=\"data row4 col2\" >1</td>\n",
       "      <td id=\"T_07c60_row4_col3\" class=\"data row4 col3\" >4</td>\n",
       "      <td id=\"T_07c60_row4_col4\" class=\"data row4 col4\" >0</td>\n",
       "      <td id=\"T_07c60_row4_col5\" class=\"data row4 col5\" >3.200000</td>\n",
       "    </tr>\n",
       "    <tr>\n",
       "      <th id=\"T_07c60_level0_row5\" class=\"row_heading level0 row5\" >5</th>\n",
       "      <td id=\"T_07c60_row5_col0\" class=\"data row5 col0\" >2000</td>\n",
       "      <td id=\"T_07c60_row5_col1\" class=\"data row5 col1\" >12</td>\n",
       "      <td id=\"T_07c60_row5_col2\" class=\"data row5 col2\" >1</td>\n",
       "      <td id=\"T_07c60_row5_col3\" class=\"data row5 col3\" >5</td>\n",
       "      <td id=\"T_07c60_row5_col4\" class=\"data row5 col4\" >0</td>\n",
       "      <td id=\"T_07c60_row5_col5\" class=\"data row5 col5\" >2.710000</td>\n",
       "    </tr>\n",
       "  </tbody>\n",
       "</table>\n"
      ],
      "text/plain": [
       "<pandas.io.formats.style.Styler at 0x7f02a93666d0>"
      ]
     },
     "execution_count": 20,
     "metadata": {},
     "output_type": "execute_result"
    }
   ],
   "source": [
    "df_head5.style.applymap(highlight_5_and_over, subset=df_head5.columns[3:])"
   ]
  },
  {
   "cell_type": "code",
   "execution_count": 25,
   "metadata": {},
   "outputs": [
    {
     "data": {
      "text/plain": [
       "['table.dataframe tr:nth-child(even) {',\n",
       " '    background-color: yellow;',\n",
       " '}',\n",
       " '',\n",
       " 'table.dataframe tr:nth-child(odd) {',\n",
       " '    background-color: red;',\n",
       " '}',\n",
       " '',\n",
       " 'table.dataframe th {',\n",
       " '    background-color: white;',\n",
       " '}']"
      ]
     },
     "execution_count": 25,
     "metadata": {},
     "output_type": "execute_result"
    }
   ],
   "source": [
    "css = !cat ugly.css\n",
    "css"
   ]
  },
  {
   "cell_type": "code",
   "execution_count": 26,
   "metadata": {},
   "outputs": [],
   "source": [
    "from IPython.core.display import HTML"
   ]
  },
  {
   "cell_type": "code",
   "execution_count": 27,
   "metadata": {},
   "outputs": [
    {
     "data": {
      "text/html": [
       "<b>Pay attention!</b>"
      ],
      "text/plain": [
       "<IPython.core.display.HTML object>"
      ]
     },
     "execution_count": 27,
     "metadata": {},
     "output_type": "execute_result"
    }
   ],
   "source": [
    "HTML('<b>Pay attention!</b>')"
   ]
  },
  {
   "cell_type": "code",
   "execution_count": 28,
   "metadata": {},
   "outputs": [
    {
     "data": {
      "text/html": [
       "<style>table.dataframe tr:nth-child(even) {    background-color: yellow;}table.dataframe tr:nth-child(odd) {    background-color: red;}table.dataframe th {    background-color: white;}</style>"
      ],
      "text/plain": [
       "<IPython.core.display.HTML object>"
      ]
     },
     "execution_count": 28,
     "metadata": {},
     "output_type": "execute_result"
    }
   ],
   "source": [
    "HTML('<style>{0}</style>'.format(''.join(css)))"
   ]
  },
  {
   "cell_type": "code",
   "execution_count": 29,
   "metadata": {},
   "outputs": [
    {
     "data": {
      "text/html": [
       "<div>\n",
       "<style scoped>\n",
       "    .dataframe tbody tr th:only-of-type {\n",
       "        vertical-align: middle;\n",
       "    }\n",
       "\n",
       "    .dataframe tbody tr th {\n",
       "        vertical-align: top;\n",
       "    }\n",
       "\n",
       "    .dataframe thead th {\n",
       "        text-align: right;\n",
       "    }\n",
       "</style>\n",
       "<table border=\"1\" class=\"dataframe\">\n",
       "  <thead>\n",
       "    <tr style=\"text-align: right;\">\n",
       "      <th></th>\n",
       "      <th>2000</th>\n",
       "      <th>11</th>\n",
       "      <th>30</th>\n",
       "      <th>23</th>\n",
       "      <th>00</th>\n",
       "      <th>6.65</th>\n",
       "    </tr>\n",
       "  </thead>\n",
       "  <tbody>\n",
       "    <tr>\n",
       "      <th>0</th>\n",
       "      <td>2000</td>\n",
       "      <td>12</td>\n",
       "      <td>1</td>\n",
       "      <td>0</td>\n",
       "      <td>0</td>\n",
       "      <td>5.83</td>\n",
       "    </tr>\n",
       "    <tr>\n",
       "      <th>1</th>\n",
       "      <td>2000</td>\n",
       "      <td>12</td>\n",
       "      <td>1</td>\n",
       "      <td>1</td>\n",
       "      <td>0</td>\n",
       "      <td>5.06</td>\n",
       "    </tr>\n",
       "    <tr>\n",
       "      <th>2</th>\n",
       "      <td>2000</td>\n",
       "      <td>12</td>\n",
       "      <td>1</td>\n",
       "      <td>2</td>\n",
       "      <td>0</td>\n",
       "      <td>4.35</td>\n",
       "    </tr>\n",
       "    <tr>\n",
       "      <th>3</th>\n",
       "      <td>2000</td>\n",
       "      <td>12</td>\n",
       "      <td>1</td>\n",
       "      <td>3</td>\n",
       "      <td>0</td>\n",
       "      <td>3.68</td>\n",
       "    </tr>\n",
       "    <tr>\n",
       "      <th>4</th>\n",
       "      <td>2000</td>\n",
       "      <td>12</td>\n",
       "      <td>1</td>\n",
       "      <td>4</td>\n",
       "      <td>0</td>\n",
       "      <td>3.20</td>\n",
       "    </tr>\n",
       "    <tr>\n",
       "      <th>5</th>\n",
       "      <td>2000</td>\n",
       "      <td>12</td>\n",
       "      <td>1</td>\n",
       "      <td>5</td>\n",
       "      <td>0</td>\n",
       "      <td>2.71</td>\n",
       "    </tr>\n",
       "  </tbody>\n",
       "</table>\n",
       "</div>"
      ],
      "text/plain": [
       "   2000  11  30  23  00  6.65\n",
       "0  2000  12   1   0   0  5.83\n",
       "1  2000  12   1   1   0  5.06\n",
       "2  2000  12   1   2   0  4.35\n",
       "3  2000  12   1   3   0  3.68\n",
       "4  2000  12   1   4   0  3.20\n",
       "5  2000  12   1   5   0  2.71"
      ]
     },
     "execution_count": 29,
     "metadata": {},
     "output_type": "execute_result"
    }
   ],
   "source": [
    "df_head5"
   ]
  }
 ],
 "metadata": {
  "kernelspec": {
   "display_name": "Python 3 (ipykernel)",
   "language": "python",
   "name": "python3"
  },
  "language_info": {
   "codemirror_mode": {
    "name": "ipython",
    "version": 3
   },
   "file_extension": ".py",
   "mimetype": "text/x-python",
   "name": "python",
   "nbconvert_exporter": "python",
   "pygments_lexer": "ipython3",
   "version": "3.7.9"
  }
 },
 "nbformat": 4,
 "nbformat_minor": 4
}
